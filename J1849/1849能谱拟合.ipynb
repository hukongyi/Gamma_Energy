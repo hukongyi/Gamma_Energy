{
 "cells": [
  {
   "cell_type": "code",
   "execution_count": 1,
   "metadata": {},
   "outputs": [],
   "source": [
    "import numpy as np "
   ]
  },
  {
   "cell_type": "code",
   "execution_count": 2,
   "metadata": {},
   "outputs": [
    {
     "name": "stdout",
     "output_type": "stream",
     "text": [
      "float128\n"
     ]
    }
   ],
   "source": [
    "zou_x = np.array([50.12, 79.43, 125.89, 199.53, 316.23], dtype=np.float128)\n",
    "\n",
    "zou_SED = np.array(\n",
    "    [1.48251e-12, 2.32768e-13, 7.9658e-13, 2.2177e-13, 2.27837e-13], dtype=np.float128\n",
    ")\n",
    "zou_flux = np.array(\n",
    "    [5.59982e-16, 3.50025e-17, 4.76875e-17, 5.28541e-18, 2.16172e-18], dtype=np.float128\n",
    ")\n",
    "\n",
    "zou_SED_err = np.array(\n",
    "    [9.64129e-13, 2.05921e-13, 3.11731e-13, 1.44584e-13, 1.93536e-13], dtype=np.float128\n",
    ")\n",
    "zou_flux_err = np.array(\n",
    "    [3.64175e-16, 3.09653e-17, 1.86619e-17, 3.44584e-18, 1.83627e-18], dtype=np.float128\n",
    ")\n",
    "\n",
    "print(zou_x.dtype)"
   ]
  },
  {
   "cell_type": "code",
   "execution_count": 3,
   "metadata": {},
   "outputs": [
    {
     "name": "stdout",
     "output_type": "stream",
     "text": [
      "[1.69142429e-12 4.86830608e-13 2.88353514e-13 4.14430159e-13\n",
      " 2.59018849e-13 2.84608663e-13]\n"
     ]
    }
   ],
   "source": [
    "japan_x = np.array([29.4, 48.2, 76.4, 121, 194, 316], dtype=np.float128)\n",
    "\n",
    "japan_SED = np.array(\n",
    "    [2.71e-12, 7.8e-13, 4.62e-13, 6.64e-13, 4.15e-13, 4.56e-13], dtype=np.float128\n",
    ")\n",
    "japan_SED = japan_SED[:] / 1.6022  # TeV转换为erg\n",
    "japan_flux = japan_SED / japan_x**2\n",
    "\n",
    "japan_SED_errl = np.array(\n",
    "    [0, 4.12e-13, 2.5e-13, 2.65e-13, 2.32e-13, 2.8e-13], dtype=np.float128\n",
    ")\n",
    "japan_SED_errl = japan_SED_errl[:] / 1.6022\n",
    "japan_SED_errh = np.array(\n",
    "    [0, 4.8e-13, 3.39e-13, 3.66e-13, 3.76e-13, 4.98e-13], dtype=np.float128\n",
    ")\n",
    "japan_SED_errh = japan_SED_errh[:] / 1.6022\n",
    "\n",
    "japan_flux_errl = japan_SED_errl / japan_x**2\n",
    "japan_flux_errh = japan_SED_errh / japan_x**2\n",
    "\n",
    "print(japan_SED)"
   ]
  },
  {
   "cell_type": "code",
   "execution_count": 4,
   "metadata": {},
   "outputs": [],
   "source": [
    "hess_x = np.array([0.418, 0.948, 2.27, 5.38, 12.8, 30.0], dtype=np.float128)\n",
    "\n",
    "hess_SED = np.array(\n",
    "    [3.9e-13, 1.1e-12, 8.07e-13, 9.8e-13, 1.36e-12, 5.44e-13], dtype=np.float128\n",
    ")\n",
    "hess_SED = hess_SED / 1.6022\n",
    "hess_flux = hess_SED / hess_x**2\n",
    "\n",
    "hess_SED_errl = np.array(\n",
    "    [3.139e-13, 2.22e-13, 2.27e-13, 2.66e-13, 3.74e-13, 3.46e-13], dtype=np.float128\n",
    ")\n",
    "hess_SED_errl = hess_SED_errl / 1.6022\n",
    "hess_SED_errh = np.array(\n",
    "    [3.28e-13, 2.2e-13, 2.23e-13, 2.8e-13, 4.3e-13, 4.17e-13], dtype=np.float128\n",
    ")\n",
    "hess_SED_errh = hess_SED_errh / 1.6022\n",
    "\n",
    "hess_flux_errl = hess_SED_errl / hess_x**2\n",
    "hess_flux_errh = hess_SED_errh / hess_x**2"
   ]
  },
  {
   "cell_type": "code",
   "execution_count": 5,
   "metadata": {},
   "outputs": [],
   "source": [
    "lhaaso_x = np.array([99.7], dtype=np.float128)\n",
    "\n",
    "lhaaso_SED = np.array([7.18e-13], dtype=np.float128)\n",
    "lhaaso_SED = lhaaso_SED / 1.6022\n",
    "lhaaso_flux = lhaaso_SED / lhaaso_x**2\n",
    "\n",
    "lhaaso_SED_err = np.array([1.47e-13], dtype=np.float128)\n",
    "lhaaso_SED_err = lhaaso_SED_err / 1.6022\n",
    "lhaaso_flux_err = lhaaso_SED_err / lhaaso_x**2"
   ]
  },
  {
   "cell_type": "code",
   "execution_count": 6,
   "metadata": {},
   "outputs": [],
   "source": [
    "fermi_x = np.array([1.67e-2, 5.25e-2, 0.167], dtype=np.float128)\n",
    "\n",
    "fermi_SED = np.array([3.53e-12, 3.58e-12, 1.17e-11], dtype=np.float128)\n",
    "fermi_SED = fermi_SED / 1.6022\n",
    "fermi_flux = fermi_SED / fermi_x**2\n",
    "\n",
    "fermi_flux_errl = np.zeros(3)\n",
    "fermi_flux_errh = np.zeros(3)\n",
    "\n",
    "# print(fermi_x[1:])"
   ]
  },
  {
   "cell_type": "code",
   "execution_count": 7,
   "metadata": {},
   "outputs": [
    {
     "data": {
      "text/plain": [
       "array([2.20322057e-12, 2.23442766e-12, 7.30245912e-12], dtype=float128)"
      ]
     },
     "execution_count": 7,
     "metadata": {},
     "output_type": "execute_result"
    }
   ],
   "source": [
    "fermi_SED"
   ]
  },
  {
   "cell_type": "code",
   "execution_count": 7,
   "metadata": {},
   "outputs": [
    {
     "data": {
      "text/plain": [
       "<Figure size 1600x1200 with 0 Axes>"
      ]
     },
     "metadata": {},
     "output_type": "display_data"
    },
    {
     "data": {
      "image/png": "[encoded data removed]",
      "text/plain": [
       "<Figure size 640x480 with 1 Axes>"
      ]
     },
     "metadata": {},
     "output_type": "display_data"
    }
   ],
   "source": [
    "import matplotlib.pyplot as plt\n",
    "\n",
    "plt.figure(figsize=(16, 12))\n",
    "fig, ax = plt.subplots()\n",
    "\n",
    "zou_point = ax.errorbar(\n",
    "    zou_x,\n",
    "    zou_SED,\n",
    "    yerr=zou_SED_err,\n",
    "    fmt=\"d\",\n",
    "    c=(0.7686274509803922, 0.3058823529411765, 0.3215686274509804),\n",
    ")\n",
    "\n",
    "# japan 非uplimit\n",
    "japan_point = ax.errorbar(\n",
    "    japan_x[1:],\n",
    "    japan_SED[1:],\n",
    "    yerr=[(japan_SED_errl[1:]), (japan_SED_errh[1:])],\n",
    "    fmt=\"p\",\n",
    "    c=(0.5058823529411764, 0.4470588235294118, 0.6980392156862745),\n",
    ")\n",
    "\n",
    "# japan uplimit\n",
    "delta_y = japan_SED[0] / 2\n",
    "japan_point_up = ax.errorbar(\n",
    "    japan_x[0], japan_SED[0], yerr=delta_y, fmt=\"o\", c=\"r\", uplims=True\n",
    ")\n",
    "\n",
    "hess_point = ax.errorbar(\n",
    "    hess_x,\n",
    "    hess_SED,\n",
    "    yerr=[(hess_SED_errl), (hess_SED_errh)],\n",
    "    fmt=\"o\",\n",
    "    c=(0.2980392156862745, 0.4470588235294118, 0.6901960784313725),\n",
    ")\n",
    "\n",
    "lhaaso_point = ax.errorbar(\n",
    "    lhaaso_x,\n",
    "    lhaaso_SED,\n",
    "    yerr=lhaaso_SED_err,\n",
    "    fmt=\"s\",\n",
    "    c=(0.3333333333333333, 0.6588235294117647, 0.40784313725490196),\n",
    ")\n",
    "\n",
    "delta_y_fermi = fermi_SED / 2\n",
    "fermi_point = ax.errorbar(\n",
    "    fermi_x,\n",
    "    fermi_SED,\n",
    "    yerr=delta_y_fermi,\n",
    "    fmt=\"p\",\n",
    "    c=(0.5058823529411764, 0.4470588235294118, 0.6980392156862745),\n",
    "    uplims=True,\n",
    ")\n",
    "\n",
    "ax.set_xscale(\"log\")\n",
    "ax.set_yscale(\"log\")\n",
    "\n",
    "ax.set_xlim(1e-3, 1e3)\n",
    "ax.set_ylim(1e-14, 2e-11)\n",
    "\n",
    "legend = ax.legend(\n",
    "    (zou_point, hess_point, lhaaso_point, japan_point),\n",
    "    (\"This Work\", \"HESS\", \"LHAASO\", \"japan\"),\n",
    ")\n",
    "\n",
    "plt.show()"
   ]
  },
  {
   "cell_type": "code",
   "execution_count": 8,
   "metadata": {},
   "outputs": [
    {
     "data": {
      "text/html": [
       "<pre style=\"white-space:pre;overflow-x:auto;line-height:normal;font-family:Menlo,'DejaVu Sans Mono',consolas,'Courier New',monospace\"><span style=\"color: #00ff00; text-decoration-color: #00ff00\">00:12:22 </span><span style=\"color: #af5fd7; text-decoration-color: #af5fd7\">WARNING </span> <span style=\"color: #c6c6c6; text-decoration-color: #c6c6c6; font-weight: bold\"> The GSL library or the pygsl wrapper cannot be loaded. Models that depend on it  </span><a href=\"file:///home2/hky/miniconda3/envs/naima/lib/python3.9/site-packages/astromodels/functions/functions_1D/functions.py\" target=\"_blank\"><span style=\"color: #7f7f7f; text-decoration-color: #7f7f7f\">functions.py</span></a><span style=\"color: #7f7f7f; text-decoration-color: #7f7f7f\">:</span><a href=\"file:///home2/hky/miniconda3/envs/naima/lib/python3.9/site-packages/astromodels/functions/functions_1D/functions.py#69\" target=\"_blank\"><span style=\"color: #7f7f7f; text-decoration-color: #7f7f7f\">69</span></a>\n",
       "<span style=\"color: #00ff00; text-decoration-color: #00ff00\">         </span>         <span style=\"color: #c6c6c6; text-decoration-color: #c6c6c6; font-weight: bold\">will not be available.                                                            </span><span style=\"color: #7f7f7f; text-decoration-color: #7f7f7f\">               </span>\n",
       "</pre>\n"
      ],
      "text/plain": [
       "\u001b[38;5;46m00:12:22\u001b[0m\u001b[38;5;46m \u001b[0m\u001b[38;5;134mWARNING \u001b[0m \u001b[1;38;5;251m The GSL library or the pygsl wrapper cannot be loaded. Models that depend on it \u001b[0m\u001b[1;38;5;251m \u001b[0m\u001b]8;id=789199;file:///home2/hky/miniconda3/envs/naima/lib/python3.9/site-packages/astromodels/functions/functions_1D/functions.py\u001b\\\u001b[2mfunctions.py\u001b[0m\u001b]8;;\u001b\\\u001b[2m:\u001b[0m\u001b]8;id=535147;file:///home2/hky/miniconda3/envs/naima/lib/python3.9/site-packages/astromodels/functions/functions_1D/functions.py#69\u001b\\\u001b[2m69\u001b[0m\u001b]8;;\u001b\\\n",
       "\u001b[38;5;46m         \u001b[0m         \u001b[1;38;5;251mwill not be available.                                                           \u001b[0m\u001b[1;38;5;251m \u001b[0m\u001b[2m               \u001b[0m\n"
      ]
     },
     "metadata": {},
     "output_type": "display_data"
    },
    {
     "data": {
      "text/html": [
       "<pre style=\"white-space:pre;overflow-x:auto;line-height:normal;font-family:Menlo,'DejaVu Sans Mono',consolas,'Courier New',monospace\"><span style=\"color: #00ff00; text-decoration-color: #00ff00\">         </span><span style=\"color: #af5fd7; text-decoration-color: #af5fd7\">WARNING </span> <span style=\"color: #c6c6c6; text-decoration-color: #c6c6c6; font-weight: bold\"> The ebltable package is not available. Models that depend on it will not be     </span><a href=\"file:///home2/hky/miniconda3/envs/naima/lib/python3.9/site-packages/astromodels/functions/functions_1D/absorption.py\" target=\"_blank\"><span style=\"color: #7f7f7f; text-decoration-color: #7f7f7f\">absorption.py</span></a><span style=\"color: #7f7f7f; text-decoration-color: #7f7f7f\">:</span><a href=\"file:///home2/hky/miniconda3/envs/naima/lib/python3.9/site-packages/astromodels/functions/functions_1D/absorption.py#36\" target=\"_blank\"><span style=\"color: #7f7f7f; text-decoration-color: #7f7f7f\">36</span></a>\n",
       "<span style=\"color: #00ff00; text-decoration-color: #00ff00\">         </span>         <span style=\"color: #c6c6c6; text-decoration-color: #c6c6c6; font-weight: bold\">available                                                                        </span><span style=\"color: #7f7f7f; text-decoration-color: #7f7f7f\">                </span>\n",
       "</pre>\n"
      ],
      "text/plain": [
       "\u001b[38;5;46m        \u001b[0m\u001b[38;5;46m \u001b[0m\u001b[38;5;134mWARNING \u001b[0m \u001b[1;38;5;251m The ebltable package is not available. Models that depend on it will not be    \u001b[0m\u001b[1;38;5;251m \u001b[0m\u001b]8;id=756309;file:///home2/hky/miniconda3/envs/naima/lib/python3.9/site-packages/astromodels/functions/functions_1D/absorption.py\u001b\\\u001b[2mabsorption.py\u001b[0m\u001b]8;;\u001b\\\u001b[2m:\u001b[0m\u001b]8;id=976304;file:///home2/hky/miniconda3/envs/naima/lib/python3.9/site-packages/astromodels/functions/functions_1D/absorption.py#36\u001b\\\u001b[2m36\u001b[0m\u001b]8;;\u001b\\\n",
       "\u001b[38;5;46m         \u001b[0m         \u001b[1;38;5;251mavailable                                                                       \u001b[0m\u001b[1;38;5;251m \u001b[0m\u001b[2m                \u001b[0m\n"
      ]
     },
     "metadata": {},
     "output_type": "display_data"
    },
    {
     "data": {
      "text/html": [
       "<pre style=\"white-space:pre;overflow-x:auto;line-height:normal;font-family:Menlo,'DejaVu Sans Mono',consolas,'Courier New',monospace\"><span style=\"color: #00ff00; text-decoration-color: #00ff00\">         </span><span style=\"color: #af5fd7; text-decoration-color: #af5fd7\">WARNING </span> <span style=\"color: #c6c6c6; text-decoration-color: #c6c6c6; font-weight: bold\"> We have set the min_value of K to </span><span style=\"color: #c0c0c0; text-decoration-color: #c0c0c0; font-weight: bold\">1e-99</span><span style=\"color: #c6c6c6; text-decoration-color: #c6c6c6; font-weight: bold\"> because there was a postive transform   </span><a href=\"file:///home2/hky/miniconda3/envs/naima/lib/python3.9/site-packages/astromodels/core/parameter.py\" target=\"_blank\"><span style=\"color: #7f7f7f; text-decoration-color: #7f7f7f\">parameter.py</span></a><span style=\"color: #7f7f7f; text-decoration-color: #7f7f7f\">:</span><a href=\"file:///home2/hky/miniconda3/envs/naima/lib/python3.9/site-packages/astromodels/core/parameter.py#704\" target=\"_blank\"><span style=\"color: #7f7f7f; text-decoration-color: #7f7f7f\">704</span></a>\n",
       "</pre>\n"
      ],
      "text/plain": [
       "\u001b[38;5;46m        \u001b[0m\u001b[38;5;46m \u001b[0m\u001b[38;5;134mWARNING \u001b[0m \u001b[1;38;5;251m We have set the min_value of K to \u001b[0m\u001b[1;37m1e-99\u001b[0m\u001b[1;38;5;251m because there was a postive transform  \u001b[0m\u001b[1;38;5;251m \u001b[0m\u001b]8;id=920101;file:///home2/hky/miniconda3/envs/naima/lib/python3.9/site-packages/astromodels/core/parameter.py\u001b\\\u001b[2mparameter.py\u001b[0m\u001b]8;;\u001b\\\u001b[2m:\u001b[0m\u001b]8;id=205747;file:///home2/hky/miniconda3/envs/naima/lib/python3.9/site-packages/astromodels/core/parameter.py#704\u001b\\\u001b[2m704\u001b[0m\u001b]8;;\u001b\\\n"
      ]
     },
     "metadata": {},
     "output_type": "display_data"
    },
    {
     "data": {
      "text/html": [
       "<pre style=\"white-space:pre;overflow-x:auto;line-height:normal;font-family:Menlo,'DejaVu Sans Mono',consolas,'Courier New',monospace\"><span style=\"color: #00ff00; text-decoration-color: #00ff00\">         </span><span style=\"color: #af5fd7; text-decoration-color: #af5fd7\">WARNING </span> <span style=\"color: #c6c6c6; text-decoration-color: #c6c6c6; font-weight: bold\"> We have set the min_value of K to </span><span style=\"color: #c0c0c0; text-decoration-color: #c0c0c0; font-weight: bold\">1e-99</span><span style=\"color: #c6c6c6; text-decoration-color: #c6c6c6; font-weight: bold\"> because there was a postive transform   </span><a href=\"file:///home2/hky/miniconda3/envs/naima/lib/python3.9/site-packages/astromodels/core/parameter.py\" target=\"_blank\"><span style=\"color: #7f7f7f; text-decoration-color: #7f7f7f\">parameter.py</span></a><span style=\"color: #7f7f7f; text-decoration-color: #7f7f7f\">:</span><a href=\"file:///home2/hky/miniconda3/envs/naima/lib/python3.9/site-packages/astromodels/core/parameter.py#704\" target=\"_blank\"><span style=\"color: #7f7f7f; text-decoration-color: #7f7f7f\">704</span></a>\n",
       "</pre>\n"
      ],
      "text/plain": [
       "\u001b[38;5;46m        \u001b[0m\u001b[38;5;46m \u001b[0m\u001b[38;5;134mWARNING \u001b[0m \u001b[1;38;5;251m We have set the min_value of K to \u001b[0m\u001b[1;37m1e-99\u001b[0m\u001b[1;38;5;251m because there was a postive transform  \u001b[0m\u001b[1;38;5;251m \u001b[0m\u001b]8;id=936145;file:///home2/hky/miniconda3/envs/naima/lib/python3.9/site-packages/astromodels/core/parameter.py\u001b\\\u001b[2mparameter.py\u001b[0m\u001b]8;;\u001b\\\u001b[2m:\u001b[0m\u001b]8;id=875077;file:///home2/hky/miniconda3/envs/naima/lib/python3.9/site-packages/astromodels/core/parameter.py#704\u001b\\\u001b[2m704\u001b[0m\u001b]8;;\u001b\\\n"
      ]
     },
     "metadata": {},
     "output_type": "display_data"
    },
    {
     "data": {
      "text/html": [
       "<pre style=\"white-space:pre;overflow-x:auto;line-height:normal;font-family:Menlo,'DejaVu Sans Mono',consolas,'Courier New',monospace\"><span style=\"color: #00ff00; text-decoration-color: #00ff00\">         </span><span style=\"color: #af5fd7; text-decoration-color: #af5fd7\">WARNING </span> <span style=\"color: #c6c6c6; text-decoration-color: #c6c6c6; font-weight: bold\"> We have set the min_value of K to </span><span style=\"color: #c0c0c0; text-decoration-color: #c0c0c0; font-weight: bold\">1e-99</span><span style=\"color: #c6c6c6; text-decoration-color: #c6c6c6; font-weight: bold\"> because there was a postive transform   </span><a href=\"file:///home2/hky/miniconda3/envs/naima/lib/python3.9/site-packages/astromodels/core/parameter.py\" target=\"_blank\"><span style=\"color: #7f7f7f; text-decoration-color: #7f7f7f\">parameter.py</span></a><span style=\"color: #7f7f7f; text-decoration-color: #7f7f7f\">:</span><a href=\"file:///home2/hky/miniconda3/envs/naima/lib/python3.9/site-packages/astromodels/core/parameter.py#704\" target=\"_blank\"><span style=\"color: #7f7f7f; text-decoration-color: #7f7f7f\">704</span></a>\n",
       "</pre>\n"
      ],
      "text/plain": [
       "\u001b[38;5;46m        \u001b[0m\u001b[38;5;46m \u001b[0m\u001b[38;5;134mWARNING \u001b[0m \u001b[1;38;5;251m We have set the min_value of K to \u001b[0m\u001b[1;37m1e-99\u001b[0m\u001b[1;38;5;251m because there was a postive transform  \u001b[0m\u001b[1;38;5;251m \u001b[0m\u001b]8;id=521921;file:///home2/hky/miniconda3/envs/naima/lib/python3.9/site-packages/astromodels/core/parameter.py\u001b\\\u001b[2mparameter.py\u001b[0m\u001b]8;;\u001b\\\u001b[2m:\u001b[0m\u001b]8;id=55346;file:///home2/hky/miniconda3/envs/naima/lib/python3.9/site-packages/astromodels/core/parameter.py#704\u001b\\\u001b[2m704\u001b[0m\u001b]8;;\u001b\\\n"
      ]
     },
     "metadata": {},
     "output_type": "display_data"
    },
    {
     "data": {
      "text/html": [
       "<pre style=\"white-space:pre;overflow-x:auto;line-height:normal;font-family:Menlo,'DejaVu Sans Mono',consolas,'Courier New',monospace\"><span style=\"color: #00ff00; text-decoration-color: #00ff00\">         </span><span style=\"color: #af5fd7; text-decoration-color: #af5fd7\">WARNING </span> <span style=\"color: #c6c6c6; text-decoration-color: #c6c6c6; font-weight: bold\"> We have set the min_value of K to </span><span style=\"color: #c0c0c0; text-decoration-color: #c0c0c0; font-weight: bold\">1e-99</span><span style=\"color: #c6c6c6; text-decoration-color: #c6c6c6; font-weight: bold\"> because there was a postive transform   </span><a href=\"file:///home2/hky/miniconda3/envs/naima/lib/python3.9/site-packages/astromodels/core/parameter.py\" target=\"_blank\"><span style=\"color: #7f7f7f; text-decoration-color: #7f7f7f\">parameter.py</span></a><span style=\"color: #7f7f7f; text-decoration-color: #7f7f7f\">:</span><a href=\"file:///home2/hky/miniconda3/envs/naima/lib/python3.9/site-packages/astromodels/core/parameter.py#704\" target=\"_blank\"><span style=\"color: #7f7f7f; text-decoration-color: #7f7f7f\">704</span></a>\n",
       "</pre>\n"
      ],
      "text/plain": [
       "\u001b[38;5;46m        \u001b[0m\u001b[38;5;46m \u001b[0m\u001b[38;5;134mWARNING \u001b[0m \u001b[1;38;5;251m We have set the min_value of K to \u001b[0m\u001b[1;37m1e-99\u001b[0m\u001b[1;38;5;251m because there was a postive transform  \u001b[0m\u001b[1;38;5;251m \u001b[0m\u001b]8;id=407027;file:///home2/hky/miniconda3/envs/naima/lib/python3.9/site-packages/astromodels/core/parameter.py\u001b\\\u001b[2mparameter.py\u001b[0m\u001b]8;;\u001b\\\u001b[2m:\u001b[0m\u001b]8;id=757646;file:///home2/hky/miniconda3/envs/naima/lib/python3.9/site-packages/astromodels/core/parameter.py#704\u001b\\\u001b[2m704\u001b[0m\u001b]8;;\u001b\\\n"
      ]
     },
     "metadata": {},
     "output_type": "display_data"
    },
    {
     "data": {
      "text/html": [
       "<pre style=\"white-space:pre;overflow-x:auto;line-height:normal;font-family:Menlo,'DejaVu Sans Mono',consolas,'Courier New',monospace\"><span style=\"color: #00ff00; text-decoration-color: #00ff00\">         </span><span style=\"color: #af5fd7; text-decoration-color: #af5fd7\">WARNING </span> <span style=\"color: #c6c6c6; text-decoration-color: #c6c6c6; font-weight: bold\"> We have set the min_value of F to </span><span style=\"color: #c0c0c0; text-decoration-color: #c0c0c0; font-weight: bold\">1e-99</span><span style=\"color: #c6c6c6; text-decoration-color: #c6c6c6; font-weight: bold\"> because there was a postive transform   </span><a href=\"file:///home2/hky/miniconda3/envs/naima/lib/python3.9/site-packages/astromodels/core/parameter.py\" target=\"_blank\"><span style=\"color: #7f7f7f; text-decoration-color: #7f7f7f\">parameter.py</span></a><span style=\"color: #7f7f7f; text-decoration-color: #7f7f7f\">:</span><a href=\"file:///home2/hky/miniconda3/envs/naima/lib/python3.9/site-packages/astromodels/core/parameter.py#704\" target=\"_blank\"><span style=\"color: #7f7f7f; text-decoration-color: #7f7f7f\">704</span></a>\n",
       "</pre>\n"
      ],
      "text/plain": [
       "\u001b[38;5;46m        \u001b[0m\u001b[38;5;46m \u001b[0m\u001b[38;5;134mWARNING \u001b[0m \u001b[1;38;5;251m We have set the min_value of F to \u001b[0m\u001b[1;37m1e-99\u001b[0m\u001b[1;38;5;251m because there was a postive transform  \u001b[0m\u001b[1;38;5;251m \u001b[0m\u001b]8;id=298427;file:///home2/hky/miniconda3/envs/naima/lib/python3.9/site-packages/astromodels/core/parameter.py\u001b\\\u001b[2mparameter.py\u001b[0m\u001b]8;;\u001b\\\u001b[2m:\u001b[0m\u001b]8;id=309757;file:///home2/hky/miniconda3/envs/naima/lib/python3.9/site-packages/astromodels/core/parameter.py#704\u001b\\\u001b[2m704\u001b[0m\u001b]8;;\u001b\\\n"
      ]
     },
     "metadata": {},
     "output_type": "display_data"
    },
    {
     "data": {
      "text/html": [
       "<pre style=\"white-space:pre;overflow-x:auto;line-height:normal;font-family:Menlo,'DejaVu Sans Mono',consolas,'Courier New',monospace\"><span style=\"color: #00ff00; text-decoration-color: #00ff00\">         </span><span style=\"color: #af5fd7; text-decoration-color: #af5fd7\">WARNING </span> <span style=\"color: #c6c6c6; text-decoration-color: #c6c6c6; font-weight: bold\"> We have set the min_value of K to </span><span style=\"color: #c0c0c0; text-decoration-color: #c0c0c0; font-weight: bold\">1e-99</span><span style=\"color: #c6c6c6; text-decoration-color: #c6c6c6; font-weight: bold\"> because there was a postive transform   </span><a href=\"file:///home2/hky/miniconda3/envs/naima/lib/python3.9/site-packages/astromodels/core/parameter.py\" target=\"_blank\"><span style=\"color: #7f7f7f; text-decoration-color: #7f7f7f\">parameter.py</span></a><span style=\"color: #7f7f7f; text-decoration-color: #7f7f7f\">:</span><a href=\"file:///home2/hky/miniconda3/envs/naima/lib/python3.9/site-packages/astromodels/core/parameter.py#704\" target=\"_blank\"><span style=\"color: #7f7f7f; text-decoration-color: #7f7f7f\">704</span></a>\n",
       "</pre>\n"
      ],
      "text/plain": [
       "\u001b[38;5;46m        \u001b[0m\u001b[38;5;46m \u001b[0m\u001b[38;5;134mWARNING \u001b[0m \u001b[1;38;5;251m We have set the min_value of K to \u001b[0m\u001b[1;37m1e-99\u001b[0m\u001b[1;38;5;251m because there was a postive transform  \u001b[0m\u001b[1;38;5;251m \u001b[0m\u001b]8;id=804448;file:///home2/hky/miniconda3/envs/naima/lib/python3.9/site-packages/astromodels/core/parameter.py\u001b\\\u001b[2mparameter.py\u001b[0m\u001b]8;;\u001b\\\u001b[2m:\u001b[0m\u001b]8;id=815126;file:///home2/hky/miniconda3/envs/naima/lib/python3.9/site-packages/astromodels/core/parameter.py#704\u001b\\\u001b[2m704\u001b[0m\u001b]8;;\u001b\\\n"
      ]
     },
     "metadata": {},
     "output_type": "display_data"
    },
    {
     "data": {
      "text/html": [
       "<pre style=\"white-space:pre;overflow-x:auto;line-height:normal;font-family:Menlo,'DejaVu Sans Mono',consolas,'Courier New',monospace\"><span style=\"color: #00ff00; text-decoration-color: #00ff00\">00:12:22 </span><span style=\"color: #00ffaf; text-decoration-color: #00ffaf\">INFO    </span> <span style=\"color: #c6c6c6; text-decoration-color: #c6c6c6; font-weight: bold\"> Starting 3ML!                                                                     </span><a href=\"file:///home2/hky/miniconda3/envs/naima/lib/python3.9/site-packages/threeML/__init__.py\" target=\"_blank\"><span style=\"color: #7f7f7f; text-decoration-color: #7f7f7f\">__init__.py</span></a><span style=\"color: #7f7f7f; text-decoration-color: #7f7f7f\">:</span><a href=\"file:///home2/hky/miniconda3/envs/naima/lib/python3.9/site-packages/threeML/__init__.py#35\" target=\"_blank\"><span style=\"color: #7f7f7f; text-decoration-color: #7f7f7f\">35</span></a>\n",
       "</pre>\n"
      ],
      "text/plain": [
       "\u001b[38;5;46m00:12:22\u001b[0m\u001b[38;5;46m \u001b[0m\u001b[38;5;49mINFO    \u001b[0m \u001b[1;38;5;251m Starting 3ML!                                                                    \u001b[0m\u001b[1;38;5;251m \u001b[0m\u001b]8;id=213873;file:///home2/hky/miniconda3/envs/naima/lib/python3.9/site-packages/threeML/__init__.py\u001b\\\u001b[2m__init__.py\u001b[0m\u001b]8;;\u001b\\\u001b[2m:\u001b[0m\u001b]8;id=311599;file:///home2/hky/miniconda3/envs/naima/lib/python3.9/site-packages/threeML/__init__.py#35\u001b\\\u001b[2m35\u001b[0m\u001b]8;;\u001b\\\n"
      ]
     },
     "metadata": {},
     "output_type": "display_data"
    },
    {
     "data": {
      "text/html": [
       "<pre style=\"white-space:pre;overflow-x:auto;line-height:normal;font-family:Menlo,'DejaVu Sans Mono',consolas,'Courier New',monospace\"><span style=\"color: #00ff00; text-decoration-color: #00ff00\">         </span><span style=\"color: #af5fd7; text-decoration-color: #af5fd7\">WARNING </span> <span style=\"color: #c6c6c6; text-decoration-color: #c6c6c6; font-weight: bold\"> WARNINGs here are </span><span style=\"color: #800000; text-decoration-color: #800000; font-weight: bold\">NOT</span><span style=\"color: #c6c6c6; text-decoration-color: #c6c6c6; font-weight: bold\"> errors                                                      </span><a href=\"file:///home2/hky/miniconda3/envs/naima/lib/python3.9/site-packages/threeML/__init__.py\" target=\"_blank\"><span style=\"color: #7f7f7f; text-decoration-color: #7f7f7f\">__init__.py</span></a><span style=\"color: #7f7f7f; text-decoration-color: #7f7f7f\">:</span><a href=\"file:///home2/hky/miniconda3/envs/naima/lib/python3.9/site-packages/threeML/__init__.py#36\" target=\"_blank\"><span style=\"color: #7f7f7f; text-decoration-color: #7f7f7f\">36</span></a>\n",
       "</pre>\n"
      ],
      "text/plain": [
       "\u001b[38;5;46m        \u001b[0m\u001b[38;5;46m \u001b[0m\u001b[38;5;134mWARNING \u001b[0m \u001b[1;38;5;251m WARNINGs here are \u001b[0m\u001b[1;31mNOT\u001b[0m\u001b[1;38;5;251m errors                                                     \u001b[0m\u001b[1;38;5;251m \u001b[0m\u001b]8;id=524315;file:///home2/hky/miniconda3/envs/naima/lib/python3.9/site-packages/threeML/__init__.py\u001b\\\u001b[2m__init__.py\u001b[0m\u001b]8;;\u001b\\\u001b[2m:\u001b[0m\u001b]8;id=442552;file:///home2/hky/miniconda3/envs/naima/lib/python3.9/site-packages/threeML/__init__.py#36\u001b\\\u001b[2m36\u001b[0m\u001b]8;;\u001b\\\n"
      ]
     },
     "metadata": {},
     "output_type": "display_data"
    },
    {
     "data": {
      "text/html": [
       "<pre style=\"white-space:pre;overflow-x:auto;line-height:normal;font-family:Menlo,'DejaVu Sans Mono',consolas,'Courier New',monospace\"><span style=\"color: #00ff00; text-decoration-color: #00ff00\">         </span><span style=\"color: #af5fd7; text-decoration-color: #af5fd7\">WARNING </span> <span style=\"color: #c6c6c6; text-decoration-color: #c6c6c6; font-weight: bold\"> but are inform you about optional packages that can be installed                  </span><a href=\"file:///home2/hky/miniconda3/envs/naima/lib/python3.9/site-packages/threeML/__init__.py\" target=\"_blank\"><span style=\"color: #7f7f7f; text-decoration-color: #7f7f7f\">__init__.py</span></a><span style=\"color: #7f7f7f; text-decoration-color: #7f7f7f\">:</span><a href=\"file:///home2/hky/miniconda3/envs/naima/lib/python3.9/site-packages/threeML/__init__.py#37\" target=\"_blank\"><span style=\"color: #7f7f7f; text-decoration-color: #7f7f7f\">37</span></a>\n",
       "</pre>\n"
      ],
      "text/plain": [
       "\u001b[38;5;46m        \u001b[0m\u001b[38;5;46m \u001b[0m\u001b[38;5;134mWARNING \u001b[0m \u001b[1;38;5;251m but are inform you about optional packages that can be installed                 \u001b[0m\u001b[1;38;5;251m \u001b[0m\u001b]8;id=252020;file:///home2/hky/miniconda3/envs/naima/lib/python3.9/site-packages/threeML/__init__.py\u001b\\\u001b[2m__init__.py\u001b[0m\u001b]8;;\u001b\\\u001b[2m:\u001b[0m\u001b]8;id=229468;file:///home2/hky/miniconda3/envs/naima/lib/python3.9/site-packages/threeML/__init__.py#37\u001b\\\u001b[2m37\u001b[0m\u001b]8;;\u001b\\\n"
      ]
     },
     "metadata": {},
     "output_type": "display_data"
    },
    {
     "data": {
      "text/html": [
       "<pre style=\"white-space:pre;overflow-x:auto;line-height:normal;font-family:Menlo,'DejaVu Sans Mono',consolas,'Courier New',monospace\"><span style=\"color: #00ff00; text-decoration-color: #00ff00\">         </span><span style=\"color: #af5fd7; text-decoration-color: #af5fd7\">WARNING </span> <span style=\"color: #c6c6c6; text-decoration-color: #c6c6c6; font-weight: bold\"> </span><span style=\"color: #800000; text-decoration-color: #800000; font-weight: bold\"> to disable these messages, turn off start_warning in your config file</span><span style=\"color: #c6c6c6; text-decoration-color: #c6c6c6; font-weight: bold\">            </span><a href=\"file:///home2/hky/miniconda3/envs/naima/lib/python3.9/site-packages/threeML/__init__.py\" target=\"_blank\"><span style=\"color: #7f7f7f; text-decoration-color: #7f7f7f\">__init__.py</span></a><span style=\"color: #7f7f7f; text-decoration-color: #7f7f7f\">:</span><a href=\"file:///home2/hky/miniconda3/envs/naima/lib/python3.9/site-packages/threeML/__init__.py#40\" target=\"_blank\"><span style=\"color: #7f7f7f; text-decoration-color: #7f7f7f\">40</span></a>\n",
       "</pre>\n"
      ],
      "text/plain": [
       "\u001b[38;5;46m        \u001b[0m\u001b[38;5;46m \u001b[0m\u001b[38;5;134mWARNING \u001b[0m \u001b[1;38;5;251m \u001b[0m\u001b[1;31m to disable these messages, turn off start_warning in your config file\u001b[0m\u001b[1;38;5;251m           \u001b[0m\u001b[1;38;5;251m \u001b[0m\u001b]8;id=18983;file:///home2/hky/miniconda3/envs/naima/lib/python3.9/site-packages/threeML/__init__.py\u001b\\\u001b[2m__init__.py\u001b[0m\u001b]8;;\u001b\\\u001b[2m:\u001b[0m\u001b]8;id=4487;file:///home2/hky/miniconda3/envs/naima/lib/python3.9/site-packages/threeML/__init__.py#40\u001b\\\u001b[2m40\u001b[0m\u001b]8;;\u001b\\\n"
      ]
     },
     "metadata": {},
     "output_type": "display_data"
    },
    {
     "data": {
      "text/html": [
       "<pre style=\"white-space:pre;overflow-x:auto;line-height:normal;font-family:Menlo,'DejaVu Sans Mono',consolas,'Courier New',monospace\"><span style=\"color: #00ff00; text-decoration-color: #00ff00\">         </span><span style=\"color: #af5fd7; text-decoration-color: #af5fd7\">WARNING </span> <span style=\"color: #c6c6c6; text-decoration-color: #c6c6c6; font-weight: bold\"> no display variable set. using backend for graphics without display (agg)         </span><a href=\"file:///home2/hky/miniconda3/envs/naima/lib/python3.9/site-packages/threeML/__init__.py\" target=\"_blank\"><span style=\"color: #7f7f7f; text-decoration-color: #7f7f7f\">__init__.py</span></a><span style=\"color: #7f7f7f; text-decoration-color: #7f7f7f\">:</span><a href=\"file:///home2/hky/miniconda3/envs/naima/lib/python3.9/site-packages/threeML/__init__.py#46\" target=\"_blank\"><span style=\"color: #7f7f7f; text-decoration-color: #7f7f7f\">46</span></a>\n",
       "</pre>\n"
      ],
      "text/plain": [
       "\u001b[38;5;46m        \u001b[0m\u001b[38;5;46m \u001b[0m\u001b[38;5;134mWARNING \u001b[0m \u001b[1;38;5;251m no display variable set. using backend for graphics without display \u001b[0m\u001b[1;38;5;251m(\u001b[0m\u001b[1;38;5;251magg\u001b[0m\u001b[1;38;5;251m)\u001b[0m\u001b[1;38;5;251m        \u001b[0m\u001b[1;38;5;251m \u001b[0m\u001b]8;id=595262;file:///home2/hky/miniconda3/envs/naima/lib/python3.9/site-packages/threeML/__init__.py\u001b\\\u001b[2m__init__.py\u001b[0m\u001b]8;;\u001b\\\u001b[2m:\u001b[0m\u001b]8;id=415937;file:///home2/hky/miniconda3/envs/naima/lib/python3.9/site-packages/threeML/__init__.py#46\u001b\\\u001b[2m46\u001b[0m\u001b]8;;\u001b\\\n"
      ]
     },
     "metadata": {},
     "output_type": "display_data"
    },
    {
     "data": {
      "text/html": [
       "<pre style=\"white-space:pre;overflow-x:auto;line-height:normal;font-family:Menlo,'DejaVu Sans Mono',consolas,'Courier New',monospace\"><span style=\"color: #00ff00; text-decoration-color: #00ff00\">         </span><span style=\"color: #af5fd7; text-decoration-color: #af5fd7\">WARNING </span> <span style=\"color: #c6c6c6; text-decoration-color: #c6c6c6; font-weight: bold\"> ROOT minimizer not available                                                </span><a href=\"file:///home2/hky/miniconda3/envs/naima/lib/python3.9/site-packages/threeML/minimizer/minimization.py\" target=\"_blank\"><span style=\"color: #7f7f7f; text-decoration-color: #7f7f7f\">minimization.py</span></a><span style=\"color: #7f7f7f; text-decoration-color: #7f7f7f\">:</span><a href=\"file:///home2/hky/miniconda3/envs/naima/lib/python3.9/site-packages/threeML/minimizer/minimization.py#1345\" target=\"_blank\"><span style=\"color: #7f7f7f; text-decoration-color: #7f7f7f\">1345</span></a>\n",
       "</pre>\n"
      ],
      "text/plain": [
       "\u001b[38;5;46m        \u001b[0m\u001b[38;5;46m \u001b[0m\u001b[38;5;134mWARNING \u001b[0m \u001b[1;38;5;251m ROOT minimizer not available                                               \u001b[0m\u001b[1;38;5;251m \u001b[0m\u001b]8;id=739585;file:///home2/hky/miniconda3/envs/naima/lib/python3.9/site-packages/threeML/minimizer/minimization.py\u001b\\\u001b[2mminimization.py\u001b[0m\u001b]8;;\u001b\\\u001b[2m:\u001b[0m\u001b]8;id=749181;file:///home2/hky/miniconda3/envs/naima/lib/python3.9/site-packages/threeML/minimizer/minimization.py#1345\u001b\\\u001b[2m1345\u001b[0m\u001b]8;;\u001b\\\n"
      ]
     },
     "metadata": {},
     "output_type": "display_data"
    },
    {
     "data": {
      "text/html": [
       "<pre style=\"white-space:pre;overflow-x:auto;line-height:normal;font-family:Menlo,'DejaVu Sans Mono',consolas,'Courier New',monospace\"><span style=\"color: #00ff00; text-decoration-color: #00ff00\">         </span><span style=\"color: #af5fd7; text-decoration-color: #af5fd7\">WARNING </span> <span style=\"color: #c6c6c6; text-decoration-color: #c6c6c6; font-weight: bold\"> Multinest minimizer not available                                           </span><a href=\"file:///home2/hky/miniconda3/envs/naima/lib/python3.9/site-packages/threeML/minimizer/minimization.py\" target=\"_blank\"><span style=\"color: #7f7f7f; text-decoration-color: #7f7f7f\">minimization.py</span></a><span style=\"color: #7f7f7f; text-decoration-color: #7f7f7f\">:</span><a href=\"file:///home2/hky/miniconda3/envs/naima/lib/python3.9/site-packages/threeML/minimizer/minimization.py#1357\" target=\"_blank\"><span style=\"color: #7f7f7f; text-decoration-color: #7f7f7f\">1357</span></a>\n",
       "</pre>\n"
      ],
      "text/plain": [
       "\u001b[38;5;46m        \u001b[0m\u001b[38;5;46m \u001b[0m\u001b[38;5;134mWARNING \u001b[0m \u001b[1;38;5;251m Multinest minimizer not available                                          \u001b[0m\u001b[1;38;5;251m \u001b[0m\u001b]8;id=99108;file:///home2/hky/miniconda3/envs/naima/lib/python3.9/site-packages/threeML/minimizer/minimization.py\u001b\\\u001b[2mminimization.py\u001b[0m\u001b]8;;\u001b\\\u001b[2m:\u001b[0m\u001b]8;id=81721;file:///home2/hky/miniconda3/envs/naima/lib/python3.9/site-packages/threeML/minimizer/minimization.py#1357\u001b\\\u001b[2m1357\u001b[0m\u001b]8;;\u001b\\\n"
      ]
     },
     "metadata": {},
     "output_type": "display_data"
    },
    {
     "data": {
      "text/html": [
       "<pre style=\"white-space:pre;overflow-x:auto;line-height:normal;font-family:Menlo,'DejaVu Sans Mono',consolas,'Courier New',monospace\"><span style=\"color: #00ff00; text-decoration-color: #00ff00\">00:12:23 </span><span style=\"color: #af5fd7; text-decoration-color: #af5fd7\">WARNING </span> <span style=\"color: #c6c6c6; text-decoration-color: #c6c6c6; font-weight: bold\"> PyGMO is not available                                                      </span><a href=\"file:///home2/hky/miniconda3/envs/naima/lib/python3.9/site-packages/threeML/minimizer/minimization.py\" target=\"_blank\"><span style=\"color: #7f7f7f; text-decoration-color: #7f7f7f\">minimization.py</span></a><span style=\"color: #7f7f7f; text-decoration-color: #7f7f7f\">:</span><a href=\"file:///home2/hky/miniconda3/envs/naima/lib/python3.9/site-packages/threeML/minimizer/minimization.py#1369\" target=\"_blank\"><span style=\"color: #7f7f7f; text-decoration-color: #7f7f7f\">1369</span></a>\n",
       "</pre>\n"
      ],
      "text/plain": [
       "\u001b[38;5;46m00:12:23\u001b[0m\u001b[38;5;46m \u001b[0m\u001b[38;5;134mWARNING \u001b[0m \u001b[1;38;5;251m PyGMO is not available                                                     \u001b[0m\u001b[1;38;5;251m \u001b[0m\u001b]8;id=854520;file:///home2/hky/miniconda3/envs/naima/lib/python3.9/site-packages/threeML/minimizer/minimization.py\u001b\\\u001b[2mminimization.py\u001b[0m\u001b]8;;\u001b\\\u001b[2m:\u001b[0m\u001b]8;id=472055;file:///home2/hky/miniconda3/envs/naima/lib/python3.9/site-packages/threeML/minimizer/minimization.py#1369\u001b\\\u001b[2m1369\u001b[0m\u001b]8;;\u001b\\\n"
      ]
     },
     "metadata": {},
     "output_type": "display_data"
    },
    {
     "data": {
      "text/html": [
       "<pre style=\"white-space:pre;overflow-x:auto;line-height:normal;font-family:Menlo,'DejaVu Sans Mono',consolas,'Courier New',monospace\"><span style=\"color: #00ff00; text-decoration-color: #00ff00\">00:12:23 </span><span style=\"color: #af5fd7; text-decoration-color: #af5fd7\">WARNING </span> <span style=\"color: #c6c6c6; text-decoration-color: #c6c6c6; font-weight: bold\"> The cthreeML package is not installed. You will not be able to use plugins which  </span><a href=\"file:///home2/hky/miniconda3/envs/naima/lib/python3.9/site-packages/threeML/__init__.py\" target=\"_blank\"><span style=\"color: #7f7f7f; text-decoration-color: #7f7f7f\">__init__.py</span></a><span style=\"color: #7f7f7f; text-decoration-color: #7f7f7f\">:</span><a href=\"file:///home2/hky/miniconda3/envs/naima/lib/python3.9/site-packages/threeML/__init__.py#94\" target=\"_blank\"><span style=\"color: #7f7f7f; text-decoration-color: #7f7f7f\">94</span></a>\n",
       "<span style=\"color: #00ff00; text-decoration-color: #00ff00\">         </span>         <span style=\"color: #c6c6c6; text-decoration-color: #c6c6c6; font-weight: bold\">require the C/C++ interface (currently HAWC)                                       </span><span style=\"color: #7f7f7f; text-decoration-color: #7f7f7f\">              </span>\n",
       "</pre>\n"
      ],
      "text/plain": [
       "\u001b[38;5;46m00:12:23\u001b[0m\u001b[38;5;46m \u001b[0m\u001b[38;5;134mWARNING \u001b[0m \u001b[1;38;5;251m The cthreeML package is not installed. You will not be able to use plugins which \u001b[0m\u001b[1;38;5;251m \u001b[0m\u001b]8;id=49188;file:///home2/hky/miniconda3/envs/naima/lib/python3.9/site-packages/threeML/__init__.py\u001b\\\u001b[2m__init__.py\u001b[0m\u001b]8;;\u001b\\\u001b[2m:\u001b[0m\u001b]8;id=254715;file:///home2/hky/miniconda3/envs/naima/lib/python3.9/site-packages/threeML/__init__.py#94\u001b\\\u001b[2m94\u001b[0m\u001b]8;;\u001b\\\n",
       "\u001b[38;5;46m         \u001b[0m         \u001b[1;38;5;251mrequire the C/C++ interface \u001b[0m\u001b[1;38;5;251m(\u001b[0m\u001b[1;38;5;251mcurrently HAWC\u001b[0m\u001b[1;38;5;251m)\u001b[0m\u001b[1;38;5;251m                                      \u001b[0m\u001b[1;38;5;251m \u001b[0m\u001b[2m              \u001b[0m\n"
      ]
     },
     "metadata": {},
     "output_type": "display_data"
    },
    {
     "data": {
      "text/html": [
       "<pre style=\"white-space:pre;overflow-x:auto;line-height:normal;font-family:Menlo,'DejaVu Sans Mono',consolas,'Courier New',monospace\"><span style=\"color: #00ff00; text-decoration-color: #00ff00\">         </span><span style=\"color: #af5fd7; text-decoration-color: #af5fd7\">WARNING </span> <span style=\"color: #c6c6c6; text-decoration-color: #c6c6c6; font-weight: bold\"> Could not import plugin FermiLATLike.py. Do you have the relative instrument     </span><a href=\"file:///home2/hky/miniconda3/envs/naima/lib/python3.9/site-packages/threeML/__init__.py\" target=\"_blank\"><span style=\"color: #7f7f7f; text-decoration-color: #7f7f7f\">__init__.py</span></a><span style=\"color: #7f7f7f; text-decoration-color: #7f7f7f\">:</span><a href=\"file:///home2/hky/miniconda3/envs/naima/lib/python3.9/site-packages/threeML/__init__.py#144\" target=\"_blank\"><span style=\"color: #7f7f7f; text-decoration-color: #7f7f7f\">144</span></a>\n",
       "<span style=\"color: #00ff00; text-decoration-color: #00ff00\">         </span>         <span style=\"color: #c6c6c6; text-decoration-color: #c6c6c6; font-weight: bold\">software installed and configured?                                                </span><span style=\"color: #7f7f7f; text-decoration-color: #7f7f7f\">               </span>\n",
       "</pre>\n"
      ],
      "text/plain": [
       "\u001b[38;5;46m        \u001b[0m\u001b[38;5;46m \u001b[0m\u001b[38;5;134mWARNING \u001b[0m \u001b[1;38;5;251m Could not import plugin FermiLATLike.py. Do you have the relative instrument    \u001b[0m\u001b[1;38;5;251m \u001b[0m\u001b]8;id=689662;file:///home2/hky/miniconda3/envs/naima/lib/python3.9/site-packages/threeML/__init__.py\u001b\\\u001b[2m__init__.py\u001b[0m\u001b]8;;\u001b\\\u001b[2m:\u001b[0m\u001b]8;id=197158;file:///home2/hky/miniconda3/envs/naima/lib/python3.9/site-packages/threeML/__init__.py#144\u001b\\\u001b[2m144\u001b[0m\u001b]8;;\u001b\\\n",
       "\u001b[38;5;46m         \u001b[0m         \u001b[1;38;5;251msoftware installed and configured?                                               \u001b[0m\u001b[1;38;5;251m \u001b[0m\u001b[2m               \u001b[0m\n"
      ]
     },
     "metadata": {},
     "output_type": "display_data"
    },
    {
     "data": {
      "text/html": [
       "<pre style=\"white-space:pre;overflow-x:auto;line-height:normal;font-family:Menlo,'DejaVu Sans Mono',consolas,'Courier New',monospace\"><span style=\"color: #00ff00; text-decoration-color: #00ff00\">         </span><span style=\"color: #af5fd7; text-decoration-color: #af5fd7\">WARNING </span> <span style=\"color: #c6c6c6; text-decoration-color: #c6c6c6; font-weight: bold\"> Could not import plugin HAWCLike.py. Do you have the relative instrument         </span><a href=\"file:///home2/hky/miniconda3/envs/naima/lib/python3.9/site-packages/threeML/__init__.py\" target=\"_blank\"><span style=\"color: #7f7f7f; text-decoration-color: #7f7f7f\">__init__.py</span></a><span style=\"color: #7f7f7f; text-decoration-color: #7f7f7f\">:</span><a href=\"file:///home2/hky/miniconda3/envs/naima/lib/python3.9/site-packages/threeML/__init__.py#144\" target=\"_blank\"><span style=\"color: #7f7f7f; text-decoration-color: #7f7f7f\">144</span></a>\n",
       "<span style=\"color: #00ff00; text-decoration-color: #00ff00\">         </span>         <span style=\"color: #c6c6c6; text-decoration-color: #c6c6c6; font-weight: bold\">software installed and configured?                                                </span><span style=\"color: #7f7f7f; text-decoration-color: #7f7f7f\">               </span>\n",
       "</pre>\n"
      ],
      "text/plain": [
       "\u001b[38;5;46m        \u001b[0m\u001b[38;5;46m \u001b[0m\u001b[38;5;134mWARNING \u001b[0m \u001b[1;38;5;251m Could not import plugin HAWCLike.py. Do you have the relative instrument        \u001b[0m\u001b[1;38;5;251m \u001b[0m\u001b]8;id=195161;file:///home2/hky/miniconda3/envs/naima/lib/python3.9/site-packages/threeML/__init__.py\u001b\\\u001b[2m__init__.py\u001b[0m\u001b]8;;\u001b\\\u001b[2m:\u001b[0m\u001b]8;id=933744;file:///home2/hky/miniconda3/envs/naima/lib/python3.9/site-packages/threeML/__init__.py#144\u001b\\\u001b[2m144\u001b[0m\u001b]8;;\u001b\\\n",
       "\u001b[38;5;46m         \u001b[0m         \u001b[1;38;5;251msoftware installed and configured?                                               \u001b[0m\u001b[1;38;5;251m \u001b[0m\u001b[2m               \u001b[0m\n"
      ]
     },
     "metadata": {},
     "output_type": "display_data"
    },
    {
     "data": {
      "text/html": [
       "<pre style=\"white-space:pre;overflow-x:auto;line-height:normal;font-family:Menlo,'DejaVu Sans Mono',consolas,'Courier New',monospace\"><span style=\"color: #00ff00; text-decoration-color: #00ff00\">         </span><span style=\"color: #af5fd7; text-decoration-color: #af5fd7\">WARNING </span> <span style=\"color: #c6c6c6; text-decoration-color: #c6c6c6; font-weight: bold\"> No fermitools installed                                              </span><a href=\"file:///home2/hky/miniconda3/envs/naima/lib/python3.9/site-packages/threeML/utils/data_builders/fermi/lat_transient_builder.py\" target=\"_blank\"><span style=\"color: #7f7f7f; text-decoration-color: #7f7f7f\">lat_transient_builder.py</span></a><span style=\"color: #7f7f7f; text-decoration-color: #7f7f7f\">:</span><a href=\"file:///home2/hky/miniconda3/envs/naima/lib/python3.9/site-packages/threeML/utils/data_builders/fermi/lat_transient_builder.py#44\" target=\"_blank\"><span style=\"color: #7f7f7f; text-decoration-color: #7f7f7f\">44</span></a>\n",
       "</pre>\n"
      ],
      "text/plain": [
       "\u001b[38;5;46m        \u001b[0m\u001b[38;5;46m \u001b[0m\u001b[38;5;134mWARNING \u001b[0m \u001b[1;38;5;251m No fermitools installed                                             \u001b[0m\u001b[1;38;5;251m \u001b[0m\u001b]8;id=2845;file:///home2/hky/miniconda3/envs/naima/lib/python3.9/site-packages/threeML/utils/data_builders/fermi/lat_transient_builder.py\u001b\\\u001b[2mlat_transient_builder.py\u001b[0m\u001b]8;;\u001b\\\u001b[2m:\u001b[0m\u001b]8;id=387332;file:///home2/hky/miniconda3/envs/naima/lib/python3.9/site-packages/threeML/utils/data_builders/fermi/lat_transient_builder.py#44\u001b\\\u001b[2m44\u001b[0m\u001b]8;;\u001b\\\n"
      ]
     },
     "metadata": {},
     "output_type": "display_data"
    },
    {
     "data": {
      "text/html": [
       "<pre style=\"white-space:pre;overflow-x:auto;line-height:normal;font-family:Menlo,'DejaVu Sans Mono',consolas,'Courier New',monospace\"><span style=\"color: #00ff00; text-decoration-color: #00ff00\">         </span><span style=\"color: #af5fd7; text-decoration-color: #af5fd7\">WARNING </span> <span style=\"color: #c6c6c6; text-decoration-color: #c6c6c6; font-weight: bold\"> Env. variable OMP_NUM_THREADS is not set. Please set it to </span><span style=\"color: #c0c0c0; text-decoration-color: #c0c0c0; font-weight: bold\">1</span><span style=\"color: #c6c6c6; text-decoration-color: #c6c6c6; font-weight: bold\"> for optimal         </span><a href=\"file:///home2/hky/miniconda3/envs/naima/lib/python3.9/site-packages/threeML/__init__.py\" target=\"_blank\"><span style=\"color: #7f7f7f; text-decoration-color: #7f7f7f\">__init__.py</span></a><span style=\"color: #7f7f7f; text-decoration-color: #7f7f7f\">:</span><a href=\"file:///home2/hky/miniconda3/envs/naima/lib/python3.9/site-packages/threeML/__init__.py#387\" target=\"_blank\"><span style=\"color: #7f7f7f; text-decoration-color: #7f7f7f\">387</span></a>\n",
       "<span style=\"color: #00ff00; text-decoration-color: #00ff00\">         </span>         <span style=\"color: #c6c6c6; text-decoration-color: #c6c6c6; font-weight: bold\">performances in 3ML                                                               </span><span style=\"color: #7f7f7f; text-decoration-color: #7f7f7f\">               </span>\n",
       "</pre>\n"
      ],
      "text/plain": [
       "\u001b[38;5;46m        \u001b[0m\u001b[38;5;46m \u001b[0m\u001b[38;5;134mWARNING \u001b[0m \u001b[1;38;5;251m Env. variable OMP_NUM_THREADS is not set. Please set it to \u001b[0m\u001b[1;37m1\u001b[0m\u001b[1;38;5;251m for optimal        \u001b[0m\u001b[1;38;5;251m \u001b[0m\u001b]8;id=994755;file:///home2/hky/miniconda3/envs/naima/lib/python3.9/site-packages/threeML/__init__.py\u001b\\\u001b[2m__init__.py\u001b[0m\u001b]8;;\u001b\\\u001b[2m:\u001b[0m\u001b]8;id=505103;file:///home2/hky/miniconda3/envs/naima/lib/python3.9/site-packages/threeML/__init__.py#387\u001b\\\u001b[2m387\u001b[0m\u001b]8;;\u001b\\\n",
       "\u001b[38;5;46m         \u001b[0m         \u001b[1;38;5;251mperformances in 3ML                                                              \u001b[0m\u001b[1;38;5;251m \u001b[0m\u001b[2m               \u001b[0m\n"
      ]
     },
     "metadata": {},
     "output_type": "display_data"
    },
    {
     "data": {
      "text/html": [
       "<pre style=\"white-space:pre;overflow-x:auto;line-height:normal;font-family:Menlo,'DejaVu Sans Mono',consolas,'Courier New',monospace\"><span style=\"color: #00ff00; text-decoration-color: #00ff00\">         </span><span style=\"color: #af5fd7; text-decoration-color: #af5fd7\">WARNING </span> <span style=\"color: #c6c6c6; text-decoration-color: #c6c6c6; font-weight: bold\"> Env. variable MKL_NUM_THREADS is not set. Please set it to </span><span style=\"color: #c0c0c0; text-decoration-color: #c0c0c0; font-weight: bold\">1</span><span style=\"color: #c6c6c6; text-decoration-color: #c6c6c6; font-weight: bold\"> for optimal         </span><a href=\"file:///home2/hky/miniconda3/envs/naima/lib/python3.9/site-packages/threeML/__init__.py\" target=\"_blank\"><span style=\"color: #7f7f7f; text-decoration-color: #7f7f7f\">__init__.py</span></a><span style=\"color: #7f7f7f; text-decoration-color: #7f7f7f\">:</span><a href=\"file:///home2/hky/miniconda3/envs/naima/lib/python3.9/site-packages/threeML/__init__.py#387\" target=\"_blank\"><span style=\"color: #7f7f7f; text-decoration-color: #7f7f7f\">387</span></a>\n",
       "<span style=\"color: #00ff00; text-decoration-color: #00ff00\">         </span>         <span style=\"color: #c6c6c6; text-decoration-color: #c6c6c6; font-weight: bold\">performances in 3ML                                                               </span><span style=\"color: #7f7f7f; text-decoration-color: #7f7f7f\">               </span>\n",
       "</pre>\n"
      ],
      "text/plain": [
       "\u001b[38;5;46m        \u001b[0m\u001b[38;5;46m \u001b[0m\u001b[38;5;134mWARNING \u001b[0m \u001b[1;38;5;251m Env. variable MKL_NUM_THREADS is not set. Please set it to \u001b[0m\u001b[1;37m1\u001b[0m\u001b[1;38;5;251m for optimal        \u001b[0m\u001b[1;38;5;251m \u001b[0m\u001b]8;id=687837;file:///home2/hky/miniconda3/envs/naima/lib/python3.9/site-packages/threeML/__init__.py\u001b\\\u001b[2m__init__.py\u001b[0m\u001b]8;;\u001b\\\u001b[2m:\u001b[0m\u001b]8;id=786394;file:///home2/hky/miniconda3/envs/naima/lib/python3.9/site-packages/threeML/__init__.py#387\u001b\\\u001b[2m387\u001b[0m\u001b]8;;\u001b\\\n",
       "\u001b[38;5;46m         \u001b[0m         \u001b[1;38;5;251mperformances in 3ML                                                              \u001b[0m\u001b[1;38;5;251m \u001b[0m\u001b[2m               \u001b[0m\n"
      ]
     },
     "metadata": {},
     "output_type": "display_data"
    },
    {
     "data": {
      "text/html": [
       "<pre style=\"white-space:pre;overflow-x:auto;line-height:normal;font-family:Menlo,'DejaVu Sans Mono',consolas,'Courier New',monospace\"><span style=\"color: #00ff00; text-decoration-color: #00ff00\">         </span><span style=\"color: #af5fd7; text-decoration-color: #af5fd7\">WARNING </span> <span style=\"color: #c6c6c6; text-decoration-color: #c6c6c6; font-weight: bold\"> Env. variable NUMEXPR_NUM_THREADS is not set. Please set it to </span><span style=\"color: #c0c0c0; text-decoration-color: #c0c0c0; font-weight: bold\">1</span><span style=\"color: #c6c6c6; text-decoration-color: #c6c6c6; font-weight: bold\"> for optimal     </span><a href=\"file:///home2/hky/miniconda3/envs/naima/lib/python3.9/site-packages/threeML/__init__.py\" target=\"_blank\"><span style=\"color: #7f7f7f; text-decoration-color: #7f7f7f\">__init__.py</span></a><span style=\"color: #7f7f7f; text-decoration-color: #7f7f7f\">:</span><a href=\"file:///home2/hky/miniconda3/envs/naima/lib/python3.9/site-packages/threeML/__init__.py#387\" target=\"_blank\"><span style=\"color: #7f7f7f; text-decoration-color: #7f7f7f\">387</span></a>\n",
       "<span style=\"color: #00ff00; text-decoration-color: #00ff00\">         </span>         <span style=\"color: #c6c6c6; text-decoration-color: #c6c6c6; font-weight: bold\">performances in 3ML                                                               </span><span style=\"color: #7f7f7f; text-decoration-color: #7f7f7f\">               </span>\n",
       "</pre>\n"
      ],
      "text/plain": [
       "\u001b[38;5;46m        \u001b[0m\u001b[38;5;46m \u001b[0m\u001b[38;5;134mWARNING \u001b[0m \u001b[1;38;5;251m Env. variable NUMEXPR_NUM_THREADS is not set. Please set it to \u001b[0m\u001b[1;37m1\u001b[0m\u001b[1;38;5;251m for optimal    \u001b[0m\u001b[1;38;5;251m \u001b[0m\u001b]8;id=446790;file:///home2/hky/miniconda3/envs/naima/lib/python3.9/site-packages/threeML/__init__.py\u001b\\\u001b[2m__init__.py\u001b[0m\u001b]8;;\u001b\\\u001b[2m:\u001b[0m\u001b]8;id=452596;file:///home2/hky/miniconda3/envs/naima/lib/python3.9/site-packages/threeML/__init__.py#387\u001b\\\u001b[2m387\u001b[0m\u001b]8;;\u001b\\\n",
       "\u001b[38;5;46m         \u001b[0m         \u001b[1;38;5;251mperformances in 3ML                                                              \u001b[0m\u001b[1;38;5;251m \u001b[0m\u001b[2m               \u001b[0m\n"
      ]
     },
     "metadata": {},
     "output_type": "display_data"
    }
   ],
   "source": [
    "from threeML import * # 用作拟合，这个似乎依赖ROOT，这个不仅可以做这样的一维拟合，也可以进行如扩散之类的拟合。\n",
    "import astropy.units as u # 引入单位"
   ]
  },
  {
   "cell_type": "code",
   "execution_count": 9,
   "metadata": {},
   "outputs": [],
   "source": [
    "# 引入电子档cutoffpowlaw 与 IC相互作用\n",
    "from naima.models import InverseCompton, PowerLaw\n",
    "# naima使用的是马尔科夫蒙特卡洛算法（MCMC）\n",
    "import naima"
   ]
  },
  {
   "cell_type": "code",
   "execution_count": 10,
   "metadata": {},
   "outputs": [],
   "source": [
    "# 首先要对拟合的模型进行定义\n",
    "# 此处模型定义应该有2个参数，第一个是需要拟合的参数，第二个是传入的数据\n",
    "def model_function_IC(pars, data):\n",
    "    # 传入的pars的第一位作为电子谱的强度，第二位作为电子谱的谱指数\n",
    "    amplitude = pars[0] / u.eV\n",
    "    alpha = pars[1]\n",
    "\n",
    "    PL = PowerLaw(amplitude, 10 * u.TeV, alpha)\n",
    "\n",
    "    # 这里考虑了3种光子微波背景辐射，远红外背景，近红外背景\n",
    "    IC = InverseCompton(PL, seed_photon_fields=[\"CMB\", \"FIR\", \"NIR\"])\n",
    "\n",
    "    return IC.flux(data, distance=7 * u.kpc)"
   ]
  },
  {
   "cell_type": "code",
   "execution_count": 11,
   "metadata": {},
   "outputs": [],
   "source": [
    "# 引入约束条件\n",
    "from naima import uniform_prior\n",
    "\n",
    "# 定义约束条件\n",
    "def lnprior_IC(pars):\n",
    "    # 这里是相对于对每一个参数进行限制\n",
    "    lnprior = uniform_prior(pars[0], 0.0, np.inf) + uniform_prior(pars[1], 1, 5)\n",
    "    return lnprior"
   ]
  },
  {
   "cell_type": "code",
   "execution_count": 12,
   "metadata": {},
   "outputs": [],
   "source": [
    "# 定义初始条件\n",
    "p0 = np.array((1e32, 2.0))\n",
    "\n",
    "# 定义每个变量的含义\n",
    "labels = [\"norm\", \"index\"]"
   ]
  },
  {
   "cell_type": "code",
   "execution_count": 13,
   "metadata": {},
   "outputs": [],
   "source": [
    "# naima拟合要求数据使用astropy的table格式\n",
    "from astropy.table import Table\n",
    "\n",
    "meta = {\"keywords\": {\"cl\": {\"value\": 0.99}}}\n",
    "\n",
    "zou_isuplimit = np.zeros(len(zou_x), dtype=int)\n",
    "japan_isuplimit = np.zeros(len(japan_x), dtype=int)\n",
    "japan_isuplimit[0] = 1\n",
    "hess_isuplimit = np.zeros(len(hess_x), dtype=int)\n",
    "lhaaso_isuplimit = np.zeros(len(lhaaso_x), dtype=int)\n",
    "fermi_isuplimit = np.ones(len(fermi_x), dtype=int)\n",
    "\n",
    "hess_dat = Table(\n",
    "    [\n",
    "        hess_x * u.TeV,\n",
    "        hess_flux / u.TeV / u.s / u.cm / u.cm,\n",
    "        hess_flux_errl / u.TeV / u.s / u.cm / u.cm,\n",
    "        hess_flux_errh / u.TeV / u.s / u.cm / u.cm,\n",
    "        hess_isuplimit,\n",
    "    ],\n",
    "    names=(\"energy\", \"flux\", \"flux_error_lo\", \"flux_error_hi\", \"ul\"),\n",
    "    meta=meta,\n",
    ")\n",
    "lhaaso_dat = Table(\n",
    "    [\n",
    "        lhaaso_x * u.TeV,\n",
    "        lhaaso_flux / u.TeV / u.s / u.cm / u.cm,\n",
    "        lhaaso_flux_err / u.TeV / u.s / u.cm / u.cm,\n",
    "        lhaaso_flux_err / u.TeV / u.s / u.cm / u.cm,\n",
    "        lhaaso_isuplimit,\n",
    "    ],\n",
    "    names=(\"energy\", \"flux\", \"flux_error_lo\", \"flux_error_hi\", \"ul\"),\n",
    "    meta=meta,\n",
    ")\n",
    "fermi_dat = Table(\n",
    "    [\n",
    "        fermi_x * u.TeV,\n",
    "        fermi_flux / u.TeV / u.s / u.cm / u.cm,\n",
    "        fermi_flux_errl / u.TeV / u.s / u.cm / u.cm,\n",
    "        fermi_flux_errh / u.TeV / u.s / u.cm / u.cm,\n",
    "        fermi_isuplimit,\n",
    "    ],\n",
    "    names=(\"energy\", \"flux\", \"flux_error_lo\", \"flux_error_hi\", \"ul\"),\n",
    "    meta=meta,\n",
    ")\n",
    "zou_dat = Table(\n",
    "    [\n",
    "        zou_x * u.TeV,\n",
    "        zou_flux / u.TeV / u.s / u.cm / u.cm,\n",
    "        zou_flux_err / u.TeV / u.s / u.cm / u.cm,\n",
    "        zou_flux_err / u.TeV / u.s / u.cm / u.cm,\n",
    "        zou_isuplimit,\n",
    "    ],\n",
    "    names=(\"energy\", \"flux\", \"flux_error_lo\", \"flux_error_hi\", \"ul\"),\n",
    "    meta=meta,\n",
    ")\n",
    "japan_dat = Table(\n",
    "    [\n",
    "        japan_x * u.TeV,\n",
    "        japan_flux / u.TeV / u.s / u.cm / u.cm,\n",
    "        japan_flux_errl / u.TeV / u.s / u.cm / u.cm,\n",
    "        japan_flux_errh / u.TeV / u.s / u.cm / u.cm,\n",
    "        japan_isuplimit,\n",
    "    ],\n",
    "    names=(\"energy\", \"flux\", \"flux_error_lo\", \"flux_error_hi\", \"ul\"),\n",
    "    meta=meta,\n",
    ")"
   ]
  },
  {
   "cell_type": "code",
   "execution_count": 14,
   "metadata": {},
   "outputs": [
    {
     "name": "stdout",
     "output_type": "stream",
     "text": [
      "Burning in the 12 walkers with 100 steps...\n",
      "\n",
      "Progress of the run: 0 percent (0 of 100 steps)\n",
      "                           -----norm------ -----index-----\n",
      "  Last ensemble median :    2.33e+32          2.04      \n",
      "  Last ensemble std    :    2.81e+31          0.136     \n",
      "  Last ensemble lnprob :  avg: -984.504, max: -33.627\n",
      "\n",
      "Progress of the run: 5 percent (5 of 100 steps)\n",
      "                           -----norm------ -----index-----\n",
      "  Last ensemble median :    2.09e+32          2.18      \n",
      "  Last ensemble std    :    6.02e+31          0.222     \n",
      "  Last ensemble lnprob :  avg: -559.129, max: -5.735\n",
      "\n",
      "Progress of the run: 10 percent (10 of 100 steps)\n",
      "                           -----norm------ -----index-----\n",
      "  Last ensemble median :     1.9e+32          2.22      \n",
      "  Last ensemble std    :    7.01e+31          0.229     \n",
      "  Last ensemble lnprob :  avg: -202.915, max: -4.777\n",
      "\n",
      "Progress of the run: 15 percent (15 of 100 steps)\n",
      "                           -----norm------ -----index-----\n",
      "  Last ensemble median :    1.96e+32          2.46      \n",
      "  Last ensemble std    :    7.57e+31          0.238     \n",
      "  Last ensemble lnprob :  avg: -77.866, max: -5.176\n",
      "\n",
      "Progress of the run: 20 percent (20 of 100 steps)\n",
      "                           -----norm------ -----index-----\n",
      "  Last ensemble median :    1.61e+32          2.44      \n",
      "  Last ensemble std    :     8.7e+31          0.219     \n",
      "  Last ensemble lnprob :  avg: -28.170, max: -4.837\n",
      "\n",
      "Progress of the run: 25 percent (25 of 100 steps)\n",
      "                           -----norm------ -----index-----\n",
      "  Last ensemble median :    1.39e+32          2.45      \n",
      "  Last ensemble std    :    5.14e+31          0.113     \n",
      "  Last ensemble lnprob :  avg: -14.347, max: -4.641\n",
      "\n",
      "Progress of the run: 30 percent (30 of 100 steps)\n",
      "                           -----norm------ -----index-----\n",
      "  Last ensemble median :    1.38e+32          2.43      \n",
      "  Last ensemble std    :    3.09e+31         0.0789     \n",
      "  Last ensemble lnprob :  avg: -9.428, max: -4.680\n",
      "\n",
      "Progress of the run: 35 percent (35 of 100 steps)\n",
      "                           -----norm------ -----index-----\n",
      "  Last ensemble median :    1.26e+32          2.44      \n",
      "  Last ensemble std    :    2.81e+31         0.0432     \n",
      "  Last ensemble lnprob :  avg: -8.050, max: -4.626\n",
      "\n",
      "Progress of the run: 40 percent (40 of 100 steps)\n",
      "                           -----norm------ -----index-----\n",
      "  Last ensemble median :    1.39e+32          2.46      \n",
      "  Last ensemble std    :    2.69e+31         0.0748     \n",
      "  Last ensemble lnprob :  avg: -7.047, max: -4.629\n",
      "\n",
      "Progress of the run: 45 percent (45 of 100 steps)\n",
      "                           -----norm------ -----index-----\n",
      "  Last ensemble median :    1.36e+32          2.44      \n",
      "  Last ensemble std    :    2.16e+31         0.0499     \n",
      "  Last ensemble lnprob :  avg: -5.844, max: -4.632\n",
      "\n",
      "Progress of the run: 50 percent (50 of 100 steps)\n",
      "                           -----norm------ -----index-----\n",
      "  Last ensemble median :    1.37e+32          2.46      \n",
      "  Last ensemble std    :    2.43e+31         0.0636     \n",
      "  Last ensemble lnprob :  avg: -5.775, max: -4.628\n",
      "\n",
      "Progress of the run: 55 percent (55 of 100 steps)\n",
      "                           -----norm------ -----index-----\n",
      "  Last ensemble median :    1.36e+32          2.48      \n",
      "  Last ensemble std    :    1.86e+31         0.0469     \n",
      "  Last ensemble lnprob :  avg: -5.425, max: -4.614\n",
      "\n",
      "Progress of the run: 60 percent (60 of 100 steps)\n",
      "                           -----norm------ -----index-----\n",
      "  Last ensemble median :    1.39e+32          2.49      \n",
      "  Last ensemble std    :    2.02e+31         0.0615     \n",
      "  Last ensemble lnprob :  avg: -5.797, max: -4.651\n",
      "\n",
      "Progress of the run: 65 percent (65 of 100 steps)\n",
      "                           -----norm------ -----index-----\n",
      "  Last ensemble median :     1.3e+32          2.49      \n",
      "  Last ensemble std    :    2.19e+31         0.0754     \n",
      "  Last ensemble lnprob :  avg: -5.965, max: -4.725\n",
      "\n",
      "Progress of the run: 70 percent (70 of 100 steps)\n",
      "                           -----norm------ -----index-----\n",
      "  Last ensemble median :    1.26e+32          2.46      \n",
      "  Last ensemble std    :    1.62e+31         0.0509     \n",
      "  Last ensemble lnprob :  avg: -5.484, max: -4.764\n",
      "\n",
      "Progress of the run: 75 percent (75 of 100 steps)\n",
      "                           -----norm------ -----index-----\n",
      "  Last ensemble median :    1.19e+32          2.44      \n",
      "  Last ensemble std    :    1.89e+31         0.0669     \n",
      "  Last ensemble lnprob :  avg: -5.792, max: -4.728\n",
      "\n",
      "Progress of the run: 80 percent (80 of 100 steps)\n",
      "                           -----norm------ -----index-----\n",
      "  Last ensemble median :    1.16e+32          2.46      \n",
      "  Last ensemble std    :    1.65e+31         0.0809     \n",
      "  Last ensemble lnprob :  avg: -5.702, max: -4.743\n",
      "\n",
      "Progress of the run: 85 percent (85 of 100 steps)\n",
      "                           -----norm------ -----index-----\n",
      "  Last ensemble median :    1.13e+32          2.47      \n",
      "  Last ensemble std    :    1.74e+31         0.0739     \n",
      "  Last ensemble lnprob :  avg: -5.617, max: -4.655\n",
      "\n",
      "Progress of the run: 90 percent (90 of 100 steps)\n",
      "                           -----norm------ -----index-----\n",
      "  Last ensemble median :    1.21e+32          2.48      \n",
      "  Last ensemble std    :    1.78e+31         0.0766     \n",
      "  Last ensemble lnprob :  avg: -5.417, max: -4.690\n",
      "\n",
      "Progress of the run: 95 percent (95 of 100 steps)\n",
      "                           -----norm------ -----index-----\n",
      "  Last ensemble median :    1.25e+32          2.48      \n",
      "  Last ensemble std    :    1.59e+31         0.0863     \n",
      "  Last ensemble lnprob :  avg: -5.596, max: -4.668\n",
      "\n",
      "Walker burn in finished, running 500 steps...\n",
      "\n",
      "Progress of the run: 0 percent (0 of 500 steps)\n",
      "                           -----norm------ -----index-----\n",
      "  Last ensemble median :    1.23e+32          2.44      \n",
      "  Last ensemble std    :    1.86e+31         0.0979     \n",
      "  Last ensemble lnprob :  avg: -5.577, max: -4.651\n",
      "\n",
      "Progress of the run: 5 percent (25 of 500 steps)\n",
      "                           -----norm------ -----index-----\n",
      "  Last ensemble median :    1.36e+32          2.51      \n",
      "  Last ensemble std    :    9.96e+30          0.066     \n",
      "  Last ensemble lnprob :  avg: -5.765, max: -4.609\n",
      "\n",
      "Progress of the run: 10 percent (50 of 500 steps)\n",
      "                           -----norm------ -----index-----\n",
      "  Last ensemble median :    1.46e+32          2.51      \n",
      "  Last ensemble std    :    2.23e+31         0.0759     \n",
      "  Last ensemble lnprob :  avg: -5.888, max: -4.857\n",
      "\n",
      "Progress of the run: 15 percent (75 of 500 steps)\n",
      "                           -----norm------ -----index-----\n",
      "  Last ensemble median :    1.26e+32          2.55      \n",
      "  Last ensemble std    :    2.05e+31         0.0772     \n",
      "  Last ensemble lnprob :  avg: -6.398, max: -4.668\n",
      "\n",
      "Progress of the run: 20 percent (100 of 500 steps)\n",
      "                           -----norm------ -----index-----\n",
      "  Last ensemble median :    1.29e+32          2.48      \n",
      "  Last ensemble std    :     1.3e+31         0.0633     \n",
      "  Last ensemble lnprob :  avg: -5.435, max: -4.618\n",
      "\n",
      "Progress of the run: 25 percent (125 of 500 steps)\n",
      "                           -----norm------ -----index-----\n",
      "  Last ensemble median :    1.33e+32          2.47      \n",
      "  Last ensemble std    :    1.13e+31         0.0792     \n",
      "  Last ensemble lnprob :  avg: -5.440, max: -4.709\n",
      "\n",
      "Progress of the run: 30 percent (150 of 500 steps)\n",
      "                           -----norm------ -----index-----\n",
      "  Last ensemble median :    1.26e+32          2.46      \n",
      "  Last ensemble std    :    2.06e+31          0.088     \n",
      "  Last ensemble lnprob :  avg: -5.839, max: -4.707\n",
      "\n",
      "Progress of the run: 35 percent (175 of 500 steps)\n",
      "                           -----norm------ -----index-----\n",
      "  Last ensemble median :     1.3e+32          2.52      \n",
      "  Last ensemble std    :    2.59e+31         0.0949     \n",
      "  Last ensemble lnprob :  avg: -6.055, max: -4.725\n",
      "\n",
      "Progress of the run: 40 percent (200 of 500 steps)\n",
      "                           -----norm------ -----index-----\n",
      "  Last ensemble median :    1.23e+32          2.46      \n",
      "  Last ensemble std    :    1.85e+31         0.0756     \n",
      "  Last ensemble lnprob :  avg: -5.742, max: -4.626\n",
      "\n",
      "Progress of the run: 45 percent (225 of 500 steps)\n",
      "                           -----norm------ -----index-----\n",
      "  Last ensemble median :    1.28e+32          2.48      \n",
      "  Last ensemble std    :    1.51e+31         0.0625     \n",
      "  Last ensemble lnprob :  avg: -5.492, max: -4.612\n",
      "\n",
      "Progress of the run: 50 percent (250 of 500 steps)\n",
      "                           -----norm------ -----index-----\n",
      "  Last ensemble median :    1.25e+32          2.48      \n",
      "  Last ensemble std    :    1.42e+31         0.0756     \n",
      "  Last ensemble lnprob :  avg: -5.337, max: -4.722\n",
      "\n",
      "Progress of the run: 55 percent (275 of 500 steps)\n",
      "                           -----norm------ -----index-----\n",
      "  Last ensemble median :    1.35e+32          2.48      \n",
      "  Last ensemble std    :    2.21e+31         0.0649     \n",
      "  Last ensemble lnprob :  avg: -5.777, max: -4.632\n",
      "\n",
      "Progress of the run: 60 percent (300 of 500 steps)\n",
      "                           -----norm------ -----index-----\n",
      "  Last ensemble median :    1.36e+32          2.47      \n",
      "  Last ensemble std    :    2.22e+31         0.0671     \n",
      "  Last ensemble lnprob :  avg: -5.800, max: -4.680\n",
      "\n",
      "Progress of the run: 65 percent (325 of 500 steps)\n",
      "                           -----norm------ -----index-----\n",
      "  Last ensemble median :    1.41e+32          2.48      \n",
      "  Last ensemble std    :     1.8e+31         0.0676     \n",
      "  Last ensemble lnprob :  avg: -5.778, max: -4.615\n",
      "\n",
      "Progress of the run: 70 percent (350 of 500 steps)\n",
      "                           -----norm------ -----index-----\n",
      "  Last ensemble median :    1.44e+32          2.51      \n",
      "  Last ensemble std    :    2.16e+31         0.0812     \n",
      "  Last ensemble lnprob :  avg: -5.543, max: -4.655\n",
      "\n",
      "Progress of the run: 75 percent (375 of 500 steps)\n",
      "                           -----norm------ -----index-----\n",
      "  Last ensemble median :     1.3e+32          2.52      \n",
      "  Last ensemble std    :    1.48e+31         0.0783     \n",
      "  Last ensemble lnprob :  avg: -5.495, max: -4.692\n",
      "\n",
      "Progress of the run: 80 percent (400 of 500 steps)\n",
      "                           -----norm------ -----index-----\n",
      "  Last ensemble median :    1.33e+32          2.51      \n",
      "  Last ensemble std    :    1.78e+31         0.0596     \n",
      "  Last ensemble lnprob :  avg: -5.415, max: -4.722\n",
      "\n",
      "Progress of the run: 85 percent (425 of 500 steps)\n",
      "                           -----norm------ -----index-----\n",
      "  Last ensemble median :    1.34e+32          2.48      \n",
      "  Last ensemble std    :    1.29e+31         0.0517     \n",
      "  Last ensemble lnprob :  avg: -5.157, max: -4.650\n",
      "\n",
      "Progress of the run: 90 percent (450 of 500 steps)\n",
      "                           -----norm------ -----index-----\n",
      "  Last ensemble median :    1.29e+32          2.48      \n",
      "  Last ensemble std    :    1.65e+31         0.0601     \n",
      "  Last ensemble lnprob :  avg: -5.188, max: -4.614\n",
      "\n",
      "Progress of the run: 95 percent (475 of 500 steps)\n",
      "                           -----norm------ -----index-----\n",
      "  Last ensemble median :    1.28e+32          2.45      \n",
      "  Last ensemble std    :    1.61e+31         0.0673     \n",
      "  Last ensemble lnprob :  avg: -5.294, max: -4.660\n"
     ]
    }
   ],
   "source": [
    "# 进行拟合（实际上是通过MCMC计算出最适合的电子谱）\n",
    "sampler, pos = naima.run_sampler(\n",
    "    # data_table=[hess_dat, lhaaso_dat, fermi_dat, zou_dat, japan_dat],  # 使用的数据\n",
    "    data_table=[fermi_dat,hess_dat, lhaaso_dat, zou_dat, ],\n",
    "    p0=p0,  # 初始条件，这个条件应该尽可能的靠近真实的条件\n",
    "    labels=labels,  # 每个参量的名字\n",
    "    model=model_function_IC,  # 拟合的模型（这个是上面我们定义的那个）\n",
    "    prior=lnprior_IC,  # 模型的约束条件\n",
    "    nwalkers=12,  # MCMC算法中的参数，下同（我没看懂）这里虽然写出来了\n",
    "    nburn=100,  # 但是使用的其实是默认参数\n",
    "    nrun=500,\n",
    "    threads=12,  # 使用的cpu数\n",
    ")"
   ]
  },
  {
   "cell_type": "code",
   "execution_count": 15,
   "metadata": {},
   "outputs": [
    {
     "name": "stdout",
     "output_type": "stream",
     "text": [
      "INFO: Plotting chain of parameter norm... [naima.analysis]\n",
      "INFO: -----------------------norm-----------------------\n",
      "          norm = $(1.30 \\pm 0.19)\\times10^{32}$ [naima.plot]\n",
      "INFO: Plotting chain of parameter index... [naima.analysis]\n",
      "INFO: ----------------------index-----------------------\n",
      "          index = $2.48 \\pm 0.07$ [naima.plot]\n",
      "INFO: Plotting corner plot... [naima.analysis]\n",
      "INFO: Plotting Spectrum... [naima.analysis]\n",
      "INFO: Plotting Electron energy distribution... [naima.analysis]\n"
     ]
    },
    {
     "name": "stderr",
     "output_type": "stream",
     "text": [
      "\n",
      "WARNING UserWarning: Attempt to set non-positive xlim on a log-scaled axis will be ignored.\n",
      "\n",
      "WARNING: plot_blob failed for Electron energy distribution: cannot convert float NaN to integer [naima.analysis]\n"
     ]
    }
   ],
   "source": [
    "# 对上面计算的一些图保存\n",
    "naima.save_diagnostic_plots(\n",
    "    \"./naima/tutorial_IC\",\n",
    "    sampler,\n",
    "    blob_labels=[\n",
    "        \"Spectrum\",\n",
    "        \"Electron energy distribution\",\n",
    "        \"$W_e (E_e>1$ TeV)\",\n",
    "    ],\n",
    ")"
   ]
  },
  {
   "cell_type": "code",
   "execution_count": 16,
   "metadata": {},
   "outputs": [
    {
     "name": "stdout",
     "output_type": "stream",
     "text": [
      "INFO: Saving results table in ./naima/tutorial_IC_fit_results.ecsv [naima.analysis]\n"
     ]
    }
   ],
   "source": [
    "# 对MC的拟合结果保存（我不知道为什么这里的参数和图上会有一点点不同\n",
    "result_leptonic = naima.save_results_table(\"./naima/tutorial_IC_fit\", sampler)\n"
   ]
  },
  {
   "cell_type": "code",
   "execution_count": 17,
   "metadata": {},
   "outputs": [
    {
     "data": {
      "text/html": [
       "<div><i>Table length=3</i>\n",
       "<table id=\"table140702565086544\" class=\"table-striped table-bordered table-condensed\">\n",
       "<thead><tr><th>label</th><th>median</th><th>unc_lo</th><th>unc_hi</th></tr></thead>\n",
       "<thead><tr><th>bytes72</th><th>float64</th><th>float64</th><th>float64</th></tr></thead>\n",
       "<tr><td>norm</td><td>1.3014268079396722e+32</td><td>1.8507024361505416e+31</td><td>1.9851432788862706e+31</td></tr>\n",
       "<tr><td>index</td><td>2.4843788748508935</td><td>0.0751699820499625</td><td>0.0731195097523667</td></tr>\n",
       "<tr><td>blob1</td><td>nan</td><td>nan</td><td>nan</td></tr>\n",
       "</table></div>"
      ],
      "text/plain": [
       "<Table length=3>\n",
       " label          median                 unc_lo                 unc_hi        \n",
       "bytes72        float64                float64                float64        \n",
       "------- ---------------------- ---------------------- ----------------------\n",
       "   norm 1.3014268079396722e+32 1.8507024361505416e+31 1.9851432788862706e+31\n",
       "  index     2.4843788748508935     0.0751699820499625     0.0731195097523667\n",
       "  blob1                    nan                    nan                    nan"
      ]
     },
     "execution_count": 17,
     "metadata": {},
     "output_type": "execute_result"
    }
   ],
   "source": [
    "result_leptonic"
   ]
  },
  {
   "cell_type": "code",
   "execution_count": 22,
   "metadata": {},
   "outputs": [],
   "source": [
    "# 画出拟合能谱（我这里不会加图例）\n",
    "figure_fit = naima.plot_fit(sampler,\n",
    "                            sed=True,\n",
    "                            e_unit=u.eV,\n",
    "                            e_range=[1e9*u.eV,4e14*u.eV],\n",
    "                            last_step=False,\n",
    "                            ML_info=False,\n",
    "                            plotresiduals=True,\n",
    "                            confs=[1,2],                   # 是否画出置信区间\n",
    "                            plotdata=True,\n",
    "                            label=\"Leptonic\",\n",
    "                           )\n",
    "plt.savefig(\"./naima/tutorial_IC_fit.png\")"
   ]
  },
  {
   "cell_type": "code",
   "execution_count": 23,
   "metadata": {},
   "outputs": [],
   "source": [
    "# 接下来看一下强子起源的情况\n",
    "from naima.models import PionDecay\n",
    "from naima.models import ExponentialCutoffPowerLaw"
   ]
  },
  {
   "cell_type": "code",
   "execution_count": 84,
   "metadata": {},
   "outputs": [],
   "source": [
    "# # 接下来看一下强子起源的情况\n",
    "# from naima.models import PionDecay\n",
    "# from naima.models import ExponentialCutoffPowerLaw\n",
    "\n",
    "\n",
    "# naima使用的应该是用一个能谱的质子与静止的质子相互作用尝试pi0,之后衰变为光子（我不确定\n",
    "def PionDecay_ECPL(pars, data):\n",
    "    amplitude = 10 ** pars[0] / u.eV\n",
    "    alpha = pars[1]\n",
    "    e_cutoff = 10 ** pars[2] * u.TeV\n",
    "\n",
    "    # 假设质子的能谱满足cutoff的powerlaw\n",
    "    ECPL = naima.models.ExponentialCutoffPowerLaw(\n",
    "         amplitude, 10 * u.TeV, alpha, e_cutoff\n",
    "    )\n",
    "\n",
    "    # 此处nh为静止质子的密度, 论文里好像说是10？\n",
    "    PP = naima.models.PionDecay(ECPL, nh=10.0 * u.cm**-3)\n",
    "\n",
    "    return PP.flux(data, distance=7.0 * u.kpc)\n"
   ]
  },
  {
   "cell_type": "code",
   "execution_count": 110,
   "metadata": {},
   "outputs": [],
   "source": [
    "# 新的初始条件\n",
    "p2 = np.array((33, 2, 3))\n",
    "# p2 = np.array((1e33, 2.0, 4.0))\n",
    "\n",
    "labels2 = [\"log10(norm)\", \"index\", \"log10(cutoff)\"]\n",
    "\n",
    "\n",
    "# 重新定义约束条件\n",
    "def lnprior_PP(pars):\n",
    "    # 这里是相对于对每一个参数进行限制\n",
    "    lnprior = (\n",
    "        uniform_prior(pars[0], 30, np.inf)\n",
    "        + uniform_prior(pars[1], 1, 5)  ##############\n",
    "        + uniform_prior(pars[2], 1, 5)\n",
    "    )\n",
    "    return lnprior\n"
   ]
  },
  {
   "cell_type": "code",
   "execution_count": 111,
   "metadata": {},
   "outputs": [
    {
     "name": "stdout",
     "output_type": "stream",
     "text": [
      "Burning in the 32 walkers with 100 steps...\n",
      "\n",
      "Progress of the run: 0 percent (0 of 100 steps)\n",
      "                           --log10(norm)-- -----index----- -log10(cutoff)-\n",
      "  Last ensemble median :      48.4            1.92            2.99      \n",
      "  Last ensemble std    :      5.34            0.237           0.312     \n",
      "  Last ensemble lnprob :  avg: -143873968950566272986343985975079587151091859456000.000, max: -2394.324\n",
      "\n",
      "Progress of the run: 5 percent (5 of 100 steps)\n",
      "                           --log10(norm)-- -----index----- -log10(cutoff)-\n",
      "  Last ensemble median :       43             2.02            3.01      \n",
      "  Last ensemble std    :      6.35            0.413           0.529     \n",
      "  Last ensemble lnprob :  avg: -3555588042284469564157091033395377471488.000, max: -30.276\n",
      "\n",
      "Progress of the run: 10 percent (10 of 100 steps)\n",
      "                           --log10(norm)-- -----index----- -log10(cutoff)-\n",
      "  Last ensemble median :      38.4            1.98            3.02      \n",
      "  Last ensemble std    :      4.98            0.438           0.711     \n",
      "  Last ensemble lnprob :  avg: -1219331876873968681840803840.000, max: -6.290\n",
      "\n",
      "Progress of the run: 15 percent (15 of 100 steps)\n",
      "                           --log10(norm)-- -----index----- -log10(cutoff)-\n",
      "  Last ensemble median :      35.9            2.03            2.94      \n",
      "  Last ensemble std    :      3.59            0.433           0.713     \n",
      "  Last ensemble lnprob :  avg: -722652994099584107020288.000, max: -6.290\n",
      "\n",
      "Progress of the run: 20 percent (20 of 100 steps)\n",
      "                           --log10(norm)-- -----index----- -log10(cutoff)-\n",
      "  Last ensemble median :      34.6            2.04            2.75      \n",
      "  Last ensemble std    :      2.41            0.519           0.688     \n",
      "  Last ensemble lnprob :  avg: -7369425582783.815, max: -6.290\n",
      "\n",
      "Progress of the run: 25 percent (25 of 100 steps)\n",
      "                           --log10(norm)-- -----index----- -log10(cutoff)-\n",
      "  Last ensemble median :      34.1            2.01            2.75      \n",
      "  Last ensemble std    :      1.56            0.458           0.599     \n",
      "  Last ensemble lnprob :  avg: -3114903173.258, max: -5.129\n",
      "\n",
      "Progress of the run: 30 percent (30 of 100 steps)\n",
      "                           --log10(norm)-- -----index----- -log10(cutoff)-\n",
      "  Last ensemble median :      34.1            2.02            2.79      \n",
      "  Last ensemble std    :       1.3            0.419           0.497     \n",
      "  Last ensemble lnprob :  avg: -60325844.985, max: -5.129\n",
      "\n",
      "Progress of the run: 35 percent (35 of 100 steps)\n",
      "                           --log10(norm)-- -----index----- -log10(cutoff)-\n",
      "  Last ensemble median :       34             1.96            2.71      \n",
      "  Last ensemble std    :      1.08            0.39            0.457     \n",
      "  Last ensemble lnprob :  avg: -1583801.941, max: -4.803\n",
      "\n",
      "Progress of the run: 40 percent (40 of 100 steps)\n",
      "                           --log10(norm)-- -----index----- -log10(cutoff)-\n",
      "  Last ensemble median :       34             1.96            2.66      \n",
      "  Last ensemble std    :      0.798           0.357           0.449     \n",
      "  Last ensemble lnprob :  avg: -2514.696, max: -4.818\n",
      "\n",
      "Progress of the run: 45 percent (45 of 100 steps)\n",
      "                           --log10(norm)-- -----index----- -log10(cutoff)-\n",
      "  Last ensemble median :       34             1.91            2.64      \n",
      "  Last ensemble std    :      0.598           0.392           0.415     \n",
      "  Last ensemble lnprob :  avg: -163.778, max: -4.759\n",
      "\n",
      "Progress of the run: 50 percent (50 of 100 steps)\n",
      "                           --log10(norm)-- -----index----- -log10(cutoff)-\n",
      "  Last ensemble median :       34             1.82            2.61      \n",
      "  Last ensemble std    :      0.374           0.303           0.395     \n",
      "  Last ensemble lnprob :  avg: -35.004, max: -4.708\n",
      "\n",
      "Progress of the run: 55 percent (55 of 100 steps)\n",
      "                           --log10(norm)-- -----index----- -log10(cutoff)-\n",
      "  Last ensemble median :       34             1.78            2.73      \n",
      "  Last ensemble std    :      0.348           0.345           0.474     \n",
      "  Last ensemble lnprob :  avg: -10.716, max: -4.560\n",
      "\n",
      "Progress of the run: 60 percent (60 of 100 steps)\n",
      "                           --log10(norm)-- -----index----- -log10(cutoff)-\n",
      "  Last ensemble median :       34             1.87            2.78      \n",
      "  Last ensemble std    :      0.149           0.225           0.388     \n",
      "  Last ensemble lnprob :  avg: -8.838, max: -4.683\n",
      "\n",
      "Progress of the run: 65 percent (65 of 100 steps)\n",
      "                           --log10(norm)-- -----index----- -log10(cutoff)-\n",
      "  Last ensemble median :       34              1.9            2.77      \n",
      "  Last ensemble std    :      0.15            0.26            0.399     \n",
      "  Last ensemble lnprob :  avg: -7.721, max: -4.770\n",
      "\n",
      "Progress of the run: 70 percent (70 of 100 steps)\n",
      "                           --log10(norm)-- -----index----- -log10(cutoff)-\n",
      "  Last ensemble median :      33.9            1.89            2.86      \n",
      "  Last ensemble std    :      0.128           0.268           0.418     \n",
      "  Last ensemble lnprob :  avg: -6.976, max: -4.666\n",
      "\n",
      "Progress of the run: 75 percent (75 of 100 steps)\n",
      "                           --log10(norm)-- -----index----- -log10(cutoff)-\n",
      "  Last ensemble median :      33.9            1.87            2.88      \n",
      "  Last ensemble std    :      0.102           0.233           0.385     \n",
      "  Last ensemble lnprob :  avg: -6.138, max: -4.415\n",
      "\n",
      "Progress of the run: 80 percent (80 of 100 steps)\n",
      "                           --log10(norm)-- -----index----- -log10(cutoff)-\n",
      "  Last ensemble median :      33.9            1.88            2.91      \n",
      "  Last ensemble std    :     0.0962           0.21            0.434     \n",
      "  Last ensemble lnprob :  avg: -6.207, max: -4.434\n",
      "\n",
      "Progress of the run: 85 percent (85 of 100 steps)\n",
      "                           --log10(norm)-- -----index----- -log10(cutoff)-\n",
      "  Last ensemble median :      33.9            1.89            2.95      \n",
      "  Last ensemble std    :     0.0826           0.22            0.41      \n",
      "  Last ensemble lnprob :  avg: -6.089, max: -4.560\n",
      "\n",
      "Progress of the run: 90 percent (90 of 100 steps)\n",
      "                           --log10(norm)-- -----index----- -log10(cutoff)-\n",
      "  Last ensemble median :      33.9            1.89            2.98      \n",
      "  Last ensemble std    :     0.0925           0.232            0.4      \n",
      "  Last ensemble lnprob :  avg: -6.097, max: -4.463\n",
      "\n",
      "Progress of the run: 95 percent (95 of 100 steps)\n",
      "                           --log10(norm)-- -----index----- -log10(cutoff)-\n",
      "  Last ensemble median :       34              1.9            2.95      \n",
      "  Last ensemble std    :      0.115           0.228           0.431     \n",
      "  Last ensemble lnprob :  avg: -6.077, max: -4.500\n",
      "\n",
      "Walker burn in finished, running 500 steps...\n",
      "\n",
      "Progress of the run: 0 percent (0 of 500 steps)\n",
      "                           --log10(norm)-- -----index----- -log10(cutoff)-\n",
      "  Last ensemble median :       34             1.88            2.86      \n",
      "  Last ensemble std    :      0.124           0.212           0.494     \n",
      "  Last ensemble lnprob :  avg: -6.138, max: -4.446\n",
      "\n",
      "Progress of the run: 5 percent (25 of 500 steps)\n",
      "                           --log10(norm)-- -----index----- -log10(cutoff)-\n",
      "  Last ensemble median :      33.9            1.84             3.1      \n",
      "  Last ensemble std    :     0.0914           0.158           0.448     \n",
      "  Last ensemble lnprob :  avg: -5.852, max: -4.491\n",
      "\n",
      "Progress of the run: 10 percent (50 of 500 steps)\n",
      "                           --log10(norm)-- -----index----- -log10(cutoff)-\n",
      "  Last ensemble median :      33.9            1.89            3.15      \n",
      "  Last ensemble std    :      0.134           0.257           0.598     \n",
      "  Last ensemble lnprob :  avg: -5.895, max: -4.445\n",
      "\n",
      "Progress of the run: 15 percent (75 of 500 steps)\n",
      "                           --log10(norm)-- -----index----- -log10(cutoff)-\n",
      "  Last ensemble median :      33.9            1.91             3.2      \n",
      "  Last ensemble std    :     0.0978           0.237           0.712     \n",
      "  Last ensemble lnprob :  avg: -6.107, max: -4.417\n",
      "\n",
      "Progress of the run: 20 percent (100 of 500 steps)\n",
      "                           --log10(norm)-- -----index----- -log10(cutoff)-\n",
      "  Last ensemble median :      33.9             1.9            3.21      \n",
      "  Last ensemble std    :     0.0889           0.185           0.613     \n",
      "  Last ensemble lnprob :  avg: -5.616, max: -4.516\n",
      "\n",
      "Progress of the run: 25 percent (125 of 500 steps)\n",
      "                           --log10(norm)-- -----index----- -log10(cutoff)-\n",
      "  Last ensemble median :      33.9            1.91            3.19      \n",
      "  Last ensemble std    :      0.111           0.228           0.596     \n",
      "  Last ensemble lnprob :  avg: -5.842, max: -4.550\n",
      "\n",
      "Progress of the run: 30 percent (150 of 500 steps)\n",
      "                           --log10(norm)-- -----index----- -log10(cutoff)-\n",
      "  Last ensemble median :      33.9             1.9            3.13      \n",
      "  Last ensemble std    :      0.145           0.223           0.499     \n",
      "  Last ensemble lnprob :  avg: -6.122, max: -4.439\n",
      "\n",
      "Progress of the run: 35 percent (175 of 500 steps)\n",
      "                           --log10(norm)-- -----index----- -log10(cutoff)-\n",
      "  Last ensemble median :      33.9            1.86              3       \n",
      "  Last ensemble std    :      0.128           0.222           0.595     \n",
      "  Last ensemble lnprob :  avg: -6.151, max: -4.599\n",
      "\n",
      "Progress of the run: 40 percent (200 of 500 steps)\n",
      "                           --log10(norm)-- -----index----- -log10(cutoff)-\n",
      "  Last ensemble median :      33.9            1.85            3.14      \n",
      "  Last ensemble std    :      0.128           0.228           0.655     \n",
      "  Last ensemble lnprob :  avg: -5.934, max: -4.460\n",
      "\n",
      "Progress of the run: 45 percent (225 of 500 steps)\n",
      "                           --log10(norm)-- -----index----- -log10(cutoff)-\n",
      "  Last ensemble median :      33.9             1.9            3.08      \n",
      "  Last ensemble std    :      0.172           0.327           0.584     \n",
      "  Last ensemble lnprob :  avg: -6.283, max: -4.591\n",
      "\n",
      "Progress of the run: 50 percent (250 of 500 steps)\n",
      "                           --log10(norm)-- -----index----- -log10(cutoff)-\n",
      "  Last ensemble median :      33.9             1.9            3.14      \n",
      "  Last ensemble std    :      0.107           0.236           0.526     \n",
      "  Last ensemble lnprob :  avg: -5.824, max: -4.456\n",
      "\n",
      "Progress of the run: 55 percent (275 of 500 steps)\n",
      "                           --log10(norm)-- -----index----- -log10(cutoff)-\n",
      "  Last ensemble median :      33.9            1.94            3.18      \n",
      "  Last ensemble std    :     0.0963           0.227           0.605     \n",
      "  Last ensemble lnprob :  avg: -5.893, max: -4.493\n",
      "\n",
      "Progress of the run: 60 percent (300 of 500 steps)\n",
      "                           --log10(norm)-- -----index----- -log10(cutoff)-\n",
      "  Last ensemble median :      33.9            1.89            3.22      \n",
      "  Last ensemble std    :     0.0826           0.185           0.529     \n",
      "  Last ensemble lnprob :  avg: -5.883, max: -4.455\n",
      "\n",
      "Progress of the run: 65 percent (325 of 500 steps)\n",
      "                           --log10(norm)-- -----index----- -log10(cutoff)-\n",
      "  Last ensemble median :       34             1.92            3.13      \n",
      "  Last ensemble std    :      0.157           0.242           0.728     \n",
      "  Last ensemble lnprob :  avg: -6.652, max: -4.424\n",
      "\n",
      "Progress of the run: 70 percent (350 of 500 steps)\n",
      "                           --log10(norm)-- -----index----- -log10(cutoff)-\n",
      "  Last ensemble median :      33.9            1.95            3.24      \n",
      "  Last ensemble std    :      0.129           0.217           0.567     \n",
      "  Last ensemble lnprob :  avg: -5.883, max: -4.679\n",
      "\n",
      "Progress of the run: 75 percent (375 of 500 steps)\n",
      "                           --log10(norm)-- -----index----- -log10(cutoff)-\n",
      "  Last ensemble median :      33.9            1.91             3.2      \n",
      "  Last ensemble std    :      0.11            0.167           0.398     \n",
      "  Last ensemble lnprob :  avg: -5.451, max: -4.532\n",
      "\n",
      "Progress of the run: 80 percent (400 of 500 steps)\n",
      "                           --log10(norm)-- -----index----- -log10(cutoff)-\n",
      "  Last ensemble median :      33.9            1.93            3.28      \n",
      "  Last ensemble std    :      0.117           0.233           0.743     \n",
      "  Last ensemble lnprob :  avg: -6.084, max: -4.577\n",
      "\n",
      "Progress of the run: 85 percent (425 of 500 steps)\n",
      "                           --log10(norm)-- -----index----- -log10(cutoff)-\n",
      "  Last ensemble median :      33.9            1.97            3.53      \n",
      "  Last ensemble std    :      0.12            0.234           0.774     \n",
      "  Last ensemble lnprob :  avg: -6.398, max: -4.695\n",
      "\n",
      "Progress of the run: 90 percent (450 of 500 steps)\n",
      "                           --log10(norm)-- -----index----- -log10(cutoff)-\n",
      "  Last ensemble median :      33.9            1.96            3.38      \n",
      "  Last ensemble std    :      0.102           0.186           0.702     \n",
      "  Last ensemble lnprob :  avg: -5.898, max: -4.554\n",
      "\n",
      "Progress of the run: 95 percent (475 of 500 steps)\n",
      "                           --log10(norm)-- -----index----- -log10(cutoff)-\n",
      "  Last ensemble median :      33.9            1.95            3.38      \n",
      "  Last ensemble std    :      0.11            0.224           0.679     \n",
      "  Last ensemble lnprob :  avg: -5.953, max: -4.453\n"
     ]
    }
   ],
   "source": [
    "# 进行拟合\n",
    "sampler_3, pos_3 = naima.run_sampler(\n",
    "    # data_table=[fermi_dat, hess_dat, japan_dat, lhaaso_dat],\n",
    "    data_table=[fermi_dat, hess_dat, zou_dat],  # , lhaaso_dat,\n",
    "    p0=p2,  # 初始条件，这个条件应该尽可能的靠近真实的条件\n",
    "    labels=labels2,  # 每个参量的名字\n",
    "    model=PionDecay_ECPL,  # 拟合的模型（这个是上面我们定义的那个）\n",
    "    prior=lnprior_PP,  # 模型的约束条件\n",
    "    nwalkers=32,  # MCMC算法中的参数\n",
    "    nburn=100,  # 但是使用的其实是默认参数\n",
    "    nrun=500,\n",
    "    # threads=32,  # 使用的cpu数\n",
    ")\n"
   ]
  },
  {
   "cell_type": "code",
   "execution_count": 114,
   "metadata": {},
   "outputs": [],
   "source": [
    "# 画出拟合能谱\n",
    "figure_fit = naima.plot_fit(sampler_3,\n",
    "                            sed=True,\n",
    "                            e_unit=u.eV,\n",
    "                            e_range=[1e9*u.eV,4e14*u.eV],\n",
    "                            last_step=False,\n",
    "                            # ML_info=True,\n",
    "                            plotresiduals=True,\n",
    "                            confs=[1,2],                   # 是否画出置信区间\n",
    "                            plotdata=True,\n",
    "                            label=\"Hadronic\"\n",
    "                           )\n",
    "plt.savefig(\"/home2/hky/github/Gamma_Energy/J1849/naima/tutorial_PP_fit.png\")"
   ]
  },
  {
   "cell_type": "code",
   "execution_count": 113,
   "metadata": {},
   "outputs": [
    {
     "name": "stderr",
     "output_type": "stream",
     "text": [
      "INFO:astropy:Plotting chain of parameter log10(norm)...\n",
      "INFO:astropy:-------------------log10(norm)--------------------\n",
      "          log10(norm) = $33.91^{+0.10}_{-0.13}$\n",
      "                 norm = $(8 \\pm 2)\\times10^{33}$\n"
     ]
    },
    {
     "name": "stdout",
     "output_type": "stream",
     "text": [
      "INFO: Plotting chain of parameter log10(norm)... [naima.analysis]\n",
      "INFO: -------------------log10(norm)--------------------\n",
      "          log10(norm) = $33.91^{+0.10}_{-0.13}$\n",
      "                 norm = $(8 \\pm 2)\\times10^{33}$ [naima.plot]\n"
     ]
    },
    {
     "name": "stderr",
     "output_type": "stream",
     "text": [
      "INFO:astropy:Plotting chain of parameter index...\n",
      "INFO:astropy:----------------------index-----------------------\n",
      "          index = $1.91^{+0.17}_{-0.3}$\n"
     ]
    },
    {
     "name": "stdout",
     "output_type": "stream",
     "text": [
      "INFO: Plotting chain of parameter index... [naima.analysis]\n",
      "INFO: ----------------------index-----------------------\n",
      "          index = $1.91^{+0.17}_{-0.3}$ [naima.plot]\n"
     ]
    },
    {
     "name": "stderr",
     "output_type": "stream",
     "text": [
      "INFO:astropy:Plotting chain of parameter log10(cutoff)...\n",
      "INFO:astropy:------------------log10(cutoff)-------------------\n",
      "          log10(cutoff) = $3.2^{+0.7}_{-0.5}$\n",
      "                 cutoff = $(1.6^{+7}_{-1.1})\\times10^{3}$\n"
     ]
    },
    {
     "name": "stdout",
     "output_type": "stream",
     "text": [
      "INFO: Plotting chain of parameter log10(cutoff)... [naima.analysis]\n",
      "INFO: ------------------log10(cutoff)-------------------\n",
      "          log10(cutoff) = $3.2^{+0.7}_{-0.5}$\n",
      "                 cutoff = $(1.6^{+7}_{-1.1})\\times10^{3}$ [naima.plot]\n"
     ]
    },
    {
     "name": "stderr",
     "output_type": "stream",
     "text": [
      "INFO:astropy:Plotting corner plot...\n"
     ]
    },
    {
     "name": "stdout",
     "output_type": "stream",
     "text": [
      "INFO: Plotting corner plot... [naima.analysis]\n"
     ]
    },
    {
     "name": "stderr",
     "output_type": "stream",
     "text": [
      "INFO:astropy:Plotting Spectrum...\n"
     ]
    },
    {
     "name": "stdout",
     "output_type": "stream",
     "text": [
      "INFO: Plotting Spectrum... [naima.analysis]\n"
     ]
    },
    {
     "name": "stderr",
     "output_type": "stream",
     "text": [
      "\n",
      "WARNING UserWarning: Attempt to set non-positive xlim on a log-scaled axis will be ignored.\n",
      "\n",
      "INFO:astropy:Plotting Electron energy distribution...\n",
      "WARNING: plot_blob failed for Electron energy distribution: cannot convert float NaN to integer [naima.analysis]\n",
      "WARNING:astropy:plot_blob failed for Electron energy distribution: cannot convert float NaN to integer\n"
     ]
    },
    {
     "name": "stdout",
     "output_type": "stream",
     "text": [
      "INFO: Plotting Electron energy distribution... [naima.analysis]\n"
     ]
    }
   ],
   "source": [
    "# 对上面计算的一些图保存\n",
    "naima.save_diagnostic_plots(\n",
    "    \"./naima/tutorial_PP\",\n",
    "    sampler_3,\n",
    "    blob_labels=[\n",
    "        \"Spectrum\",\n",
    "        \"Electron energy distribution\",\n",
    "        \"$W_e (E_e>1$ TeV)\",\n",
    "    ],\n",
    ")"
   ]
  },
  {
   "cell_type": "code",
   "execution_count": null,
   "metadata": {},
   "outputs": [
    {
     "data": {
      "text/html": [
       "<div><i>Table length=6</i>\n",
       "<table id=\"table140707277100992\" class=\"table-striped table-bordered table-condensed\">\n",
       "<thead><tr><th>label</th><th>median</th><th>unc_lo</th><th>unc_hi</th></tr></thead>\n",
       "<thead><tr><th>bytes72</th><th>float64</th><th>float64</th><th>float64</th></tr></thead>\n",
       "<tr><td>log10(norm)</td><td>3.8991029906495243</td><td>0.13141834786562745</td><td>0.09739757950777106</td></tr>\n",
       "<tr><td>norm</td><td>7926.892902839143</td><td>2069.7658778502773</td><td>1992.853513940834</td></tr>\n",
       "<tr><td>index</td><td>1.9010655372735665</td><td>0.214167445975308</td><td>0.14887826155811812</td></tr>\n",
       "<tr><td>log10(cutoff)</td><td>3.2554957836683465</td><td>0.3957816394055027</td><td>0.6599749863280757</td></tr>\n",
       "<tr><td>cutoff</td><td>1800.9256501380664</td><td>1076.9663621066386</td><td>6430.418693336145</td></tr>\n",
       "<tr><td>blob1</td><td>nan</td><td>nan</td><td>nan</td></tr>\n",
       "</table></div>"
      ],
      "text/plain": [
       "<Table length=6>\n",
       "    label           median              unc_lo              unc_hi      \n",
       "   bytes72         float64             float64             float64      \n",
       "------------- ------------------ ------------------- -------------------\n",
       "  log10(norm) 3.8991029906495243 0.13141834786562745 0.09739757950777106\n",
       "         norm  7926.892902839143  2069.7658778502773   1992.853513940834\n",
       "        index 1.9010655372735665   0.214167445975308 0.14887826155811812\n",
       "log10(cutoff) 3.2554957836683465  0.3957816394055027  0.6599749863280757\n",
       "       cutoff 1800.9256501380664  1076.9663621066386   6430.418693336145\n",
       "        blob1                nan                 nan                 nan"
      ]
     },
     "execution_count": 57,
     "metadata": {},
     "output_type": "execute_result"
    }
   ],
   "source": [
    "result_hadronic"
   ]
  },
  {
   "cell_type": "code",
   "execution_count": null,
   "metadata": {},
   "outputs": [],
   "source": []
  }
 ],
 "metadata": {
  "kernelspec": {
   "display_name": "naima",
   "language": "python",
   "name": "naima"
  },
  "language_info": {
   "codemirror_mode": {
    "name": "ipython",
    "version": 3
   },
   "file_extension": ".py",
   "mimetype": "text/x-python",
   "name": "python",
   "nbconvert_exporter": "python",
   "pygments_lexer": "ipython3",
   "version": "3.9.16"
  },
  "orig_nbformat": 4
 },
 "nbformat": 4,
 "nbformat_minor": 2
}
