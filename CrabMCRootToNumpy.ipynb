{
 "cells": [
  {
   "cell_type": "code",
   "execution_count": 1,
   "metadata": {},
   "outputs": [
    {
     "name": "stderr",
     "output_type": "stream",
     "text": [
      "ERROR in cling::CIFactory::createCI(): cannot extract standard library include paths!\n",
      "Invoking:\n",
      "  LC_ALL=C x86_64-conda-linux-gnu-c++  -O3 -DNDEBUG -xc++ -E -v /dev/null 2>&1 | sed -n -e '/^.include/,${' -e '/^ \\/.*++/p' -e '}'\n",
      "Results was:\n",
      "With exit code 0\n",
      "sh: 1: root-config: not found\n",
      "Error in <TUnixSystem::GetFromPipe>: command \"root-config --has-dataframe\" returned 32512\n"
     ]
    },
    {
     "name": "stdout",
     "output_type": "stream",
     "text": [
      "Welcome to JupyROOT 6.28/00\n"
     ]
    }
   ],
   "source": [
    "import ROOT\n",
    "import numpy as np\n",
    "import matplotlib.pyplot as plt\n"
   ]
  },
  {
   "cell_type": "code",
   "execution_count": 2,
   "metadata": {},
   "outputs": [],
   "source": [
    "f = ROOT.TFile.Open(\"~/Data/MCdata/RESULT2.root\")"
   ]
  },
  {
   "cell_type": "code",
   "execution_count": 10,
   "metadata": {},
   "outputs": [],
   "source": [
    "theta = list()\n",
    "phi = list()\n",
    "sigma = list()\n",
    "cx = list()\n",
    "cy = list()\n",
    "sumpf = list()\n",
    "summd = list()\n",
    "mr1 = list()\n",
    "ne = list()\n",
    "age = list()\n",
    "pritheta = list()\n",
    "priphi = list()\n",
    "prie = list()\n",
    "inout = list()\n"
   ]
  },
  {
   "cell_type": "code",
   "execution_count": 11,
   "metadata": {},
   "outputs": [],
   "source": [
    "for event in f.asresult:\n",
    "    theta.append(event.theta)\n",
    "    phi.append(event.phi)\n",
    "    sigma.append(event.sigma)\n",
    "    cx.append(event.cx)\n",
    "    cy.append(event.cy)\n",
    "    sumpf.append(event.sumpf)\n",
    "    summd.append(event.summd)\n",
    "    mr1.append(event.mr1)\n",
    "    ne.append(event.ne)\n",
    "    age.append(event.age)\n",
    "    pritheta.append(event.pritheta)\n",
    "    priphi.append(event.priphi)\n",
    "    prie.append(event.prie)\n",
    "    inout.append(event.inout)"
   ]
  },
  {
   "cell_type": "code",
   "execution_count": 12,
   "metadata": {},
   "outputs": [],
   "source": [
    "theta = np.array(theta)\n",
    "phi = np.array(phi)\n",
    "sigma = np.array(sigma)\n",
    "cx = np.array(cx)\n",
    "cy = np.array(cy)\n",
    "sumpf = np.array(sumpf)\n",
    "summd = np.array(summd)\n",
    "mr1 = np.array(mr1)\n",
    "ne = np.array(ne)\n",
    "age = np.array(age)\n",
    "pritheta = np.array(pritheta)\n",
    "priphi = np.array(priphi)\n",
    "prie = np.array(prie)\n",
    "inout = np.array(inout)"
   ]
  },
  {
   "cell_type": "code",
   "execution_count": 13,
   "metadata": {},
   "outputs": [],
   "source": [
    "priphi = np.rad2deg(priphi)\n",
    "pritheta = np.rad2deg(pritheta)\n",
    "priphi = 180-priphi\n",
    "priphi[priphi > 180] -= 360\n"
   ]
  },
  {
   "cell_type": "code",
   "execution_count": 29,
   "metadata": {},
   "outputs": [],
   "source": [
    "np.savez_compressed(\"./MCdata/CrabMCData.npz\",\n",
    "                    theta=theta,\n",
    "                    phi=phi,\n",
    "                    sigma=sigma,\n",
    "                    cx=cx,\n",
    "                    cy=cy,\n",
    "                    sumpf=sumpf,\n",
    "                    summd=summd,\n",
    "                    mr1=mr1,\n",
    "                    ne=ne,\n",
    "                    age=age,\n",
    "                    pritheta=pritheta,\n",
    "                    priphi=priphi,\n",
    "                    prie=prie,\n",
    "                    inout=inout,\n",
    "                    )\n"
   ]
  },
  {
   "cell_type": "code",
   "execution_count": null,
   "metadata": {},
   "outputs": [],
   "source": []
  }
 ],
 "metadata": {
  "kernelspec": {
   "display_name": "root_env",
   "language": "python",
   "name": "root_env"
  },
  "language_info": {
   "codemirror_mode": {
    "name": "ipython",
    "version": 3
   },
   "file_extension": ".py",
   "mimetype": "text/x-python",
   "name": "python",
   "nbconvert_exporter": "python",
   "pygments_lexer": "ipython3",
   "version": "3.11.0"
  },
  "orig_nbformat": 4
 },
 "nbformat": 4,
 "nbformat_minor": 2
}
