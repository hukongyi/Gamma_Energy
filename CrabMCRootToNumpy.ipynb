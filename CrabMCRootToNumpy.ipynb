{
 "cells": [
  {
   "cell_type": "code",
   "execution_count": 1,
   "metadata": {},
   "outputs": [
    {
     "name": "stdout",
     "output_type": "stream",
     "text": [
      "Welcome to JupyROOT 6.28/00\n"
     ]
    }
   ],
   "source": [
    "import ROOT\n",
    "import numpy as np\n",
    "import matplotlib.pyplot as plt\n",
    "from scipy.special import gamma\n",
    "from math import pi"
   ]
  },
  {
   "cell_type": "code",
   "execution_count": 2,
   "metadata": {},
   "outputs": [],
   "source": [
    "def getS50(ne: np.ndarray, s: np.ndarray):\n",
    "    \"\"\"Get S50 from NKG function.\n",
    "\n",
    "    Input:\n",
    "        ne: Ne of Event.\n",
    "        s: age of Event.\n",
    "\n",
    "    Output:\n",
    "        S50\n",
    "    \"\"\"\n",
    "    rm = 130.\n",
    "    r = 50.\n",
    "    nr = ne / (rm * rm)\n",
    "    gg1 = gamma(4.5 - s)\n",
    "    gg2 = 2 * pi * gamma(s) * gamma(4.5 - 2 * s)\n",
    "    rr1 = pow(r / rm, s - 2)\n",
    "    rr2 = pow(1 + r / rm, s - 4.5)\n",
    "    return nr * gg1 / gg2 * rr1 * rr2"
   ]
  },
  {
   "cell_type": "code",
   "execution_count": 3,
   "metadata": {},
   "outputs": [],
   "source": [
    "f = ROOT.TFile.Open(\"~/Data/MCdata/RESULT2.root\")"
   ]
  },
  {
   "cell_type": "code",
   "execution_count": 4,
   "metadata": {},
   "outputs": [],
   "source": [
    "nch=list()\n",
    "theta = list()\n",
    "phi = list()\n",
    "sigma = list()\n",
    "cx = list()\n",
    "cy = list()\n",
    "sumpf = list()\n",
    "summd = list()\n",
    "mr1 = list()\n",
    "ne = list()\n",
    "age = list()\n",
    "pritheta = list()\n",
    "priphi = list()\n",
    "prie = list()\n",
    "inout = list()"
   ]
  },
  {
   "cell_type": "code",
   "execution_count": 5,
   "metadata": {},
   "outputs": [],
   "source": [
    "for event in f.asresult:\n",
    "    nch.append(event.nch)\n",
    "    theta.append(event.theta)\n",
    "    phi.append(event.phi)\n",
    "    sigma.append(event.sigma)\n",
    "    cx.append(event.cx)\n",
    "    cy.append(event.cy)\n",
    "    sumpf.append(event.sumpf)\n",
    "    summd.append(event.summd)\n",
    "    mr1.append(event.mr1)\n",
    "    ne.append(event.ne)\n",
    "    age.append(event.age)\n",
    "    pritheta.append(event.pritheta)\n",
    "    priphi.append(event.priphi)\n",
    "    prie.append(event.prie)\n",
    "    inout.append(event.inout)"
   ]
  },
  {
   "cell_type": "code",
   "execution_count": 6,
   "metadata": {},
   "outputs": [],
   "source": [
    "nch = np.array(nch)\n",
    "theta = np.array(theta)\n",
    "phi = np.array(phi)\n",
    "sigma = np.array(sigma)\n",
    "cx = np.array(cx)\n",
    "cy = np.array(cy)\n",
    "sumpf = np.array(sumpf)\n",
    "summd = np.array(summd)\n",
    "mr1 = np.array(mr1)\n",
    "ne = np.array(ne)\n",
    "age = np.array(age)\n",
    "pritheta = np.array(pritheta)\n",
    "priphi = np.array(priphi)\n",
    "prie = np.array(prie)\n",
    "inout = np.array(inout)\n",
    "S50 = getS50(ne,age)"
   ]
  },
  {
   "cell_type": "code",
   "execution_count": 7,
   "metadata": {},
   "outputs": [],
   "source": [
    "priphi = np.rad2deg(priphi)\n",
    "pritheta = np.rad2deg(pritheta)\n",
    "priphi = 180-priphi\n",
    "priphi[priphi > 180] -= 360"
   ]
  },
  {
   "cell_type": "code",
   "execution_count": 8,
   "metadata": {},
   "outputs": [],
   "source": [
    "np.savez_compressed(\"./MCdata/CrabMCData.npz\",\n",
    "                    nch=nch,\n",
    "                    theta=theta,\n",
    "                    phi=phi,\n",
    "                    sigma=sigma,\n",
    "                    cx=cx,\n",
    "                    cy=cy,\n",
    "                    sumpf=sumpf,\n",
    "                    summd=summd,\n",
    "                    mr1=mr1,\n",
    "                    ne=ne,\n",
    "                    age=age,\n",
    "                    pritheta=pritheta,\n",
    "                    priphi=priphi,\n",
    "                    prie=prie,\n",
    "                    inout=inout,\n",
    "                    S50=S50\n",
    "                    )\n"
   ]
  },
  {
   "cell_type": "code",
   "execution_count": 5,
   "metadata": {},
   "outputs": [],
   "source": [
    "f_pri = ROOT.TFile.Open(\"~/Data/MCdata/priall.root\")\n",
    "bins = np.logspace(1, 2.8, 10)\n",
    "hist = np.zeros(9)\n",
    "for event in f_pri.tpri:\n",
    "    for i in range(9):\n",
    "        if bins[i] < event.e/1000 < bins[i+1] and np.rad2deg(event.theta)<=40:\n",
    "            hist[i] += 1\n",
    "            # print(np.cos(event.theta))"
   ]
  },
  {
   "cell_type": "code",
   "execution_count": 6,
   "metadata": {},
   "outputs": [],
   "source": [
    "np.save(\"./MCdata/priEvent.npy\",hist)"
   ]
  },
  {
   "cell_type": "code",
   "execution_count": 7,
   "metadata": {},
   "outputs": [
    {
     "data": {
      "text/plain": [
       "array([115100.,  54620.,  26340.,  12090.,   6420.,   2840.,   1380.,\n",
       "          690.,    290.])"
      ]
     },
     "execution_count": 7,
     "metadata": {},
     "output_type": "execute_result"
    }
   ],
   "source": [
    "hist"
   ]
  },
  {
   "cell_type": "code",
   "execution_count": 1,
   "metadata": {},
   "outputs": [],
   "source": [
    "import numpy as np"
   ]
  },
  {
   "cell_type": "code",
   "execution_count": 2,
   "metadata": {},
   "outputs": [],
   "source": [
    "On = 686 \n",
    "Off = 513"
   ]
  },
  {
   "cell_type": "code",
   "execution_count": 3,
   "metadata": {},
   "outputs": [
    {
     "data": {
      "text/plain": [
       "34.62657938636157"
      ]
     },
     "execution_count": 3,
     "metadata": {},
     "output_type": "execute_result"
    }
   ],
   "source": [
    "np.sqrt(On+Off)"
   ]
  },
  {
   "cell_type": "code",
   "execution_count": 4,
   "metadata": {},
   "outputs": [
    {
     "data": {
      "text/plain": [
       "173"
      ]
     },
     "execution_count": 4,
     "metadata": {},
     "output_type": "execute_result"
    }
   ],
   "source": [
    "686-513"
   ]
  },
  {
   "cell_type": "code",
   "execution_count": 5,
   "metadata": {},
   "outputs": [
    {
     "data": {
      "text/plain": [
       "13.152946437965905"
      ]
     },
     "execution_count": 5,
     "metadata": {},
     "output_type": "execute_result"
    }
   ],
   "source": [
    "np.sqrt(173)"
   ]
  },
  {
   "cell_type": "code",
   "execution_count": 6,
   "metadata": {},
   "outputs": [
    {
     "data": {
      "text/plain": [
       "0.20015363807145417"
      ]
     },
     "execution_count": 6,
     "metadata": {},
     "output_type": "execute_result"
    }
   ],
   "source": [
    "34.62657938636157/173"
   ]
  },
  {
   "cell_type": "code",
   "execution_count": null,
   "metadata": {},
   "outputs": [],
   "source": []
  }
 ],
 "metadata": {
  "kernelspec": {
   "display_name": "root_env",
   "language": "python",
   "name": "root_env"
  },
  "language_info": {
   "codemirror_mode": {
    "name": "ipython",
    "version": 3
   },
   "file_extension": ".py",
   "mimetype": "text/x-python",
   "name": "python",
   "nbconvert_exporter": "python",
   "pygments_lexer": "ipython3",
   "version": "3.11.0"
  },
  "orig_nbformat": 4
 },
 "nbformat": 4,
 "nbformat_minor": 2
}
