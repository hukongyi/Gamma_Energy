{
 "cells": [
  {
   "cell_type": "code",
   "execution_count": 1,
   "metadata": {},
   "outputs": [],
   "source": [
    "import torch\n",
    "import torch.nn as nn\n",
    "import numpy as np\n",
    "from IPython import display\n",
    "import matplotlib.pyplot as plt\n",
    "from sklearn.model_selection import train_test_split\n",
    "from torch.utils.data import Dataset,DataLoader"
   ]
  },
  {
   "cell_type": "code",
   "execution_count": 2,
   "metadata": {},
   "outputs": [],
   "source": [
    "device = (\n",
    "    \"cuda\"\n",
    "    if torch.cuda.is_available()\n",
    "    else \"cpu\"\n",
    ")"
   ]
  },
  {
   "cell_type": "code",
   "execution_count": 3,
   "metadata": {},
   "outputs": [],
   "source": [
    "class MCDataset_log10energy(Dataset):\n",
    "    def __init__(self, npdata):\n",
    "        para_need = {\n",
    "            \"Matrix\",\"pred_log10energy\",\"log10Energy\"\n",
    "        }\n",
    "        self.MCdata = {key: npdata[key] for key in para_need}\n",
    "\n",
    "    def __len__(self):\n",
    "        return len(self.MCdata[\"pred_log10energy\"])\n",
    "\n",
    "    def __getitem__(self, index):\n",
    "        Matrix = self.MCdata[\"Matrix\"][index].astype(np.float32)\n",
    "        pred_log10energy = np.array(self.MCdata[\"pred_log10energy\"][index]).astype(np.float32)\n",
    "        log10energy = np.array(self.MCdata[\"log10Energy\"][index]).astype(np.float32)\n",
    "        return (\n",
    "            torch.from_numpy(Matrix),\n",
    "            torch.from_numpy(pred_log10energy),\n",
    "            torch.from_numpy(log10energy),\n",
    "        )\n"
   ]
  },
  {
   "cell_type": "code",
   "execution_count": 4,
   "metadata": {},
   "outputs": [],
   "source": [
    "npdata = np.load(\"/home2/hky/github/Gamma_Energy/AllSky_orginData/Data/train_cuted_data_CNN.npz\")\n",
    "train_index,test_index = train_test_split(range(len(npdata[\"nch\"])),random_state=42,test_size=0.1)\n",
    "npdata_train = {key: npdata[key][train_index] for key in npdata}\n",
    "npdata_test = {key: npdata[key][test_index] for key in npdata}\n",
    "\n",
    "MCdataset_train = MCDataset_log10energy(npdata_train)\n",
    "MCdataset_test = MCDataset_log10energy(npdata_test)\n",
    "\n",
    "train_dataloader = DataLoader(MCdataset_train,batch_size=512,shuffle=True)\n",
    "test_dataloader = DataLoader(MCdataset_test,batch_size=512,shuffle=True)"
   ]
  },
  {
   "cell_type": "code",
   "execution_count": 5,
   "metadata": {},
   "outputs": [],
   "source": [
    "def vgg_block(num_convs, in_channels, out_channels):\n",
    "    layers = []\n",
    "    for _ in range(num_convs):\n",
    "        layers.append(nn.Conv2d(in_channels, out_channels, kernel_size=3, padding=1))\n",
    "        layers.append(nn.ReLU())\n",
    "        in_channels = out_channels\n",
    "    layers.append(nn.MaxPool2d(kernel_size=2, stride=2))\n",
    "    return nn.Sequential(*layers)\n"
   ]
  },
  {
   "cell_type": "code",
   "execution_count": 15,
   "metadata": {},
   "outputs": [],
   "source": [
    "class NeuralNetworkVGG(nn.Module):\n",
    "    def __init__(self):\n",
    "        super(NeuralNetworkVGG, self).__init__()\n",
    "\n",
    "        self.flatten = nn.Flatten()\n",
    "        self.ReLu = nn.ReLU()\n",
    "        self.Dropout = nn.Dropout(0.5)\n",
    "\n",
    "        self.conv_blks = []\n",
    "        in_channels = 2\n",
    "        conv_arch = ((1, 16), (1, 32), (2, 64), (2, 128), (2, 128))\n",
    "        for num_convs, out_channels in conv_arch:\n",
    "            self.conv_blks.append(vgg_block(num_convs, in_channels, out_channels))\n",
    "            in_channels = out_channels\n",
    "\n",
    "        self.linear1 = nn.Linear(out_channels*1*1,128)\n",
    "        self.linear2 = nn.Linear(128,128)\n",
    "        self.linear3 = nn.Linear(128,1)\n",
    "        self.linear4 = nn.Linear(2,1)\n",
    "        self.Seq = nn.Sequential(*self.conv_blks,self.flatten,self.linear1,self.ReLu,self.Dropout,self.linear2,self.ReLu,self.Dropout,self.linear3)\n",
    "    \n",
    "    def forward(self,Matrix,pred_log10energy):\n",
    "        X = self.Seq(Matrix)\n",
    "        pred_log10energy = pred_log10energy.view(-1,1)\n",
    "        X = torch.cat([X,pred_log10energy],1)\n",
    "        print(X)\n",
    "        X = self.linear4(X)\n",
    "        return X.view(-1)\n",
    "\n",
    "        "
   ]
  },
  {
   "cell_type": "code",
   "execution_count": 16,
   "metadata": {},
   "outputs": [],
   "source": [
    "net = NeuralNetworkVGG().to(device)"
   ]
  },
  {
   "cell_type": "code",
   "execution_count": 17,
   "metadata": {},
   "outputs": [],
   "source": [
    "loss_fn = nn.MSELoss()\n",
    "optimizer = torch.optim.Adam(net.parameters(),lr=1e-3)"
   ]
  },
  {
   "cell_type": "code",
   "execution_count": 18,
   "metadata": {},
   "outputs": [],
   "source": [
    "def train(dataloader, net, loss_fn, optimizer):\n",
    "    net.train()\n",
    "    pred_list = list()\n",
    "    orgin_list = list()\n",
    "    for batch, (\n",
    "        Matrix,\n",
    "        pred_log10energy,\n",
    "        log10energy,\n",
    "    ) in enumerate(dataloader):\n",
    "        Matrix, pred_log10energy, log10energy = Matrix.to(device), pred_log10energy.to(device), log10energy.to(device)\n",
    "\n",
    "        pred = net(Matrix,pred_log10energy)\n",
    "        pred_list.append(pred)\n",
    "        orgin_list.append(log10energy)\n",
    "        loss = loss_fn(pred,log10energy)\n",
    "        optimizer.zero_grad()\n",
    "        loss.backward()\n",
    "        optimizer.step()\n",
    "    pred_list = torch.cat(pred_list)\n",
    "    orgin_list = torch.cat(orgin_list)\n",
    "    root_mean_squared_error = np.sqrt(loss_fn(pred_list,orgin_list).item())\n",
    "    return root_mean_squared_error\n",
    "\n",
    "\n",
    "def test(dataloader, net, loss_fn):\n",
    "    net.eval()\n",
    "    pred_list = list()\n",
    "    orgin_list = list()\n",
    "    for batch, (\n",
    "        Matrix,\n",
    "        pred_log10energy,\n",
    "        log10energy,\n",
    "    ) in enumerate(dataloader):\n",
    "        Matrix, pred_log10energy, log10energy = Matrix.to(device), pred_log10energy.to(device), log10energy.to(device)\n",
    "\n",
    "        pred = net(Matrix,pred_log10energy)\n",
    "        pred_list.append(pred)\n",
    "        orgin_list.append(log10energy)\n",
    "    pred_list = torch.cat(pred_list)\n",
    "    orgin_list = torch.cat(orgin_list)\n",
    "    root_mean_squared_error = np.sqrt(loss_fn(pred_list,orgin_list).item())\n",
    "    return root_mean_squared_error\n"
   ]
  },
  {
   "cell_type": "code",
   "execution_count": 19,
   "metadata": {},
   "outputs": [],
   "source": [
    "class Animator:\n",
    "    def __init__(\n",
    "        self,\n",
    "        xlabel=None,\n",
    "        ylabel=None,\n",
    "        legend=None,\n",
    "        xlim=None,\n",
    "        ylim=None,\n",
    "        xscale=\"linear\",\n",
    "        yscale=\"linear\",\n",
    "        fmts=(\"-\", \"m--\", \"g-.\", \"r:\"),\n",
    "        nrows=1,\n",
    "        ncols=1,\n",
    "        figsize=(8, 6),\n",
    "    ):\n",
    "        if legend is None:\n",
    "            legend = []\n",
    "        self.fig, self.axes = plt.subplots(nrows, ncols, figsize=figsize)\n",
    "        if nrows * ncols == 1:\n",
    "            self.axes = [\n",
    "                self.axes,\n",
    "            ]\n",
    "        self.legend = legend\n",
    "        self.xlabel = xlabel\n",
    "        self.ylabel = ylabel\n",
    "        self.xlim = xlim\n",
    "        self.ylim = ylim\n",
    "        self.xscale = xscale\n",
    "        self.yscale = yscale\n",
    "        self.fmts = fmts\n",
    "        self.X, self.Y = None, None\n",
    "\n",
    "    def add(self,x,y):\n",
    "        if not hasattr(y, \"__len__\"):\n",
    "            y = [y]\n",
    "        n = len(y)\n",
    "        if not hasattr(x, \"__len__\"):\n",
    "            x = [x] * n\n",
    "        if not self.X:\n",
    "            self.X = [[] for _ in range(n)]\n",
    "        if not self.Y:\n",
    "            self.Y = [[] for _ in range(n)]\n",
    "        for i, (a, b) in enumerate(zip(x, y)):\n",
    "            if a is not None and b is not None:\n",
    "                self.X[i].append(a)\n",
    "                self.Y[i].append(b)\n",
    "        self.axes[0].cla()\n",
    "        for x, y, fmt,label in zip(self.X, self.Y, self.fmts, self.legend):\n",
    "            self.axes[0].plot(x, y, fmt,label=label)\n",
    "        plt.xlabel(self.xlabel)\n",
    "        plt.ylabel(self.ylabel)\n",
    "        plt.xlim(self.xlim)\n",
    "        plt.ylim(self.ylim)\n",
    "        plt.xscale(self.xscale)\n",
    "        plt.yscale(self.yscale)\n",
    "        plt.legend(loc=1)\n",
    "        display.display(self.fig)\n",
    "        display.clear_output(wait=True)"
   ]
  },
  {
   "cell_type": "code",
   "execution_count": 20,
   "metadata": {},
   "outputs": [
    {
     "data": {
      "image/png": "[encoded data removed]",
      "text/plain": [
       "<Figure size 800x600 with 1 Axes>"
      ]
     },
     "metadata": {},
     "output_type": "display_data"
    }
   ],
   "source": [
    "num_epochs = 100\n",
    "animator = Animator(xlabel=\"epoch\",xlim=[1,num_epochs],ylim=[0,1],legend=[\"train loss\",\"test loss\"])\n",
    "for epochs in range(num_epochs):\n",
    "    root_mean_squared_error_train = train(train_dataloader, net, loss_fn, optimizer)\n",
    "    root_mean_squared_error_test = test(test_dataloader, net, loss_fn)\n",
    "    animator.add(epochs+1,[root_mean_squared_error_train,root_mean_squared_error_test])\n",
    "    # print(epochs,f\"{root_mean_squared_error_train:.3f}\",f\"{root_mean_squared_error_test:.3f}\")"
   ]
  },
  {
   "cell_type": "code",
   "execution_count": 21,
   "metadata": {},
   "outputs": [
    {
     "data": {
      "text/plain": [
       "0.25898792615386224"
      ]
     },
     "execution_count": 21,
     "metadata": {},
     "output_type": "execute_result"
    }
   ],
   "source": [
    "test(test_dataloader, net, loss_fn)"
   ]
  },
  {
   "cell_type": "code",
   "execution_count": null,
   "metadata": {},
   "outputs": [],
   "source": []
  }
 ],
 "metadata": {
  "kernelspec": {
   "display_name": "ag",
   "language": "python",
   "name": "python3"
  },
  "language_info": {
   "codemirror_mode": {
    "name": "ipython",
    "version": 3
   },
   "file_extension": ".py",
   "mimetype": "text/x-python",
   "name": "python",
   "nbconvert_exporter": "python",
   "pygments_lexer": "ipython3",
   "version": "3.9.16"
  },
  "orig_nbformat": 4
 },
 "nbformat": 4,
 "nbformat_minor": 2
}
