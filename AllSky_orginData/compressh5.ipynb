{
 "cells": [
  {
   "cell_type": "code",
   "execution_count": 1,
   "metadata": {},
   "outputs": [],
   "source": [
    "import h5py\n",
    "import numpy as np\n",
    "f = h5py.File('/home2/hky/github/Gamma_Energy/AllSky_orginData/Data/gamma_allsky.h5', 'r')"
   ]
  },
  {
   "cell_type": "code",
   "execution_count": 2,
   "metadata": {},
   "outputs": [],
   "source": [
    "cuted = np.where((f['theta'][:] < 60) & (\n",
    "    f['inout'][:] == 1) & (f['age'][:] > 0.31) & (f['age'][:] < 1.59) & (f['sigma'][:] < 1.) & (f['ne'][:] > 1e4))\n"
   ]
  },
  {
   "cell_type": "code",
   "execution_count": 3,
   "metadata": {},
   "outputs": [],
   "source": [
    "f_compress = h5py.File(\n",
    "    \"/home2/hky/github/Gamma_Energy/AllSky_orginData/Data/gamma_allsky_compress_cuted.h5\", \"w\"\n",
    ")"
   ]
  },
  {
   "cell_type": "code",
   "execution_count": 4,
   "metadata": {},
   "outputs": [
    {
     "name": "stdout",
     "output_type": "stream",
     "text": [
      "MD\n",
      "Tibet\n",
      "age\n",
      "cx\n",
      "cy\n",
      "inout\n",
      "mr1\n",
      "nch\n",
      "ne\n",
      "phi\n",
      "pricx\n",
      "pricy\n",
      "prie\n",
      "prie_num\n",
      "priid\n",
      "prik\n",
      "prine\n",
      "priphi\n",
      "pritheta\n",
      "sigma\n",
      "summd\n",
      "sumpd\n",
      "sumpf\n",
      "theta\n"
     ]
    }
   ],
   "source": [
    "for key in f.keys():\n",
    "    print(key)\n",
    "    tmp = f[key][:]\n",
    "    # 保存数组到h5文件中，使用相同的名字\n",
    "    f_compress.create_dataset(key, data=tmp[cuted], chunks=True, compression=\"gzip\")\n"
   ]
  },
  {
   "cell_type": "code",
   "execution_count": null,
   "metadata": {},
   "outputs": [],
   "source": [
    "f_compress.close()\n",
    "f.close()"
   ]
  },
  {
   "cell_type": "code",
   "execution_count": null,
   "metadata": {},
   "outputs": [],
   "source": []
  }
 ],
 "metadata": {
  "kernelspec": {
   "display_name": "Python 3 (ipykernel)",
   "language": "python",
   "name": "python3"
  },
  "language_info": {
   "codemirror_mode": {
    "name": "ipython",
    "version": 3
   },
   "file_extension": ".py",
   "mimetype": "text/x-python",
   "name": "python",
   "nbconvert_exporter": "python",
   "pygments_lexer": "ipython3",
   "version": "3.9.16"
  }
 },
 "nbformat": 4,
 "nbformat_minor": 2
}
