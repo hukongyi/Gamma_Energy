{
 "cells": [
  {
   "cell_type": "code",
   "execution_count": 1,
   "id": "a4734ef4",
   "metadata": {},
   "outputs": [],
   "source": [
    "import healpy as hp\n",
    "import numpy as np\n",
    "import pandas as pd\n",
    "import matplotlib.pyplot as plt\n",
    "import os\n",
    "import uproot\n",
    "from autogluon.tabular import TabularPredictor\n",
    "from astropy import units as u\n",
    "from astropy.coordinates import EarthLocation, SkyCoord\n",
    "from astropy.time import Time\n",
    "from getS50 import getS50\n",
    "\n",
    "from scipy.stats import poisson\n",
    "from scipy.optimize import minimize\n",
    "from optimparallel import minimize_parallel\n",
    "from tqdm.notebook import tqdm"
   ]
  },
  {
   "cell_type": "code",
   "execution_count": 2,
   "id": "8a867f1c",
   "metadata": {},
   "outputs": [],
   "source": [
    "def corrdinateToYBJ(Ra, Dec, mjd):\n",
    "    \"\"\"Transform J2000 to YBJ ALTAZ\n",
    "\n",
    "    Args:\n",
    "        Ra (np.array): Ra in J2000\n",
    "        Dec (np.array): Dec in J2000\n",
    "        mjd (np.array): mjd\n",
    "    Returns:\n",
    "        np.array: List of fo8ur np.array, first is theta with degree, second is phi with degree\n",
    "    \"\"\"\n",
    "    YBJ_Location = EarthLocation(\n",
    "        lat=30.102 * u.deg, lon=90.522 * u.deg, height=4300 * u.m\n",
    "    )\n",
    "    mjdtime = Time(mjd, format=\"mjd\", location=YBJ_Location)\n",
    "    newAltAzcoordiantes = SkyCoord(\n",
    "        ra=Ra * u.deg,\n",
    "        dec=Dec * u.deg,\n",
    "        obstime=mjdtime,\n",
    "        frame=\"icrs\",\n",
    "        location=YBJ_Location,\n",
    "    )\n",
    "    # LST = mjdtime.sidereal_time(\"apparent\").degree\n",
    "    alt = newAltAzcoordiantes.altaz.alt.degree\n",
    "    az = newAltAzcoordiantes.altaz.az.degree\n",
    "    return [\n",
    "        90 - alt,\n",
    "        az,\n",
    "    ]"
   ]
  },
  {
   "cell_type": "code",
   "execution_count": 3,
   "id": "9cdd7428",
   "metadata": {},
   "outputs": [],
   "source": [
    "# 计算J1857视场中时间\n",
    "number = 100000\n",
    "mjd = np.linspace(56710, 56715, number)\n",
    "theta, phi = corrdinateToYBJ(0, 2.5, mjd)\n",
    "time_rate = np.sum(theta < 60) / number"
   ]
  },
  {
   "cell_type": "code",
   "execution_count": 4,
   "id": "bd8496cc",
   "metadata": {},
   "outputs": [],
   "source": [
    "NSIDE = 2**9\n",
    "NPIX = hp.nside2npix(NSIDE)\n",
    "isgamma_bin = [0.1, 0.2, 0.4, 0.6, 0.8, 0.9, 0.95, 0.97, 0.98, 0.99]\n",
    "Energybin = np.logspace(1.2, 2.2, 6)\n",
    "priEnergybin = np.logspace(0.6, 4, 18)\n",
    "Energycenter = 10 ** ((np.log10(Energybin[1:]) + np.log10(Energybin[:-1])) / 2)"
   ]
  },
  {
   "cell_type": "code",
   "execution_count": 5,
   "id": "d8250f6d",
   "metadata": {},
   "outputs": [],
   "source": [
    "# 读取mc数据，用于计算PSF\n",
    "MCdata = uproot.open(\"/home2/hky/github/Gamma_Energy/MCdata/data_gamma_026/RESULT.root\")"
   ]
  },
  {
   "cell_type": "code",
   "execution_count": 6,
   "id": "d3c8a520",
   "metadata": {},
   "outputs": [],
   "source": [
    "paraneed = [\n",
    "    \"nch\",\n",
    "    \"inout\",\n",
    "    \"theta\",\n",
    "    \"phi\",\n",
    "    \"sigma\",\n",
    "    \"cx\",\n",
    "    \"cy\",\n",
    "    \"sumpf\",\n",
    "    \"summd\",\n",
    "    \"mr1\",\n",
    "    \"ne\",\n",
    "    \"age\",\n",
    "    \"pritheta\",\n",
    "    \"priphi\",\n",
    "    \"prie\",\n",
    "]"
   ]
  },
  {
   "cell_type": "code",
   "execution_count": 7,
   "id": "f189342f",
   "metadata": {},
   "outputs": [],
   "source": [
    "MCdata = MCdata[\"asresult\"].arrays(paraneed, library=\"np\")\n",
    "MCdata[\"S50\"] = getS50(MCdata[\"ne\"], MCdata[\"age\"])\n",
    "MCdatacuted = np.where(\n",
    "    (MCdata[\"nch\"] >= 16)\n",
    "    & (MCdata[\"sigma\"] < 1)\n",
    "    & (MCdata[\"inout\"] == 1)\n",
    "    & (MCdata[\"age\"] > 0.301)\n",
    "    & (MCdata[\"age\"] < 1.599)\n",
    "    & ((MCdata[\"summd\"] < 0.4) | (MCdata[\"summd\"] < 1.2e-3 * MCdata[\"sumpf\"] ** 1.6))\n",
    "    & (MCdata[\"theta\"] < 60)\n",
    "    & (MCdata[\"sumpf\"] > 10**2.2)\n",
    ")\n",
    "\n",
    "MCdata = {key: MCdata[key][MCdatacuted] for key in MCdata.keys()}\n",
    "MCdata[\"pritheta\"] = np.rad2deg(MCdata[\"pritheta\"])\n",
    "MCdata[\"priphi\"] = np.rad2deg(MCdata[\"priphi\"])\n",
    "MCdata[\"priphi\"] = 180 - MCdata[\"priphi\"]\n",
    "MCdata[\"priphi\"][MCdata[\"priphi\"] > 180] = (\n",
    "    MCdata[\"priphi\"][MCdata[\"priphi\"] > 180] - 360\n",
    ")\n",
    "MCdata[\"prie\"] = MCdata[\"prie\"] / 1000"
   ]
  },
  {
   "cell_type": "code",
   "execution_count": 8,
   "id": "7962d77d",
   "metadata": {},
   "outputs": [],
   "source": [
    "# 读取之前的模型\n",
    "Pgamma_high_predictor = TabularPredictor.load(\"./autogloun_model/highEnergy_fewcolumn/\")\n",
    "Energy_high_predictor = TabularPredictor.load(\"./autogloun_model/highEnergy_Energy\")\n",
    "deltatheta_high_predictor = TabularPredictor.load(\n",
    "    \"./autogloun_model/highEnergy_deltatheta/\"\n",
    ")\n",
    "deltaphi_high_predictor = TabularPredictor.load(\n",
    "    \"./autogloun_model/highEnergy_deltaphi/\"\n",
    ")"
   ]
  },
  {
   "cell_type": "code",
   "execution_count": 9,
   "id": "f728b7e9",
   "metadata": {},
   "outputs": [],
   "source": [
    "# 做新的cut以及角度修正\n",
    "MCdata_df = pd.DataFrame(MCdata)\n",
    "for para in [\"ne\", \"S50\", \"sumpf\"]:\n",
    "    MCdata_df[para] = np.log10(MCdata_df[para])\n",
    "MCdata[\"isgamma\"] = Pgamma_high_predictor.predict_proba(MCdata_df)[1].to_numpy()\n",
    "MCdata[\"energy\"] = 10 ** Energy_high_predictor.predict(MCdata_df).to_numpy() / 1000\n",
    "MCdata[\"newtheta\"] = (\n",
    "    MCdata[\"theta\"] - deltatheta_high_predictor.predict(MCdata_df).to_numpy()\n",
    ")\n",
    "MCdata[\"newphi\"] = MCdata[\"phi\"] - deltaphi_high_predictor.predict(MCdata_df).to_numpy()"
   ]
  },
  {
   "cell_type": "code",
   "execution_count": 10,
   "id": "5774802a",
   "metadata": {},
   "outputs": [
    {
     "data": {
      "text/plain": [
       "array([ 52.69991 , 247.43805 , 287.9703  , ..., 199.39404 , 227.75362 ,\n",
       "        22.188942], dtype=float32)"
      ]
     },
     "execution_count": 10,
     "metadata": {},
     "output_type": "execute_result"
    }
   ],
   "source": [
    "MCdata[\"energy\"]"
   ]
  },
  {
   "cell_type": "code",
   "execution_count": 15,
   "id": "ed43a5ce",
   "metadata": {},
   "outputs": [
    {
     "data": {
      "image/png": "[encoded data removed]",
      "text/plain": [
       "<Figure size 640x480 with 1 Axes>"
      ]
     },
     "metadata": {},
     "output_type": "display_data"
    }
   ],
   "source": [
    "hist_pred=plt.hist(MCdata[\"energy\"], alpha=0.5, bins=priEnergybin, label=\"energy_pred\")\n",
    "hist_orig=plt.hist(MCdata[\"prie\"], alpha=0.5, bins=priEnergybin, label=\"energy_orig\")\n",
    "plt.yscale(\"log\")\n",
    "plt.xscale(\"log\")\n",
    "plt.legend()\n",
    "plt.show()"
   ]
  },
  {
   "cell_type": "code",
   "execution_count": 23,
   "id": "ef777f8b",
   "metadata": {},
   "outputs": [
    {
     "name": "stderr",
     "output_type": "stream",
     "text": [
      "/tmp/ipykernel_1983636/382069704.py:1: RuntimeWarning: divide by zero encountered in divide\n",
      "  plt.plot((hist_orig[1][1:]+hist_orig[1][:-1])/2,hist_orig[0]/hist_pred[0])\n"
     ]
    },
    {
     "data": {
      "image/png": "[encoded data removed]",
      "text/plain": [
       "<Figure size 640x480 with 1 Axes>"
      ]
     },
     "metadata": {},
     "output_type": "display_data"
    }
   ],
   "source": [
    "plt.plot((hist_orig[1][1:]+hist_orig[1][:-1])/2,hist_orig[0]/hist_pred[0])\n",
    "plt.xscale(\"log\")\n",
    "plt.ylim(0,2)\n",
    "plt.show()\n"
   ]
  },
  {
   "cell_type": "code",
   "execution_count": 24,
   "id": "80f39a1e",
   "metadata": {},
   "outputs": [],
   "source": [
    "PSF = np.zeros([len(isgamma_bin), len(Energybin) - 1, 100000])\n",
    "b = np.linspace(0, np.pi, 100000 + 1)"
   ]
  },
  {
   "cell_type": "code",
   "execution_count": 25,
   "id": "68f46975",
   "metadata": {},
   "outputs": [],
   "source": [
    "# 计算每一个事例的角度差\n",
    "distance = hp.rotator.angdist(\n",
    "    hp.ang2vec(np.deg2rad(MCdata[\"newtheta\"]), np.deg2rad(MCdata[\"newphi\"])),\n",
    "    hp.ang2vec(np.deg2rad(MCdata[\"pritheta\"]), np.deg2rad(MCdata[\"priphi\"])),\n",
    ")"
   ]
  },
  {
   "cell_type": "code",
   "execution_count": 26,
   "id": "2a2d676a",
   "metadata": {},
   "outputs": [],
   "source": [
    "for i in range(len(isgamma_bin)):\n",
    "    for j in range(len(Energybin) - 1):\n",
    "        PSF[i, j], _ = np.histogram(\n",
    "            distance[\n",
    "                np.where(\n",
    "                    (MCdata[\"isgamma\"] > isgamma_bin[i])\n",
    "                    & (MCdata[\"energy\"] > Energybin[j])\n",
    "                    & (MCdata[\"energy\"] < Energybin[j + 1])\n",
    "                )\n",
    "            ],\n",
    "            bins=b,\n",
    "        )"
   ]
  },
  {
   "cell_type": "code",
   "execution_count": 27,
   "id": "2afd3e37",
   "metadata": {},
   "outputs": [
    {
     "data": {
      "application/vnd.jupyter.widget-view+json": {
       "model_id": "65e93478fcc2481a92e6c16c1ad30c5b",
       "version_major": 2,
       "version_minor": 0
      },
      "text/plain": [
       "  0%|          | 0/10 [00:00<?, ?it/s]"
      ]
     },
     "metadata": {},
     "output_type": "display_data"
    }
   ],
   "source": [
    "beam = np.zeros([len(isgamma_bin), len(Energybin) - 1, 3 * NSIDE])\n",
    "for i in tqdm(range(len(isgamma_bin))):\n",
    "    for j in range(len(Energybin) - 1):\n",
    "        beam[i, j] = hp.sphtfunc.beam2bl(\n",
    "            PSF[i, j] / (b[1:] ** 2 - b[:-1] ** 2) / np.pi,\n",
    "            (b[:-1] + b[1:]) / 2,\n",
    "            NSIDE * 3 - 1,\n",
    "        )"
   ]
  },
  {
   "cell_type": "code",
   "execution_count": 28,
   "id": "7353c2c3",
   "metadata": {},
   "outputs": [
    {
     "data": {
      "application/vnd.jupyter.widget-view+json": {
       "model_id": "cc3b2083703e4887960acb12a00ad256",
       "version_major": 2,
       "version_minor": 0
      },
      "text/plain": [
       "  0%|          | 0/10 [00:00<?, ?it/s]"
      ]
     },
     "metadata": {},
     "output_type": "display_data"
    },
    {
     "name": "stderr",
     "output_type": "stream",
     "text": [
      "/tmp/ipykernel_1983636/3796542367.py:16: RuntimeWarning: invalid value encountered in divide\n",
      "  response[i, :, :] = response[i, :, :] / prie_hist\n"
     ]
    }
   ],
   "source": [
    "# 计算响应矩阵\n",
    "response = np.zeros([len(isgamma_bin), len(Energybin) - 1, len(priEnergybin) - 1])\n",
    "for i in tqdm(range(len(isgamma_bin))):\n",
    "    for j in range(len(priEnergybin) - 1):\n",
    "        response[i, :, j], _ = np.histogram(\n",
    "            MCdata[\"energy\"][\n",
    "                (MCdata[\"prie\"] > priEnergybin[j])\n",
    "                & (MCdata[\"prie\"] < priEnergybin[j + 1])\n",
    "                & (MCdata[\"isgamma\"] > isgamma_bin[i])\n",
    "            ],\n",
    "            bins=Energybin,\n",
    "        )\n",
    "    prie_hist, _ = np.histogram(\n",
    "        MCdata[\"prie\"][(MCdata[\"isgamma\"] > isgamma_bin[i])], bins=priEnergybin\n",
    "    )\n",
    "    response[i, :, :] = response[i, :, :] / prie_hist\n",
    "response[np.isnan(response)] = 0"
   ]
  },
  {
   "cell_type": "code",
   "execution_count": 29,
   "id": "4120c124",
   "metadata": {},
   "outputs": [
    {
     "data": {
      "application/vnd.jupyter.widget-view+json": {
       "model_id": "b38c8a81bda948f08fecd2724626927b",
       "version_major": 2,
       "version_minor": 0
      },
      "text/plain": [
       "  0%|          | 0/10 [00:00<?, ?it/s]"
      ]
     },
     "metadata": {},
     "output_type": "display_data"
    },
    {
     "name": "stdout",
     "output_type": "stream",
     "text": [
      "[1.00057593 1.         1.         1.         1.        ]\n",
      "[1.00059055 1.         1.         1.         1.        ]\n",
      "[1.00060926 1.         1.         1.         1.        ]\n",
      "[1.00062539 1.         1.         1.         1.        ]\n",
      "[1.0004787 1.        1.        1.        1.       ]\n",
      "[1. 1. 1. 1. 1.]\n",
      "[1. 1. 1. 1. 1.]\n",
      "[1. 1. 1. 1. 1.]\n",
      "[1. 1. 1. 1. 1.]\n",
      "[1. 1. 1. 1. 1.]\n"
     ]
    }
   ],
   "source": [
    "# 测试一下响应矩阵\n",
    "for i in tqdm(range(len(isgamma_bin))):\n",
    "    energy_hist, _ = np.histogram(\n",
    "        MCdata[\"energy\"][(MCdata[\"isgamma\"] > isgamma_bin[i])], bins=Energybin\n",
    "    )\n",
    "    prie_hist, _ = np.histogram(\n",
    "        MCdata[\"prie\"][(MCdata[\"isgamma\"] > isgamma_bin[i])], bins=priEnergybin\n",
    "    )\n",
    "    print(energy_hist / np.matmul(response[i], prie_hist))"
   ]
  },
  {
   "cell_type": "code",
   "execution_count": 30,
   "id": "6dc12dd6",
   "metadata": {},
   "outputs": [],
   "source": [
    "# 读入pri数据，计算效率\n",
    "pridata = uproot.open(\n",
    "    \"/home2/hky/github/Gamma_Energy/MCdata/data_gamma_026/priall.root\"\n",
    ")\n",
    "pridata = pridata[\"tpri\"].arrays(pridata[\"tpri\"].keys(), library=\"np\")"
   ]
  },
  {
   "cell_type": "code",
   "execution_count": 31,
   "id": "28956a7f",
   "metadata": {},
   "outputs": [
    {
     "data": {
      "application/vnd.jupyter.widget-view+json": {
       "model_id": "644bbc6376e9437293a7601a6bd7c336",
       "version_major": 2,
       "version_minor": 0
      },
      "text/plain": [
       "  0%|          | 0/10 [00:00<?, ?it/s]"
      ]
     },
     "metadata": {},
     "output_type": "display_data"
    }
   ],
   "source": [
    "priorg_hist, _ = np.histogram(pridata[\"e\"] / 1000, bins=priEnergybin)\n",
    "eta = np.zeros([len(isgamma_bin), len(priEnergybin) - 1])\n",
    "for i in tqdm(range(len(isgamma_bin))):\n",
    "    prie_hist, _ = np.histogram(\n",
    "        MCdata[\"prie\"][(MCdata[\"isgamma\"] > isgamma_bin[i])], bins=priEnergybin\n",
    "    )\n",
    "    eta[i] = prie_hist / priorg_hist"
   ]
  },
  {
   "cell_type": "code",
   "execution_count": 32,
   "id": "b4de1d2e",
   "metadata": {},
   "outputs": [],
   "source": [
    "# 清内存\n",
    "del MCdata\n",
    "del pridata"
   ]
  },
  {
   "cell_type": "code",
   "execution_count": 33,
   "id": "ce17562a",
   "metadata": {},
   "outputs": [],
   "source": [
    "# 定义模型\n",
    "class sourcemodel:\n",
    "    def __init__(\n",
    "        self,\n",
    "        response,\n",
    "        eta,\n",
    "        isgamma_i,\n",
    "        beam,\n",
    "        T=719.15 * time_rate * 24 * 60 * 60,\n",
    "        area=30000 * 30000 * 3.1415926,\n",
    "        spectrumfunction=\"Cutoff_powerlaw\",\n",
    "        spacefunction=\"disksource\",\n",
    "        **args\n",
    "    ) -> None:\n",
    "        if spectrumfunction == \"Cutoff_powerlaw\":\n",
    "            self.spectrumfunction = self.Cutoff_powerlaw\n",
    "        if spectrumfunction == \"powerlaw\":\n",
    "            self.spectrumfunction = self.powerlaw\n",
    "        if spacefunction == \"disksource\":\n",
    "            self.spacefunction = self.disksource\n",
    "        self.response = response[isgamma_i]\n",
    "        self.eta = eta[isgamma_i]\n",
    "        self.isgamma_i = isgamma_i\n",
    "        self.T = T\n",
    "        self.area = area\n",
    "        self.energybin = priEnergybin\n",
    "        self.energybincenter = 10 ** (\n",
    "            (np.log10(self.energybin[:-1]) + np.log10(self.energybin[1:])) / 2\n",
    "        )\n",
    "        self.obenergybin = Energybin\n",
    "        self.beam = beam\n",
    "\n",
    "        if \"K\" in args:\n",
    "            self.K = args[\"K\"]\n",
    "        if \"index\" in args:\n",
    "            self.index = args[\"index\"]\n",
    "        if \"E_cut\" in args:\n",
    "            self.E_cut = args[\"E_cut\"]\n",
    "        else:\n",
    "            self.E_cut = None\n",
    "        if \"Ra\" in args:\n",
    "            self.Ra = args[\"Ra\"]\n",
    "        if \"Dec\" in args:\n",
    "            self.Dec = args[\"Dec\"]\n",
    "        if \"sourcetype\" in args:\n",
    "            self.sourcetype = args[\"sourcetype\"]\n",
    "        if \"radius\" in args:\n",
    "            self.radius = args[\"radius\"]\n",
    "        else:\n",
    "            self.radius = None\n",
    "\n",
    "    def Cutoff_powerlaw(self, x, K, index, E_cut):\n",
    "        return 10**K * (x / 1) ** index * np.exp(-x / E_cut)\n",
    "\n",
    "    def powerlaw(self, x, K, index, E_cut):\n",
    "        return 10**K * (x / 1) ** index\n",
    "\n",
    "    def disksource(self, Ra, Dec, sourcetype=\"point\", radius=None):\n",
    "        if sourcetype == \"point\":\n",
    "            pix = hp.ang2pix(NSIDE, Ra, Dec, lonlat=True)\n",
    "            return [pix]\n",
    "        elif sourcetype == \"extend\":\n",
    "            pix = hp.query_disc(\n",
    "                NSIDE,\n",
    "                hp.ang2vec(Ra, Dec, lonlat=True),\n",
    "                radius=np.radians(radius),\n",
    "            )\n",
    "            return pix\n",
    "\n",
    "    def getmap_beforePSF(self):\n",
    "        hp_map = np.zeros([len(self.obenergybin) - 1, NPIX])\n",
    "        for i in range(len(self.obenergybin) - 1):\n",
    "            hp_map[i][\n",
    "                self.spacefunction(self.Ra, self.Dec, self.sourcetype, self.radius)\n",
    "            ] = 1\n",
    "        return hp_map\n",
    "\n",
    "    def getmap(self):\n",
    "        hp_map = self.getmap_beforePSF()\n",
    "        hp_map[np.isnan(hp_map)] = 0\n",
    "        for i in range(self.beam[self.isgamma_i].shape[0]):\n",
    "            hp_map[i] = hp.smoothing(\n",
    "                hp_map[i], beam_window=self.beam[self.isgamma_i, i]\n",
    "            )\n",
    "        return hp_map\n",
    "\n",
    "    def cal_base_map(self):\n",
    "        self.smooth_map = self.getmap()\n",
    "\n",
    "    def cal_map(self, par):\n",
    "        self.K, self.index, self.E_cut = par\n",
    "        hp_map = np.zeros([len(self.obenergybin) - 1, NPIX])\n",
    "        org_number = np.zeros(len(self.energybincenter))\n",
    "        for i in range(len(self.energybincenter)):\n",
    "            org_number[i] = (\n",
    "                self.spectrumfunction(\n",
    "                    self.energybincenter[i], self.K, self.index, self.E_cut\n",
    "                )\n",
    "                * self.T\n",
    "                * self.area\n",
    "                * (self.energybin[i + 1] - self.energybin[i])\n",
    "            )\n",
    "        ob_number = np.matmul(self.response, self.eta * org_number)\n",
    "        for i in range(len(self.smooth_map)):\n",
    "            if np.sum(self.smooth_map[i]) != 0:\n",
    "                hp_map[i] = (\n",
    "                    self.smooth_map[i] / np.sum(self.smooth_map[i]) * ob_number[i]\n",
    "                )\n",
    "        return hp_map"
   ]
  },
  {
   "cell_type": "code",
   "execution_count": 39,
   "id": "635c20ee",
   "metadata": {},
   "outputs": [],
   "source": [
    "# 读取之前做的所有数据和Background\n",
    "All = np.load(\"./All.npy\")[:,3:8,:]\n",
    "Background = np.load(\"./Background.npy\")[:,3:8,:]"
   ]
  },
  {
   "cell_type": "code",
   "execution_count": 46,
   "id": "6d5ebf9e",
   "metadata": {},
   "outputs": [],
   "source": [
    "def getmaxlikehood(isgamma_i):\n",
    "    par0 = [-1.110e01, 1.100e01, -1.231e01]\n",
    "    bounds = [\n",
    "        (-15, -10),\n",
    "        (0.1, 2000),\n",
    "        (-15, -10),\n",
    "    ]\n",
    "    J1857 = sourcemodel(\n",
    "        response,\n",
    "        eta,\n",
    "        isgamma_i,\n",
    "        beam,\n",
    "        Ra=284.34,\n",
    "        Dec=2.76,\n",
    "        sourcetype=\"extend\",\n",
    "        radius=0.26,\n",
    "        K=par0[0],\n",
    "        index=-2.15,\n",
    "        E_cut=par0[1],\n",
    "    )\n",
    "    J1857.cal_base_map()\n",
    "    J1858 = sourcemodel(\n",
    "        response,\n",
    "        eta,\n",
    "        isgamma_i,\n",
    "        beam,\n",
    "        Ra=284.57,\n",
    "        Dec=2.06,\n",
    "        sourcetype=\"point\",\n",
    "        spectrumfunction=\"powerlaw\",\n",
    "        K=par0[2],\n",
    "        index=-2.11,\n",
    "    )\n",
    "    J1858.cal_base_map()\n",
    "    def log_prob(par):\n",
    "        par_J1857 = [par[0], -2.15, par[1]]\n",
    "        par_J1858 = [par[2], -2.06, None]\n",
    "\n",
    "        J1857_map = J1857.cal_map(par_J1857)\n",
    "        J1858_map = J1858.cal_map(par_J1858)\n",
    "        All_map = J1857_map + J1858_map\n",
    "        #     print(np.sum(All_map))\n",
    "        #     print(All_map.shape)\n",
    "        pix_need = hp.query_disc(NSIDE, hp.ang2vec(284.5, 2.5, lonlat=True), np.deg2rad(4))\n",
    "        All_map[All_map < 0] = 0\n",
    "        #     print(Background[isgamma_i][:, pix_need].shape)\n",
    "        pre = Background[isgamma_i][:, pix_need] + All_map[:, pix_need]\n",
    "        prob = poisson.pmf(All[isgamma_i][:, pix_need], pre)\n",
    "        # return prob\n",
    "        if np.any(prob == 0):\n",
    "            return -np.inf\n",
    "#         print(np.sum(np.log(prob)))\n",
    "        return np.sum(np.log(prob))\n",
    "\n",
    "\n",
    "    def log_prob0():\n",
    "        pix_need = hp.query_disc(NSIDE, hp.ang2vec(284.5, 2.5, lonlat=True), np.deg2rad(4))\n",
    "        prob = poisson.pmf(All[isgamma_i][:, pix_need], Background[isgamma_i][:, pix_need])\n",
    "        # return prob\n",
    "        if np.any(prob == 0):\n",
    "            return -np.inf\n",
    "        return np.sum(np.log(prob))\n",
    "\n",
    "\n",
    "    def neg_log_prob(par):\n",
    "        return -log_prob(par)\n",
    "    res = minimize(neg_log_prob, par0, bounds=bounds)\n",
    "    print(isgamma_i, res.x)\n",
    "    print(res.fun, 2 * (-res.fun - log_prob0()))"
   ]
  },
  {
   "cell_type": "code",
   "execution_count": 47,
   "id": "e3310504",
   "metadata": {},
   "outputs": [
    {
     "name": "stdout",
     "output_type": "stream",
     "text": [
      "0 [-11.76535489 155.98712426 -12.12046104]\n",
      "25833.89194311455 56.78944974305341\n",
      "1 [-12.00638321 302.78513328 -12.29159888]\n",
      "21211.636279168033 38.89299116476468\n",
      "2 [-12.21191162 391.92650868 -12.2909648 ]\n",
      "16421.2082062887 40.11941136961832\n",
      "3 [-12.07715792  89.60283689 -12.38480473]\n",
      "13516.84840483724 35.28528643133541\n",
      "4 [-11.9506891   34.7958286  -12.41113773]\n",
      "10287.208144617083 32.832997265231825\n",
      "5 [-12.12958536  36.09523518 -12.560715  ]\n",
      "7065.389026652347 21.52168371850894\n",
      "6 [-10.           3.25261036 -12.51648756]\n",
      "3466.5167476340794 26.30966104617619\n",
      "7 [-15.          10.59004614 -12.64043293]\n",
      "1930.7246297790807 18.006898108052155\n",
      "8 [-15.          10.67631573 -12.8340253 ]\n",
      "1246.632651692896 8.536319872982403\n",
      "9 [-15.          10.70820497 -12.93911133]\n",
      "612.711309182122 5.688836217747394\n"
     ]
    }
   ],
   "source": [
    "for isgamma_i in range(10):\n",
    "    getmaxlikehood(isgamma_i)"
   ]
  },
  {
   "cell_type": "code",
   "execution_count": null,
   "id": "11224f7f",
   "metadata": {},
   "outputs": [],
   "source": []
  }
 ],
 "metadata": {
  "kernelspec": {
   "display_name": "ag",
   "language": "python",
   "name": "ag"
  },
  "language_info": {
   "codemirror_mode": {
    "name": "ipython",
    "version": 3
   },
   "file_extension": ".py",
   "mimetype": "text/x-python",
   "name": "python",
   "nbconvert_exporter": "python",
   "pygments_lexer": "ipython3",
   "version": "3.9.16"
  }
 },
 "nbformat": 4,
 "nbformat_minor": 5
}
