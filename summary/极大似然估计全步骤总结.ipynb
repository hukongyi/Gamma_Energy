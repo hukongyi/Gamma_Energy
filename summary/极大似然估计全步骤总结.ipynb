{
 "cells": [
  {
   "cell_type": "markdown",
   "id": "25b7b376",
   "metadata": {},
   "source": [
    "Step1.[排除掉所有的已知源区域](./排除掉所有的已知源区域.ipynb)\n",
    "\n",
    "Step2.[构造P/gamma鉴别样本](./构造Pgamma鉴别样本.ipynb)\n",
    "\n",
    "Step3.1.[机器学习做P/gamma鉴别（高能部分）](./机器学习做Pgamma鉴别高能.ipynb)\n",
    "\n",
    "Step3.2.[机器学习做P/gamma鉴别（低能部分）](./机器学习做Pgamma鉴别低能.ipynb)\n",
    "\n",
    "Step4.[机器学习做能量重建与到来方向修正](./机器学习做能量重建与到来方向修正.ipynb)\n",
    "\n",
    "Step5.[实验数据P/gamma鉴别](./实验数据Pgamma鉴别.ipynb)\n",
    "\n",
    "Step6.[使用直接积分获得背景](./获取背景.ipynb)"
   ]
  },
  {
   "cell_type": "code",
   "execution_count": null,
   "id": "3fa7f615",
   "metadata": {},
   "outputs": [],
   "source": []
  }
 ],
 "metadata": {
  "kernelspec": {
   "display_name": "ag",
   "language": "python",
   "name": "ag"
  },
  "language_info": {
   "codemirror_mode": {
    "name": "ipython",
    "version": 3
   },
   "file_extension": ".py",
   "mimetype": "text/x-python",
   "name": "python",
   "nbconvert_exporter": "python",
   "pygments_lexer": "ipython3",
   "version": "3.9.16"
  }
 },
 "nbformat": 4,
 "nbformat_minor": 5
}
