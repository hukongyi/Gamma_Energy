{
 "cells": [
  {
   "cell_type": "markdown",
   "id": "9edc94bd",
   "metadata": {},
   "source": [
    "## 样本划分\n",
    "所有的样本分成着火探测器台数大于等于16的和小于16但大于等于4的，因为只有大于等于16台的有重建的ne和age，而小于16的没有。"
   ]
  },
  {
   "cell_type": "markdown",
   "id": "cc334f58",
   "metadata": {},
   "source": [
    "对于一组数据，我们可以用机器学习做3种重建，核种，能量以及方向。\n",
    "首先先对核种进行鉴别。这里只构造对于核种鉴别所使用的样本。"
   ]
  },
  {
   "cell_type": "code",
   "execution_count": 1,
   "id": "2e11c6c9",
   "metadata": {},
   "outputs": [],
   "source": [
    "# 矩阵计算\n",
    "import numpy as np\n",
    "\n",
    "# root文件读取\n",
    "import uproot\n",
    "\n",
    "# 球面分bin\n",
    "import healpy as hp\n",
    "\n",
    "# 画图\n",
    "import matplotlib.pyplot as plt\n",
    "\n",
    "# 训练测试集划分\n",
    "from sklearn.model_selection import train_test_split\n"
   ]
  },
  {
   "cell_type": "markdown",
   "id": "3b3389b4",
   "metadata": {},
   "source": [
    "读取模拟数据"
   ]
  },
  {
   "cell_type": "code",
   "execution_count": 2,
   "id": "fbc6b606",
   "metadata": {},
   "outputs": [],
   "source": [
    "# 定义我们所需要使用的参数（为了节约内存，不读取所有数据）\n",
    "paraneed_MC_Pgamma = [\n",
    "    \"nch\",\n",
    "    \"theta\",\n",
    "    \"phi\",\n",
    "    \"sumpf\",\n",
    "    \"summd\",\n",
    "    \"mr1\",\n",
    "    \"cx\",\n",
    "    \"cy\",\n",
    "    \"ne\",\n",
    "    \"age\",\n",
    "    \"sigma\",\n",
    "    \"inout\",\n",
    "    \"prie\",\n",
    "    \"pritheta\",\n",
    "    \"priphi\",\n",
    "]"
   ]
  },
  {
   "cell_type": "code",
   "execution_count": 3,
   "id": "fb0f24f9",
   "metadata": {},
   "outputs": [],
   "source": [
    "# 读取模拟数据，使用的gamma的全天模拟\n",
    "gammafile = uproot.open(\"/home2/chenxu/data/gamma_all.root\")\n",
    "# 读取为dict，每一个value为numpy格式\n",
    "gammadata = gammafile[\"asresult\"].arrays(paraneed_MC_Pgamma, library=\"np\")\n",
    "gammadata[\"isgamma\"] = np.ones_like(gammadata[\"nch\"])"
   ]
  },
  {
   "cell_type": "code",
   "execution_count": 25,
   "id": "d69f362a",
   "metadata": {},
   "outputs": [
    {
     "data": {
      "text/plain": [
       "{'nch': array([14,  4, 64, ..., 24, 48,  5], dtype=int32),\n",
       " 'theta': array([37.55792949, 19.78291059, 19.01030064, ..., 44.76038449,\n",
       "        42.00619724, 21.60891738]),\n",
       " 'phi': array([ 98.74059766,  71.91845269,  66.65344964, ...,  25.37058381,\n",
       "         22.76985877, 123.18343094]),\n",
       " 'sumpf': array([ 88.56848753,  25.58870963, 391.49823352, ..., 107.36190047,\n",
       "        243.74535379,  30.54107471]),\n",
       " 'summd': array([0.        , 0.        , 0.        , ..., 5.69011866, 0.        ,\n",
       "        0.        ]),\n",
       " 'mr1': array([22.09847059, 27.6141565 , 34.53956306, ..., 59.30615274,\n",
       "        50.33985082, 23.55885764]),\n",
       " 'cx': array([ -0.36683393, 120.17241036,  13.43128319, ...,  39.56831859,\n",
       "         31.17146753,  64.72273018]),\n",
       " 'cy': array([-56.15860142,  10.93834901,   2.49053218, ...,  45.5896756 ,\n",
       "         52.05100972, -36.05243508]),\n",
       " 'ne': array([-1.00000000e+00, -1.00000000e+00,  2.61632956e+04, ...,\n",
       "         1.39328367e+04,  3.68184612e+04, -1.00000000e+00]),\n",
       " 'age': array([-1.        , -1.        ,  0.72495995, ...,  1.6       ,\n",
       "         1.6       , -1.        ]),\n",
       " 'sigma': array([0.19980947, 0.02067979, 0.37107881, ..., 1.56951761, 0.93999226,\n",
       "        0.38745709]),\n",
       " 'inout': array([1, 0, 1, ..., 1, 0, 1], dtype=int32),\n",
       " 'prie': array([  7518.33154297,  17176.29296875,  17176.29296875, ...,\n",
       "        249555.53125   , 249555.53125   ,   7593.10058594]),\n",
       " 'pritheta': array([0.64835274, 0.33261296, 0.33261296, ..., 0.71074498, 0.71074498,\n",
       "        0.43719387]),\n",
       " 'priphi': array([1.41786063, 1.97114635, 1.97114635, ..., 2.73846769, 2.73846769,\n",
       "        0.89772493]),\n",
       " 'isgamma': array([1, 1, 1, ..., 1, 1, 1], dtype=int32)}"
      ]
     },
     "execution_count": 25,
     "metadata": {},
     "output_type": "execute_result"
    }
   ],
   "source": [
    "gammadata"
   ]
  },
  {
   "cell_type": "code",
   "execution_count": 4,
   "id": "c576576c",
   "metadata": {},
   "outputs": [],
   "source": [
    "# 定义计算S50函数\n",
    "from scipy.special import gamma\n",
    "from math import pi\n",
    "\n",
    "\n",
    "def getS50(ne: np.ndarray, s: np.ndarray):\n",
    "    \"\"\"Get S50 from NKG function.\n",
    "\n",
    "    Input:\n",
    "        ne: Ne of Event.\n",
    "        s: age of Event.\n",
    "\n",
    "    Output:\n",
    "        S50\n",
    "    \"\"\"\n",
    "    rm = 130.0\n",
    "    r = 50.0\n",
    "    nr = ne / (rm * rm)\n",
    "    gg1 = gamma(4.5 - s)\n",
    "    gg2 = 2 * pi * gamma(s) * gamma(4.5 - 2 * s)\n",
    "    rr1 = pow(r / rm, s - 2)\n",
    "    rr2 = pow(1 + r / rm, s - 4.5)\n",
    "    return nr * gg1 / gg2 * rr1 * rr2"
   ]
  },
  {
   "cell_type": "code",
   "execution_count": 5,
   "id": "20ec5a56",
   "metadata": {},
   "outputs": [],
   "source": [
    "# 计算模拟数据的S50\n",
    "gammadata[\"S50\"] = getS50(gammadata[\"ne\"], gammadata[\"age\"])"
   ]
  },
  {
   "cell_type": "markdown",
   "id": "9cdff8f7",
   "metadata": {},
   "source": [
    "### 读取实验数据作为宇宙线\n"
   ]
  },
  {
   "cell_type": "code",
   "execution_count": 6,
   "id": "efc93d02",
   "metadata": {},
   "outputs": [],
   "source": [
    "# 读取已知的源数据\n",
    "knownsorce = np.load(\"./knownsource.npy\")"
   ]
  },
  {
   "cell_type": "code",
   "execution_count": 7,
   "id": "7388083b",
   "metadata": {
    "scrolled": false
   },
   "outputs": [
    {
     "data": {
      "image/png": "[encoded data removed]",
      "text/plain": [
       "<Figure size 850x540 with 2 Axes>"
      ]
     },
     "metadata": {},
     "output_type": "display_data"
    }
   ],
   "source": [
    "hp.mollview(knownsorce, title=\"knownsorce\")"
   ]
  },
  {
   "cell_type": "markdown",
   "id": "e53cb6d1",
   "metadata": {},
   "source": [
    "### 高能样本\n"
   ]
  },
  {
   "cell_type": "markdown",
   "id": "3fb9a0ea",
   "metadata": {},
   "source": [
    "### 初步cut\n",
    "第一步的cut是为了去掉过多的宇宙线事例\n",
    "\n",
    "$nch>=16$\n",
    "\n",
    "$sigma<=1$\n",
    "\n",
    "$inout==1$\n",
    "\n",
    "$0.301<age<1.599$\n",
    "\n",
    "$summd<0.4$ or $summd<1.2e-3*sumpf^{1.6}$\n",
    "\n",
    "$theta<60$"
   ]
  },
  {
   "cell_type": "code",
   "execution_count": 11,
   "id": "963d8b5b",
   "metadata": {},
   "outputs": [],
   "source": [
    "gammadata_need_high = np.where(\n",
    "    (gammadata[\"nch\"] >= 16)\n",
    "    & (gammadata[\"sigma\"] < 1)\n",
    "    & (gammadata[\"inout\"] == 1)\n",
    "    & (gammadata[\"age\"] > 0.301)\n",
    "    & (gammadata[\"age\"] < 1.599)\n",
    "    & (\n",
    "        (gammadata[\"summd\"] < 0.4)\n",
    "        | (gammadata[\"summd\"] < 1.2e-3 * gammadata[\"sumpf\"] ** 1.6)\n",
    "    )\n",
    "    & (gammadata[\"theta\"] < 60)\n",
    ")"
   ]
  },
  {
   "cell_type": "code",
   "execution_count": 10,
   "id": "6565b497",
   "metadata": {},
   "outputs": [
    {
     "data": {
      "text/plain": [
       "(2204412,)"
      ]
     },
     "execution_count": 10,
     "metadata": {},
     "output_type": "execute_result"
    }
   ],
   "source": [
    "gammadata_need_high[0].shape"
   ]
  },
  {
   "cell_type": "code",
   "execution_count": 12,
   "id": "3ec65fd2",
   "metadata": {},
   "outputs": [
    {
     "data": {
      "image/png": "[encoded data removed]",
      "text/plain": [
       "<Figure size 640x480 with 1 Axes>"
      ]
     },
     "metadata": {},
     "output_type": "display_data"
    }
   ],
   "source": [
    "# 这段样本的能量(最高能量是设置最高能量)\n",
    "plt.hist(gammadata[\"prie\"][gammadata_need_high], bins=np.logspace(3, 8, 51))\n",
    "plt.yscale(\"log\")\n",
    "plt.xscale(\"log\")\n",
    "plt.xlabel(\"E(GeV)\")\n",
    "plt.ylabel(\"dN\")\n",
    "plt.show()"
   ]
  },
  {
   "cell_type": "markdown",
   "id": "6df13e12",
   "metadata": {},
   "source": [
    "### 读取实验数据作为宇宙线\n"
   ]
  },
  {
   "cell_type": "markdown",
   "id": "7af1ab6a",
   "metadata": {},
   "source": [
    "实验数据先卡了一刀\n",
    "\n",
    "$nch>=16$\n",
    "\n",
    "$sigma<=1$\n",
    "\n",
    "$0.301<age<1.599$\n",
    "\n",
    "$summd<0.4$ or $summd<1.2e-3*sumpf^{1.6}$\n",
    "\n",
    "$theta<60$"
   ]
  },
  {
   "cell_type": "code",
   "execution_count": 13,
   "id": "83aee467",
   "metadata": {},
   "outputs": [],
   "source": [
    "# 卡这一刀的代码如下\n",
    "\n",
    "# def mkdir(path):\n",
    "#     if not os.path.exists(path):\n",
    "#         os.makedirs(path)\n",
    "\n",
    "\n",
    "# def preprocessing(data_path_dirname):\n",
    "#     \"\"\"test\"\"\"\n",
    "#     file = uproot.open(data_path_dirname)\n",
    "#     data = file[\"asresult\"].arrays(\n",
    "#         [\n",
    "#             \"runno\",\n",
    "#             \"evno\",\n",
    "#             \"mjd\",\n",
    "#             \"nch\",\n",
    "#             \"theta\",\n",
    "#             \"phi\",\n",
    "#             \"sigma\",\n",
    "#             \"cx\",\n",
    "#             \"cy\",\n",
    "#             \"sumpf\",\n",
    "#             \"summd\",\n",
    "#             \"mr1\",\n",
    "#             \"ne\",\n",
    "#             \"age\",\n",
    "#         ],\n",
    "#         library=\"np\",\n",
    "#     )\n",
    "#     cut = np.where(\n",
    "#         (data[\"nch\"] >= 16)\n",
    "#         & (data[\"sigma\"] <= 1)\n",
    "#         & (data[\"age\"] > 0.301)\n",
    "#         & (data[\"age\"] < 1.599)\n",
    "#         & ((data[\"summd\"] < 0.4) | (data[\"summd\"] < 1.2e-3 * data[\"sumpf\"] ** 1.6))\n",
    "#     )\n",
    "#     data = {key: data[key][cut] for key in data.keys()}\n",
    "#     mkdir(\"/home/hky/Data/highEnergy_ag_pgamma/\" + data_path_dirname[-20:-13])\n",
    "#     np.savez(\"/home/hky/Data/highEnergy_ag_pgamma/\" + data_path_dirname[-20:-5] + \".npz\", **data)\n",
    "#     print(\"/home/hky/Data/highEnergy_ag_pgamma/\" + data_path_dirname[-20:-5] + \".npz\")\n",
    "\n",
    "\n",
    "# if __name__ == \"__main__\":\n",
    "#     data_path_dirname = sys.argv[1]\n",
    "#     preprocessing(data_path_dirname)"
   ]
  },
  {
   "cell_type": "markdown",
   "id": "3227ffb0",
   "metadata": {},
   "source": [
    "对于高能部分在这个cut条件下，每20分钟大约有5200事例，模拟的gamma剩余2204412例，选择宇宙线事例和gamma事例基本相同，因此选择约500个实验文件作为宇宙线。并排除掉来自已知源的事例。"
   ]
  },
  {
   "cell_type": "code",
   "execution_count": 14,
   "id": "52ba5616",
   "metadata": {},
   "outputs": [],
   "source": [
    "import tqdm\n",
    "import random\n",
    "\n",
    "def pickevent(eventnumber, datapath, savepath):\n",
    "    paralist_Expt = [\n",
    "        \"nch\",\n",
    "        \"theta\",\n",
    "        \"phi\",\n",
    "        \"sigma\",\n",
    "        \"cx\",\n",
    "        \"cy\",\n",
    "        \"sumpf\",\n",
    "        \"summd\",\n",
    "        \"mr1\",\n",
    "        \"ne\",\n",
    "        \"age\",\n",
    "        \"mjd\",\n",
    "        \"S50\",\n",
    "    ]\n",
    "    AllskyData = dict()\n",
    "    for key in paralist_Expt:\n",
    "        AllskyData[key] = list()\n",
    "    datalist = list()\n",
    "    for root, dirs, files in os.walk(datapath, topdown=False):\n",
    "        for name in files:\n",
    "            datalist.append(os.path.join(root, name))\n",
    "\n",
    "    for path in tqdm(random.sample(datalist, eventnumber)):\n",
    "        Exptdata = np.load(path)\n",
    "        Exptdata = {key: Exptdata[key] for key in Exptdata}\n",
    "        Exptdata[\"S50\"] = getS50(Exptdata[\"ne\"], Exptdata[\"age\"])\n",
    "\n",
    "        for key in paralist_Expt:\n",
    "            AllskyData[key].append(Exptdata[key])\n",
    "    for key in paralist_Expt:\n",
    "        AllskyData[key] = np.concatenate(AllskyData[key])\n",
    "    np.savez(savepath, **AllskyData)"
   ]
  },
  {
   "cell_type": "code",
   "execution_count": 15,
   "id": "af187050",
   "metadata": {},
   "outputs": [],
   "source": [
    "# 挑出500个高能实验文件\n",
    "# pickevent(500,\"/home/hky/Data/highEnergy_ag_pgamma/\",\"./highEnergy_ag_pgamma.npz\")\n",
    "AllskyData_highEnergy = np.load(\"./highEnergy_ag_pgamma.npz\")\n",
    "AllskyData_highEnergy = {\n",
    "    key: AllskyData_highEnergy[key] for key in AllskyData_highEnergy\n",
    "}"
   ]
  },
  {
   "cell_type": "code",
   "execution_count": 16,
   "id": "37f01642",
   "metadata": {},
   "outputs": [],
   "source": [
    "# 单位与坐标变换\n",
    "from astropy import units as u\n",
    "from astropy.coordinates import EarthLocation, SkyCoord\n",
    "from astropy.time import Time\n",
    "\n",
    "\n",
    "def corrdinateYBJ2J2000(theta, phi, mjd):\n",
    "    \"\"\"Transform YBJ ALTAZ to J2000\n",
    "\n",
    "    Args:\n",
    "        theta (np.array): zenith angle in location coordinates\n",
    "        phi (np.array): Azimuth angle in location corrdinates\n",
    "        mjd (np.array): mjd\n",
    "    Returns:\n",
    "        np.array: List of two np.array, first is ra with degree, second is dec with degree.\n",
    "    \"\"\"\n",
    "    # start = time.time()\n",
    "    # print(\"===========start========\")\n",
    "    YBJ_Location = EarthLocation(\n",
    "        lat=30.102 * u.deg, lon=90.522 * u.deg, height=4300 * u.m\n",
    "    )\n",
    "    mjdtime = Time(mjd, format=\"mjd\", location=YBJ_Location)\n",
    "    newAltAzcoordiantes = SkyCoord(\n",
    "        alt=(90 - theta) * u.deg,\n",
    "        az=phi * u.deg,\n",
    "        obstime=mjdtime,\n",
    "        frame=\"altaz\",\n",
    "        location=YBJ_Location,\n",
    "    )\n",
    "    RaDec = newAltAzcoordiantes.icrs\n",
    "    Ra = RaDec.ra.degree\n",
    "    Dec = RaDec.dec.degree\n",
    "    return [\n",
    "        Ra,\n",
    "        Dec,\n",
    "    ]\n",
    "\n",
    "\n",
    "def remove_knownsource(data, knownsource):\n",
    "    NSIDE = hp.npix2nside(len(knownsource))\n",
    "    data[\"Ra\"], data[\"Dec\"] = corrdinateYBJ2J2000(\n",
    "        data[\"theta\"], data[\"phi\"], data[\"mjd\"]\n",
    "    )\n",
    "    pix = hp.ang2pix(NSIDE, data[\"Ra\"], data[\"Dec\"], lonlat=True)\n",
    "    need = np.where(knownsource[pix] == 0)\n",
    "    data = {key: data[key][need] for key in data.keys()}\n",
    "    return data"
   ]
  },
  {
   "cell_type": "code",
   "execution_count": 17,
   "id": "c14198d6",
   "metadata": {},
   "outputs": [],
   "source": [
    "AllskyData_highEnergy = remove_knownsource(AllskyData_highEnergy, knownsorce)"
   ]
  },
  {
   "cell_type": "code",
   "execution_count": 29,
   "id": "045df30f",
   "metadata": {},
   "outputs": [],
   "source": [
    "AllskyData_highEnergy[\"isgamma\"] = np.zeros_like(AllskyData_highEnergy[\"nch\"])"
   ]
  },
  {
   "cell_type": "code",
   "execution_count": 30,
   "id": "24a3e616",
   "metadata": {},
   "outputs": [],
   "source": [
    "highEnergydata = dict()\n",
    "paralist = [\n",
    "        \"nch\",\n",
    "        \"theta\",\n",
    "        \"phi\",\n",
    "        \"sigma\",\n",
    "        \"cx\",\n",
    "        \"cy\",\n",
    "        \"sumpf\",\n",
    "        \"summd\",\n",
    "        \"mr1\",\n",
    "        \"ne\",\n",
    "        \"age\",\n",
    "        \"S50\",\n",
    "        \"isgamma\",\n",
    "    ]\n",
    "for para in paralist:\n",
    "    highEnergydata[para] = np.concatenate(\n",
    "        [\n",
    "            AllskyData_highEnergy[para],gammadata[para][gammadata_need_high]\n",
    "        ]\n",
    "    )"
   ]
  },
  {
   "cell_type": "code",
   "execution_count": 31,
   "id": "dd843fb5",
   "metadata": {},
   "outputs": [],
   "source": [
    "# 训练集测试集划分（训练集80%）\n",
    "train_index, test_index = train_test_split(\n",
    "    range(len(highEnergydata[\"isgamma\"])), test_size=0.2, random_state=42\n",
    ")\n",
    "trainData = {key: highEnergydata[key][train_index] for key in highEnergydata.keys()}\n",
    "testData = {key: highEnergydata[key][test_index] for key in highEnergydata.keys()}\n",
    "np.savez(\n",
    "    \"./highEnergy_trainData.npz\",\n",
    "    **trainData\n",
    ")\n",
    "np.savez(\n",
    "     \"./highEnergy_testData.npz\",\n",
    "    **testData\n",
    ")"
   ]
  },
  {
   "cell_type": "markdown",
   "id": "3efbfd0a",
   "metadata": {},
   "source": [
    "## 低能样本"
   ]
  },
  {
   "cell_type": "markdown",
   "id": "095bb50e",
   "metadata": {},
   "source": [
    "### 初步cut\n",
    "第一步的cut是为了去掉过多的宇宙线事例\n",
    "\n",
    "$nch>=4$\n",
    "\n",
    "$sigma<=1$\n",
    "\n",
    "$inout==1$\n",
    "\n",
    "$summd<0.4$ \n",
    "\n",
    "$theta<60$"
   ]
  },
  {
   "cell_type": "code",
   "execution_count": 6,
   "id": "243a0a9a",
   "metadata": {},
   "outputs": [],
   "source": [
    "gammadata_need_low = np.where(\n",
    "    (gammadata[\"nch\"] >= 4)\n",
    "    & (gammadata[\"sigma\"] < 1)\n",
    "    & (gammadata[\"inout\"] == 1)\n",
    "    & (gammadata[\"summd\"] < 0.4)\n",
    "    & (gammadata[\"theta\"] < 60)\n",
    ")"
   ]
  },
  {
   "cell_type": "code",
   "execution_count": 7,
   "id": "e5c2236e",
   "metadata": {},
   "outputs": [
    {
     "data": {
      "text/plain": [
       "(7608160,)"
      ]
     },
     "execution_count": 7,
     "metadata": {},
     "output_type": "execute_result"
    }
   ],
   "source": [
    "gammadata_need_low[0].shape"
   ]
  },
  {
   "cell_type": "code",
   "execution_count": 8,
   "id": "1456a03a",
   "metadata": {},
   "outputs": [
    {
     "data": {
      "image/png": "[encoded data removed]",
      "text/plain": [
       "<Figure size 640x480 with 1 Axes>"
      ]
     },
     "metadata": {},
     "output_type": "display_data"
    }
   ],
   "source": [
    "# 这段样本的能量\n",
    "plt.hist(gammadata[\"prie\"][gammadata_need_low], bins=np.logspace(2, 8, 61))\n",
    "\n",
    "plt.yscale(\"log\")\n",
    "plt.xscale(\"log\")\n",
    "plt.xlabel(\"E(GeV)\")\n",
    "plt.ylabel(\"dN\")\n",
    "plt.show()"
   ]
  },
  {
   "cell_type": "code",
   "execution_count": 15,
   "id": "77da35a4",
   "metadata": {},
   "outputs": [
    {
     "data": {
      "image/png": "[encoded data removed]",
      "text/plain": [
       "<Figure size 640x480 with 1 Axes>"
      ]
     },
     "metadata": {},
     "output_type": "display_data"
    }
   ],
   "source": [
    "gammadata_need_low_sumpf_200 = np.where(\n",
    "    (gammadata[\"nch\"] >= 4)\n",
    "    & (gammadata[\"sigma\"] < 1)\n",
    "    & (gammadata[\"inout\"] == 1)\n",
    "    & (gammadata[\"summd\"] < 0.4)\n",
    "    & (gammadata[\"theta\"] < 60)\n",
    "    & (gammadata[\"sumpf\"] > 100)\n",
    ")\n",
    "# 这段样本的能量\n",
    "plt.hist(\n",
    "    gammadata[\"prie\"][gammadata_need_low_sumpf_200],\n",
    "    bins=np.logspace(2, 8, 61),\n",
    "    alpha=0.5,\n",
    "    # density=True,\n",
    "    label=\"low\"\n",
    ")\n",
    "plt.hist(\n",
    "    gammadata[\"prie\"][gammadata_need_high],\n",
    "    bins=np.logspace(2, 8, 61),\n",
    "    alpha=0.5,\n",
    "    # density=True,\n",
    "    label=\"high\"\n",
    ")\n",
    "plt.yscale(\"log\")\n",
    "plt.xscale(\"log\")\n",
    "plt.xlabel(\"E(GeV)\")\n",
    "plt.ylabel(\"dN\")\n",
    "plt.legend()\n",
    "plt.show()\n"
   ]
  },
  {
   "cell_type": "markdown",
   "id": "db408e6e",
   "metadata": {},
   "source": [
    "对于低能部分在这个cut条件下，每20分钟大约有34000事例，模拟的gamma剩余7608160例，选择宇宙线事例和gamma事例基本相同，因此选择约300个实验文件作为宇宙线。并排除掉来自已知源的事例。"
   ]
  },
  {
   "cell_type": "code",
   "execution_count": 21,
   "id": "59a3e615",
   "metadata": {},
   "outputs": [],
   "source": [
    "# 挑选出300个低能实验文件\n",
    "# pickevent(300,\"/home/hky/Data/lowEnergy_ag_pgamma/\",\"./lowEnergy_ag_pgamma.npz\")\n",
    "AllskyData_lowEnergy = np.load(\"./lowEnergy_ag_pgamma.npz\")\n",
    "AllskyData_lowEnergy = {\n",
    "    key: AllskyData_lowEnergy[key] for key in AllskyData_lowEnergy\n",
    "}"
   ]
  },
  {
   "cell_type": "code",
   "execution_count": 22,
   "id": "8d66b5b1",
   "metadata": {},
   "outputs": [],
   "source": [
    "AllskyData_lowEnergy = remove_knownsource(AllskyData_lowEnergy, knownsorce)"
   ]
  },
  {
   "cell_type": "code",
   "execution_count": 33,
   "id": "92fbba16",
   "metadata": {},
   "outputs": [],
   "source": [
    "AllskyData_lowEnergy[\"isgamma\"] = np.zeros_like(AllskyData_lowEnergy[\"nch\"])"
   ]
  },
  {
   "cell_type": "code",
   "execution_count": 34,
   "id": "920b77e6",
   "metadata": {},
   "outputs": [],
   "source": [
    "lowEnergydata = dict()\n",
    "paralist = [\n",
    "        \"nch\",\n",
    "        \"theta\",\n",
    "        \"phi\",\n",
    "        \"sigma\",\n",
    "        \"cx\",\n",
    "        \"cy\",\n",
    "        \"sumpf\",\n",
    "        \"summd\",\n",
    "        \"mr1\",\n",
    "        \"isgamma\",\n",
    "    ]\n",
    "for para in paralist:\n",
    "    lowEnergydata[para] = np.concatenate(\n",
    "        [\n",
    "            AllskyData_lowEnergy[para],gammadata[para][gammadata_need_low]\n",
    "        ]\n",
    "    )"
   ]
  },
  {
   "cell_type": "code",
   "execution_count": null,
   "id": "204a0d6a",
   "metadata": {},
   "outputs": [],
   "source": [
    "# 训练集测试集划分（训练集80%）\n",
    "train_index, test_index = train_test_split(\n",
    "    range(len(lowEnergydata[\"isgamma\"])), test_size=0.2, random_state=42\n",
    ")\n",
    "trainData = {key: lowEnergydata[key][train_index] for key in lowEnergydata.keys()}\n",
    "testData = {key: lowEnergydata[key][test_index] for key in lowEnergydata.keys()}\n",
    "np.savez(\n",
    "    \"./lowEnergy_trainData.npz\",\n",
    "    **trainData\n",
    ")\n",
    "np.savez(\n",
    "     \"./lowEnergy_testData.npz\",\n",
    "    **testData\n",
    ")"
   ]
  }
 ],
 "metadata": {
  "kernelspec": {
   "display_name": "ag",
   "language": "python",
   "name": "python3"
  },
  "language_info": {
   "codemirror_mode": {
    "name": "ipython",
    "version": 3
   },
   "file_extension": ".py",
   "mimetype": "text/x-python",
   "name": "python",
   "nbconvert_exporter": "python",
   "pygments_lexer": "ipython3",
   "version": "3.9.16"
  }
 },
 "nbformat": 4,
 "nbformat_minor": 5
}
