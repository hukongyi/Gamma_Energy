{
 "cells": [
  {
   "cell_type": "code",
   "execution_count": 1,
   "id": "81fb30c2",
   "metadata": {},
   "outputs": [],
   "source": [
    "# 集成学习(ensemble learning)库\n",
    "from autogluon.tabular import TabularPredictor\n",
    "import numpy as np\n",
    "import pandas as pd\n",
    "import matplotlib.pyplot as plt\n",
    "\n",
    "# root文件读取\n",
    "import uproot"
   ]
  },
  {
   "cell_type": "code",
   "execution_count": 2,
   "id": "d73ebf66",
   "metadata": {},
   "outputs": [],
   "source": [
    "# 定义我们所需要使用的参数（为了节约内存，不读取所有数据）\n",
    "paraneed_MC_Pgamma = [\n",
    "    \"nch\",\n",
    "    \"theta\",\n",
    "    \"phi\",\n",
    "    \"sumpf\",\n",
    "    \"summd\",\n",
    "    \"mr1\",\n",
    "    \"cx\",\n",
    "    \"cy\",\n",
    "    \"ne\",\n",
    "    \"age\",\n",
    "    \"sigma\",\n",
    "    \"inout\",\n",
    "    \"prie\",\n",
    "    \"pritheta\",\n",
    "    \"priphi\",\n",
    "]"
   ]
  },
  {
   "cell_type": "code",
   "execution_count": 3,
   "id": "82729f2c",
   "metadata": {},
   "outputs": [],
   "source": [
    "# 读取模拟数据，使用的gamma的全天模拟\n",
    "gammafile = uproot.open(\"/home2/chenxu/data/gamma.00339651.root\")\n",
    "# 读取为dict，每一个value为numpy格式\n",
    "gammadata = gammafile[\"asresult\"].arrays(paraneed_MC_Pgamma, library=\"np\")"
   ]
  },
  {
   "cell_type": "code",
   "execution_count": 4,
   "id": "a5eb48d8",
   "metadata": {},
   "outputs": [
    {
     "data": {
      "text/plain": [
       "{'nch': array([12,  4, 63, ..., 17, 47,  5], dtype=int32),\n",
       " 'theta': array([37.54860897, 19.84783209, 19.1456245 , ..., 45.47797878,\n",
       "        42.20244325, 21.38094995]),\n",
       " 'phi': array([ 98.06191472,  72.06762648,  66.64637257, ...,  24.57758235,\n",
       "         23.43175948, 122.27605084]),\n",
       " 'sumpf': array([ 88.50370645,  25.57250254, 391.40566493, ..., 105.65766543,\n",
       "        234.10038591,  30.5587142 ]),\n",
       " 'summd': array([0.        , 0.        , 0.        , ..., 5.67232191, 0.        ,\n",
       "        0.        ]),\n",
       " 'mr1': array([22.10997744, 27.59025884, 34.52736526, ..., 59.08148424,\n",
       "        51.56098382, 23.55451592]),\n",
       " 'cx': array([ -0.38184129, 120.187453  ,  13.43031409, ...,  39.20089793,\n",
       "         31.16301335,  64.72047601]),\n",
       " 'cy': array([-56.1544441 ,  10.9625919 ,   2.49107335, ...,  45.39713675,\n",
       "         51.63047504, -36.05105944]),\n",
       " 'ne': array([-1.00000000e+00, -1.00000000e+00,  2.61076242e+04, ...,\n",
       "         1.47510193e+04,  3.24532296e+04, -1.00000000e+00]),\n",
       " 'age': array([-1.        , -1.        ,  0.74184523, ...,  1.6       ,\n",
       "         1.6       , -1.        ]),\n",
       " 'sigma': array([0.30774171, 0.02478109, 0.36120204, ..., 1.09298489, 1.04067224,\n",
       "        0.56565657]),\n",
       " 'inout': array([1, 0, 1, ..., 1, 0, 1], dtype=int32),\n",
       " 'prie': array([  7518.33154297,  17176.29296875,  17176.29296875, ...,\n",
       "        249555.53125   , 249555.53125   ,   7593.10058594]),\n",
       " 'pritheta': array([0.64835274, 0.33261296, 0.33261296, ..., 0.71074498, 0.71074498,\n",
       "        0.43719387]),\n",
       " 'priphi': array([1.41786063, 1.97114635, 1.97114635, ..., 2.73846769, 2.73846769,\n",
       "        0.89772493])}"
      ]
     },
     "execution_count": 4,
     "metadata": {},
     "output_type": "execute_result"
    }
   ],
   "source": [
    "gammadata"
   ]
  },
  {
   "cell_type": "code",
   "execution_count": 5,
   "id": "06d318e6",
   "metadata": {},
   "outputs": [],
   "source": [
    "# 定义计算S50函数\n",
    "from scipy.special import gamma\n",
    "from math import pi\n",
    "\n",
    "\n",
    "def getS50(ne: np.ndarray, s: np.ndarray):\n",
    "    \"\"\"Get S50 from NKG function.\n",
    "\n",
    "    Input:\n",
    "        ne: Ne of Event.\n",
    "        s: age of Event.\n",
    "\n",
    "    Output:\n",
    "        S50\n",
    "    \"\"\"\n",
    "    rm = 130.0\n",
    "    r = 50.0\n",
    "    nr = ne / (rm * rm)\n",
    "    gg1 = gamma(4.5 - s)\n",
    "    gg2 = 2 * pi * gamma(s) * gamma(4.5 - 2 * s)\n",
    "    rr1 = pow(r / rm, s - 2)\n",
    "    rr2 = pow(1 + r / rm, s - 4.5)\n",
    "    return nr * gg1 / gg2 * rr1 * rr2"
   ]
  },
  {
   "cell_type": "code",
   "execution_count": 6,
   "id": "36fc2040",
   "metadata": {},
   "outputs": [],
   "source": [
    "# 计算模拟数据的S50\n",
    "gammadata[\"S50\"] = getS50(gammadata[\"ne\"], gammadata[\"age\"])"
   ]
  },
  {
   "cell_type": "markdown",
   "id": "58cff158",
   "metadata": {},
   "source": [
    "### 初步cut\n",
    "第一步的cut是为了去掉过多的宇宙线事例\n",
    "\n",
    "$nch>=16$\n",
    "\n",
    "$sigma<=1$\n",
    "\n",
    "$inout==1$\n",
    "\n",
    "$0.301<age<1.599$\n",
    "\n",
    "$summd<0.4$ or $summd<1.2e-3*sumpf^{1.6}$\n",
    "\n",
    "$theta<60$"
   ]
  },
  {
   "cell_type": "code",
   "execution_count": 7,
   "id": "bd936c6e",
   "metadata": {},
   "outputs": [],
   "source": [
    "gammadata_need_high = np.where(\n",
    "    (gammadata[\"nch\"] >= 16)\n",
    "    & (gammadata[\"sigma\"] < 1)\n",
    "    & (gammadata[\"inout\"] == 1)\n",
    "    & (gammadata[\"age\"] > 0.301)\n",
    "    & (gammadata[\"age\"] < 1.599)\n",
    "    & (\n",
    "        (gammadata[\"summd\"] < 0.4)\n",
    "        | (gammadata[\"summd\"] < 1.2e-3 * gammadata[\"sumpf\"] ** 1.6)\n",
    "    )\n",
    "    & (gammadata[\"theta\"] < 60)\n",
    ")\n",
    "\n",
    "gammadata_high = {key: gammadata[key][gammadata_need_high] for key in gammadata.keys()}"
   ]
  },
  {
   "cell_type": "code",
   "execution_count": 8,
   "id": "37410097",
   "metadata": {},
   "outputs": [],
   "source": [
    "# 因为这3个量跨度比较大，所以取对数\n",
    "for para in [\"ne\", \"S50\", \"sumpf\", \"prie\"]:\n",
    "    gammadata_high[para] = np.log10(gammadata_high[para])"
   ]
  },
  {
   "cell_type": "markdown",
   "id": "582fd775",
   "metadata": {},
   "source": [
    "## 能量拟合"
   ]
  },
  {
   "cell_type": "code",
   "execution_count": 13,
   "id": "73520479",
   "metadata": {
    "scrolled": false
   },
   "outputs": [],
   "source": [
    "# label = \"prie\"\n",
    "gammadata_high_df = pd.DataFrame(gammadata_high)\n",
    "# columns_need = [\n",
    "#     \"theta\",\n",
    "#     \"sigma\",\n",
    "#     \"cx\",\n",
    "#     \"cy\",\n",
    "#     \"sumpf\",\n",
    "#     \"mr1\",\n",
    "#     \"ne\",\n",
    "#     \"age\",\n",
    "#     \"S50\",\n",
    "# ]\n",
    "# columns_need.append(label)\n",
    "# predictor = TabularPredictor(\n",
    "#     label=label,\n",
    "#     path=\"./autogloun_model/highEnergy_Energy\",\n",
    "# ).fit(gammadata_high_df[columns_need], num_cpus=40, num_gpus=2)"
   ]
  },
  {
   "cell_type": "code",
   "execution_count": 10,
   "id": "553a7362",
   "metadata": {},
   "outputs": [],
   "source": [
    "predictor = TabularPredictor.load(\"./autogloun_model/highEnergy_Energy\")"
   ]
  },
  {
   "cell_type": "code",
   "execution_count": null,
   "id": "089f0fe4",
   "metadata": {},
   "outputs": [],
   "source": [
    "gammadata_high_df[\"prie_pred\"] = predictor.predict(gammadata_high_df)"
   ]
  },
  {
   "cell_type": "code",
   "execution_count": 38,
   "id": "c1a7581d",
   "metadata": {},
   "outputs": [
    {
     "data": {
      "image/png": "[encoded data removed]",
      "text/plain": [
       "<Figure size 640x480 with 1 Axes>"
      ]
     },
     "metadata": {},
     "output_type": "display_data"
    }
   ],
   "source": [
    "plt.scatter(gammadata_high_df[\"prie\"], gammadata_high_df[\"prie_pred\"], s=1)\n",
    "plt.xlabel(\"pri_e\")\n",
    "plt.ylabel(\"pred_e\")\n",
    "plt.plot([3, 8], [3, 8], color=\"r\")\n",
    "plt.show()"
   ]
  },
  {
   "cell_type": "code",
   "execution_count": 15,
   "id": "dafc8b72",
   "metadata": {},
   "outputs": [],
   "source": [
    "# 使用J1857的模拟测试\n",
    "J1857 = uproot.open(\"/home2/hky/github/Gamma_Energy/MCdata/data_gamma_026/RESULT.root\")\n",
    "# 读取为dict，每一个value为numpy格式\n",
    "J1857 = J1857[\"asresult\"].arrays(paraneed_MC_Pgamma, library=\"np\")\n",
    "# 计算模拟数据的S50\n",
    "J1857[\"S50\"] = getS50(J1857[\"ne\"], J1857[\"age\"])\n",
    "J1857_need_high = np.where(\n",
    "    (J1857[\"nch\"] >= 16)\n",
    "    & (J1857[\"sigma\"] < 1)\n",
    "    & (J1857[\"inout\"] == 1)\n",
    "    & (J1857[\"age\"] > 0.301)\n",
    "    & (J1857[\"age\"] < 1.599)\n",
    "    & ((J1857[\"summd\"] < 0.4) | (J1857[\"summd\"] < 1.2e-3 * J1857[\"sumpf\"] ** 1.6))\n",
    "    & (J1857[\"theta\"] < 60)\n",
    ")\n",
    "\n",
    "J1857_high = {key: J1857[key][J1857_need_high] for key in J1857.keys()}\n",
    "for para in [\"ne\", \"S50\", \"sumpf\", \"prie\"]:\n",
    "    J1857_high[para] = np.log10(J1857_high[para])"
   ]
  },
  {
   "cell_type": "code",
   "execution_count": 16,
   "id": "7059913c",
   "metadata": {},
   "outputs": [],
   "source": [
    "J1857_high_df = pd.DataFrame(J1857_high)\n",
    "J1857_high_df[\"prie_pred\"] = predictor.predict(J1857_high_df)"
   ]
  },
  {
   "cell_type": "code",
   "execution_count": 36,
   "id": "922bbf95",
   "metadata": {},
   "outputs": [
    {
     "data": {
      "image/png": "[encoded data removed]",
      "text/plain": [
       "<Figure size 640x480 with 1 Axes>"
      ]
     },
     "metadata": {},
     "output_type": "display_data"
    }
   ],
   "source": [
    "plt.scatter(J1857_high_df[\"prie\"], J1857_high_df[\"prie_pred\"], s=1)\n",
    "plt.plot([3, 8], [3, 8], color=\"r\")\n",
    "plt.xlabel(\"pri_e\")\n",
    "plt.ylabel(\"pred_e\")\n",
    "plt.show()"
   ]
  },
  {
   "cell_type": "code",
   "execution_count": 33,
   "id": "00f7c93a",
   "metadata": {},
   "outputs": [
    {
     "data": {
      "image/png": "[encoded data removed]",
      "text/plain": [
       "<Figure size 640x480 with 1 Axes>"
      ]
     },
     "metadata": {},
     "output_type": "display_data"
    }
   ],
   "source": [
    "plt.hist(\n",
    "    J1857_high_df[\"prie\"],\n",
    "    bins=np.linspace(4, 7, 31),\n",
    "    alpha=0.5,\n",
    "    label=\"prie\",\n",
    "    density=True,\n",
    ")\n",
    "plt.hist(\n",
    "    J1857_high_df[\"prie_pred\"],\n",
    "    bins=np.linspace(4, 7, 31),\n",
    "    alpha=0.5,\n",
    "    label=\"pred\",\n",
    "    density=True,\n",
    ")\n",
    "plt.yscale(\"log\")\n",
    "plt.legend()\n",
    "plt.show()"
   ]
  },
  {
   "cell_type": "markdown",
   "id": "8042b26b",
   "metadata": {},
   "source": [
    "## 方向修正"
   ]
  },
  {
   "cell_type": "code",
   "execution_count": 40,
   "id": "60ca05a4",
   "metadata": {},
   "outputs": [],
   "source": [
    "gammadata_high[\"pritheta\"] = np.rad2deg(gammadata_high[\"pritheta\"])\n",
    "gammadata_high[\"priphi\"] = 180-np.rad2deg(gammadata_high[\"priphi\"])\n",
    "gammadata_high[\"priphi\"][gammadata_high[\"priphi\"] > 180] = gammadata_high[\"priphi\"][gammadata_high[\"priphi\"] > 180]-360"
   ]
  },
  {
   "cell_type": "code",
   "execution_count": 41,
   "id": "1d819095",
   "metadata": {},
   "outputs": [],
   "source": [
    "gammadata_high[\"deltatheta\"] = gammadata_high[\"theta\"]-gammadata_high[\"pritheta\"]\n",
    "gammadata_high[\"deltaphi\"] = gammadata_high[\"phi\"]-gammadata_high[\"priphi\"]\n",
    "gammadata_high[\"deltaphi\"][gammadata_high[\"deltaphi\"] <-180]+=360\n",
    "gammadata_high[\"deltaphi\"][gammadata_high[\"deltaphi\"] >180]-=360"
   ]
  },
  {
   "cell_type": "code",
   "execution_count": 46,
   "id": "72cff5ca",
   "metadata": {},
   "outputs": [
    {
     "name": "stderr",
     "output_type": "stream",
     "text": [
      "Warning: Training may take a very long time because `time_limit` was not specified and `train_data` is large (2139378 samples, 188.27 MB).\n",
      "\tConsider setting `time_limit` to ensure training finishes within an expected duration or experiment with a small portion of `train_data` to identify an ideal `presets` and `hyperparameters` configuration.\n",
      "Beginning AutoGluon training ...\n",
      "AutoGluon will save models to \"./autogloun_model/highEnergy_deltatheta/\"\n",
      "AutoGluon Version:  0.7.0\n",
      "Python Version:     3.9.16\n",
      "Operating System:   Linux\n",
      "Platform Machine:   x86_64\n",
      "Platform Version:   #1 SMP Debian 5.10.179-1 (2023-05-12)\n",
      "Train Data Rows:    2139378\n",
      "Train Data Columns: 10\n",
      "Label Column: deltatheta\n",
      "Preprocessing data ...\n",
      "AutoGluon infers your prediction problem is: 'regression' (because dtype of label-column == float and many unique label-values observed).\n",
      "\tLabel info (max, min, mean, stddev): (9.612025495594509, -7.147092985588266, -0.00184, 0.42056)\n",
      "\tIf 'regression' is not the correct problem_type, please manually specify the problem_type parameter during predictor init (You may specify problem_type as one of: ['binary', 'multiclass', 'regression'])\n",
      "Using Feature Generators to preprocess the data ...\n",
      "Fitting AutoMLPipelineFeatureGenerator...\n",
      "\tAvailable Memory:                    124983.7 MB\n",
      "\tTrain Data (Original)  Memory Usage: 171.15 MB (0.1% of available memory)\n",
      "\tInferring data type of each feature based on column values. Set feature_metadata_in to manually specify special dtypes of the features.\n",
      "\tStage 1 Generators:\n",
      "\t\tFitting AsTypeFeatureGenerator...\n",
      "\tStage 2 Generators:\n",
      "\t\tFitting FillNaFeatureGenerator...\n",
      "\tStage 3 Generators:\n",
      "\t\tFitting IdentityFeatureGenerator...\n",
      "\tStage 4 Generators:\n",
      "\t\tFitting DropUniqueFeatureGenerator...\n",
      "\tTypes of features in original data (raw dtype, special dtypes):\n",
      "\t\t('float', []) : 10 | ['theta', 'phi', 'sigma', 'cx', 'cy', ...]\n",
      "\tTypes of features in processed data (raw dtype, special dtypes):\n",
      "\t\t('float', []) : 10 | ['theta', 'phi', 'sigma', 'cx', 'cy', ...]\n",
      "\t7.6s = Fit runtime\n",
      "\t10 features in original data used to generate 10 features in processed data.\n",
      "\tTrain Data (Processed) Memory Usage: 171.15 MB (0.1% of available memory)\n",
      "Data preprocessing and feature engineering runtime = 8.15s ...\n",
      "AutoGluon will gauge predictive performance using evaluation metric: 'root_mean_squared_error'\n",
      "\tThis metric's sign has been flipped to adhere to being higher_is_better. The metric score can be multiplied by -1 to get the metric value.\n",
      "\tTo change this, specify the eval_metric parameter of Predictor()\n",
      "Automatically generating train/validation split with holdout_frac=0.01, Train Rows: 2117984, Val Rows: 21394\n",
      "Fitting 11 L1 models ...\n",
      "Fitting model: KNeighborsUnif ...\n",
      "\t-0.4441\t = Validation score   (-root_mean_squared_error)\n",
      "\t7.32s\t = Training   runtime\n",
      "\t0.34s\t = Validation runtime\n",
      "Fitting model: KNeighborsDist ...\n",
      "\t-0.4454\t = Validation score   (-root_mean_squared_error)\n",
      "\t7.21s\t = Training   runtime\n",
      "\t0.69s\t = Validation runtime\n",
      "Fitting model: LightGBMXT ...\n",
      "\tTraining LightGBMXT with GPU, note that this may negatively impact model quality compared to CPU training.\n"
     ]
    },
    {
     "name": "stdout",
     "output_type": "stream",
     "text": [
      "[1000]\tvalid_set's rmse: 0.371177\n",
      "[2000]\tvalid_set's rmse: 0.368006\n",
      "[3000]\tvalid_set's rmse: 0.366813\n",
      "[4000]\tvalid_set's rmse: 0.366076\n",
      "[5000]\tvalid_set's rmse: 0.365489\n",
      "[6000]\tvalid_set's rmse: 0.365094\n",
      "[7000]\tvalid_set's rmse: 0.364849\n",
      "[8000]\tvalid_set's rmse: 0.364648\n",
      "[9000]\tvalid_set's rmse: 0.364409\n",
      "[10000]\tvalid_set's rmse: 0.364304\n"
     ]
    },
    {
     "name": "stderr",
     "output_type": "stream",
     "text": [
      "\t-0.3643\t = Validation score   (-root_mean_squared_error)\n",
      "\t123.79s\t = Training   runtime\n",
      "\t0.48s\t = Validation runtime\n",
      "Fitting model: LightGBM ...\n",
      "\tTraining LightGBM with GPU, note that this may negatively impact model quality compared to CPU training.\n"
     ]
    },
    {
     "name": "stdout",
     "output_type": "stream",
     "text": [
      "[1000]\tvalid_set's rmse: 0.36845\n",
      "[2000]\tvalid_set's rmse: 0.36702\n",
      "[3000]\tvalid_set's rmse: 0.36645\n",
      "[4000]\tvalid_set's rmse: 0.366134\n",
      "[5000]\tvalid_set's rmse: 0.365814\n",
      "[6000]\tvalid_set's rmse: 0.365692\n",
      "[7000]\tvalid_set's rmse: 0.365645\n",
      "[8000]\tvalid_set's rmse: 0.36588\n",
      "[9000]\tvalid_set's rmse: 0.365735\n"
     ]
    },
    {
     "name": "stderr",
     "output_type": "stream",
     "text": [
      "\t-0.3656\t = Validation score   (-root_mean_squared_error)\n",
      "\t106.76s\t = Training   runtime\n",
      "\t0.29s\t = Validation runtime\n",
      "Fitting model: RandomForestMSE ...\n",
      "\t-0.3667\t = Validation score   (-root_mean_squared_error)\n",
      "\t245.97s\t = Training   runtime\n",
      "\t0.11s\t = Validation runtime\n",
      "Fitting model: CatBoost ...\n",
      "\tTraining CatBoost with GPU, note that this may negatively impact model quality compared to CPU training.\n",
      "\tWarning: CatBoost on GPU is experimental. If you encounter issues, use CPU for training CatBoost instead.\n",
      "\t-0.3681\t = Validation score   (-root_mean_squared_error)\n",
      "\t19.03s\t = Training   runtime\n",
      "\t0.02s\t = Validation runtime\n",
      "Fitting model: ExtraTreesMSE ...\n",
      "\t-0.3689\t = Validation score   (-root_mean_squared_error)\n",
      "\t90.94s\t = Training   runtime\n",
      "\t0.1s\t = Validation runtime\n",
      "Fitting model: NeuralNetFastAI ...\n",
      "\t-0.3628\t = Validation score   (-root_mean_squared_error)\n",
      "\t652.04s\t = Training   runtime\n",
      "\t0.09s\t = Validation runtime\n",
      "Fitting model: XGBoost ...\n",
      "\t-0.3665\t = Validation score   (-root_mean_squared_error)\n",
      "\t13.28s\t = Training   runtime\n",
      "\t0.14s\t = Validation runtime\n",
      "Fitting model: NeuralNetTorch ...\n",
      "TabularNeuralNetTorchModel not yet able to use more than 1 GPU. 'num_gpus' is set to >1, but we will be using only 1 GPU.\n",
      "\t-0.3615\t = Validation score   (-root_mean_squared_error)\n",
      "\t921.85s\t = Training   runtime\n",
      "\t0.05s\t = Validation runtime\n",
      "Fitting model: LightGBMLarge ...\n",
      "\tTraining LightGBMLarge with GPU, note that this may negatively impact model quality compared to CPU training.\n"
     ]
    },
    {
     "name": "stdout",
     "output_type": "stream",
     "text": [
      "[1000]\tvalid_set's rmse: 0.366537\n",
      "[2000]\tvalid_set's rmse: 0.365345\n",
      "[3000]\tvalid_set's rmse: 0.365099\n",
      "[4000]\tvalid_set's rmse: 0.364779\n",
      "[5000]\tvalid_set's rmse: 0.364754\n",
      "[6000]\tvalid_set's rmse: 0.364517\n",
      "[7000]\tvalid_set's rmse: 0.364609\n"
     ]
    },
    {
     "name": "stderr",
     "output_type": "stream",
     "text": [
      "\t-0.3645\t = Validation score   (-root_mean_squared_error)\n",
      "\t151.71s\t = Training   runtime\n",
      "\t0.21s\t = Validation runtime\n",
      "Fitting model: WeightedEnsemble_L2 ...\n",
      "\t-0.3609\t = Validation score   (-root_mean_squared_error)\n",
      "\t0.4s\t = Training   runtime\n",
      "\t0.0s\t = Validation runtime\n",
      "AutoGluon training complete, total runtime = 2373.95s ... Best model: \"WeightedEnsemble_L2\"\n",
      "TabularPredictor saved. To load, use: predictor = TabularPredictor.load(\"./autogloun_model/highEnergy_deltatheta/\")\n"
     ]
    }
   ],
   "source": [
    "label = \"deltatheta\"\n",
    "gammadata_high_df = pd.DataFrame(gammadata_high)\n",
    "columns_need = [\n",
    "    \"theta\",\n",
    "    \"phi\",\n",
    "    \"sigma\",\n",
    "    \"cx\",\n",
    "    \"cy\",\n",
    "    \"sumpf\",\n",
    "    \"mr1\",\n",
    "    \"ne\",\n",
    "    \"age\",\n",
    "    \"S50\",\n",
    "]\n",
    "columns_need.append(label)\n",
    "predictor = TabularPredictor(\n",
    "    label=label,\n",
    "    path=\"./autogloun_model/highEnergy_deltatheta\",\n",
    ").fit(gammadata_high_df[columns_need], num_cpus=40, num_gpus=2)"
   ]
  },
  {
   "cell_type": "code",
   "execution_count": 47,
   "id": "e426d3f1",
   "metadata": {},
   "outputs": [
    {
     "name": "stderr",
     "output_type": "stream",
     "text": [
      "Warning: Training may take a very long time because `time_limit` was not specified and `train_data` is large (2139378 samples, 188.27 MB).\n",
      "\tConsider setting `time_limit` to ensure training finishes within an expected duration or experiment with a small portion of `train_data` to identify an ideal `presets` and `hyperparameters` configuration.\n",
      "Beginning AutoGluon training ...\n",
      "AutoGluon will save models to \"./autogloun_model/highEnergy_deltaphi/\"\n",
      "AutoGluon Version:  0.7.0\n",
      "Python Version:     3.9.16\n",
      "Operating System:   Linux\n",
      "Platform Machine:   x86_64\n",
      "Platform Version:   #1 SMP Debian 5.10.179-1 (2023-05-12)\n",
      "Train Data Rows:    2139378\n",
      "Train Data Columns: 10\n",
      "Label Column: deltaphi\n",
      "Preprocessing data ...\n",
      "AutoGluon infers your prediction problem is: 'regression' (because dtype of label-column == float and many unique label-values observed).\n",
      "\tLabel info (max, min, mean, stddev): (178.3685093758777, -178.77805688336724, 0.00118, 2.17283)\n",
      "\tIf 'regression' is not the correct problem_type, please manually specify the problem_type parameter during predictor init (You may specify problem_type as one of: ['binary', 'multiclass', 'regression'])\n",
      "Using Feature Generators to preprocess the data ...\n",
      "Fitting AutoMLPipelineFeatureGenerator...\n",
      "\tAvailable Memory:                    118915.35 MB\n",
      "\tTrain Data (Original)  Memory Usage: 171.15 MB (0.1% of available memory)\n",
      "\tInferring data type of each feature based on column values. Set feature_metadata_in to manually specify special dtypes of the features.\n",
      "\tStage 1 Generators:\n",
      "\t\tFitting AsTypeFeatureGenerator...\n",
      "\tStage 2 Generators:\n",
      "\t\tFitting FillNaFeatureGenerator...\n",
      "\tStage 3 Generators:\n",
      "\t\tFitting IdentityFeatureGenerator...\n",
      "\tStage 4 Generators:\n",
      "\t\tFitting DropUniqueFeatureGenerator...\n",
      "\tTypes of features in original data (raw dtype, special dtypes):\n",
      "\t\t('float', []) : 10 | ['theta', 'phi', 'sigma', 'cx', 'cy', ...]\n",
      "\tTypes of features in processed data (raw dtype, special dtypes):\n",
      "\t\t('float', []) : 10 | ['theta', 'phi', 'sigma', 'cx', 'cy', ...]\n",
      "\t7.6s = Fit runtime\n",
      "\t10 features in original data used to generate 10 features in processed data.\n",
      "\tTrain Data (Processed) Memory Usage: 171.15 MB (0.1% of available memory)\n",
      "Data preprocessing and feature engineering runtime = 8.07s ...\n",
      "AutoGluon will gauge predictive performance using evaluation metric: 'root_mean_squared_error'\n",
      "\tThis metric's sign has been flipped to adhere to being higher_is_better. The metric score can be multiplied by -1 to get the metric value.\n",
      "\tTo change this, specify the eval_metric parameter of Predictor()\n",
      "Automatically generating train/validation split with holdout_frac=0.01, Train Rows: 2117984, Val Rows: 21394\n",
      "Fitting 11 L1 models ...\n",
      "Fitting model: KNeighborsUnif ...\n",
      "\t-2.1866\t = Validation score   (-root_mean_squared_error)\n",
      "\t7.39s\t = Training   runtime\n",
      "\t0.41s\t = Validation runtime\n",
      "Fitting model: KNeighborsDist ...\n",
      "\t-2.1929\t = Validation score   (-root_mean_squared_error)\n",
      "\t7.24s\t = Training   runtime\n",
      "\t0.37s\t = Validation runtime\n",
      "Fitting model: LightGBMXT ...\n",
      "\tTraining LightGBMXT with GPU, note that this may negatively impact model quality compared to CPU training.\n"
     ]
    },
    {
     "name": "stdout",
     "output_type": "stream",
     "text": [
      "[1000]\tvalid_set's rmse: 1.9617\n"
     ]
    },
    {
     "name": "stderr",
     "output_type": "stream",
     "text": [
      "\t-1.9601\t = Validation score   (-root_mean_squared_error)\n",
      "\t20.98s\t = Training   runtime\n",
      "\t0.04s\t = Validation runtime\n",
      "Fitting model: LightGBM ...\n",
      "\tTraining LightGBM with GPU, note that this may negatively impact model quality compared to CPU training.\n",
      "\t-2.0101\t = Validation score   (-root_mean_squared_error)\n",
      "\t9.39s\t = Training   runtime\n",
      "\t0.01s\t = Validation runtime\n",
      "Fitting model: RandomForestMSE ...\n",
      "\t-2.0723\t = Validation score   (-root_mean_squared_error)\n",
      "\t758.18s\t = Training   runtime\n",
      "\t0.1s\t = Validation runtime\n",
      "Fitting model: CatBoost ...\n",
      "\tTraining CatBoost with GPU, note that this may negatively impact model quality compared to CPU training.\n",
      "\tWarning: CatBoost on GPU is experimental. If you encounter issues, use CPU for training CatBoost instead.\n",
      "\t-2.0183\t = Validation score   (-root_mean_squared_error)\n",
      "\t3.6s\t = Training   runtime\n",
      "\t0.0s\t = Validation runtime\n",
      "Fitting model: ExtraTreesMSE ...\n",
      "\t-1.9901\t = Validation score   (-root_mean_squared_error)\n",
      "\t85.87s\t = Training   runtime\n",
      "\t0.1s\t = Validation runtime\n",
      "Fitting model: NeuralNetFastAI ...\n",
      "No improvement since epoch 0: early stopping\n",
      "\t-1.9768\t = Validation score   (-root_mean_squared_error)\n",
      "\t456.98s\t = Training   runtime\n",
      "\t0.09s\t = Validation runtime\n",
      "Fitting model: XGBoost ...\n",
      "\t-2.0209\t = Validation score   (-root_mean_squared_error)\n",
      "\t4.23s\t = Training   runtime\n",
      "\t0.01s\t = Validation runtime\n",
      "Fitting model: NeuralNetTorch ...\n",
      "TabularNeuralNetTorchModel not yet able to use more than 1 GPU. 'num_gpus' is set to >1, but we will be using only 1 GPU.\n",
      "\t-1.8877\t = Validation score   (-root_mean_squared_error)\n",
      "\t540.29s\t = Training   runtime\n",
      "\t0.05s\t = Validation runtime\n",
      "Fitting model: LightGBMLarge ...\n",
      "\tTraining LightGBMLarge with GPU, note that this may negatively impact model quality compared to CPU training.\n"
     ]
    },
    {
     "name": "stdout",
     "output_type": "stream",
     "text": [
      "[1000]\tvalid_set's rmse: 1.99567\n"
     ]
    },
    {
     "name": "stderr",
     "output_type": "stream",
     "text": [
      "\t-1.9954\t = Validation score   (-root_mean_squared_error)\n",
      "\t30.14s\t = Training   runtime\n",
      "\t0.03s\t = Validation runtime\n",
      "Fitting model: WeightedEnsemble_L2 ...\n",
      "\t-1.8877\t = Validation score   (-root_mean_squared_error)\n",
      "\t0.39s\t = Training   runtime\n",
      "\t0.0s\t = Validation runtime\n",
      "AutoGluon training complete, total runtime = 1955.08s ... Best model: \"WeightedEnsemble_L2\"\n",
      "TabularPredictor saved. To load, use: predictor = TabularPredictor.load(\"./autogloun_model/highEnergy_deltaphi/\")\n"
     ]
    }
   ],
   "source": [
    "label = \"deltaphi\"\n",
    "gammadata_high_df = pd.DataFrame(gammadata_high)\n",
    "columns_need = [\n",
    "    \"theta\",\n",
    "    \"phi\",\n",
    "    \"sigma\",\n",
    "    \"cx\",\n",
    "    \"cy\",\n",
    "    \"sumpf\",\n",
    "    \"mr1\",\n",
    "    \"ne\",\n",
    "    \"age\",\n",
    "    \"S50\",\n",
    "]\n",
    "columns_need.append(label)\n",
    "predictor = TabularPredictor(\n",
    "    label=label,\n",
    "    path=\"./autogloun_model/highEnergy_deltaphi\",\n",
    ").fit(gammadata_high_df[columns_need], num_cpus=40, num_gpus=2)"
   ]
  },
  {
   "cell_type": "code",
   "execution_count": 4,
   "id": "9fb38733",
   "metadata": {},
   "outputs": [],
   "source": [
    "# 使用J1857的模拟测试\n",
    "J1857 = uproot.open(\"/home2/hky/github/Gamma_Energy/MCdata/data_gamma_026/RESULT.root\")\n",
    "# 读取为dict，每一个value为numpy格式\n",
    "J1857 = J1857[\"asresult\"].arrays(paraneed_MC_Pgamma, library=\"np\")\n",
    "# 计算模拟数据的S50\n",
    "J1857[\"S50\"] = getS50(J1857[\"ne\"], J1857[\"age\"])\n",
    "J1857_need_high = np.where(\n",
    "    (J1857[\"nch\"] >= 16)\n",
    "    & (J1857[\"sigma\"] < 1)\n",
    "    & (J1857[\"inout\"] == 1)\n",
    "    & (J1857[\"age\"] > 0.301)\n",
    "    & (J1857[\"age\"] < 1.599)\n",
    "    & ((J1857[\"summd\"] < 0.4) | (J1857[\"summd\"] < 1.2e-3 * J1857[\"sumpf\"] ** 1.6))\n",
    "    & (J1857[\"theta\"] < 60)\n",
    ")\n",
    "\n",
    "J1857_high = {key: J1857[key][J1857_need_high] for key in J1857.keys()}\n",
    "for para in [\"ne\", \"S50\", \"sumpf\", \"prie\"]:\n",
    "    J1857_high[para] = np.log10(J1857_high[para])\n",
    "\n",
    "J1857_high[\"pritheta\"] = np.rad2deg(J1857_high[\"pritheta\"])\n",
    "J1857_high[\"priphi\"] = 180-np.rad2deg(J1857_high[\"priphi\"])\n",
    "J1857_high[\"priphi\"][J1857_high[\"priphi\"] > 180] = J1857_high[\"priphi\"][J1857_high[\"priphi\"] > 180]-360\n",
    "J1857_high[\"deltatheta\"] = J1857_high[\"theta\"]-J1857_high[\"pritheta\"]\n",
    "J1857_high[\"deltaphi\"] = J1857_high[\"phi\"]-J1857_high[\"priphi\"]\n",
    "J1857_high[\"deltaphi\"][J1857_high[\"deltaphi\"] <-180]+=360\n",
    "J1857_high[\"deltaphi\"][J1857_high[\"deltaphi\"] >180]-=360\n",
    "\n",
    "J1857_high_df = pd.DataFrame(J1857_high)\n"
   ]
  },
  {
   "cell_type": "code",
   "execution_count": 5,
   "id": "c97594e5",
   "metadata": {},
   "outputs": [],
   "source": [
    "predictor_deltatheta =  TabularPredictor.load(\"./autogloun_model/highEnergy_deltatheta/\")\n",
    "predictor_deltaphi =  TabularPredictor.load(\"./autogloun_model/highEnergy_deltaphi/\")\n",
    "J1857_high_df[\"deltatheta_pred\"] = predictor_deltatheta.predict(J1857_high_df)\n",
    "J1857_high_df[\"deltaphi_pred\"] = predictor_deltaphi.predict(J1857_high_df)\n",
    "J1857_high_df[\"pritheta_pred\"] = J1857_high_df[\"theta\"]-J1857_high_df[\"deltatheta_pred\"]\n",
    "J1857_high_df[\"priphi_pred\"] = J1857_high_df[\"phi\"]-J1857_high_df[\"deltaphi_pred\"]"
   ]
  },
  {
   "cell_type": "code",
   "execution_count": 6,
   "id": "76c08a0a",
   "metadata": {},
   "outputs": [],
   "source": [
    "# 定义2角zhi\n",
    "def twoPointAngle(theta1, theta2, phi1, phi2):\n",
    "    return np.rad2deg(\n",
    "        np.arccos(\n",
    "            np.sin(np.deg2rad(theta1))\n",
    "            * np.sin(np.deg2rad(theta2))\n",
    "            * np.cos(np.deg2rad(phi1 - phi2))\n",
    "            + np.cos(np.deg2rad(theta1)) * np.cos(np.deg2rad(theta2))\n",
    "        )\n",
    "    )\n",
    "\n",
    "J1857_high_df[\"delta_angle\"] = twoPointAngle(J1857_high_df[\"pritheta\"],J1857_high_df[\"theta\"],J1857_high_df[\"priphi\"],J1857_high_df[\"phi\"])\n",
    "J1857_high_df[\"delta_angle_pred\"] = twoPointAngle(J1857_high_df[\"pritheta\"],J1857_high_df[\"pritheta_pred\"],J1857_high_df[\"priphi\"],J1857_high_df[\"priphi_pred\"])"
   ]
  },
  {
   "cell_type": "markdown",
   "id": "92de4688",
   "metadata": {},
   "source": [
    "定义能包括一半事例的角度为角分辨。"
   ]
  },
  {
   "cell_type": "code",
   "execution_count": 7,
   "id": "36af295d",
   "metadata": {},
   "outputs": [
    {
     "data": {
      "text/plain": [
       "(1.575692015414015, 4.551651244703818)"
      ]
     },
     "execution_count": 7,
     "metadata": {},
     "output_type": "execute_result"
    }
   ],
   "source": [
    "np.min(J1857_high_df[\"sumpf\"]),np.max(J1857_high_df[\"sumpf\"])"
   ]
  },
  {
   "cell_type": "code",
   "execution_count": 8,
   "id": "11781e18",
   "metadata": {},
   "outputs": [],
   "source": [
    "sumpf_bins = np.linspace(1.6,4.5,20)\n",
    "Angular_resolution = np.zeros(19)\n",
    "Angular_resolution_pred = np.zeros(19)\n",
    "\n",
    "for i in range(len(sumpf_bins)-1):\n",
    "    need = np.where((J1857_high_df[\"sumpf\"]>sumpf_bins[i])&(J1857_high_df[\"sumpf\"]<sumpf_bins[i+1]) )\n",
    "    Angular_resolution[i] = np.median(J1857_high_df.loc[need,\"delta_angle\"])\n",
    "    Angular_resolution_pred[i] = np.median(J1857_high_df.loc[need,\"delta_angle_pred\"])    "
   ]
  },
  {
   "cell_type": "code",
   "execution_count": 13,
   "id": "86c2393e",
   "metadata": {},
   "outputs": [
    {
     "data": {
      "image/png": "[encoded data removed]",
      "text/plain": [
       "<Figure size 640x480 with 1 Axes>"
      ]
     },
     "metadata": {},
     "output_type": "display_data"
    }
   ],
   "source": [
    "sumpf_bins_center = (sumpf_bins[:-1] + sumpf_bins[1:]) / 2\n",
    "plt.plot(sumpf_bins_center, Angular_resolution, label=\"raw\")\n",
    "plt.plot(sumpf_bins_center, Angular_resolution_pred, label=\"optimization\")\n",
    "plt.xlabel(\"sumpf\")\n",
    "plt.ylabel(\"Angular resolution\")\n",
    "plt.legend()\n",
    "plt.show()"
   ]
  },
  {
   "cell_type": "markdown",
   "id": "95351310",
   "metadata": {},
   "source": [
    "## 低能样本"
   ]
  },
  {
   "cell_type": "markdown",
   "id": "a2940202",
   "metadata": {},
   "source": [
    "### 初步cut\n",
    "第一步的cut是为了去掉过多的宇宙线事例\n",
    "\n",
    "$nch>=4$\n",
    "\n",
    "$sigma<=1$\n",
    "\n",
    "$inout==1$\n",
    "\n",
    "$summd<0.4$ \n",
    "\n",
    "$theta<60$"
   ]
  },
  {
   "cell_type": "code",
   "execution_count": 10,
   "id": "d8307b89",
   "metadata": {},
   "outputs": [],
   "source": [
    "gammadata_need_low = np.where(\n",
    "    (gammadata[\"nch\"] >= 4)\n",
    "    & (gammadata[\"sigma\"] < 1)\n",
    "    & (gammadata[\"inout\"] == 1)\n",
    "    & (gammadata[\"summd\"] < 0.4)\n",
    "    & (gammadata[\"theta\"] < 60)\n",
    ")\n",
    "gammadata_low = {key: gammadata[key][gammadata_need_low] for key in gammadata.keys()}\n"
   ]
  },
  {
   "cell_type": "code",
   "execution_count": 11,
   "id": "c8e536eb",
   "metadata": {},
   "outputs": [],
   "source": [
    "# 因为这3个量跨度比较大，所以取对数\n",
    "for para in [\"sumpf\", \"prie\"]:\n",
    "    gammadata_low[para] = np.log10(gammadata_low[para])"
   ]
  },
  {
   "cell_type": "markdown",
   "id": "6f312ba5",
   "metadata": {},
   "source": [
    "## 能量拟合"
   ]
  },
  {
   "cell_type": "code",
   "execution_count": 13,
   "id": "4f256a30",
   "metadata": {},
   "outputs": [
    {
     "name": "stderr",
     "output_type": "stream",
     "text": [
      "Warning: path already exists! This predictor may overwrite an existing predictor! path=\"./autogloun_model/lowEnergy_Energy\"\n",
      "Warning: Training may take a very long time because `time_limit` was not specified and `train_data` is large (7371621 samples, 412.81 MB).\n",
      "\tConsider setting `time_limit` to ensure training finishes within an expected duration or experiment with a small portion of `train_data` to identify an ideal `presets` and `hyperparameters` configuration.\n",
      "Beginning AutoGluon training ...\n",
      "AutoGluon will save models to \"./autogloun_model/lowEnergy_Energy/\"\n",
      "AutoGluon Version:  0.7.0\n",
      "Python Version:     3.9.16\n",
      "Operating System:   Linux\n",
      "Platform Machine:   x86_64\n",
      "Platform Version:   #1 SMP Debian 5.10.179-1 (2023-05-12)\n",
      "Train Data Rows:    7371621\n",
      "Train Data Columns: 6\n",
      "Label Column: prie\n",
      "Preprocessing data ...\n",
      "AutoGluon infers your prediction problem is: 'regression' (because dtype of label-column == float and many unique label-values observed).\n",
      "\tLabel info (max, min, mean, stddev): (7.545938129425625, 2.477238268381866, 4.13607, 0.55636)\n",
      "\tIf 'regression' is not the correct problem_type, please manually specify the problem_type parameter during predictor init (You may specify problem_type as one of: ['binary', 'multiclass', 'regression'])\n",
      "Using Feature Generators to preprocess the data ...\n",
      "Fitting AutoMLPipelineFeatureGenerator...\n",
      "\tAvailable Memory:                    125957.16 MB\n",
      "\tTrain Data (Original)  Memory Usage: 353.84 MB (0.3% of available memory)\n",
      "\tInferring data type of each feature based on column values. Set feature_metadata_in to manually specify special dtypes of the features.\n",
      "\tStage 1 Generators:\n",
      "\t\tFitting AsTypeFeatureGenerator...\n",
      "\tStage 2 Generators:\n",
      "\t\tFitting FillNaFeatureGenerator...\n",
      "\tStage 3 Generators:\n",
      "\t\tFitting IdentityFeatureGenerator...\n",
      "\tStage 4 Generators:\n",
      "\t\tFitting DropUniqueFeatureGenerator...\n",
      "\tTypes of features in original data (raw dtype, special dtypes):\n",
      "\t\t('float', []) : 6 | ['theta', 'sigma', 'cx', 'cy', 'sumpf', ...]\n",
      "\tTypes of features in processed data (raw dtype, special dtypes):\n",
      "\t\t('float', []) : 6 | ['theta', 'sigma', 'cx', 'cy', 'sumpf', ...]\n",
      "\t23.5s = Fit runtime\n",
      "\t6 features in original data used to generate 6 features in processed data.\n",
      "\tTrain Data (Processed) Memory Usage: 353.84 MB (0.3% of available memory)\n",
      "Data preprocessing and feature engineering runtime = 24.84s ...\n",
      "AutoGluon will gauge predictive performance using evaluation metric: 'root_mean_squared_error'\n",
      "\tThis metric's sign has been flipped to adhere to being higher_is_better. The metric score can be multiplied by -1 to get the metric value.\n",
      "\tTo change this, specify the eval_metric parameter of Predictor()\n",
      "Automatically generating train/validation split with holdout_frac=0.01, Train Rows: 7297904, Val Rows: 73717\n",
      "Fitting 11 L1 models ...\n",
      "Fitting model: KNeighborsUnif ...\n",
      "\t-0.402\t = Validation score   (-root_mean_squared_error)\n",
      "\t21.2s\t = Training   runtime\n",
      "\t1.54s\t = Validation runtime\n",
      "Fitting model: KNeighborsDist ...\n",
      "\t-0.4008\t = Validation score   (-root_mean_squared_error)\n",
      "\t20.99s\t = Training   runtime\n",
      "\t1.65s\t = Validation runtime\n",
      "Fitting model: LightGBMXT ...\n",
      "\tTraining LightGBMXT with GPU, note that this may negatively impact model quality compared to CPU training.\n"
     ]
    },
    {
     "name": "stdout",
     "output_type": "stream",
     "text": [
      "[1000]\tvalid_set's rmse: 0.293639\n",
      "[2000]\tvalid_set's rmse: 0.29292\n",
      "[3000]\tvalid_set's rmse: 0.292563\n",
      "[4000]\tvalid_set's rmse: 0.292326\n",
      "[5000]\tvalid_set's rmse: 0.292153\n",
      "[6000]\tvalid_set's rmse: 0.292027\n",
      "[7000]\tvalid_set's rmse: 0.291919\n",
      "[8000]\tvalid_set's rmse: 0.291839\n",
      "[9000]\tvalid_set's rmse: 0.291762\n",
      "[10000]\tvalid_set's rmse: 0.291707\n"
     ]
    },
    {
     "name": "stderr",
     "output_type": "stream",
     "text": [
      "\t-0.2917\t = Validation score   (-root_mean_squared_error)\n",
      "\t484.72s\t = Training   runtime\n",
      "\t2.17s\t = Validation runtime\n",
      "Fitting model: LightGBM ...\n",
      "\tTraining LightGBM with GPU, note that this may negatively impact model quality compared to CPU training.\n"
     ]
    },
    {
     "name": "stdout",
     "output_type": "stream",
     "text": [
      "[1000]\tvalid_set's rmse: 0.292238\n",
      "[2000]\tvalid_set's rmse: 0.291635\n",
      "[3000]\tvalid_set's rmse: 0.291369\n",
      "[4000]\tvalid_set's rmse: 0.291265\n",
      "[5000]\tvalid_set's rmse: 0.29118\n",
      "[6000]\tvalid_set's rmse: 0.291145\n",
      "[7000]\tvalid_set's rmse: 0.291147\n",
      "[8000]\tvalid_set's rmse: 0.291126\n",
      "[9000]\tvalid_set's rmse: 0.291104\n",
      "[10000]\tvalid_set's rmse: 0.291119\n"
     ]
    },
    {
     "name": "stderr",
     "output_type": "stream",
     "text": [
      "\t-0.2911\t = Validation score   (-root_mean_squared_error)\n",
      "\t358.73s\t = Training   runtime\n",
      "\t1.31s\t = Validation runtime\n",
      "Fitting model: RandomForestMSE ...\n",
      "\t-0.296\t = Validation score   (-root_mean_squared_error)\n",
      "\t687.17s\t = Training   runtime\n",
      "\t0.14s\t = Validation runtime\n",
      "Fitting model: CatBoost ...\n",
      "\tTraining CatBoost with GPU, note that this may negatively impact model quality compared to CPU training.\n",
      "\tWarning: CatBoost on GPU is experimental. If you encounter issues, use CPU for training CatBoost instead.\n",
      "\t-0.2919\t = Validation score   (-root_mean_squared_error)\n",
      "\t57.19s\t = Training   runtime\n",
      "\t0.04s\t = Validation runtime\n",
      "Fitting model: ExtraTreesMSE ...\n",
      "\t-0.2966\t = Validation score   (-root_mean_squared_error)\n",
      "\t345.49s\t = Training   runtime\n",
      "\t0.14s\t = Validation runtime\n",
      "Fitting model: NeuralNetFastAI ...\n",
      "\t-0.2925\t = Validation score   (-root_mean_squared_error)\n",
      "\t2270.63s\t = Training   runtime\n",
      "\t0.33s\t = Validation runtime\n",
      "Fitting model: XGBoost ...\n",
      "\t-0.2913\t = Validation score   (-root_mean_squared_error)\n",
      "\t44.22s\t = Training   runtime\n",
      "\t0.64s\t = Validation runtime\n",
      "Fitting model: NeuralNetTorch ...\n",
      "TabularNeuralNetTorchModel not yet able to use more than 1 GPU. 'num_gpus' is set to >1, but we will be using only 1 GPU.\n",
      "\t-0.2989\t = Validation score   (-root_mean_squared_error)\n",
      "\t640.27s\t = Training   runtime\n",
      "\t0.09s\t = Validation runtime\n",
      "Fitting model: LightGBMLarge ...\n",
      "\tTraining LightGBMLarge with GPU, note that this may negatively impact model quality compared to CPU training.\n"
     ]
    },
    {
     "name": "stdout",
     "output_type": "stream",
     "text": [
      "[1000]\tvalid_set's rmse: 0.291521\n",
      "[2000]\tvalid_set's rmse: 0.291275\n",
      "[3000]\tvalid_set's rmse: 0.291164\n",
      "[4000]\tvalid_set's rmse: 0.291135\n",
      "[5000]\tvalid_set's rmse: 0.291111\n",
      "[6000]\tvalid_set's rmse: 0.291148\n"
     ]
    },
    {
     "name": "stderr",
     "output_type": "stream",
     "text": [
      "\t-0.2911\t = Validation score   (-root_mean_squared_error)\n",
      "\t297.35s\t = Training   runtime\n",
      "\t0.7s\t = Validation runtime\n",
      "Fitting model: WeightedEnsemble_L2 ...\n",
      "\t-0.2908\t = Validation score   (-root_mean_squared_error)\n",
      "\t0.84s\t = Training   runtime\n",
      "\t0.0s\t = Validation runtime\n",
      "AutoGluon training complete, total runtime = 5299.58s ... Best model: \"WeightedEnsemble_L2\"\n",
      "TabularPredictor saved. To load, use: predictor = TabularPredictor.load(\"./autogloun_model/lowEnergy_Energy/\")\n"
     ]
    }
   ],
   "source": [
    "label = \"prie\"\n",
    "gammadata_low_df = pd.DataFrame(gammadata_low)\n",
    "columns_need = [\n",
    "    \"theta\",\n",
    "    \"sigma\",\n",
    "    \"cx\",\n",
    "    \"cy\",\n",
    "    \"sumpf\",\n",
    "    \"mr1\",\n",
    "]\n",
    "columns_need.append(label)\n",
    "predictor = TabularPredictor(\n",
    "    label=label,\n",
    "    path=\"./autogloun_model/lowEnergy_Energy\",\n",
    ").fit(gammadata_low_df[columns_need], num_cpus=40, num_gpus=2)"
   ]
  },
  {
   "cell_type": "code",
   "execution_count": 14,
   "id": "e3af8e13",
   "metadata": {},
   "outputs": [],
   "source": [
    "gammadata_low_df[\"prie_pred\"] = predictor.predict(gammadata_low_df)"
   ]
  },
  {
   "cell_type": "code",
   "execution_count": 15,
   "id": "ca50ca59",
   "metadata": {},
   "outputs": [
    {
     "data": {
      "image/png": "[encoded data removed]",
      "text/plain": [
       "<Figure size 640x480 with 1 Axes>"
      ]
     },
     "metadata": {},
     "output_type": "display_data"
    }
   ],
   "source": [
    "plt.scatter(gammadata_low_df[\"prie\"], gammadata_low_df[\"prie_pred\"], s=1)\n",
    "plt.xlabel(\"pri_e\")\n",
    "plt.ylabel(\"pred_e\")\n",
    "plt.plot([3, 8], [3, 8], color=\"r\")\n",
    "plt.show()"
   ]
  },
  {
   "cell_type": "code",
   "execution_count": 20,
   "id": "05ae2415",
   "metadata": {},
   "outputs": [],
   "source": [
    "# 使用J1857的模拟测试\n",
    "J1857 = uproot.open(\"/home2/hky/github/Gamma_Energy/MCdata/data_gamma_026/RESULT.root\")\n",
    "# 读取为dict，每一个value为numpy格式\n",
    "J1857 = J1857[\"asresult\"].arrays(paraneed_MC_Pgamma, library=\"np\")\n",
    "# 计算模拟数据的S50\n",
    "J1857[\"S50\"] = getS50(J1857[\"ne\"], J1857[\"age\"])\n",
    "J1857_need_low = np.where(\n",
    "    (J1857[\"nch\"] >= 4)\n",
    "    & (J1857[\"sigma\"] < 1)\n",
    "    & (J1857[\"inout\"] == 1)\n",
    "    & (J1857[\"summd\"] < 0.4)\n",
    "    & (J1857[\"theta\"] < 60)\n",
    ")\n",
    "\n",
    "J1857_low = {key: J1857[key][J1857_need_low] for key in J1857.keys()}\n",
    "for para in [\"sumpf\", \"prie\"]:\n",
    "    J1857_low[para] = np.log10(J1857_low[para])"
   ]
  },
  {
   "cell_type": "code",
   "execution_count": 21,
   "id": "8627a5c4",
   "metadata": {},
   "outputs": [],
   "source": [
    "J1857_low_df = pd.DataFrame(J1857_low)\n",
    "J1857_low_df[\"prie_pred\"] = predictor.predict(J1857_low_df)"
   ]
  },
  {
   "cell_type": "code",
   "execution_count": 22,
   "id": "036210ce",
   "metadata": {},
   "outputs": [
    {
     "data": {
      "image/png": "[encoded data removed]",
      "text/plain": [
       "<Figure size 640x480 with 1 Axes>"
      ]
     },
     "metadata": {},
     "output_type": "display_data"
    }
   ],
   "source": [
    "plt.scatter(J1857_low_df[\"prie\"], J1857_low_df[\"prie_pred\"], s=1)\n",
    "plt.plot([3, 8], [3, 8], color=\"r\")\n",
    "plt.xlabel(\"pri_e\")\n",
    "plt.ylabel(\"pred_e\")\n",
    "plt.show()"
   ]
  },
  {
   "cell_type": "code",
   "execution_count": 23,
   "id": "1472b22d",
   "metadata": {},
   "outputs": [
    {
     "data": {
      "image/png": "[encoded data removed]",
      "text/plain": [
       "<Figure size 640x480 with 1 Axes>"
      ]
     },
     "metadata": {},
     "output_type": "display_data"
    }
   ],
   "source": [
    "plt.hist(\n",
    "    J1857_low_df[\"prie\"],\n",
    "    bins=np.linspace(3, 7, 41),\n",
    "    alpha=0.5,\n",
    "    label=\"prie\",\n",
    "    density=True,\n",
    ")\n",
    "plt.hist(\n",
    "    J1857_low_df[\"prie_pred\"],\n",
    "    bins=np.linspace(3, 7, 41),\n",
    "    alpha=0.5,\n",
    "    label=\"pred\",\n",
    "    density=True,\n",
    ")\n",
    "plt.yscale(\"log\")\n",
    "plt.legend()\n",
    "plt.show()"
   ]
  },
  {
   "cell_type": "markdown",
   "id": "4f628069",
   "metadata": {},
   "source": [
    "## 方向修正"
   ]
  },
  {
   "cell_type": "code",
   "execution_count": 24,
   "id": "8066beab",
   "metadata": {},
   "outputs": [],
   "source": [
    "gammadata_low[\"pritheta\"] = np.rad2deg(gammadata_low[\"pritheta\"])\n",
    "gammadata_low[\"priphi\"] = 180-np.rad2deg(gammadata_low[\"priphi\"])\n",
    "gammadata_low[\"priphi\"][gammadata_low[\"priphi\"] > 180] = gammadata_low[\"priphi\"][gammadata_low[\"priphi\"] > 180]-360"
   ]
  },
  {
   "cell_type": "code",
   "execution_count": 25,
   "id": "064e3eb0",
   "metadata": {},
   "outputs": [],
   "source": [
    "gammadata_low[\"deltatheta\"] = gammadata_low[\"theta\"]-gammadata_low[\"pritheta\"]\n",
    "gammadata_low[\"deltaphi\"] = gammadata_low[\"phi\"]-gammadata_low[\"priphi\"]\n",
    "gammadata_low[\"deltaphi\"][gammadata_low[\"deltaphi\"] <-180]+=360\n",
    "gammadata_low[\"deltaphi\"][gammadata_low[\"deltaphi\"] >180]-=360"
   ]
  },
  {
   "cell_type": "code",
   "execution_count": 26,
   "id": "7b80bf66",
   "metadata": {},
   "outputs": [
    {
     "name": "stderr",
     "output_type": "stream",
     "text": [
      "Warning: Training may take a very long time because `time_limit` was not specified and `train_data` is large (7371621 samples, 471.78 MB).\n",
      "\tConsider setting `time_limit` to ensure training finishes within an expected duration or experiment with a small portion of `train_data` to identify an ideal `presets` and `hyperparameters` configuration.\n",
      "Beginning AutoGluon training ...\n",
      "AutoGluon will save models to \"./autogloun_model/lowEnergy_deltatheta/\"\n",
      "AutoGluon Version:  0.7.0\n",
      "Python Version:     3.9.16\n",
      "Operating System:   Linux\n",
      "Platform Machine:   x86_64\n",
      "Platform Version:   #1 SMP Debian 5.10.179-1 (2023-05-12)\n",
      "Train Data Rows:    7371621\n",
      "Train Data Columns: 7\n",
      "Label Column: deltatheta\n",
      "Preprocessing data ...\n",
      "AutoGluon infers your prediction problem is: 'regression' (because dtype of label-column == float and many unique label-values observed).\n",
      "\tLabel info (max, min, mean, stddev): (53.72151396688687, -48.4876668671608, 0.07191, 1.82383)\n",
      "\tIf 'regression' is not the correct problem_type, please manually specify the problem_type parameter during predictor init (You may specify problem_type as one of: ['binary', 'multiclass', 'regression'])\n",
      "Using Feature Generators to preprocess the data ...\n",
      "Fitting AutoMLPipelineFeatureGenerator...\n",
      "\tAvailable Memory:                    115960.09 MB\n",
      "\tTrain Data (Original)  Memory Usage: 412.81 MB (0.4% of available memory)\n",
      "\tInferring data type of each feature based on column values. Set feature_metadata_in to manually specify special dtypes of the features.\n",
      "\tStage 1 Generators:\n",
      "\t\tFitting AsTypeFeatureGenerator...\n",
      "\tStage 2 Generators:\n",
      "\t\tFitting FillNaFeatureGenerator...\n",
      "\tStage 3 Generators:\n",
      "\t\tFitting IdentityFeatureGenerator...\n",
      "\tStage 4 Generators:\n",
      "\t\tFitting DropUniqueFeatureGenerator...\n",
      "\tTypes of features in original data (raw dtype, special dtypes):\n",
      "\t\t('float', []) : 7 | ['theta', 'phi', 'sigma', 'cx', 'cy', ...]\n",
      "\tTypes of features in processed data (raw dtype, special dtypes):\n",
      "\t\t('float', []) : 7 | ['theta', 'phi', 'sigma', 'cx', 'cy', ...]\n",
      "\t26.7s = Fit runtime\n",
      "\t7 features in original data used to generate 7 features in processed data.\n",
      "\tTrain Data (Processed) Memory Usage: 412.81 MB (0.4% of available memory)\n",
      "Data preprocessing and feature engineering runtime = 28.67s ...\n",
      "AutoGluon will gauge predictive performance using evaluation metric: 'root_mean_squared_error'\n",
      "\tThis metric's sign has been flipped to adhere to being higher_is_better. The metric score can be multiplied by -1 to get the metric value.\n",
      "\tTo change this, specify the eval_metric parameter of Predictor()\n",
      "Automatically generating train/validation split with holdout_frac=0.01, Train Rows: 7297904, Val Rows: 73717\n",
      "Fitting 11 L1 models ...\n",
      "Fitting model: KNeighborsUnif ...\n",
      "\t-1.9307\t = Validation score   (-root_mean_squared_error)\n",
      "\t24.2s\t = Training   runtime\n",
      "\t2.24s\t = Validation runtime\n",
      "Fitting model: KNeighborsDist ...\n",
      "\t-1.9363\t = Validation score   (-root_mean_squared_error)\n",
      "\t24.45s\t = Training   runtime\n",
      "\t2.19s\t = Validation runtime\n",
      "Fitting model: LightGBMXT ...\n",
      "\tTraining LightGBMXT with GPU, note that this may negatively impact model quality compared to CPU training.\n"
     ]
    },
    {
     "name": "stdout",
     "output_type": "stream",
     "text": [
      "[1000]\tvalid_set's rmse: 1.7386\n",
      "[2000]\tvalid_set's rmse: 1.73477\n",
      "[3000]\tvalid_set's rmse: 1.73343\n",
      "[4000]\tvalid_set's rmse: 1.73281\n",
      "[5000]\tvalid_set's rmse: 1.73227\n",
      "[6000]\tvalid_set's rmse: 1.73198\n",
      "[7000]\tvalid_set's rmse: 1.73189\n",
      "[8000]\tvalid_set's rmse: 1.73175\n",
      "[9000]\tvalid_set's rmse: 1.73187\n"
     ]
    },
    {
     "name": "stderr",
     "output_type": "stream",
     "text": [
      "\t-1.7317\t = Validation score   (-root_mean_squared_error)\n",
      "\t395.18s\t = Training   runtime\n",
      "\t1.2s\t = Validation runtime\n",
      "Fitting model: LightGBM ...\n",
      "\tTraining LightGBM with GPU, note that this may negatively impact model quality compared to CPU training.\n"
     ]
    },
    {
     "name": "stdout",
     "output_type": "stream",
     "text": [
      "[1000]\tvalid_set's rmse: 1.73572\n",
      "[2000]\tvalid_set's rmse: 1.73345\n",
      "[3000]\tvalid_set's rmse: 1.7334\n"
     ]
    },
    {
     "name": "stderr",
     "output_type": "stream",
     "text": [
      "\t-1.7332\t = Validation score   (-root_mean_squared_error)\n",
      "\t123.46s\t = Training   runtime\n",
      "\t0.34s\t = Validation runtime\n",
      "Fitting model: RandomForestMSE ...\n",
      "\t-1.7649\t = Validation score   (-root_mean_squared_error)\n",
      "\t707.47s\t = Training   runtime\n",
      "\t0.13s\t = Validation runtime\n",
      "Fitting model: CatBoost ...\n",
      "\tTraining CatBoost with GPU, note that this may negatively impact model quality compared to CPU training.\n",
      "\tWarning: CatBoost on GPU is experimental. If you encounter issues, use CPU for training CatBoost instead.\n",
      "\t-1.737\t = Validation score   (-root_mean_squared_error)\n",
      "\t26.31s\t = Training   runtime\n",
      "\t0.02s\t = Validation runtime\n",
      "Fitting model: ExtraTreesMSE ...\n",
      "\t-1.7777\t = Validation score   (-root_mean_squared_error)\n",
      "\t274.8s\t = Training   runtime\n",
      "\t0.13s\t = Validation runtime\n",
      "Fitting model: NeuralNetFastAI ...\n",
      "No improvement since epoch 1: early stopping\n",
      "\t-1.7406\t = Validation score   (-root_mean_squared_error)\n",
      "\t1640.53s\t = Training   runtime\n",
      "\t0.31s\t = Validation runtime\n",
      "Fitting model: XGBoost ...\n",
      "\t-1.7357\t = Validation score   (-root_mean_squared_error)\n",
      "\t18.73s\t = Training   runtime\n",
      "\t0.1s\t = Validation runtime\n",
      "Fitting model: NeuralNetTorch ...\n",
      "TabularNeuralNetTorchModel not yet able to use more than 1 GPU. 'num_gpus' is set to >1, but we will be using only 1 GPU.\n",
      "\t-1.7503\t = Validation score   (-root_mean_squared_error)\n",
      "\t1192.61s\t = Training   runtime\n",
      "\t0.1s\t = Validation runtime\n",
      "Fitting model: LightGBMLarge ...\n",
      "\tTraining LightGBMLarge with GPU, note that this may negatively impact model quality compared to CPU training.\n"
     ]
    },
    {
     "name": "stdout",
     "output_type": "stream",
     "text": [
      "[1000]\tvalid_set's rmse: 1.73469\n"
     ]
    },
    {
     "name": "stderr",
     "output_type": "stream",
     "text": [
      "\t-1.7342\t = Validation score   (-root_mean_squared_error)\n",
      "\t87.86s\t = Training   runtime\n",
      "\t0.18s\t = Validation runtime\n",
      "Fitting model: WeightedEnsemble_L2 ...\n",
      "\t-1.7311\t = Validation score   (-root_mean_squared_error)\n",
      "\t0.81s\t = Training   runtime\n",
      "\t0.0s\t = Validation runtime\n",
      "AutoGluon training complete, total runtime = 4588.47s ... Best model: \"WeightedEnsemble_L2\"\n",
      "TabularPredictor saved. To load, use: predictor = TabularPredictor.load(\"./autogloun_model/lowEnergy_deltatheta/\")\n"
     ]
    }
   ],
   "source": [
    "label = \"deltatheta\"\n",
    "gammadata_low_df = pd.DataFrame(gammadata_low)\n",
    "columns_need = [\n",
    "    \"theta\",\n",
    "    \"phi\",\n",
    "    \"sigma\",\n",
    "    \"cx\",\n",
    "    \"cy\",\n",
    "    \"sumpf\",\n",
    "    \"mr1\",\n",
    "]\n",
    "columns_need.append(label)\n",
    "predictor = TabularPredictor(\n",
    "    label=label,\n",
    "    path=\"./autogloun_model/lowEnergy_deltatheta\",\n",
    ").fit(gammadata_low_df[columns_need], num_cpus=40, num_gpus=2)"
   ]
  },
  {
   "cell_type": "code",
   "execution_count": 27,
   "id": "e9a519a5",
   "metadata": {},
   "outputs": [
    {
     "name": "stderr",
     "output_type": "stream",
     "text": [
      "Warning: Training may take a very long time because `time_limit` was not specified and `train_data` is large (7371621 samples, 471.78 MB).\n",
      "\tConsider setting `time_limit` to ensure training finishes within an expected duration or experiment with a small portion of `train_data` to identify an ideal `presets` and `hyperparameters` configuration.\n",
      "Beginning AutoGluon training ...\n",
      "AutoGluon will save models to \"./autogloun_model/lowEnergy_deltaphi/\"\n",
      "AutoGluon Version:  0.7.0\n",
      "Python Version:     3.9.16\n",
      "Operating System:   Linux\n",
      "Platform Machine:   x86_64\n",
      "Platform Version:   #1 SMP Debian 5.10.179-1 (2023-05-12)\n",
      "Train Data Rows:    7371621\n",
      "Train Data Columns: 7\n",
      "Label Column: deltaphi\n",
      "Preprocessing data ...\n",
      "AutoGluon infers your prediction problem is: 'regression' (because dtype of label-column == float and many unique label-values observed).\n",
      "\tLabel info (max, min, mean, stddev): (179.96050531002444, -179.95248118241756, 0.00081, 7.61418)\n",
      "\tIf 'regression' is not the correct problem_type, please manually specify the problem_type parameter during predictor init (You may specify problem_type as one of: ['binary', 'multiclass', 'regression'])\n",
      "Using Feature Generators to preprocess the data ...\n",
      "Fitting AutoMLPipelineFeatureGenerator...\n",
      "\tAvailable Memory:                    114841.98 MB\n",
      "\tTrain Data (Original)  Memory Usage: 412.81 MB (0.4% of available memory)\n",
      "\tInferring data type of each feature based on column values. Set feature_metadata_in to manually specify special dtypes of the features.\n",
      "\tStage 1 Generators:\n",
      "\t\tFitting AsTypeFeatureGenerator...\n",
      "\tStage 2 Generators:\n",
      "\t\tFitting FillNaFeatureGenerator...\n",
      "\tStage 3 Generators:\n",
      "\t\tFitting IdentityFeatureGenerator...\n",
      "\tStage 4 Generators:\n",
      "\t\tFitting DropUniqueFeatureGenerator...\n",
      "\tTypes of features in original data (raw dtype, special dtypes):\n",
      "\t\t('float', []) : 7 | ['theta', 'phi', 'sigma', 'cx', 'cy', ...]\n",
      "\tTypes of features in processed data (raw dtype, special dtypes):\n",
      "\t\t('float', []) : 7 | ['theta', 'phi', 'sigma', 'cx', 'cy', ...]\n",
      "\t27.9s = Fit runtime\n",
      "\t7 features in original data used to generate 7 features in processed data.\n",
      "\tTrain Data (Processed) Memory Usage: 412.81 MB (0.4% of available memory)\n",
      "Data preprocessing and feature engineering runtime = 29.86s ...\n",
      "AutoGluon will gauge predictive performance using evaluation metric: 'root_mean_squared_error'\n",
      "\tThis metric's sign has been flipped to adhere to being higher_is_better. The metric score can be multiplied by -1 to get the metric value.\n",
      "\tTo change this, specify the eval_metric parameter of Predictor()\n",
      "Automatically generating train/validation split with holdout_frac=0.01, Train Rows: 7297904, Val Rows: 73717\n",
      "Fitting 11 L1 models ...\n",
      "Fitting model: KNeighborsUnif ...\n",
      "\t-7.9352\t = Validation score   (-root_mean_squared_error)\n",
      "\t24.22s\t = Training   runtime\n",
      "\t3.63s\t = Validation runtime\n",
      "Fitting model: KNeighborsDist ...\n",
      "\t-7.9576\t = Validation score   (-root_mean_squared_error)\n",
      "\t24.08s\t = Training   runtime\n",
      "\t3.5s\t = Validation runtime\n",
      "Fitting model: LightGBMXT ...\n",
      "\tTraining LightGBMXT with GPU, note that this may negatively impact model quality compared to CPU training.\n"
     ]
    },
    {
     "name": "stdout",
     "output_type": "stream",
     "text": [
      "[1000]\tvalid_set's rmse: 7.27519\n",
      "[2000]\tvalid_set's rmse: 7.26877\n",
      "[3000]\tvalid_set's rmse: 7.26828\n"
     ]
    },
    {
     "name": "stderr",
     "output_type": "stream",
     "text": [
      "\t-7.2677\t = Validation score   (-root_mean_squared_error)\n",
      "\t144.05s\t = Training   runtime\n",
      "\t0.41s\t = Validation runtime\n",
      "Fitting model: LightGBM ...\n",
      "\tTraining LightGBM with GPU, note that this may negatively impact model quality compared to CPU training.\n",
      "\t-7.3162\t = Validation score   (-root_mean_squared_error)\n",
      "\t46.36s\t = Training   runtime\n",
      "\t0.04s\t = Validation runtime\n",
      "Fitting model: RandomForestMSE ...\n",
      "\t-7.4173\t = Validation score   (-root_mean_squared_error)\n",
      "\t3236.94s\t = Training   runtime\n",
      "\t0.13s\t = Validation runtime\n",
      "Fitting model: CatBoost ...\n",
      "\tTraining CatBoost with GPU, note that this may negatively impact model quality compared to CPU training.\n",
      "\tWarning: CatBoost on GPU is experimental. If you encounter issues, use CPU for training CatBoost instead.\n",
      "\t-7.3046\t = Validation score   (-root_mean_squared_error)\n",
      "\t21.02s\t = Training   runtime\n",
      "\t0.01s\t = Validation runtime\n",
      "Fitting model: ExtraTreesMSE ...\n",
      "\t-7.3513\t = Validation score   (-root_mean_squared_error)\n",
      "\t225.3s\t = Training   runtime\n",
      "\t0.13s\t = Validation runtime\n",
      "Fitting model: NeuralNetFastAI ...\n",
      "\t-7.3041\t = Validation score   (-root_mean_squared_error)\n",
      "\t2235.22s\t = Training   runtime\n",
      "\t0.31s\t = Validation runtime\n",
      "Fitting model: XGBoost ...\n",
      "\t-7.3023\t = Validation score   (-root_mean_squared_error)\n",
      "\t12.61s\t = Training   runtime\n",
      "\t0.03s\t = Validation runtime\n",
      "Fitting model: NeuralNetTorch ...\n",
      "TabularNeuralNetTorchModel not yet able to use more than 1 GPU. 'num_gpus' is set to >1, but we will be using only 1 GPU.\n",
      "\t-7.2673\t = Validation score   (-root_mean_squared_error)\n",
      "\t1514.9s\t = Training   runtime\n",
      "\t0.1s\t = Validation runtime\n",
      "Fitting model: LightGBMLarge ...\n",
      "\tTraining LightGBMLarge with GPU, note that this may negatively impact model quality compared to CPU training.\n",
      "\t-7.3144\t = Validation score   (-root_mean_squared_error)\n",
      "\t56.4s\t = Training   runtime\n",
      "\t0.06s\t = Validation runtime\n",
      "Fitting model: WeightedEnsemble_L2 ...\n",
      "\t-7.2562\t = Validation score   (-root_mean_squared_error)\n",
      "\t0.83s\t = Training   runtime\n",
      "\t0.0s\t = Validation runtime\n",
      "AutoGluon training complete, total runtime = 7617.21s ... Best model: \"WeightedEnsemble_L2\"\n",
      "TabularPredictor saved. To load, use: predictor = TabularPredictor.load(\"./autogloun_model/lowEnergy_deltaphi/\")\n"
     ]
    }
   ],
   "source": [
    "label = \"deltaphi\"\n",
    "gammadata_low_df = pd.DataFrame(gammadata_low)\n",
    "columns_need = [\n",
    "    \"theta\",\n",
    "    \"phi\",\n",
    "    \"sigma\",\n",
    "    \"cx\",\n",
    "    \"cy\",\n",
    "    \"sumpf\",\n",
    "    \"mr1\",\n",
    "\n",
    "]\n",
    "columns_need.append(label)\n",
    "predictor = TabularPredictor(\n",
    "    label=label,\n",
    "    path=\"./autogloun_model/lowEnergy_deltaphi\",\n",
    ").fit(gammadata_low_df[columns_need], num_cpus=40, num_gpus=2)"
   ]
  },
  {
   "cell_type": "code",
   "execution_count": 28,
   "id": "022b4805",
   "metadata": {},
   "outputs": [],
   "source": [
    "# 使用J1857的模拟测试\n",
    "J1857 = uproot.open(\"/home2/hky/github/Gamma_Energy/MCdata/data_gamma_026/RESULT.root\")\n",
    "# 读取为dict，每一个value为numpy格式\n",
    "J1857 = J1857[\"asresult\"].arrays(paraneed_MC_Pgamma, library=\"np\")\n",
    "# 计算模拟数据的S50\n",
    "J1857[\"S50\"] = getS50(J1857[\"ne\"], J1857[\"age\"])\n",
    "J1857_need_low = np.where(\n",
    "    (J1857[\"nch\"] >= 4)\n",
    "    & (J1857[\"sigma\"] < 1)\n",
    "    & (J1857[\"inout\"] == 1)\n",
    "    & (J1857[\"summd\"] < 0.4)\n",
    "    & (J1857[\"theta\"] < 60)\n",
    ")\n",
    "\n",
    "J1857_low = {key: J1857[key][J1857_need_low] for key in J1857.keys()}\n",
    "for para in [\"sumpf\", \"prie\"]:\n",
    "    J1857_low[para] = np.log10(J1857_low[para])\n",
    "\n",
    "J1857_low[\"pritheta\"] = np.rad2deg(J1857_low[\"pritheta\"])\n",
    "J1857_low[\"priphi\"] = 180-np.rad2deg(J1857_low[\"priphi\"])\n",
    "J1857_low[\"priphi\"][J1857_low[\"priphi\"] > 180] = J1857_low[\"priphi\"][J1857_low[\"priphi\"] > 180]-360\n",
    "J1857_low[\"deltatheta\"] = J1857_low[\"theta\"]-J1857_low[\"pritheta\"]\n",
    "J1857_low[\"deltaphi\"] = J1857_low[\"phi\"]-J1857_low[\"priphi\"]\n",
    "J1857_low[\"deltaphi\"][J1857_low[\"deltaphi\"] <-180]+=360\n",
    "J1857_low[\"deltaphi\"][J1857_low[\"deltaphi\"] >180]-=360\n",
    "\n",
    "J1857_low_df = pd.DataFrame(J1857_low)\n"
   ]
  },
  {
   "cell_type": "code",
   "execution_count": 30,
   "id": "949024cb",
   "metadata": {},
   "outputs": [],
   "source": [
    "predictor_deltatheta =  TabularPredictor.load(\"./autogloun_model/lowEnergy_deltatheta/\")\n",
    "predictor_deltaphi =  TabularPredictor.load(\"./autogloun_model/lowEnergy_deltaphi/\")\n",
    "J1857_low_df[\"deltatheta_pred\"] = predictor_deltatheta.predict(J1857_low_df)\n",
    "J1857_low_df[\"deltaphi_pred\"] = predictor_deltaphi.predict(J1857_low_df)\n",
    "J1857_low_df[\"pritheta_pred\"] = J1857_low_df[\"theta\"]-J1857_low_df[\"deltatheta_pred\"]\n",
    "J1857_low_df[\"priphi_pred\"] = J1857_low_df[\"phi\"]-J1857_low_df[\"deltaphi_pred\"]"
   ]
  },
  {
   "cell_type": "code",
   "execution_count": 31,
   "id": "b941e7ed",
   "metadata": {},
   "outputs": [],
   "source": [
    "# 定义2角zhi\n",
    "def twoPointAngle(theta1, theta2, phi1, phi2):\n",
    "    return np.rad2deg(\n",
    "        np.arccos(\n",
    "            np.sin(np.deg2rad(theta1))\n",
    "            * np.sin(np.deg2rad(theta2))\n",
    "            * np.cos(np.deg2rad(phi1 - phi2))\n",
    "            + np.cos(np.deg2rad(theta1)) * np.cos(np.deg2rad(theta2))\n",
    "        )\n",
    "    )\n",
    "\n",
    "J1857_low_df[\"delta_angle\"] = twoPointAngle(J1857_low_df[\"pritheta\"],J1857_low_df[\"theta\"],J1857_low_df[\"priphi\"],J1857_low_df[\"phi\"])\n",
    "J1857_low_df[\"delta_angle_pred\"] = twoPointAngle(J1857_low_df[\"pritheta\"],J1857_low_df[\"pritheta_pred\"],J1857_low_df[\"priphi\"],J1857_low_df[\"priphi_pred\"])"
   ]
  },
  {
   "cell_type": "markdown",
   "id": "5513029e",
   "metadata": {},
   "source": [
    "定义能包括一半事例的角度为角分辨。"
   ]
  },
  {
   "cell_type": "code",
   "execution_count": 32,
   "id": "ff15e1a7",
   "metadata": {},
   "outputs": [
    {
     "data": {
      "text/plain": [
       "(0.8397162294092448, 3.7687340997181185)"
      ]
     },
     "execution_count": 32,
     "metadata": {},
     "output_type": "execute_result"
    }
   ],
   "source": [
    "np.min(J1857_low_df[\"sumpf\"]),np.max(J1857_low_df[\"sumpf\"])"
   ]
  },
  {
   "cell_type": "code",
   "execution_count": 38,
   "id": "305cfd86",
   "metadata": {},
   "outputs": [],
   "source": [
    "sumpf_bins = np.linspace(0.8,3.8,16)\n",
    "Angular_resolution = np.zeros(15)\n",
    "Angular_resolution_pred = np.zeros(15)\n",
    "\n",
    "for i in range(len(sumpf_bins)-1):\n",
    "    need = np.where((J1857_low_df[\"sumpf\"]>sumpf_bins[i])&(J1857_low_df[\"sumpf\"]<sumpf_bins[i+1]) )\n",
    "    Angular_resolution[i] = np.median(J1857_low_df.loc[need,\"delta_angle\"])\n",
    "    Angular_resolution_pred[i] = np.median(J1857_low_df.loc[need,\"delta_angle_pred\"])    "
   ]
  },
  {
   "cell_type": "code",
   "execution_count": 39,
   "id": "7fe379d0",
   "metadata": {},
   "outputs": [
    {
     "data": {
      "image/png": "[encoded data removed]",
      "text/plain": [
       "<Figure size 640x480 with 1 Axes>"
      ]
     },
     "metadata": {},
     "output_type": "display_data"
    }
   ],
   "source": [
    "sumpf_bins_center = (sumpf_bins[:-1] + sumpf_bins[1:]) / 2\n",
    "plt.plot(sumpf_bins_center, Angular_resolution, label=\"raw\")\n",
    "plt.plot(sumpf_bins_center, Angular_resolution_pred, label=\"optimization\")\n",
    "plt.xlabel(\"sumpf\")\n",
    "plt.ylabel(\"Angular resolution\")\n",
    "plt.legend()\n",
    "plt.show()"
   ]
  }
 ],
 "metadata": {
  "kernelspec": {
   "display_name": "ag",
   "language": "python",
   "name": "ag"
  },
  "language_info": {
   "codemirror_mode": {
    "name": "ipython",
    "version": 3
   },
   "file_extension": ".py",
   "mimetype": "text/x-python",
   "name": "python",
   "nbconvert_exporter": "python",
   "pygments_lexer": "ipython3",
   "version": "3.9.16"
  }
 },
 "nbformat": 4,
 "nbformat_minor": 5
}
