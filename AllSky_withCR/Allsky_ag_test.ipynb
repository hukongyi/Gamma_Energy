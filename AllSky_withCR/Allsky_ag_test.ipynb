{
 "cells": [
  {
   "cell_type": "code",
   "execution_count": 1,
   "metadata": {},
   "outputs": [],
   "source": [
    "from autogluon.tabular import TabularPredictor\n",
    "import numpy as np\n",
    "import pandas as pd\n",
    "import matplotlib.pyplot as plt\n",
    "from getS50 import getS50\n",
    "import uproot\n",
    "import os"
   ]
  },
  {
   "cell_type": "code",
   "execution_count": 2,
   "metadata": {},
   "outputs": [],
   "source": [
    "def LIMA(alpha, Non, Noff):\n",
    "    sig = np.sqrt(2) * np.sqrt(\n",
    "        Non * np.log((1 + alpha) / alpha * (Non / (Non + Noff)))\n",
    "        + Noff * np.log((1 + alpha) * Noff / (Non + Noff))\n",
    "    )\n",
    "    if type(sig) is np.ndarray:\n",
    "        sig[np.where((Non - Noff * alpha) < 0)] = -sig[\n",
    "            np.where((Non - Noff * alpha) < 0)\n",
    "        ]\n",
    "        sig[np.isnan(sig)] = 0\n",
    "\n",
    "    else:\n",
    "        if (Non - Noff * alpha) < 0:\n",
    "            sig = -sig\n",
    "        if np.isnan(sig):\n",
    "            sig = 0\n",
    "    return sig"
   ]
  },
  {
   "cell_type": "code",
   "execution_count": 3,
   "metadata": {},
   "outputs": [],
   "source": [
    "data = np.load(\"/home2/hky/github/Gamma_Energy/Exptdata/mergedData_crab_Dec.npz\")\n",
    "data = {key:data[key] for key in data}"
   ]
  },
  {
   "cell_type": "code",
   "execution_count": 4,
   "metadata": {},
   "outputs": [
    {
     "data": {
      "text/plain": [
       "0.10833108587229039"
      ]
     },
     "execution_count": 4,
     "metadata": {},
     "output_type": "execute_result"
    }
   ],
   "source": [
    "np.where((data[\"summd\"] < 0.4)\n",
    "        | (data[\"summd\"] < 1.2e-3 * data[\"sumpf\"] ** 1.6))[0].shape[0]/len(data[\"summd\"])"
   ]
  },
  {
   "cell_type": "code",
   "execution_count": 5,
   "metadata": {},
   "outputs": [],
   "source": [
    "data[\"isgamma\"] = np.zeros_like(data[\"summd\"])\n",
    "data[\"energy\"] = np.zeros_like(data[\"summd\"])"
   ]
  },
  {
   "cell_type": "code",
   "execution_count": 6,
   "metadata": {},
   "outputs": [],
   "source": [
    "predictor = TabularPredictor.load(\"/home2/hky/github/Gamma_Energy/AllSky_withCR/agmodel/identitfy_gamma_CR_Allsky_MC_5par_random_2\")\n",
    "predictor_energy = TabularPredictor.load(\n",
    "        \"/home2/hky/github/Gamma_Energy/AllSky/AutogluonModels/agModels_angle_ifcut=0/log10Energy\"\n",
    "    )"
   ]
  },
  {
   "cell_type": "code",
   "execution_count": 7,
   "metadata": {},
   "outputs": [],
   "source": [
    "cuted = np.where(\n",
    "                (data[\"summd\"] < 0.4) | (data[\"summd\"] < 5.1e-3 * data[\"sumpf\"] ** 1.2)\n",
    "            )\n",
    "data_first_cuted = {key:data[key][cuted] for key in data.keys()}"
   ]
  },
  {
   "cell_type": "code",
   "execution_count": 8,
   "metadata": {},
   "outputs": [],
   "source": [
    "data[\"isgamma\"][cuted] = predictor.predict_proba(pd.DataFrame(data_first_cuted))[\n",
    "    1\n",
    "].to_numpy()\n"
   ]
  },
  {
   "cell_type": "code",
   "execution_count": 9,
   "metadata": {},
   "outputs": [],
   "source": [
    "data_first_cuted[\"sumpf\"] = np.log10(data_first_cuted[\"sumpf\"])\n",
    "data[\"energy\"][\n",
    "   cuted\n",
    "] = predictor_energy.predict(pd.DataFrame(data_first_cuted)).to_numpy()\n",
    "data[\"energy\"]=10**data[\"energy\"]\n"
   ]
  },
  {
   "cell_type": "code",
   "execution_count": 10,
   "metadata": {},
   "outputs": [],
   "source": [
    "MCdata = np.load(\"/home2/hky/github/Gamma_Energy/MCdata/CrabMCData.npz\")\n",
    "MCdatacuted = np.where((MCdata[\"inout\"]==1)&(MCdata[\"sigma\"]<1)&(MCdata[\"nch\"]>=16)&(MCdata[\"theta\"]<60)&(MCdata[\"S50\"]>10**-1.2)&(MCdata[\"age\"]>0.31)&(MCdata[\"age\"]<1.3))\n",
    "MCdata = {key:MCdata[key][MCdatacuted] for key in MCdata}"
   ]
  },
  {
   "cell_type": "code",
   "execution_count": 11,
   "metadata": {},
   "outputs": [],
   "source": [
    "MCdata[\"isgamma\"] = np.zeros_like(MCdata[\"summd\"])"
   ]
  },
  {
   "cell_type": "code",
   "execution_count": 12,
   "metadata": {},
   "outputs": [],
   "source": [
    "MCcuted = np.where(\n",
    "                (MCdata[\"summd\"] < 0.4) | (MCdata[\"summd\"] < 5.1e-3 * MCdata[\"sumpf\"] ** 1.2)\n",
    "            )\n",
    "MC_first_cuted = {key:MCdata[key][MCcuted] for key in MCdata.keys()}"
   ]
  },
  {
   "cell_type": "code",
   "execution_count": 13,
   "metadata": {},
   "outputs": [],
   "source": [
    "MCdata[\"isgamma\"][MCcuted] = predictor.predict_proba(\n",
    "    pd.DataFrame(\n",
    "        MC_first_cuted\n",
    "    )\n",
    ")[1].to_numpy()"
   ]
  },
  {
   "cell_type": "code",
   "execution_count": 14,
   "metadata": {},
   "outputs": [],
   "source": [
    "data_Cr = {key:data[key][np.where((data[\"Ra\"]<83)|(data[\"Ra\"]>84.2))] for key in data.keys()}\n",
    "data_Cr_Crab = {key:data[key][np.where((data[\"Ra\"]>83.1)&(data[\"Ra\"]<84.1))] for key in data.keys()}"
   ]
  },
  {
   "cell_type": "code",
   "execution_count": 15,
   "metadata": {},
   "outputs": [
    {
     "data": {
      "text/plain": [
       "40667805"
      ]
     },
     "execution_count": 15,
     "metadata": {},
     "output_type": "execute_result"
    }
   ],
   "source": [
    "len(data_Cr[\"summd\"])"
   ]
  },
  {
   "cell_type": "code",
   "execution_count": 16,
   "metadata": {},
   "outputs": [],
   "source": [
    "sumpfbins = np.logspace(1.6, 4, 13)\n",
    "energymin = -1\n",
    "p_value_list = np.linspace(0.01, 0.99, 99)\n",
    "survival_CR = np.zeros(len(sumpfbins) - 1)\n",
    "survival_CR_Crab = np.zeros([len(sumpfbins) - 1])\n",
    "survival_CR_Crab_ML = np.zeros([len(sumpfbins) - 1, len(p_value_list)])\n",
    "\n",
    "survival_CR_ML = np.zeros([len(sumpfbins) - 1, len(p_value_list)])\n",
    "survival_gamma = np.zeros(len(sumpfbins) - 1)\n",
    "survival_gamma_ML = np.zeros([len(sumpfbins) - 1, len(p_value_list)])\n",
    "CR_count = np.zeros(len(sumpfbins) - 1)\n",
    "CR_count_Crab = np.zeros(len(sumpfbins) - 1)\n",
    "gamma_count = np.zeros(len(sumpfbins) - 1)\n",
    "for i in range(len(sumpfbins) - 1):\n",
    "    survival_CR[i] = np.where(\n",
    "        (\n",
    "            (data_Cr[\"summd\"] < 0.4)\n",
    "            | (data_Cr[\"summd\"] < 2.1e-3 * data_Cr[\"sumpf\"] ** 1.2)\n",
    "        )\n",
    "        & (data_Cr[\"energy\"] > energymin)\n",
    "        & (data_Cr[\"sumpf\"] > sumpfbins[i])\n",
    "        & (data_Cr[\"sumpf\"] < sumpfbins[i + 1])\n",
    "    )[0].shape[0]\n",
    "    survival_CR_Crab[i] = np.where(\n",
    "        (\n",
    "            (data_Cr_Crab[\"summd\"] < 0.4)\n",
    "            | (data_Cr_Crab[\"summd\"] < 2.1e-3 * data_Cr_Crab[\"sumpf\"] ** 1.2)\n",
    "        )\n",
    "        & (data_Cr_Crab[\"energy\"] > energymin)\n",
    "        & (data_Cr_Crab[\"sumpf\"] > sumpfbins[i])\n",
    "        & (data_Cr_Crab[\"sumpf\"] < sumpfbins[i + 1])\n",
    "    )[0].shape[0]\n",
    "    CR_count[i] = np.where(\n",
    "        (data_Cr[\"energy\"] > energymin)\n",
    "        & (data_Cr[\"sumpf\"] > sumpfbins[i])\n",
    "        & (data_Cr[\"sumpf\"] < sumpfbins[i + 1])\n",
    "    )[0].shape[0]\n",
    "    CR_count_Crab[i] = np.where(\n",
    "        (data_Cr_Crab[\"sumpf\"] > sumpfbins[i])\n",
    "        & (data_Cr_Crab[\"energy\"] > energymin)\n",
    "        & (data_Cr_Crab[\"sumpf\"] < sumpfbins[i + 1])\n",
    "    )[0].shape[0]\n",
    "    survival_gamma[i] = np.where(\n",
    "        ((MCdata[\"summd\"] < 0.4) | (MCdata[\"summd\"] < 2.1e-3 * MCdata[\"sumpf\"] ** 1.2))\n",
    "        & (MCdata[\"sumpf\"] > sumpfbins[i])\n",
    "        & (MCdata[\"sumpf\"] < sumpfbins[i + 1])\n",
    "    )[0].shape[0]\n",
    "    gamma_count[i] = np.where(\n",
    "        (MCdata[\"sumpf\"] > sumpfbins[i]) & (MCdata[\"sumpf\"] < sumpfbins[i + 1])\n",
    "    )[0].shape[0]\n",
    "    for j, p_value in enumerate(p_value_list):\n",
    "        survival_CR_ML[i, j] = np.where(\n",
    "            (data_Cr[\"isgamma\"] > p_value)\n",
    "            & (data_Cr[\"sumpf\"] > sumpfbins[i])\n",
    "            & (data_Cr[\"sumpf\"] < sumpfbins[i + 1])\n",
    "            & (data_Cr[\"energy\"] > energymin)\n",
    "        )[0].shape[0]\n",
    "        survival_CR_Crab_ML[i, j] = np.where(\n",
    "            (data_Cr_Crab[\"isgamma\"] > p_value)\n",
    "            & (data_Cr_Crab[\"sumpf\"] > sumpfbins[i])\n",
    "            & (data_Cr_Crab[\"sumpf\"] < sumpfbins[i + 1])\n",
    "            & (data_Cr_Crab[\"energy\"] > energymin)\n",
    "        )[0].shape[0]\n",
    "        survival_gamma_ML[i, j] = np.where(\n",
    "            (MCdata[\"isgamma\"] > p_value)\n",
    "            & (MCdata[\"sumpf\"] > sumpfbins[i])\n",
    "            & (MCdata[\"sumpf\"] < sumpfbins[i + 1])\n",
    "        )[0].shape[0]\n"
   ]
  },
  {
   "cell_type": "code",
   "execution_count": 17,
   "metadata": {},
   "outputs": [
    {
     "name": "stderr",
     "output_type": "stream",
     "text": [
      "/tmp/ipykernel_327947/3123307961.py:2: RuntimeWarning: divide by zero encountered in divide\n",
      "  survivalrate_CR_ML_error = survivalrate_CR_ML*np.sqrt(1/survival_CR_ML+1/CR_count.reshape(-1,1))\n",
      "/tmp/ipykernel_327947/3123307961.py:2: RuntimeWarning: invalid value encountered in multiply\n",
      "  survivalrate_CR_ML_error = survivalrate_CR_ML*np.sqrt(1/survival_CR_ML+1/CR_count.reshape(-1,1))\n",
      "/tmp/ipykernel_327947/3123307961.py:6: RuntimeWarning: divide by zero encountered in divide\n",
      "  survivalrate_gamma_ML_error = survivalrate_gamma_ML*np.sqrt(1/survival_gamma_ML+1/gamma_count.reshape(-1,1))\n",
      "/tmp/ipykernel_327947/3123307961.py:6: RuntimeWarning: invalid value encountered in multiply\n",
      "  survivalrate_gamma_ML_error = survivalrate_gamma_ML*np.sqrt(1/survival_gamma_ML+1/gamma_count.reshape(-1,1))\n"
     ]
    }
   ],
   "source": [
    "survivalrate_CR_ML=survival_CR_ML/CR_count.reshape(-1,1)\n",
    "survivalrate_CR_ML_error = survivalrate_CR_ML*np.sqrt(1/survival_CR_ML+1/CR_count.reshape(-1,1))\n",
    "\n",
    "\n",
    "survivalrate_gamma_ML=survival_gamma_ML/gamma_count.reshape(-1,1)\n",
    "survivalrate_gamma_ML_error = survivalrate_gamma_ML*np.sqrt(1/survival_gamma_ML+1/gamma_count.reshape(-1,1))\n",
    "\n",
    "\n",
    "survivalrate_CR=survival_CR/CR_count\n",
    "survivalrate_CR_error = survivalrate_CR*np.sqrt(1/survival_CR+1/CR_count)\n",
    "\n",
    "\n",
    "survivalrate_gamma=survival_gamma/gamma_count\n",
    "survivalrate_gamma_error = survivalrate_gamma*np.sqrt(1/survival_gamma+1/gamma_count)\n"
   ]
  },
  {
   "cell_type": "code",
   "execution_count": 18,
   "metadata": {},
   "outputs": [],
   "source": [
    "survivalrate_gamma_ML[survivalrate_gamma_ML<0.5]=np.nan"
   ]
  },
  {
   "cell_type": "code",
   "execution_count": 19,
   "metadata": {},
   "outputs": [
    {
     "name": "stderr",
     "output_type": "stream",
     "text": [
      "/tmp/ipykernel_327947/3426144505.py:1: RuntimeWarning: invalid value encountered in divide\n",
      "  SNR_ML = (survival_CR_Crab_ML-survival_CR_ML/358.8)/np.sqrt(survival_CR_ML/358.8)\n",
      "/tmp/ipykernel_327947/1256567235.py:3: RuntimeWarning: divide by zero encountered in log\n",
      "  Non * np.log((1 + alpha) / alpha * (Non / (Non + Noff)))\n",
      "/tmp/ipykernel_327947/1256567235.py:3: RuntimeWarning: invalid value encountered in multiply\n",
      "  Non * np.log((1 + alpha) / alpha * (Non / (Non + Noff)))\n",
      "/tmp/ipykernel_327947/1256567235.py:3: RuntimeWarning: invalid value encountered in divide\n",
      "  Non * np.log((1 + alpha) / alpha * (Non / (Non + Noff)))\n",
      "/tmp/ipykernel_327947/1256567235.py:4: RuntimeWarning: invalid value encountered in divide\n",
      "  + Noff * np.log((1 + alpha) * Noff / (Non + Noff))\n"
     ]
    }
   ],
   "source": [
    "SNR_ML = (survival_CR_Crab_ML-survival_CR_ML/358.8)/np.sqrt(survival_CR_ML/358.8)\n",
    "SNR = (survival_CR_Crab-survival_CR/358.8)/np.sqrt(survival_CR/358.8)\n",
    "SNR_org = (CR_count_Crab-CR_count/358.8)/np.sqrt(CR_count/358.8)\n",
    "sigma = LIMA(1/358.8,survival_CR_Crab,survival_CR)\n",
    "sigma_ML = LIMA(1/358.8,survival_CR_Crab_ML,survival_CR_ML)\n"
   ]
  },
  {
   "cell_type": "code",
   "execution_count": 20,
   "metadata": {},
   "outputs": [
    {
     "data": {
      "text/plain": [
       "array([55,  3, 13, 20, 85, 62, 95, 97, 98, 98, 98, 45])"
      ]
     },
     "execution_count": 20,
     "metadata": {},
     "output_type": "execute_result"
    }
   ],
   "source": [
    "np.nanargmax((SNR_ML),axis=1)"
   ]
  },
  {
   "cell_type": "code",
   "execution_count": 80,
   "metadata": {},
   "outputs": [
    {
     "data": {
      "text/plain": [
       "array([   39.81071706,    63.09573445,   100.        ,   158.48931925,\n",
       "         251.18864315,   398.10717055,   630.95734448,  1000.        ,\n",
       "        1584.89319246,  2511.88643151,  3981.07170553,  6309.5734448 ,\n",
       "       10000.        ])"
      ]
     },
     "execution_count": 80,
     "metadata": {},
     "output_type": "execute_result"
    }
   ],
   "source": [
    "sumpfbins"
   ]
  },
  {
   "cell_type": "code",
   "execution_count": 138,
   "metadata": {},
   "outputs": [
    {
     "name": "stdout",
     "output_type": "stream",
     "text": [
      "17.320792528703254\n",
      "18.018537225660207\n"
     ]
    }
   ],
   "source": [
    "sum1 = 0\n",
    "sum2 = 0\n",
    "skip = 0\n",
    "array_list = np.array([10,  20, 20, 20, 65, 75, 95, 97, 98, 98, 98, 98])\n",
    "# array_list = np.full_like(array_list,76)\n",
    "for i, j in enumerate(array_list):\n",
    "    if i in list(range(skip)):\n",
    "        continue\n",
    "    # print(LIMA(1 / 358.8, survival_CR_Crab_ML[i, j], survival_CR_ML[i, j]))\n",
    "    # print(LIMA(1 / 358.8, survival_CR_Crab[i], survival_CR[i]))\n",
    "    # print(\"===\")\n",
    "    sum1 += survival_CR_Crab_ML[i, j]\n",
    "    sum2 += survival_CR_ML[i, j]\n",
    "print(LIMA(1 / 358.8, sum1, sum2))\n",
    "print(LIMA(1 / 358.8, np.sum(survival_CR_Crab[skip:]), np.sum(survival_CR[skip:])))\n"
   ]
  },
  {
   "cell_type": "code",
   "execution_count": 139,
   "metadata": {},
   "outputs": [],
   "source": [
    "survivalrate_CR_ML_new = list()\n",
    "survivalrate_gamma_ML_new = list()\n",
    "survivalrate_CR_ML_new_error = list()\n",
    "survivalrate_gamma_ML_new_error = list()\n",
    "\n",
    "for i,j in enumerate(array_list):\n",
    "    survivalrate_CR_ML_new.append(survivalrate_CR_ML[i,j])\n",
    "    survivalrate_gamma_ML_new.append(survivalrate_gamma_ML[i,j])\n",
    "    survivalrate_CR_ML_new_error.append(survivalrate_CR_ML_error[i,j])\n",
    "    survivalrate_gamma_ML_new_error.append(survivalrate_gamma_ML_error[i,j])\n"
   ]
  },
  {
   "cell_type": "code",
   "execution_count": 140,
   "metadata": {},
   "outputs": [
    {
     "data": {
      "text/plain": [
       "array([0.11, 0.21, 0.21, 0.21, 0.66, 0.76, 0.96, 0.98, 0.99, 0.99, 0.99,\n",
       "       0.99])"
      ]
     },
     "execution_count": 140,
     "metadata": {},
     "output_type": "execute_result"
    }
   ],
   "source": [
    "p_value_list[array_list]"
   ]
  },
  {
   "cell_type": "code",
   "execution_count": 141,
   "metadata": {},
   "outputs": [
    {
     "data": {
      "text/plain": [
       "array([0.93506494, 0.92801966, 0.91626045, 0.91105065, 0.90496134,\n",
       "       0.91610738, 0.92693111, 0.89084507, 0.90871369, 0.8974359 ,\n",
       "       0.85714286, 0.73333333])"
      ]
     },
     "execution_count": 141,
     "metadata": {},
     "output_type": "execute_result"
    }
   ],
   "source": [
    "survivalrate_gamma"
   ]
  },
  {
   "cell_type": "code",
   "execution_count": 142,
   "metadata": {},
   "outputs": [
    {
     "data": {
      "image/png": "[encoded data removed]",
      "text/plain": [
       "<Figure size 640x480 with 1 Axes>"
      ]
     },
     "metadata": {},
     "output_type": "display_data"
    }
   ],
   "source": [
    "sumpfcenter = (sumpfbins[:-1] + sumpfbins[1:]) / 2\n",
    "\n",
    "plt.errorbar(sumpfcenter, survivalrate_CR, survivalrate_CR_error, label=\"Survival CR\")\n",
    "plt.errorbar(\n",
    "    sumpfcenter,\n",
    "    survivalrate_CR_ML_new,\n",
    "    survivalrate_CR_ML_new_error,\n",
    "    label=\"Survival CR(ML)\",\n",
    ")\n",
    "plt.errorbar(\n",
    "    sumpfcenter, survivalrate_gamma, survivalrate_gamma_error, label=\"Survival gamma\"\n",
    ")\n",
    "plt.errorbar(\n",
    "    sumpfcenter,\n",
    "    survivalrate_gamma_ML_new,\n",
    "    survivalrate_gamma_ML_new_error,\n",
    "    label=\"Survival gamma(ML)\",\n",
    ")\n",
    "# plt.plot(sumpfcenter, survivalrate_CR, label=\"Survival CR\")\n",
    "# plt.plot(sumpfcenter, survivalrate_CR_ML_new, label=\"Survival CR(ML)\")\n",
    "# plt.plot(sumpfcenter, survivalrate_gamma, label=\"Survival gamma\")\n",
    "# plt.plot(sumpfcenter, survivalrate_gamma_ML_new, label=\"Survival gamma(ML)\")\n",
    "# plt.plot(sumpfcenter, missing_gamma, label=\"missing CR(ML)\")\n",
    "# plt.plot(sumpfcenter, missing_gamma_ML, label=\"missing CR(ML)\")\n",
    "plt.legend()\n",
    "plt.xlabel(\"sumpf\")\n",
    "plt.ylabel(\"surivial efficiency\")\n",
    "plt.ylim(1e-6,1.1e1)\n",
    "plt.yscale(\"log\")\n",
    "plt.xscale(\"log\")\n",
    "plt.show()\n"
   ]
  },
  {
   "cell_type": "code",
   "execution_count": null,
   "metadata": {},
   "outputs": [],
   "source": []
  },
  {
   "cell_type": "code",
   "execution_count": 13,
   "metadata": {},
   "outputs": [],
   "source": [
    "paralist_MC = [\n",
    "    \"nch\",\n",
    "    \"theta\",\n",
    "    \"phi\",\n",
    "    \"sigma\",\n",
    "    \"cx\",\n",
    "    \"cy\",\n",
    "    \"sumpf\",\n",
    "    \"summd\",\n",
    "    \"mr1\",\n",
    "    \"ne\",\n",
    "    \"age\",\n",
    "    \"inout\",\n",
    "    \"prie\"\n",
    "]\n"
   ]
  },
  {
   "cell_type": "code",
   "execution_count": 14,
   "metadata": {},
   "outputs": [],
   "source": [
    "gammafile = uproot.open(\"/home2/chenxu/data/gamma.00339651.root\")\n",
    "gammadata = gammafile[\"asresult\"].arrays(paralist_MC, library=\"np\")\n"
   ]
  },
  {
   "cell_type": "code",
   "execution_count": 15,
   "metadata": {},
   "outputs": [],
   "source": [
    "gammadata[\"S50\"] = getS50(gammadata[\"ne\"], gammadata[\"age\"])\n",
    "MCcut = np.where(\n",
    "    (gammadata[\"inout\"] == 1)\n",
    "    & (gammadata[\"age\"] < 1.3)\n",
    "    & (gammadata[\"age\"] > 0.31)\n",
    "    & (gammadata[\"S50\"] >= 10**-1.2)\n",
    "    & (gammadata[\"nch\"] >= 16)\n",
    "    & (gammadata[\"theta\"] < 60)\n",
    ")\n",
    "gammadata = {key: gammadata[key][MCcut] for key in gammadata.keys()}"
   ]
  },
  {
   "cell_type": "code",
   "execution_count": 16,
   "metadata": {},
   "outputs": [],
   "source": [
    "predictor_isgmma = TabularPredictor.load(\n",
    "    \"/home2/hky/github/Gamma_Energy/AllSky_withCR/agmodel/identitfy_gamma_CR_Allsky\"\n",
    ")"
   ]
  },
  {
   "cell_type": "code",
   "execution_count": 17,
   "metadata": {},
   "outputs": [],
   "source": [
    "gammadata[\"isgamma\"] = predictor_isgmma.predict_proba(pd.DataFrame(gammadata))[1].to_numpy()\n"
   ]
  },
  {
   "cell_type": "code",
   "execution_count": 18,
   "metadata": {},
   "outputs": [
    {
     "data": {
      "image/png": "[encoded data removed]",
      "text/plain": [
       "<Figure size 640x480 with 1 Axes>"
      ]
     },
     "metadata": {},
     "output_type": "display_data"
    }
   ],
   "source": [
    "plt.hist(gammadata[\"isgamma\"],bins=100)\n",
    "plt.show()"
   ]
  },
  {
   "cell_type": "code",
   "execution_count": 27,
   "metadata": {},
   "outputs": [
    {
     "data": {
      "text/plain": [
       "0.9415842838255114"
      ]
     },
     "execution_count": 27,
     "metadata": {},
     "output_type": "execute_result"
    }
   ],
   "source": [
    "np.sum(gammadata[\"isgamma\"]>0.6)/len(gammadata[\"isgamma\"])"
   ]
  },
  {
   "cell_type": "code",
   "execution_count": 29,
   "metadata": {},
   "outputs": [
    {
     "data": {
      "text/plain": [
       "0.9960972603794901"
      ]
     },
     "execution_count": 29,
     "metadata": {},
     "output_type": "execute_result"
    }
   ],
   "source": [
    "1-np.sum(Exptdata[\"isgamma\"]>0.6)/len(Exptdata[\"isgamma\"])"
   ]
  },
  {
   "cell_type": "code",
   "execution_count": 20,
   "metadata": {},
   "outputs": [],
   "source": [
    "Exptdata = np.load(\"/home2/hky/github/Gamma_Energy/Exptdata/crabCut_23_05_01/003960/00339651.npz\")"
   ]
  },
  {
   "cell_type": "code",
   "execution_count": 21,
   "metadata": {},
   "outputs": [],
   "source": [
    "Exptdata = {key:Exptdata[key] for key in Exptdata}\n",
    "Exptdata[\"isgamma\"] = predictor_isgmma.predict_proba(pd.DataFrame(Exptdata))[1].to_numpy()\n"
   ]
  },
  {
   "cell_type": "code",
   "execution_count": 22,
   "metadata": {},
   "outputs": [
    {
     "data": {
      "image/png": "[encoded data removed]",
      "text/plain": [
       "<Figure size 640x480 with 1 Axes>"
      ]
     },
     "metadata": {},
     "output_type": "display_data"
    }
   ],
   "source": [
    "plt.hist(Exptdata[\"isgamma\"],bins=100)\n",
    "plt.show()"
   ]
  },
  {
   "cell_type": "code",
   "execution_count": 16,
   "metadata": {},
   "outputs": [
    {
     "data": {
      "image/png": "[encoded data removed]",
      "text/plain": [
       "<Figure size 640x480 with 1 Axes>"
      ]
     },
     "metadata": {},
     "output_type": "display_data"
    }
   ],
   "source": [
    "plt.hist(Exptdata[\"summd\"],bins=1000)\n",
    "plt.show()"
   ]
  },
  {
   "cell_type": "code",
   "execution_count": 21,
   "metadata": {},
   "outputs": [
    {
     "data": {
      "image/png": "[encoded data removed]",
      "text/plain": [
       "<Figure size 640x480 with 1 Axes>"
      ]
     },
     "metadata": {},
     "output_type": "display_data"
    }
   ],
   "source": [
    "plt.hist(gammadata[\"summd\"],bins=100)\n",
    "plt.show()"
   ]
  },
  {
   "cell_type": "code",
   "execution_count": 2,
   "metadata": {},
   "outputs": [],
   "source": [
    "data = np.load(\"/home2/hky/github/Gamma_Energy/AllSky_withCR/Data/Data_1000.npz\")"
   ]
  },
  {
   "cell_type": "code",
   "execution_count": 3,
   "metadata": {},
   "outputs": [],
   "source": [
    "data ={key:data[key] for key in data}"
   ]
  },
  {
   "cell_type": "code",
   "execution_count": 30,
   "metadata": {},
   "outputs": [],
   "source": [
    "data[\"logsummd\"] = data[\"summd\"]\n",
    "data[\"logsummd\"][data[\"logsummd\"] == 0] = 10**-0.8\n",
    "data[\"logsummd\"] = np.log10(data[\"logsummd\"])\n",
    "data[\"logsumpf\"] = np.log10(data[\"sumpf\"])\n",
    "\n",
    "gammadata[\"logsummd\"] = gammadata[\"summd\"]\n",
    "gammadata[\"logsummd\"][gammadata[\"logsummd\"] == 0] = 10**-0.8\n",
    "gammadata[\"logsummd\"] = np.log10(gammadata[\"logsummd\"])\n",
    "gammadata[\"logsumpf\"] = np.log10(gammadata[\"sumpf\"])"
   ]
  },
  {
   "cell_type": "code",
   "execution_count": 35,
   "metadata": {},
   "outputs": [],
   "source": [
    "xedges = np.linspace(1,5,81)\n",
    "yedges = np.linspace(-1,4,101)\n",
    "H_expt, xedges, yedges = np.histogram2d(data[\"logsumpf\"] , data[\"logsummd\"],bins=(xedges, yedges))\n",
    "H_MC, xedges, yedges = np.histogram2d(gammadata[\"logsumpf\"] , gammadata[\"logsummd\"],bins=(xedges, yedges))\n",
    "H_expt = H_expt.T\n",
    "H_MC = H_MC.T"
   ]
  },
  {
   "cell_type": "code",
   "execution_count": 37,
   "metadata": {},
   "outputs": [
    {
     "data": {
      "text/plain": [
       "<matplotlib.image.AxesImage at 0x7fefd89a8190>"
      ]
     },
     "execution_count": 37,
     "metadata": {},
     "output_type": "execute_result"
    },
    {
     "data": {
      "image/png": "[encoded data removed]",
      "text/plain": [
       "<Figure size 1600x900 with 1 Axes>"
      ]
     },
     "metadata": {},
     "output_type": "display_data"
    }
   ],
   "source": [
    "\n",
    "fig = plt.figure(figsize=(16, 9))\n",
    "plt.imshow(H_MC, interpolation='nearest', origin='lower',\n",
    "        extent=[xedges[0], xedges[-1], yedges[0], yedges[-1]])"
   ]
  },
  {
   "cell_type": "code",
   "execution_count": 19,
   "metadata": {},
   "outputs": [
    {
     "data": {
      "image/png": "[encoded data removed]",
      "text/plain": [
       "<Figure size 640x480 with 1 Axes>"
      ]
     },
     "metadata": {},
     "output_type": "display_data"
    }
   ],
   "source": [
    "plt.hist(data[\"logsumpf\"]-data[\"logsummd\"],bins=100)\n",
    "plt.show()"
   ]
  },
  {
   "cell_type": "code",
   "execution_count": 42,
   "metadata": {},
   "outputs": [],
   "source": [
    "data = np.load(\"/home2/hky/github/Gamma_Energy/Exptdata/mergedData_nearcrab.npz\")"
   ]
  },
  {
   "cell_type": "code",
   "execution_count": 43,
   "metadata": {},
   "outputs": [
    {
     "name": "stdout",
     "output_type": "stream",
     "text": [
      "runno\n",
      "evno\n",
      "mode\n",
      "mjd\n",
      "nch\n",
      "oldtrig\n",
      "theta\n",
      "phi\n",
      "evenodd\n",
      "sigma\n",
      "cx\n",
      "cy\n",
      "sumpf\n",
      "summd\n",
      "mr1\n",
      "ne\n",
      "age\n",
      "ndf\n",
      "chi2\n",
      "Ra\n",
      "Dec\n",
      "ha\n",
      "LST\n",
      "S50\n"
     ]
    }
   ],
   "source": [
    "for i in data:\n",
    "    print(i)"
   ]
  },
  {
   "cell_type": "code",
   "execution_count": 44,
   "metadata": {},
   "outputs": [],
   "source": [
    "data={key:data[key] for key in data}"
   ]
  },
  {
   "cell_type": "code",
   "execution_count": 45,
   "metadata": {},
   "outputs": [],
   "source": [
    "data[\"logsummd\"] = data[\"summd\"]\n",
    "data[\"logsummd\"][data[\"logsummd\"] == 0] = 10**-0.8\n",
    "data[\"logsummd\"] = np.log10(data[\"logsummd\"])\n",
    "data[\"logsumpf\"] = np.log10(data[\"sumpf\"])"
   ]
  },
  {
   "cell_type": "code",
   "execution_count": 46,
   "metadata": {},
   "outputs": [],
   "source": [
    "xedges = np.linspace(1,5,81)\n",
    "yedges = np.linspace(-1,4,101)\n",
    "H_expt, xedges, yedges = np.histogram2d(data[\"logsumpf\"] , data[\"logsummd\"],bins=(xedges, yedges))\n",
    "H_MC, xedges, yedges = np.histogram2d(gammadata[\"logsumpf\"] , gammadata[\"logsummd\"],bins=(xedges, yedges))\n",
    "H_expt = H_expt.T\n",
    "H_MC = H_MC.T"
   ]
  },
  {
   "cell_type": "code",
   "execution_count": 47,
   "metadata": {},
   "outputs": [
    {
     "data": {
      "text/plain": [
       "<matplotlib.image.AxesImage at 0x7fefd895d1c0>"
      ]
     },
     "execution_count": 47,
     "metadata": {},
     "output_type": "execute_result"
    },
    {
     "data": {
      "image/png": "[encoded data removed]",
      "text/plain": [
       "<Figure size 1600x900 with 1 Axes>"
      ]
     },
     "metadata": {},
     "output_type": "display_data"
    }
   ],
   "source": [
    "\n",
    "fig = plt.figure(figsize=(16, 9))\n",
    "plt.imshow(H_expt, interpolation='nearest', origin='lower',\n",
    "        extent=[xedges[0], xedges[-1], yedges[0], yedges[-1]])"
   ]
  },
  {
   "cell_type": "code",
   "execution_count": 50,
   "metadata": {},
   "outputs": [
    {
     "data": {
      "text/plain": [
       "(22.99999729868587, 21.000007671192478)"
      ]
     },
     "execution_count": 50,
     "metadata": {},
     "output_type": "execute_result"
    }
   ],
   "source": [
    "np.max(data[\"Dec\"]),np.min(data[\"Dec\"])"
   ]
  },
  {
   "cell_type": "code",
   "execution_count": 1,
   "metadata": {},
   "outputs": [],
   "source": [
    "import numpy as np\n",
    "data = np.load(\"/home2/hky/github/Gamma_Energy/AllSky_withCR/Data/Crab_Dec.npz\")\n",
    "data = {key:data[key] for key in data}"
   ]
  },
  {
   "cell_type": "code",
   "execution_count": 2,
   "metadata": {},
   "outputs": [],
   "source": [
    "import matplotlib.pyplot as plt"
   ]
  },
  {
   "cell_type": "code",
   "execution_count": 3,
   "metadata": {},
   "outputs": [],
   "source": [
    "data[\"logsummd\"] = data[\"summd\"]\n",
    "data[\"logsummd\"][data[\"logsummd\"] == 0] = 10**-0.8\n",
    "data[\"logsummd\"] = np.log10(data[\"logsummd\"])\n",
    "data[\"logsumpf\"] = np.log10(data[\"sumpf\"])"
   ]
  },
  {
   "cell_type": "code",
   "execution_count": 16,
   "metadata": {},
   "outputs": [],
   "source": [
    "xedges = np.linspace(1,5,40)\n",
    "yedges = np.linspace(-1,4,51)\n",
    "H_expt, xedges, yedges = np.histogram2d(data[\"logsumpf\"][data[\"isgamma\"]==0] , data[\"logsummd\"][data[\"isgamma\"]==0],bins=(xedges, yedges))\n",
    "H_MC, xedges, yedges = np.histogram2d(data[\"logsumpf\"][data[\"isgamma\"]==1] , data[\"logsummd\"][data[\"isgamma\"]==1],bins=(xedges, yedges))\n",
    "H_expt = H_expt.T\n",
    "H_MC = H_MC.T\n",
    "H_expt/=np.sum(H_expt)\n",
    "H_MC/=np.sum(H_MC)"
   ]
  },
  {
   "cell_type": "code",
   "execution_count": 17,
   "metadata": {},
   "outputs": [
    {
     "data": {
      "text/plain": [
       "<matplotlib.colorbar.Colorbar at 0x7f670ff15b50>"
      ]
     },
     "execution_count": 17,
     "metadata": {},
     "output_type": "execute_result"
    },
    {
     "data": {
      "image/png": "[encoded data removed]",
      "text/plain": [
       "<Figure size 640x480 with 2 Axes>"
      ]
     },
     "metadata": {},
     "output_type": "display_data"
    }
   ],
   "source": [
    "\n",
    "fig,ax = plt.subplots()\n",
    "c = ax.pcolormesh(xedges, yedges, H_expt, cmap=\"plasma\")\n",
    "fig.colorbar(c, orientation=\"vertical\")"
   ]
  },
  {
   "cell_type": "code",
   "execution_count": 23,
   "metadata": {},
   "outputs": [
    {
     "data": {
      "text/plain": [
       "<matplotlib.colorbar.Colorbar at 0x7f670fd58160>"
      ]
     },
     "execution_count": 23,
     "metadata": {},
     "output_type": "execute_result"
    },
    {
     "data": {
      "image/png": "[encoded data removed]",
      "text/plain": [
       "<Figure size 640x480 with 2 Axes>"
      ]
     },
     "metadata": {},
     "output_type": "display_data"
    }
   ],
   "source": [
    "\n",
    "fig,ax = plt.subplots()\n",
    "c = ax.pcolormesh(xedges, yedges, H_MC, cmap=\"plasma\")\n",
    "fig.colorbar(c, orientation=\"vertical\")"
   ]
  },
  {
   "cell_type": "code",
   "execution_count": 19,
   "metadata": {},
   "outputs": [
    {
     "data": {
      "text/plain": [
       "1057954"
      ]
     },
     "execution_count": 19,
     "metadata": {},
     "output_type": "execute_result"
    }
   ],
   "source": [
    "np.sum(data[\"isgamma\"]==0)"
   ]
  },
  {
   "cell_type": "code",
   "execution_count": 22,
   "metadata": {},
   "outputs": [
    {
     "data": {
      "text/plain": [
       "158.92353913174102"
      ]
     },
     "execution_count": 22,
     "metadata": {},
     "output_type": "execute_result"
    }
   ],
   "source": [
    "1/(np.sum(data[\"isgamma\"]==1)/np.sum(data[\"isgamma\"]==0))"
   ]
  },
  {
   "cell_type": "code",
   "execution_count": null,
   "metadata": {},
   "outputs": [],
   "source": []
  }
 ],
 "metadata": {
  "kernelspec": {
   "display_name": "ag",
   "language": "python",
   "name": "python3"
  },
  "language_info": {
   "codemirror_mode": {
    "name": "ipython",
    "version": 3
   },
   "file_extension": ".py",
   "mimetype": "text/x-python",
   "name": "python",
   "nbconvert_exporter": "python",
   "pygments_lexer": "ipython3",
   "version": "3.9.16"
  },
  "orig_nbformat": 4
 },
 "nbformat": 4,
 "nbformat_minor": 2
}
