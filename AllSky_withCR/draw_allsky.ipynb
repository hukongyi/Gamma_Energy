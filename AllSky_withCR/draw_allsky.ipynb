{
 "cells": [
  {
   "cell_type": "code",
   "execution_count": 96,
   "metadata": {},
   "outputs": [],
   "source": [
    "import numpy as np\n",
    "import healpy as hp\n",
    "import matplotlib.pyplot as plt\n",
    "import os\n",
    "from tabulate import tabulate\n",
    "import pandas as pd\n",
    "import warnings\n",
    "\n",
    "warnings.filterwarnings(\"ignore\")\n",
    "\n",
    "\n",
    "def mkdir(path):\n",
    "    if not os.path.exists(path):\n",
    "        os.makedirs(path)\n",
    "\n",
    "\n",
    "def LIMA(alpha, Non, Noff):\n",
    "    sig = np.sqrt(2) * np.sqrt(\n",
    "        Non * np.log((1 + alpha) / alpha * (Non / (Non + Noff)))\n",
    "        + Noff * np.log((1 + alpha) * Noff / (Non + Noff))\n",
    "    )\n",
    "    if type(sig) is np.ndarray:\n",
    "        sig[np.where((Non - Noff * alpha) < 0)] = -sig[\n",
    "            np.where((Non - Noff * alpha) < 0)\n",
    "        ]\n",
    "    else:\n",
    "        if (Non - Noff * alpha) < 0:\n",
    "            sig = -sig\n",
    "    return sig\n",
    "\n",
    "\n",
    "def twoPointAngle(theta1, theta2, phi1, phi2):\n",
    "    acosangle = np.sin(np.deg2rad(theta1)) * np.sin(np.deg2rad(theta2)) * np.cos(\n",
    "        np.deg2rad(phi1 - phi2)\n",
    "    ) + np.cos(np.deg2rad(theta1)) * np.cos(np.deg2rad(theta2))\n",
    "    acosangle[acosangle > 1] = 1\n",
    "    acosangle[acosangle <-1] = -1\n",
    "    return np.rad2deg(np.arccos(acosangle))\n",
    "\n"
   ]
  },
  {
   "cell_type": "code",
   "execution_count": 2,
   "metadata": {},
   "outputs": [],
   "source": [
    "Exptdata = np.load(\n",
    "    \"/home2/hky/github/Gamma_Energy/Exptdata/CrabCut_23_05_07_summdcut/cutedData_E_isgamma_RaDec.npz\"\n",
    ")\n",
    "\n",
    "gamma_cut = 0.005\n",
    "need = np.where(Exptdata[\"isgamma_5\"] > gamma_cut)\n",
    "Exptdata = {key: Exptdata[key][need] for key in Exptdata}"
   ]
  },
  {
   "cell_type": "code",
   "execution_count": 3,
   "metadata": {},
   "outputs": [],
   "source": [
    "NSIDE = 2**9\n",
    "NPIX = hp.nside2npix(NSIDE)\n",
    "reso = 3\n",
    "drawdeg = 3\n",
    "binsnumber = int(drawdeg * 60 / reso * 2)\n",
    "TeVcat = np.loadtxt(\"/home2/hky/github/Gamma_Energy/Crab/TeVcat.log\")\n",
    "Ra_TeVcat = (\n",
    "    TeVcat[:, 0] / 24 + TeVcat[:, 1] / 24 / 60 + TeVcat[:, 2] / 24 / 60 / 60\n",
    ") * 360\n",
    "Dec_TeVcat = TeVcat[:, 3] + TeVcat[:, 4] / 60 + TeVcat[:, 5] / 60 / 60\n",
    "tablelist = list()"
   ]
  },
  {
   "cell_type": "code",
   "execution_count": 4,
   "metadata": {},
   "outputs": [],
   "source": [
    "Energymin=10"
   ]
  },
  {
   "cell_type": "code",
   "execution_count": 5,
   "metadata": {},
   "outputs": [
    {
     "name": "stdout",
     "output_type": "stream",
     "text": [
      "10\n"
     ]
    }
   ],
   "source": [
    "print(Energymin)\n",
    "On = np.zeros(NPIX)\n",
    "Off = np.zeros(NPIX)\n",
    "need = np.where((Exptdata[\"energy\"] > Energymin))\n",
    "np.add.at(\n",
    "    On,\n",
    "    hp.ang2pix(NSIDE, Exptdata[\"Ra\"][need], Exptdata[\"Dec\"][need], lonlat=True),\n",
    "    1,\n",
    ")\n",
    "for i in range(20):\n",
    "    np.add.at(\n",
    "        Off,\n",
    "        hp.ang2pix(\n",
    "            NSIDE,\n",
    "            Exptdata[f\"RaOff_{i}\"][need],\n",
    "            Exptdata[f\"DecOff_{i}\"][need],\n",
    "            lonlat=True,\n",
    "        ),\n",
    "        1,\n",
    "    )"
   ]
  },
  {
   "cell_type": "code",
   "execution_count": 6,
   "metadata": {},
   "outputs": [],
   "source": [
    "smoothed=0.3"
   ]
  },
  {
   "cell_type": "code",
   "execution_count": 72,
   "metadata": {},
   "outputs": [],
   "source": [
    "fwhm = np.deg2rad(smoothed)\n",
    "On_smoothed = hp.smoothing(On, fwhm=fwhm)\n",
    "Off_smoothed = hp.smoothing(Off, fwhm=fwhm)"
   ]
  },
  {
   "cell_type": "code",
   "execution_count": 122,
   "metadata": {},
   "outputs": [],
   "source": [
    "sigma_hp = LIMA(0.05, On_smoothed, Off_smoothed)\n",
    "sigma_hp[np.isnan(sigma_hp)] = 0\n",
    "sigma_hp /= np.std(sigma_hp[On != 0])\n",
    "pixneed = np.where(sigma_hp > 3.5)[0]"
   ]
  },
  {
   "cell_type": "code",
   "execution_count": 123,
   "metadata": {},
   "outputs": [],
   "source": [
    "X = np.rad2deg(hp.pix2ang(NSIDE, pixneed)).T"
   ]
  },
  {
   "cell_type": "code",
   "execution_count": 124,
   "metadata": {},
   "outputs": [],
   "source": [
    "from sklearn.cluster import DBSCAN"
   ]
  },
  {
   "cell_type": "code",
   "execution_count": 125,
   "metadata": {},
   "outputs": [],
   "source": [
    "def similarity(x):\n",
    "    distance = np.zeros([x.shape[0],x.shape[0]])\n",
    "    for i in range(x.shape[0]):\n",
    "        # print(i)\n",
    "        distance[i] = twoPointAngle(\n",
    "                    x[i,0], x[:,0], x[i,1], x[:,1]\n",
    "                )\n",
    "    return distance"
   ]
  },
  {
   "cell_type": "code",
   "execution_count": 126,
   "metadata": {},
   "outputs": [],
   "source": [
    "distance=similarity(X)"
   ]
  },
  {
   "cell_type": "code",
   "execution_count": 131,
   "metadata": {},
   "outputs": [],
   "source": [
    "model = DBSCAN(eps=3,min_samples=5,metric=\"precomputed\")\n",
    "yhat = model.fit_predict(distance)"
   ]
  },
  {
   "cell_type": "code",
   "execution_count": 132,
   "metadata": {},
   "outputs": [
    {
     "data": {
      "text/plain": [
       "array([ -1,   0,   1,   2,   3,   4,   5,   6,   7,   8,   9,  10,  11,\n",
       "        12,  13,  14,  15,  16,  17,  18,  19,  20,  21,  22,  23,  24,\n",
       "        25,  26,  27,  28,  29,  30,  31,  32,  33,  34,  35,  36,  37,\n",
       "        38,  39,  40,  41,  42,  43,  44,  45,  46,  47,  48,  49,  50,\n",
       "        51,  52,  53,  54,  55,  56,  57,  58,  59,  60,  61,  62,  63,\n",
       "        64,  65,  66,  67,  68,  69,  70,  71,  72,  73,  74,  75,  76,\n",
       "        77,  78,  79,  80,  81,  82,  83,  84,  85,  86,  87,  88,  89,\n",
       "        90,  91,  92,  93,  94,  95,  96,  97,  98,  99, 100, 101, 102,\n",
       "       103, 104, 105, 106, 107, 108, 109, 110, 111, 112, 113, 114, 115,\n",
       "       116, 117, 118, 119, 120, 121, 122, 123, 124, 125, 126, 127, 128,\n",
       "       129, 130, 131, 132, 133, 134, 135, 136, 137, 138, 139, 140, 141,\n",
       "       142, 143, 144, 145, 146, 147, 148, 149, 150, 151, 152, 153, 154,\n",
       "       155, 156, 157, 158, 159, 160, 161, 162, 163, 164, 165, 166, 167,\n",
       "       168, 169, 170, 171, 172, 173, 174, 175, 176, 177, 178, 179, 180,\n",
       "       181, 182, 183, 184, 185, 186, 187, 188, 189, 190, 191, 192, 193,\n",
       "       194, 195, 196, 197, 198, 199, 200, 201, 202, 203, 204, 205, 206,\n",
       "       207, 208, 209, 210, 211, 212, 213, 214, 215, 216, 217, 218, 219,\n",
       "       220, 221, 222, 223, 224, 225, 226, 227, 228, 229, 230, 231, 232,\n",
       "       233, 234, 235, 236, 237, 238, 239, 240, 241, 242, 243, 244, 245,\n",
       "       246, 247, 248, 249, 250, 251, 252, 253, 254, 255, 256, 257, 258,\n",
       "       259, 260, 261, 262, 263, 264, 265, 266, 267])"
      ]
     },
     "execution_count": 132,
     "metadata": {},
     "output_type": "execute_result"
    }
   ],
   "source": [
    "np.unique(yhat)"
   ]
  },
  {
   "cell_type": "code",
   "execution_count": 137,
   "metadata": {},
   "outputs": [
    {
     "data": {
      "text/plain": [
       "array([4.13367891, 3.90441515, 3.56110189, 3.70579016, 3.86320233,\n",
       "       3.55885597, 3.88621564, 4.17254763, 3.54037884, 3.60069247,\n",
       "       3.94479681, 3.5818261 , 4.0603468 , 3.83206554, 3.75341327,\n",
       "       3.73288981, 4.24394835, 3.71417168, 3.66190237, 4.21053257,\n",
       "       4.12337683, 3.65721083, 3.60758186, 3.62519379, 4.01482336,\n",
       "       3.67977289, 4.0431432 , 3.73523446, 3.76196347, 3.56629729,\n",
       "       3.53655976, 3.67699919, 4.15726249, 4.02458339, 4.06221694,\n",
       "       3.56840463, 4.03632274, 3.5884454 , 3.50558886, 3.7823647 ,\n",
       "       4.05032262, 3.53650535, 3.68700387, 3.51717515, 3.59654025,\n",
       "       3.50562427, 3.9515422 , 3.5505055 , 3.77663384, 3.59960808,\n",
       "       3.62580538, 3.96417993, 3.63544587, 3.67716978, 3.51511919,\n",
       "       4.04950165, 3.90448805, 3.5167736 , 3.68214155, 3.65261528,\n",
       "       3.53258265, 4.17750138, 3.51532628, 3.84723744, 4.42411792,\n",
       "       3.76996505, 4.40238966, 4.10297457, 3.56055842, 3.61384928,\n",
       "       3.66316106, 3.64110755, 3.81977723, 3.57049449, 4.0474241 ,\n",
       "       4.06270835, 3.71979229, 3.58394515, 4.39614454, 4.0254204 ,\n",
       "       3.76455282, 3.84154694, 4.66821225, 3.51401575, 3.6021926 ,\n",
       "       3.60885394, 4.40349465, 4.49528752, 3.56145939, 4.02718292,\n",
       "       3.61185011, 3.55963735, 3.78676063, 3.70338726, 3.77278372,\n",
       "       5.05958255, 3.57525774, 5.51937357, 4.9458495 , 4.46793884,\n",
       "       4.47503229, 3.95072475, 3.59607634, 3.97328544, 3.52890071,\n",
       "       3.73894704, 3.77319449, 3.55332054, 4.60916533, 4.58394803,\n",
       "       3.69850508, 3.95445766, 3.57326392, 3.85397724, 3.77892422,\n",
       "       3.89794836, 4.02125769, 3.93830467, 4.65891294, 4.05125748,\n",
       "       3.84033946, 3.63182128, 3.78857775, 3.62639499, 4.21071655,\n",
       "       3.92489724, 3.68050138, 3.95891382, 3.71651732, 3.66807573,\n",
       "       4.09012376, 4.32855377, 3.93922669, 3.67187666, 3.5524346 ,\n",
       "       3.73448987, 3.76379424, 3.71856861, 3.92438335, 3.90022674,\n",
       "       3.52615285, 3.56425426])"
      ]
     },
     "execution_count": 137,
     "metadata": {},
     "output_type": "execute_result"
    }
   ],
   "source": [
    "sigma_hp[pixneed[np.where(yhat==0)]]"
   ]
  },
  {
   "cell_type": "code",
   "execution_count": 135,
   "metadata": {},
   "outputs": [
    {
     "data": {
      "text/plain": [
       "38832"
      ]
     },
     "execution_count": 135,
     "metadata": {},
     "output_type": "execute_result"
    }
   ],
   "source": [
    "pixneed[yhat==0][np.argmax(sigma_hp[pixneed][yhat==0])]"
   ]
  },
  {
   "cell_type": "code",
   "execution_count": 136,
   "metadata": {},
   "outputs": [
    {
     "data": {
      "text/plain": [
       "5.51937356979823"
      ]
     },
     "execution_count": 136,
     "metadata": {},
     "output_type": "execute_result"
    }
   ],
   "source": [
    "sigma_hp[38832]"
   ]
  },
  {
   "cell_type": "code",
   "execution_count": null,
   "metadata": {},
   "outputs": [],
   "source": []
  }
 ],
 "metadata": {
  "kernelspec": {
   "display_name": "ag",
   "language": "python",
   "name": "python3"
  },
  "language_info": {
   "codemirror_mode": {
    "name": "ipython",
    "version": 3
   },
   "file_extension": ".py",
   "mimetype": "text/x-python",
   "name": "python",
   "nbconvert_exporter": "python",
   "pygments_lexer": "ipython3",
   "version": "3.9.16"
  },
  "orig_nbformat": 4
 },
 "nbformat": 4,
 "nbformat_minor": 2
}
