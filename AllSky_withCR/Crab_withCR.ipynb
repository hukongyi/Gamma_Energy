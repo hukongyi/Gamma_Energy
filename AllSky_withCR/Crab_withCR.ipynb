{
 "cells": [
  {
   "cell_type": "code",
   "execution_count": 1,
   "metadata": {},
   "outputs": [],
   "source": [
    "import uproot\n",
    "import os\n",
    "import numpy as np\n",
    "import pandas as pd\n",
    "import seaborn as sns\n",
    "import matplotlib.pyplot as plt\n",
    "from getS50 import getS50\n",
    "from autogluon.tabular import TabularDataset, TabularPredictor\n",
    "from sklearn.model_selection import train_test_split\n"
   ]
  },
  {
   "cell_type": "code",
   "execution_count": null,
   "metadata": {},
   "outputs": [],
   "source": [
    "train_data = TabularDataset(\n",
    "    \"/home2/hky/github/Gamma_Energy/AllSky_withCR/Data/train_data.csv\"\n",
    ")\n"
   ]
  },
  {
   "cell_type": "code",
   "execution_count": null,
   "metadata": {},
   "outputs": [],
   "source": [
    "label=\"isgamma\"\n",
    "columns_need = [\"nch\",\"cx\",\"cy\",\"sumpf\",\"summd\",\"ne\",\"age\",\"S50\",\"sigma\",\"phi\",\"theta\"]\n",
    "predictor = TabularPredictor(label=label,path=\"/home2/hky/github/Gamma_Energy/AllSky_withCR/agmodel/identitfy_gamma_CR\").fit(train_data[columns_need])"
   ]
  }
 ],
 "metadata": {
  "kernelspec": {
   "display_name": "ag",
   "language": "python",
   "name": "python3"
  },
  "language_info": {
   "codemirror_mode": {
    "name": "ipython",
    "version": 3
   },
   "file_extension": ".py",
   "mimetype": "text/x-python",
   "name": "python",
   "nbconvert_exporter": "python",
   "pygments_lexer": "ipython3",
   "version": "3.9.16"
  },
  "orig_nbformat": 4
 },
 "nbformat": 4,
 "nbformat_minor": 2
}
