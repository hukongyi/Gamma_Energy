{
 "cells": [
  {
   "cell_type": "code",
   "execution_count": 1,
   "id": "b07be9f6",
   "metadata": {},
   "outputs": [],
   "source": [
    "import uproot\n",
    "import numpy as np"
   ]
  },
  {
   "cell_type": "code",
   "execution_count": 2,
   "id": "ab2d1329",
   "metadata": {},
   "outputs": [],
   "source": [
    "file = uproot.open(\"./50GeV_1TeV_60.0.root\")"
   ]
  },
  {
   "cell_type": "code",
   "execution_count": 8,
   "id": "10b69d7f",
   "metadata": {},
   "outputs": [
    {
     "data": {
      "text/plain": [
       "['WSDResult;1']"
      ]
     },
     "execution_count": 8,
     "metadata": {},
     "output_type": "execute_result"
    }
   ],
   "source": [
    "file.keys()"
   ]
  },
  {
   "cell_type": "code",
   "execution_count": 11,
   "id": "dad1a2ee",
   "metadata": {},
   "outputs": [
    {
     "data": {
      "text/plain": [
       "['evth',\n",
       " 'evth/TObject',\n",
       " 'evth/TObject/fUniqueID',\n",
       " 'evth/TObject/fBits',\n",
       " 'evth/fLia[312]',\n",
       " 'core',\n",
       " 'hits',\n",
       " 'hits/hits.fUniqueID',\n",
       " 'hits/hits.fBits',\n",
       " 'hits/hits.fUnitID',\n",
       " 'hits/hits.fUnder1[4]',\n",
       " 'hits/hits.fUnder2.fUniqueID',\n",
       " 'hits/hits.fUnder2.fBits',\n",
       " 'hits/hits.fUnder2.fA0',\n",
       " 'hits/hits.fUnder2.fT0',\n",
       " 'hits/hits.fUnder3.fUniqueID',\n",
       " 'hits/hits.fUnder3.fBits',\n",
       " 'hits/hits.fUnder3.fA0',\n",
       " 'hits/hits.fUnder3.fT0',\n",
       " 'hits/hits.fUnder4.fUniqueID',\n",
       " 'hits/hits.fUnder4.fBits',\n",
       " 'hits/hits.fUnder4.fA0',\n",
       " 'hits/hits.fUnder4.fT0',\n",
       " 'hits/hits.fUnder5.fUniqueID',\n",
       " 'hits/hits.fUnder5.fBits',\n",
       " 'hits/hits.fUnder5.fA0',\n",
       " 'hits/hits.fUnder5.fT0',\n",
       " 'secs',\n",
       " 'secs/secs.fUniqueID',\n",
       " 'secs/secs.fBits',\n",
       " 'secs/secs.fLia[8]']"
      ]
     },
     "execution_count": 11,
     "metadata": {},
     "output_type": "execute_result"
    }
   ],
   "source": [
    "file[\"WSDResult\"].keys()"
   ]
  },
  {
   "cell_type": "code",
   "execution_count": 46,
   "id": "41408cf6",
   "metadata": {
    "scrolled": false
   },
   "outputs": [
    {
     "data": {
      "text/html": [
       "<pre>---------------------\n",
       "type: 0 * 4 * float64</pre>"
      ],
      "text/plain": [
       "<Array [] type='0 * 4 * float64'>"
      ]
     },
     "execution_count": 46,
     "metadata": {},
     "output_type": "execute_result"
    }
   ],
   "source": [
    "file[\"WSDResult\"][\"hits\"][\"hits.fUnder1[4]\"].array()[0].fA0"
   ]
  },
  {
   "cell_type": "code",
   "execution_count": null,
   "id": "2d0c4e3c",
   "metadata": {},
   "outputs": [],
   "source": []
  }
 ],
 "metadata": {
  "kernelspec": {
   "display_name": "ag",
   "language": "python",
   "name": "ag"
  },
  "language_info": {
   "codemirror_mode": {
    "name": "ipython",
    "version": 3
   },
   "file_extension": ".py",
   "mimetype": "text/x-python",
   "name": "python",
   "nbconvert_exporter": "python",
   "pygments_lexer": "ipython3",
   "version": "3.9.16"
  }
 },
 "nbformat": 4,
 "nbformat_minor": 5
}
