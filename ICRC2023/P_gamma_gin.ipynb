{
 "cells": [
  {
   "cell_type": "code",
   "execution_count": 1,
   "id": "dd33895b",
   "metadata": {},
   "outputs": [],
   "source": [
    "import numpy as np\n",
    "import os\n",
    "import torch\n",
    "import torch.nn as nn\n",
    "import torch.nn.functional as F\n",
    "\n",
    "os.environ[\"DGLBACKEND\"] = \"pytorch\"\n",
    "import dgl\n",
    "from dgl.dataloading import GraphDataLoader\n",
    "from dgl.data import DGLDataset\n",
    "import h5py\n",
    "import matplotlib.pyplot as plt\n",
    "from sklearn.model_selection import train_test_split\n",
    "from dgl.nn.pytorch.conv import GINConv\n",
    "from dgl.nn.pytorch.glob import SumPooling, AvgPooling, MaxPooling\n",
    "from tqdm.notebook import tqdm\n",
    "from dgl.data.utils import save_graphs, load_graphs"
   ]
  },
  {
   "cell_type": "code",
   "execution_count": 2,
   "id": "2faa87eb",
   "metadata": {},
   "outputs": [],
   "source": [
    "device = \"cuda\" if torch.cuda.is_available() else \"cpu\""
   ]
  },
  {
   "cell_type": "code",
   "execution_count": 3,
   "id": "d74a6e17",
   "metadata": {},
   "outputs": [],
   "source": [
    "data_comsic = h5py.File(\n",
    "    \"/home2/hky/github/Gamma_Energy/AllSky_originData/Data/Comsic_allsky_compress_cuted.h5\",\n",
    "    \"r\",\n",
    ")\n",
    "data_gamma = h5py.File(\n",
    "    \"/home2/hky/github/Gamma_Energy/AllSky_originData/Data/gamma_allsky_compress_cuted.h5\",\n",
    "    \"r\",\n",
    ")\n",
    "loc = np.loadtxt(\n",
    "    \"/home2/hky/github/Gamma_Energy/AllSky_originData/TibetIII-forplot.loc\"\n",
    ")"
   ]
  },
  {
   "cell_type": "code",
   "execution_count": 4,
   "id": "7c01dd22",
   "metadata": {},
   "outputs": [],
   "source": [
    "data_comsic = {key:data_comsic[key][:] for key in data_comsic}\n",
    "data_gamma = {key:data_gamma[key][:] for key in data_gamma}"
   ]
  },
  {
   "cell_type": "code",
   "execution_count": 5,
   "id": "fb55499e",
   "metadata": {},
   "outputs": [],
   "source": [
    "data = {key:np.concatenate([data_comsic[key],data_gamma[key]],axis=0) for key in data_gamma.keys()}"
   ]
  },
  {
   "cell_type": "code",
   "execution_count": 6,
   "id": "c8eed62b",
   "metadata": {},
   "outputs": [],
   "source": [
    "data[\"isgamma\"] = np.ones_like(data[\"prie\"])\n",
    "data[\"isgamma\"][:len(data_comsic[\"prie\"])]=0"
   ]
  },
  {
   "cell_type": "code",
   "execution_count": 7,
   "id": "2de9a627",
   "metadata": {},
   "outputs": [],
   "source": [
    "del data_comsic\n",
    "del data_gamma"
   ]
  },
  {
   "cell_type": "code",
   "execution_count": 8,
   "id": "e2063281",
   "metadata": {},
   "outputs": [],
   "source": [
    "train_val_index, test_index = train_test_split(\n",
    "    range(len(data[\"prie\"])), random_state=42, test_size=0.8\n",
    ")\n",
    "train_index, val_index = train_test_split(\n",
    "    train_val_index, random_state=42, test_size=0.3\n",
    ")"
   ]
  },
  {
   "cell_type": "code",
   "execution_count": 18,
   "id": "dc6574d9",
   "metadata": {},
   "outputs": [],
   "source": [
    "def create_graph(savepath, save_index, k):\n",
    "    Tibet = data[\"Tibet\"][save_index]\n",
    "#     prie = torch.tensor(\n",
    "#         np.log10(data[\"prie\"][:][save_index] / 1000), dtype=torch.float32\n",
    "#     )\n",
    "    isgamma = torch.tensor(data[\"isgamma\"][save_index], dtype=torch.long)\n",
    "#     phi = torch.tensor(data[\"priphi\"][:][save_index], dtype=torch.float32)\n",
    "    graphs = list()\n",
    "    for index in tqdm(range(len(isgamma))):\n",
    "        particle_num = Tibet[index, :, 0]\n",
    "        time = Tibet[index, :, 1]\n",
    "        need = np.where((particle_num >= 0.4) & (np.abs(time) < 800))\n",
    "        nnode = len(need[0])\n",
    "        xdata = np.zeros([nnode, 4], dtype=np.float32)\n",
    "        xdata[:, 0] = np.log10(particle_num[need])\n",
    "        xdata[:, 1] = time[need] / 500\n",
    "        xdata[:, 2] = loc[need][:, 3] / 75\n",
    "        xdata[:, 3] = loc[need][:, 4] / 75\n",
    "\n",
    "        #         src = np.array([n for n in range(nnode) for _ in range(nnode)], dtype=np.int32)\n",
    "        #         dst = np.array(list(range(nnode)) * nnode, dtype=np.int32)\n",
    "        #         need_del = np.where(src == dst)\n",
    "        #         src = np.delete(src, need_del[0])\n",
    "        #         dst = np.delete(dst, need_del[0])\n",
    "        #         src = torch.tensor(src)\n",
    "        #         dst = torch.tensor(dst)\n",
    "        xdata = torch.from_numpy(xdata)\n",
    "        g = dgl.knn_graph(xdata[:, 2:], k=k)\n",
    "        g.ndata[\"xdata\"] = xdata\n",
    "        graphs.append(g)\n",
    "    save_graphs(savepath, graphs, {\"isgamma\": isgamma})"
   ]
  },
  {
   "cell_type": "code",
   "execution_count": 19,
   "id": "647be4b4",
   "metadata": {},
   "outputs": [
    {
     "data": {
      "application/vnd.jupyter.widget-view+json": {
       "model_id": "b6f94fa61c8d43b8937676f74bcf2a27",
       "version_major": 2,
       "version_minor": 0
      },
      "text/plain": [
       "  0%|          | 0/291860 [00:00<?, ?it/s]"
      ]
     },
     "metadata": {},
     "output_type": "display_data"
    },
    {
     "data": {
      "application/vnd.jupyter.widget-view+json": {
       "model_id": "f62b5843cbeb43d7acfbd04dcc4ca190",
       "version_major": 2,
       "version_minor": 0
      },
      "text/plain": [
       "  0%|          | 0/125084 [00:00<?, ?it/s]"
      ]
     },
     "metadata": {},
     "output_type": "display_data"
    }
   ],
   "source": [
    "for k in range(10, 11):\n",
    "    savepath = f\"/cxtmp/hky/ICRCdata/cosmic_gamma_train_dgl_knn_{k}.bin\"\n",
    "    create_graph(savepath, train_index, k)\n",
    "    savepath = f\"/cxtmp/hky/ICRCdata/cosmic_gamma_val_dgl_knn_{k}.bin\"\n",
    "    create_graph(savepath, val_index, k)"
   ]
  },
  {
   "cell_type": "code",
   "execution_count": 20,
   "id": "9ae39a0e",
   "metadata": {},
   "outputs": [
    {
     "data": {
      "application/vnd.jupyter.widget-view+json": {
       "model_id": "dfc13acbf8cb48d7af3ca29d05fbd2f2",
       "version_major": 2,
       "version_minor": 0
      },
      "text/plain": [
       "  0%|          | 0/1667780 [00:00<?, ?it/s]"
      ]
     },
     "metadata": {},
     "output_type": "display_data"
    }
   ],
   "source": [
    "savepath = f\"/cxtmp/hky/ICRCdata/cosmic_gamma_test_dgl_knn_10.bin\"\n",
    "create_graph(savepath, test_index, 10)"
   ]
  },
  {
   "cell_type": "code",
   "execution_count": 12,
   "id": "414264e1",
   "metadata": {},
   "outputs": [],
   "source": [
    "class Gamma_Allsky_dgl(DGLDataset):\n",
    "    def __init__(self, path):\n",
    "        self.graph, self.labels = load_graphs(path)\n",
    "\n",
    "    def __len__(self):\n",
    "        return len(self.graph)\n",
    "\n",
    "    def __getitem__(self, index):\n",
    "        return (self.graph[index], self.labels[\"isgamma\"][index])"
   ]
  },
  {
   "cell_type": "code",
   "execution_count": 10,
   "id": "b37dfccf",
   "metadata": {},
   "outputs": [],
   "source": [
    "class MLP(nn.Module):\n",
    "    \"\"\"Construct two-layer MLP-type aggreator for GIN model\"\"\"\n",
    "\n",
    "    def __init__(self, input_dim, hidden_dim, output_dim):\n",
    "        super().__init__()\n",
    "        self.linears = nn.ModuleList()\n",
    "        # two-layer MLP\n",
    "        self.linears.append(nn.Linear(input_dim, hidden_dim, bias=False))\n",
    "        self.linears.append(nn.Linear(hidden_dim, output_dim, bias=False))\n",
    "        self.batch_norm = nn.BatchNorm1d((hidden_dim))\n",
    "\n",
    "    def forward(self, x):\n",
    "        h = x\n",
    "        h = F.relu(self.batch_norm(self.linears[0](h)))\n",
    "        return self.linears[1](h)\n",
    "\n",
    "\n",
    "class GIN(nn.Module):\n",
    "    def __init__(self, input_dim, hidden_dim, output_dim):\n",
    "        super().__init__()\n",
    "        self.ginlayers = nn.ModuleList()\n",
    "        self.batch_norms = nn.ModuleList()\n",
    "        num_layers = 5\n",
    "        # five-layer GCN with two-layer MLP aggregator and sum-neighbor-pooling scheme\n",
    "        for layer in range(num_layers - 1):  # excluding the input layer\n",
    "            if layer == 0:\n",
    "                mlp = MLP(input_dim, hidden_dim, hidden_dim)\n",
    "            else:\n",
    "                mlp = MLP(hidden_dim, hidden_dim, hidden_dim)\n",
    "            self.ginlayers.append(\n",
    "                GINConv(mlp, learn_eps=False)\n",
    "            )  # set to True if learning epsilon\n",
    "            self.batch_norms.append(nn.BatchNorm1d(hidden_dim))\n",
    "        # linear functions for graph sum poolings of output of each layer\n",
    "        self.linear_prediction = nn.ModuleList()\n",
    "        for layer in range(num_layers):\n",
    "            if layer == 0:\n",
    "                self.linear_prediction.append(nn.Linear(input_dim, output_dim))\n",
    "            else:\n",
    "                self.linear_prediction.append(nn.Linear(hidden_dim, output_dim))\n",
    "        self.drop = nn.Dropout(0.5)\n",
    "        self.pool = (\n",
    "            MaxPooling()\n",
    "        )  # change to mean readout (AvgPooling) on social network datasets\n",
    "\n",
    "    def forward(self, g, h):\n",
    "        # list of hidden representation at each layer (including the input layer)\n",
    "        hidden_rep = [h]\n",
    "        for i, layer in enumerate(self.ginlayers):\n",
    "            h = layer(g, h)\n",
    "            h = self.batch_norms[i](h)\n",
    "            h = F.relu(h)\n",
    "            hidden_rep.append(h)\n",
    "        score_over_layer = 0\n",
    "        # perform graph sum pooling over all nodes in each layer\n",
    "        for i, h in enumerate(hidden_rep):\n",
    "            pooled_h = self.pool(g, h)\n",
    "            score_over_layer += self.drop(self.linear_prediction[i](pooled_h))\n",
    "        return score_over_layer\n"
   ]
  },
  {
   "cell_type": "code",
   "execution_count": 6,
   "id": "d18c416d",
   "metadata": {},
   "outputs": [],
   "source": [
    "model_name = [\"GIN\"]\n",
    "result = dict()\n",
    "\n",
    "k = 10\n",
    "train_path = f\"/cxtmp/hky/ICRCdata/cosmic_gamma_train_dgl_knn_{k}.bin\"\n",
    "val_path = f\"/cxtmp/hky/ICRCdata/cosmic_gamma_val_dgl_knn_{k}.bin\"\n",
    "\n",
    "MCdataset_train = Gamma_Allsky_dgl(train_path)\n",
    "MCdataset_val = Gamma_Allsky_dgl(val_path)"
   ]
  },
  {
   "cell_type": "code",
   "execution_count": 7,
   "id": "ec350615",
   "metadata": {},
   "outputs": [],
   "source": [
    "train_dataloader = GraphDataLoader(\n",
    "    MCdataset_train, batch_size=256, drop_last=False, num_workers=4, shuffle=True\n",
    ")\n",
    "val_dataloader = GraphDataLoader(\n",
    "    MCdataset_val, batch_size=256, drop_last=False, num_workers=4, shuffle=False\n",
    ")"
   ]
  },
  {
   "cell_type": "code",
   "execution_count": null,
   "id": "15438847",
   "metadata": {},
   "outputs": [
    {
     "name": "stdout",
     "output_type": "stream",
     "text": [
      "0 GIN_10 tensor(0.2375)\n",
      "1 GIN_10 tensor(0.1859)\n",
      "2 GIN_10 tensor(0.1522)\n",
      "3 GIN_10 tensor(0.1342)\n",
      "4 GIN_10 tensor(0.1274)\n",
      "5 GIN_10 tensor(0.1176)\n",
      "7 GIN_10 tensor(0.1135)\n",
      "8 GIN_10 tensor(0.1104)\n",
      "10 GIN_10 tensor(0.1051)\n",
      "12 GIN_10 tensor(0.1035)\n",
      "15 GIN_10 tensor(0.1027)\n",
      "16 GIN_10 tensor(0.1018)\n",
      "18 GIN_10 tensor(0.1006)\n",
      "19 GIN_10 tensor(0.0972)\n",
      "24 GIN_10 tensor(0.0968)\n",
      "25 GIN_10 tensor(0.0958)\n",
      "26 GIN_10 tensor(0.0925)\n",
      "30 GIN_10 tensor(0.0909)\n",
      "35 GIN_10 tensor(0.0902)\n",
      "40 GIN_10 tensor(0.0882)\n",
      "44 GIN_10 tensor(0.0866)\n",
      "46 GIN_10 tensor(0.0859)\n",
      "47 GIN_10 tensor(0.0850)\n",
      "49 GIN_10 tensor(0.0837)\n",
      "58 GIN_10 tensor(0.0825)\n",
      "61 GIN_10 tensor(0.0822)\n",
      "63 GIN_10 tensor(0.0812)\n",
      "64 GIN_10 tensor(0.0809)\n",
      "68 GIN_10 tensor(0.0806)\n"
     ]
    }
   ],
   "source": [
    "test = next(iter(train_dataloader))\n",
    "test[0].to(device)\n",
    "\n",
    "for i, modeltype in enumerate([GIN]):\n",
    "    val_loss_best = 1\n",
    "    model = modeltype(4, 16, 2).to(device)\n",
    "    maxtpoch = 80\n",
    "    optimizer = torch.optim.Adam(model.parameters(), lr=1e-3, weight_decay=5e-4)\n",
    "    lr_scheduler = torch.optim.lr_scheduler.CosineAnnealingLR(optimizer, maxtpoch)\n",
    "    lossfunction = nn.CrossEntropyLoss()\n",
    "\n",
    "    for epoch in range(maxtpoch):\n",
    "        model.train()\n",
    "        for batched_graph, labels in train_dataloader:\n",
    "            if batched_graph.num_edges() > 2e8:\n",
    "                continue\n",
    "            batched_graph, labels = batched_graph.to(device), labels.to(\n",
    "                device\n",
    "            )\n",
    "            pred = model(batched_graph, batched_graph.ndata[\"xdata\"])\n",
    "            loss = lossfunction(pred, labels)\n",
    "            optimizer.zero_grad()\n",
    "            loss.backward()\n",
    "            optimizer.step()\n",
    "#             print(loss)\n",
    "        lr_scheduler.step()\n",
    "        y_pred = list()\n",
    "        y_orgin = list()\n",
    "        model.eval()\n",
    "        with torch.no_grad():\n",
    "            for batched_graph, labels in val_dataloader:\n",
    "                if batched_graph.num_edges() > 2e8:\n",
    "                    continue\n",
    "                batched_graph, labels = batched_graph.to(device), labels.to(device)\n",
    "                pred = model(batched_graph, batched_graph.ndata[\"xdata\"])\n",
    "                y_pred.append(pred.cpu().numpy())\n",
    "                y_orgin.append(labels.cpu().numpy())\n",
    "        y_pred = np.concatenate(y_pred,axis=0)\n",
    "        y_orgin = np.concatenate(y_orgin)\n",
    "        val_loss =lossfunction(torch.from_numpy(y_pred),torch.from_numpy(y_orgin))\n",
    "#             print(val_loss)\n",
    "        if val_loss < val_loss_best:\n",
    "            val_loss_best = val_loss\n",
    "            torch.save(\n",
    "                model.state_dict(), f\"/cxtmp/hky/ICRCdata/{model_name[i]}_{k}_Adam_P_gamma.pt\"\n",
    "            )\n",
    "            result[f\"{model_name[i]}_{k}\"] = val_loss_best\n",
    "            print(f\"{epoch} {model_name[i]}_{k}\", val_loss_best)"
   ]
  },
  {
   "cell_type": "code",
   "execution_count": null,
   "id": "3cb6d352",
   "metadata": {},
   "outputs": [],
   "source": [
    "# val_loss_list =list()\n",
    "# for i in result.keys():\n",
    "#     val_loss_list.append(result[i])"
   ]
  },
  {
   "cell_type": "code",
   "execution_count": 13,
   "id": "e7c16ee1",
   "metadata": {},
   "outputs": [],
   "source": [
    "test_path = f\"/cxtmp/hky/ICRCdata/cosmic_gamma_test_dgl_knn_{10}.bin\"\n",
    "\n",
    "MCdataset_test = Gamma_Allsky_dgl(test_path)\n",
    "\n",
    "test_dataloader = GraphDataLoader(\n",
    "    MCdataset_test, batch_size=256, drop_last=False, num_workers=4, shuffle=False\n",
    ")"
   ]
  },
  {
   "cell_type": "code",
   "execution_count": 15,
   "id": "92e953c3",
   "metadata": {},
   "outputs": [
    {
     "name": "stderr",
     "output_type": "stream",
     "text": [
      "/home2/hky/miniconda3/envs/dgl/lib/python3.9/site-packages/dgl/backend/pytorch/tensor.py:449: UserWarning: TypedStorage is deprecated. It will be removed in the future and UntypedStorage will be the only storage class. This should only matter to you if you are using storages directly.  To access UntypedStorage directly, use tensor.untyped_storage() instead of tensor.storage()\n",
      "  assert input.numel() == input.storage().size(), (\n"
     ]
    }
   ],
   "source": [
    "test = next(iter(test_dataloader))\n",
    "test[0].to(device)\n",
    "\n",
    "model = GIN(4, 16, 2).to(device)\n",
    "model.load_state_dict(torch.load( f\"/cxtmp/hky/ICRCdata/GIN_MaxPooling_10_Adam_P_gamma.pt\"))\n",
    "model.eval()\n",
    "y_pred = list()\n",
    "y_orgin = list()\n",
    "with torch.no_grad():\n",
    "    for batched_graph, labels in test_dataloader:\n",
    "        if batched_graph.num_edges() > 2e8:\n",
    "            continue\n",
    "        batched_graph, labels = batched_graph.to(device), labels.to(device)\n",
    "        pred = model(batched_graph, batched_graph.ndata[\"xdata\"])\n",
    "        y_pred.append(pred.cpu().numpy())\n",
    "        y_orgin.append(labels.cpu().numpy())\n",
    "y_pred = np.concatenate(y_pred,axis=0)\n",
    "y_orgin = np.concatenate(y_orgin)\n",
    "# val_loss = np.mean((y_pred - y_orgin) ** 2)"
   ]
  },
  {
   "cell_type": "code",
   "execution_count": 33,
   "id": "f047961f",
   "metadata": {},
   "outputs": [],
   "source": [
    "y_pred_softmax = F.softmax(torch.from_numpy(y_pred),dim=1).numpy()"
   ]
  },
  {
   "cell_type": "code",
   "execution_count": 34,
   "id": "6caee76c",
   "metadata": {},
   "outputs": [
    {
     "data": {
      "text/plain": [
       "(array([      8,      13,      15, ..., 1667719, 1667746, 1667772]),)"
      ]
     },
     "execution_count": 34,
     "metadata": {},
     "output_type": "execute_result"
    }
   ],
   "source": [
    "np.where(y_orgin==0)"
   ]
  },
  {
   "cell_type": "code",
   "execution_count": 35,
   "id": "02c9d5b7",
   "metadata": {},
   "outputs": [
    {
     "data": {
      "text/plain": [
       "(array([1444383.,   62925.,   24852.,   14477.,   10246.,    8232.,\n",
       "           7364.,    7525.,    9194.,   78582.]),\n",
       " array([5.67905389e-10, 1.00000001e-01, 2.00000003e-01, 3.00000012e-01,\n",
       "        4.00000006e-01, 5.00000000e-01, 6.00000024e-01, 6.99999988e-01,\n",
       "        8.00000012e-01, 8.99999976e-01, 1.00000000e+00]),\n",
       " <BarContainer object of 10 artists>)"
      ]
     },
     "execution_count": 35,
     "metadata": {},
     "output_type": "execute_result"
    },
    {
     "data": {
      "image/png": "[encoded data removed]",
      "text/plain": [
       "<Figure size 640x480 with 1 Axes>"
      ]
     },
     "metadata": {},
     "output_type": "display_data"
    }
   ],
   "source": [
    "plt.hist(y_pred_softmax[:,0])"
   ]
  },
  {
   "cell_type": "code",
   "execution_count": 36,
   "id": "e79f3725",
   "metadata": {},
   "outputs": [],
   "source": [
    "newdata = dict()\n",
    "for para in data:\n",
    "    if para not in [\"Tibet\",\"MD\"]:\n",
    "        newdata[para] = data[para][:][test_index]\n",
    "newdata[\"GIN_isgamma\"] = y_pred_softmax[:,1]"
   ]
  },
  {
   "cell_type": "code",
   "execution_count": 37,
   "id": "68135c6c",
   "metadata": {},
   "outputs": [
    {
     "data": {
      "text/plain": [
       "{'age': array([0.6621716 , 0.40195089, 1.00317541, ..., 0.47301493, 0.5467048 ,\n",
       "        0.66254008]),\n",
       " 'cx': array([ 89.65108939,  33.10925904, -23.08883435, ..., -74.4910488 ,\n",
       "         20.23831716, -23.48962163]),\n",
       " 'cy': array([  73.72972958,   74.39151343,  -82.4879488 , ..., -104.89825902,\n",
       "          28.25490733,   53.88214838]),\n",
       " 'inout': array([1, 1, 1, ..., 1, 1, 1], dtype=int32),\n",
       " 'mr1': array([62.60599485, 36.86808622, 34.94326397, ..., 54.83033709,\n",
       "        24.29729784, 40.10490748]),\n",
       " 'nch': array([121,  21,  23, ...,  65,  25, 159], dtype=int32),\n",
       " 'ne': array([256400.68560789,  16404.12643241,  15613.15052031, ...,\n",
       "        315195.070374  ,  14192.43420226, 147398.16305941]),\n",
       " 'phi': array([175.03215172, 102.70807947, 105.20823935, ...,  80.73259227,\n",
       "         37.36662295,  40.10778827]),\n",
       " 'pricx': array([ 92.419,  35.154, -23.45 , ..., -74.67 ,  17.245, -24.929]),\n",
       " 'pricy': array([  72.97 ,   74.924,  -91.459, ..., -103.08 ,   34.204,   54.309]),\n",
       " 'prie': array([301876.6875    ,   9438.99902344,  19715.83789062, ...,\n",
       "        133632.515625  ,  12744.75976562, 133255.015625  ]),\n",
       " 'prie_num': array([8893,  543,  717, ..., 1420, 6306, 1485]),\n",
       " 'priid': array([1, 1, 1, ..., 1, 1, 1]),\n",
       " 'prik': array([7, 4, 6, ..., 6, 2, 5], dtype=int32),\n",
       " 'prine': array([142746,   5236,  12738, ..., 104697,   6116,  82992]),\n",
       " 'priphi': array([0.07913358, 1.34146047, 1.29312265, ..., 1.75132418, 2.49173903,\n",
       "        2.44353676]),\n",
       " 'pritheta': array([0.64595515, 0.72764879, 0.27340481, ..., 0.49181515, 0.49203941,\n",
       "        0.5712356 ]),\n",
       " 'sigma': array([0.51476929, 0.33446834, 0.33961416, ..., 0.75409844, 0.23101185,\n",
       "        0.38331188]),\n",
       " 'summd': array([2.38468404, 0.        , 0.        , ..., 0.        , 0.        ,\n",
       "        0.        ]),\n",
       " 'sumpd': array([1061.53361378,   94.25867624,   89.00092192, ..., 1150.09274733,\n",
       "          37.79870916,  571.7818807 ]),\n",
       " 'sumpf': array([1144.09274991,  184.1879542 ,  133.64919948, ...,  591.46483454,\n",
       "         149.1671877 , 1948.8210787 ]),\n",
       " 'theta': array([37.42095261, 41.27067809, 15.21953639, ..., 28.1667933 ,\n",
       "        28.38541909, 32.81320701]),\n",
       " 'isgamma': array([1., 1., 1., ..., 1., 1., 1.]),\n",
       " 'GIN_isgamma': array([0.9999739 , 0.99037886, 0.9976544 , ..., 0.9999982 , 0.9597643 ,\n",
       "        0.99999976], dtype=float32)}"
      ]
     },
     "execution_count": 37,
     "metadata": {},
     "output_type": "execute_result"
    }
   ],
   "source": [
    "newdata"
   ]
  },
  {
   "cell_type": "code",
   "execution_count": 38,
   "id": "c786f5fd",
   "metadata": {},
   "outputs": [],
   "source": [
    "np.savez(f\"/cxtmp/hky/ICRCdata/cosmic_gamma_test_with_dgl.npz\",**newdata)"
   ]
  },
  {
   "cell_type": "code",
   "execution_count": 44,
   "id": "42495205",
   "metadata": {},
   "outputs": [
    {
     "data": {
      "image/png": "[encoded data removed]",
      "text/plain": [
       "<Figure size 640x480 with 1 Axes>"
      ]
     },
     "metadata": {},
     "output_type": "display_data"
    }
   ],
   "source": [
    "plt.hist(newdata[\"GIN_isgamma\"][np.where(y_orgin==0)],bins=np.linspace(0,1,101),alpha=0.5,density=True)\n",
    "plt.hist(newdata[\"GIN_isgamma\"][np.where(y_orgin==1)],bins=np.linspace(0,1,101),alpha=0.5,density=True)\n",
    "plt.show()"
   ]
  },
  {
   "cell_type": "code",
   "execution_count": null,
   "id": "4ca996e5",
   "metadata": {},
   "outputs": [],
   "source": []
  }
 ],
 "metadata": {
  "kernelspec": {
   "display_name": "dgl",
   "language": "python",
   "name": "dgl"
  },
  "language_info": {
   "codemirror_mode": {
    "name": "ipython",
    "version": 3
   },
   "file_extension": ".py",
   "mimetype": "text/x-python",
   "name": "python",
   "nbconvert_exporter": "python",
   "pygments_lexer": "ipython3",
   "version": "3.9.16"
  }
 },
 "nbformat": 4,
 "nbformat_minor": 5
}
