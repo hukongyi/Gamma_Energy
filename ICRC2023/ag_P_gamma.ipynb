{
 "cells": [
  {
   "cell_type": "code",
   "execution_count": 45,
   "id": "fa2c1053",
   "metadata": {},
   "outputs": [],
   "source": [
    "import numpy as np\n",
    "import pandas as pd\n",
    "from sklearn.model_selection import train_test_split\n",
    "from autogluon.tabular import TabularPredictor\n",
    "import matplotlib.pyplot as plt\n",
    "from sklearn.linear_model import LinearRegression\n",
    "from tqdm.notebook import tqdm"
   ]
  },
  {
   "cell_type": "code",
   "execution_count": 2,
   "id": "0fa04a45",
   "metadata": {},
   "outputs": [],
   "source": [
    "from scipy.special import gamma\n",
    "from math import pi\n",
    "\n",
    "\n",
    "def getS50(ne: np.ndarray, s: np.ndarray):\n",
    "    \"\"\"Get S50 from NKG function.\n",
    "\n",
    "    Input:\n",
    "        ne: Ne of Event.\n",
    "        s: age of Event.\n",
    "\n",
    "    Output:\n",
    "        S50\n",
    "    \"\"\"\n",
    "    rm = 130.0\n",
    "    r = 50.0\n",
    "    nr = ne / (rm * rm)\n",
    "    gg1 = gamma(4.5 - s)\n",
    "    gg2 = 2 * pi * gamma(s) * gamma(4.5 - 2 * s)\n",
    "    rr1 = pow(r / rm, s - 2)\n",
    "    rr2 = pow(1 + r / rm, s - 4.5)\n",
    "    return nr * gg1 / gg2 * rr1 * rr2"
   ]
  },
  {
   "cell_type": "code",
   "execution_count": 3,
   "id": "2903f996",
   "metadata": {},
   "outputs": [],
   "source": [
    "data = np.load(f\"/cxtmp/hky/ICRCdata/cosmic_gamma_test_with_dgl.npz\")\n",
    "data = {key: data[key] for key in data}"
   ]
  },
  {
   "cell_type": "code",
   "execution_count": 4,
   "id": "9e89776c",
   "metadata": {},
   "outputs": [],
   "source": [
    "data[\"S50\"] = getS50(data[\"ne\"], data[\"age\"])\n",
    "data[\"prie\"] = np.log10(data[\"prie\"] / 1000)\n",
    "data[\"S50\"] = np.log10(data[\"S50\"])\n",
    "data[\"ne\"] = np.log10(data[\"ne\"])\n",
    "data[\"sumpf\"] = np.log10(data[\"sumpf\"])\n",
    "# data[\"pritheta\"] = np.rad2deg(data[\"pritheta\"])\n",
    "# data[\"deltatheta\"] = data[\"theta\"] - data[\"pritheta\"]\n",
    "\n",
    "# data[\"priphi\"] = 180 - np.rad2deg(data[\"priphi\"])\n",
    "# data[\"priphi\"][data[\"priphi\"] > 180] = data[\"priphi\"][data[\"priphi\"] > 180] - 360\n",
    "# data[\"deltaphi\"] = data[\"phi\"] - data[\"priphi\"]\n",
    "# data[\"deltaphi\"][data[\"deltaphi\"] < -180] += 360\n",
    "# data[\"deltaphi\"][data[\"deltaphi\"] > 180] -= 360\n",
    "\n",
    "# data[\"GIN_theta\"] = np.rad2deg(data[\"GIN_theta\"])\n",
    "# data[\"deltaGIN_theta\"] = data[\"GIN_theta\"] - data[\"pritheta\"]\n",
    "# data[\"GIN_phi\"] = 180 - np.rad2deg(data[\"GIN_phi\"])\n",
    "# data[\"GIN_phi\"][data[\"GIN_phi\"] > 180] = data[\"GIN_phi\"][data[\"GIN_phi\"] > 180] - 360\n",
    "# data[\"deltaGIN_phi\"] = data[\"GIN_phi\"] - data[\"priphi\"]\n",
    "# data[\"deltaGIN_phi\"][data[\"deltaGIN_phi\"] < -180] += 360\n",
    "# data[\"deltaGIN_phi\"][data[\"deltaGIN_phi\"] > 180] -= 360"
   ]
  },
  {
   "cell_type": "code",
   "execution_count": 5,
   "id": "fbfa00d4",
   "metadata": {},
   "outputs": [],
   "source": [
    "train_index, test_index = train_test_split(\n",
    "    range(len(data[\"S50\"])), random_state=42, test_size=0.6\n",
    ")"
   ]
  },
  {
   "cell_type": "code",
   "execution_count": 6,
   "id": "1a376e4e",
   "metadata": {
    "scrolled": true
   },
   "outputs": [],
   "source": [
    "label = \"isgamma\"\n",
    "columns_need = [\n",
    "    \"nch\",\n",
    "    \"theta\",\n",
    "    \"phi\",\n",
    "    \"sigma\",\n",
    "    \"cx\",\n",
    "    \"cy\",\n",
    "    \"sumpf\",\n",
    "    \"summd\",\n",
    "    \"mr1\",\n",
    "    \"ne\",\n",
    "    \"age\",\n",
    "    \"S50\",\n",
    "    \"GIN_isgamma\",\n",
    "]\n",
    "columns_need.append(label)\n",
    "train_data = pd.DataFrame({key: data[key][train_index] for key in columns_need})\n",
    "# predictor_isgamma = TabularPredictor(\n",
    "#     label=label,\n",
    "#     path=f\"./ag_model/{label}_with_GIN_0.6test\",\n",
    "# ).fit(train_data, num_cpus=40, num_gpus=2)\n",
    "predictor_isgamma = TabularPredictor.load(f\"./ag_model/{label}_with_GIN_0.6test\")"
   ]
  },
  {
   "cell_type": "code",
   "execution_count": 7,
   "id": "1da54536",
   "metadata": {
    "scrolled": true
   },
   "outputs": [],
   "source": [
    "label = \"isgamma\"\n",
    "columns_need = [\n",
    "    \"nch\",\n",
    "    \"theta\",\n",
    "    \"phi\",\n",
    "    \"sigma\",\n",
    "    \"cx\",\n",
    "    \"cy\",\n",
    "    \"sumpf\",\n",
    "    \"summd\",\n",
    "    \"mr1\",\n",
    "    \"ne\",\n",
    "    \"age\",\n",
    "    \"S50\",\n",
    "#     \"GIN_isgamma\",\n",
    "]\n",
    "columns_need.append(label)\n",
    "# train_data = pd.DataFrame({key: data[key][train_index] for key in columns_need})\n",
    "# predictor_isgamma_withoutGIN = TabularPredictor(\n",
    "#     label=label,\n",
    "#     path=f\"./ag_model/{label}_without_GIN_0.6test\",\n",
    "# ).fit(train_data, num_cpus=40, num_gpus=2)\n",
    "predictor_isgamma_withoutGIN = TabularPredictor.load(f\"./ag_model/{label}_without_GIN_0.6test\")"
   ]
  },
  {
   "cell_type": "code",
   "execution_count": 8,
   "id": "4331377a",
   "metadata": {},
   "outputs": [],
   "source": [
    "label = \"isgamma\"\n",
    "columns_need = [\n",
    "    \"nch\",\n",
    "    \"theta\",\n",
    "    \"phi\",\n",
    "    \"sigma\",\n",
    "    \"cx\",\n",
    "    \"cy\",\n",
    "    \"sumpf\",\n",
    "    \"summd\",\n",
    "    \"mr1\",\n",
    "    \"ne\",\n",
    "    \"age\",\n",
    "    \"S50\",\n",
    "    \"GIN_isgamma\",\n",
    "]\n",
    "columns_need.append(label)"
   ]
  },
  {
   "cell_type": "code",
   "execution_count": 9,
   "id": "19f8cc90",
   "metadata": {},
   "outputs": [
    {
     "name": "stdout",
     "output_type": "stream",
     "text": [
      "isgamma\n"
     ]
    }
   ],
   "source": [
    "print(\"isgamma\")\n",
    "data[\"isgamma_ag\"] = predictor_isgamma.predict_proba(\n",
    "    pd.DataFrame({key: data[key] for key in columns_need})\n",
    ")[1].to_numpy()\n",
    "data[\"isgamma_ag_without_GIN\"] = predictor_isgamma_withoutGIN.predict_proba(\n",
    "    pd.DataFrame({key: data[key] for key in columns_need})\n",
    ")[1].to_numpy()\n",
    "# plt.scatter(\n",
    "#     data[\"prie\"][test_index],\n",
    "#     predictor.predict(\n",
    "#         pd.DataFrame({key: data[key][test_index] for key in columns_need})\n",
    "#     ),\n",
    "#     s=1,\n",
    "# )\n",
    "# plt.xlabel(\"prie\")\n",
    "# plt.ylabel(\"pred_e\")\n",
    "# plt.show()"
   ]
  },
  {
   "cell_type": "code",
   "execution_count": 10,
   "id": "79f65982",
   "metadata": {},
   "outputs": [
    {
     "data": {
      "image/png": "[encoded data removed]",
      "text/plain": [
       "<Figure size 640x480 with 1 Axes>"
      ]
     },
     "metadata": {},
     "output_type": "display_data"
    }
   ],
   "source": [
    "plt.hist(data[\"isgamma_ag\"][test_index], bins=np.linspace(0, 1, 101))\n",
    "plt.show()"
   ]
  },
  {
   "cell_type": "code",
   "execution_count": 11,
   "id": "318545a7",
   "metadata": {},
   "outputs": [],
   "source": [
    "sumpf_bins = np.linspace(1.6, 4.2, 9)\n",
    "Cosmic_exclude_baseline = np.zeros(8)\n",
    "gamma_reserve_baseline = np.zeros(8)\n",
    "for i in range(len(sumpf_bins) - 1):\n",
    "    need_baseline_Cosmic = np.where(\n",
    "        (data[\"sumpf\"][test_index] > sumpf_bins[i])\n",
    "        & (data[\"sumpf\"][test_index] < sumpf_bins[i + 1])\n",
    "        & (\n",
    "            (data[\"summd\"][test_index] < 0.4)\n",
    "            | (data[\"summd\"][test_index] < (10**data[\"sumpf\"][test_index]) ** 1.2 * 2.1e-3)\n",
    "        )\n",
    "        & (data[\"isgamma\"][test_index] == 0)\n",
    "    )\n",
    "    need_All_Cosmic = np.where(\n",
    "        (data[\"sumpf\"][test_index] > sumpf_bins[i])\n",
    "        & (data[\"sumpf\"][test_index] < sumpf_bins[i + 1])\n",
    "        & (data[\"isgamma\"][test_index] == 0)\n",
    "    )\n",
    "    need_baseline_Gamma = np.where(\n",
    "        (data[\"sumpf\"][test_index] > sumpf_bins[i])\n",
    "        & (data[\"sumpf\"][test_index] < sumpf_bins[i + 1])\n",
    "        & (\n",
    "            (data[\"summd\"][test_index] < 0.4)\n",
    "            | (data[\"summd\"][test_index] < (10**data[\"sumpf\"][test_index]) ** 1.2 * 2.1e-3)\n",
    "        )\n",
    "        & (data[\"isgamma\"][test_index] == 1)\n",
    "    )\n",
    "    need_All_Gamma = np.where(\n",
    "        (data[\"sumpf\"][test_index] > sumpf_bins[i])\n",
    "        & (data[\"sumpf\"][test_index] < sumpf_bins[i + 1])\n",
    "        & (data[\"isgamma\"][test_index] == 1)\n",
    "    )\n",
    "#     print(len(need_baseline_Cosmic[0]),len(need_All_Cosmic[0]))\n",
    "    Cosmic_exclude_baseline[i] = len(need_baseline_Cosmic[0]) / len(need_All_Cosmic[0])\n",
    "    gamma_reserve_baseline[i] = len(need_baseline_Gamma[0]) / len(need_All_Gamma[0])"
   ]
  },
  {
   "cell_type": "code",
   "execution_count": 55,
   "id": "4e52849b",
   "metadata": {},
   "outputs": [
    {
     "data": {
      "application/vnd.jupyter.widget-view+json": {
       "model_id": "61dbcd31496649e8abb970ccfba2a9a9",
       "version_major": 2,
       "version_minor": 0
      },
      "text/plain": [
       "  0%|          | 0/8 [00:00<?, ?it/s]"
      ]
     },
     "metadata": {},
     "output_type": "display_data"
    },
    {
     "name": "stdout",
     "output_type": "stream",
     "text": [
      "0 0.5 0.0001 4.488414646010071\n",
      "0 0.6 0.01 4.48848721067276\n",
      "0 0.7 0.00630957344480193 4.4890677279742786\n",
      "0 0.7 0.01 4.495503230197713\n",
      "0 1.2000000000000002 0.000630957344480193 4.499194119549271\n",
      "1 0.5 0.0001 6.019664796817323\n",
      "1 0.6 0.01 6.021096141880291\n",
      "1 0.7 0.00630957344480193 6.026019968896899\n",
      "1 0.8 0.005011872336272725 6.031368511048499\n",
      "1 1.2000000000000002 0.000630957344480193 6.033649204783092\n",
      "1 1.5 0.00012589254117941674 6.035381737207059\n",
      "2 0.5 0.0001 8.699564027471874\n",
      "2 0.6 0.00794328234724282 8.701638724901166\n",
      "2 0.6 0.01 8.714945404964897\n",
      "2 0.7 0.00630957344480193 8.740414104441713\n",
      "2 0.7 0.00794328234724282 8.790421466616701\n",
      "2 0.8 0.005011872336272725 8.805793261318483\n",
      "2 0.9 0.002511886431509582 8.813028514466911\n",
      "2 1.0 0.001584893192461114 8.83217456289002\n",
      "2 1.3 0.00025118864315095795 8.838377733800083\n",
      "3 0.5 0.0001 13.508062186939197\n",
      "3 0.6 0.00630957344480193 13.511179173847324\n",
      "3 0.6 0.00794328234724282 13.53251854575683\n",
      "3 0.6 0.01 13.590062919445376\n",
      "3 0.7 0.00630957344480193 13.666309214582702\n",
      "3 0.7 0.01 13.743964354006462\n",
      "3 0.8 0.00630957344480193 13.911593815906445\n",
      "3 0.8 0.00794328234724282 13.941874877329344\n",
      "3 0.9 0.003981071705534973 14.09467680314696\n",
      "3 1.0 0.002511886431509582 14.166594915921126\n",
      "3 1.1 0.0012589254117941675 14.218305005871226\n",
      "4 0.5 0.0001 22.2282728942466\n",
      "4 0.5 0.01 22.231010764758842\n",
      "4 0.6 0.005011872336272725 22.234744224548262\n",
      "4 0.6 0.00630957344480193 22.28253250985283\n",
      "4 0.6 0.00794328234724282 22.38955835714953\n",
      "4 0.6 0.01 22.56353758333648\n",
      "4 0.7 0.005011872336272725 22.571502297553913\n",
      "4 0.7 0.00630957344480193 22.82388417931868\n",
      "4 0.7 0.01 22.952296580749106\n",
      "4 0.8 0.003981071705534973 23.16711358262599\n",
      "4 1.0 0.0012589254117941675 23.5613669363887\n",
      "4 1.4 0.00012589254117941674 23.67138193452139\n",
      "5 0.5 0.0001 29.525470251261055\n",
      "5 0.5 0.01 29.567523940925337\n",
      "5 0.6 0.005011872336272725 29.595402229579182\n",
      "5 0.6 0.00630957344480193 29.75511174763005\n",
      "5 0.6 0.00794328234724282 30.00837891234976\n",
      "5 0.6 0.01 30.410015274311988\n",
      "5 0.7 0.005011872336272725 30.486089926401306\n",
      "5 0.7 0.00630957344480193 31.127290565439832\n",
      "5 0.7 0.00794328234724282 31.976397085964685\n",
      "5 0.7 0.01 33.02206916716753\n",
      "5 0.8 0.005011872336272725 33.0768807177412\n",
      "5 0.8 0.00630957344480193 34.21941803918199\n",
      "5 0.9 0.0031622776601683794 34.23028584662332\n",
      "5 0.9 0.003981071705534973 35.39125118937767\n",
      "5 1.2000000000000002 0.000630957344480193 36.414715142330834\n",
      "6 0.5 0.0001 24.817661071603172\n",
      "6 0.5 0.00794328234724282 24.835773791790974\n",
      "6 0.5 0.01 24.936040635687714\n",
      "6 0.6 0.005011872336272725 25.00008203920886\n",
      "6 0.6 0.00630957344480193 25.223903510100943\n",
      "6 0.6 0.00794328234724282 25.60685816550011\n",
      "6 0.6 0.01 26.22463130047681\n",
      "6 0.7 0.005011872336272725 26.407699150946343\n",
      "6 0.7 0.00630957344480193 27.287459845782266\n",
      "6 0.7 0.00794328234724282 28.495837035453967\n",
      "6 0.7 0.01 29.88016636409285\n",
      "6 0.8 0.005011872336272725 30.091697060571782\n",
      "6 0.8 0.00630957344480193 31.6668568340464\n",
      "6 0.8 0.00794328234724282 33.293767236629016\n",
      "6 0.8 0.01 34.887039730291434\n",
      "6 0.9 0.005011872336272725 34.93426217935248\n",
      "6 0.9 0.00630957344480193 36.33993864249841\n"
     ]
    },
    {
     "name": "stderr",
     "output_type": "stream",
     "text": [
      "/tmp/ipykernel_3464/2428597934.py:44: RuntimeWarning: divide by zero encountered in double_scalars\n",
      "  this_SNR = this_gamma_reserve_baseline/np.sqrt(this_Cosmic_exclude_baseline)\n"
     ]
    },
    {
     "name": "stdout",
     "output_type": "stream",
     "text": [
      "7 0.5 0.0001 inf\n"
     ]
    },
    {
     "ename": "KeyboardInterrupt",
     "evalue": "",
     "output_type": "error",
     "traceback": [
      "\u001b[0;31m---------------------------------------------------------------------------\u001b[0m",
      "\u001b[0;31mKeyboardInterrupt\u001b[0m                         Traceback (most recent call last)",
      "Cell \u001b[0;32mIn[55], line 37\u001b[0m\n\u001b[1;32m     17\u001b[0m \u001b[38;5;28;01mfor\u001b[39;00m b \u001b[38;5;129;01min\u001b[39;00m np\u001b[38;5;241m.\u001b[39mlogspace(\u001b[38;5;241m-\u001b[39m\u001b[38;5;241m4\u001b[39m, \u001b[38;5;241m-\u001b[39m\u001b[38;5;241m2\u001b[39m, \u001b[38;5;241m21\u001b[39m):\n\u001b[1;32m     18\u001b[0m     need_baseline_Gamma \u001b[38;5;241m=\u001b[39m np\u001b[38;5;241m.\u001b[39mwhere(\n\u001b[1;32m     19\u001b[0m         (data[\u001b[38;5;124m\"\u001b[39m\u001b[38;5;124mprie\u001b[39m\u001b[38;5;124m\"\u001b[39m][test_index] \u001b[38;5;241m>\u001b[39m prie_bins[i])\n\u001b[1;32m     20\u001b[0m         \u001b[38;5;241m&\u001b[39m (data[\u001b[38;5;124m\"\u001b[39m\u001b[38;5;124mprie\u001b[39m\u001b[38;5;124m\"\u001b[39m][test_index] \u001b[38;5;241m<\u001b[39m prie_bins[i \u001b[38;5;241m+\u001b[39m \u001b[38;5;241m1\u001b[39m])\n\u001b[0;32m   (...)\u001b[0m\n\u001b[1;32m     28\u001b[0m         \u001b[38;5;241m&\u001b[39m (data[\u001b[38;5;124m\"\u001b[39m\u001b[38;5;124misgamma\u001b[39m\u001b[38;5;124m\"\u001b[39m][test_index] \u001b[38;5;241m==\u001b[39m \u001b[38;5;241m1\u001b[39m)\n\u001b[1;32m     29\u001b[0m     )\n\u001b[1;32m     30\u001b[0m     need_baseline_Cosmic \u001b[38;5;241m=\u001b[39m np\u001b[38;5;241m.\u001b[39mwhere(\n\u001b[1;32m     31\u001b[0m         (data[\u001b[38;5;124m\"\u001b[39m\u001b[38;5;124mprie\u001b[39m\u001b[38;5;124m\"\u001b[39m][test_index] \u001b[38;5;241m>\u001b[39m prie_bins[i])\n\u001b[1;32m     32\u001b[0m         \u001b[38;5;241m&\u001b[39m (data[\u001b[38;5;124m\"\u001b[39m\u001b[38;5;124mprie\u001b[39m\u001b[38;5;124m\"\u001b[39m][test_index] \u001b[38;5;241m<\u001b[39m prie_bins[i \u001b[38;5;241m+\u001b[39m \u001b[38;5;241m1\u001b[39m])\n\u001b[1;32m     33\u001b[0m         \u001b[38;5;241m&\u001b[39m (\n\u001b[1;32m     34\u001b[0m             (data[\u001b[38;5;124m\"\u001b[39m\u001b[38;5;124msummd\u001b[39m\u001b[38;5;124m\"\u001b[39m][test_index] \u001b[38;5;241m<\u001b[39m \u001b[38;5;241m0.4\u001b[39m)\n\u001b[1;32m     35\u001b[0m             \u001b[38;5;241m|\u001b[39m (\n\u001b[1;32m     36\u001b[0m                 data[\u001b[38;5;124m\"\u001b[39m\u001b[38;5;124msummd\u001b[39m\u001b[38;5;124m\"\u001b[39m][test_index]\n\u001b[0;32m---> 37\u001b[0m                 \u001b[38;5;241m<\u001b[39m (\u001b[38;5;241m10\u001b[39m \u001b[38;5;241m*\u001b[39m\u001b[38;5;241m*\u001b[39m \u001b[43mdata\u001b[49m\u001b[43m[\u001b[49m\u001b[38;5;124;43m\"\u001b[39;49m\u001b[38;5;124;43msumpf\u001b[39;49m\u001b[38;5;124;43m\"\u001b[39;49m\u001b[43m]\u001b[49m\u001b[43m[\u001b[49m\u001b[43mtest_index\u001b[49m\u001b[43m]\u001b[49m) \u001b[38;5;241m*\u001b[39m\u001b[38;5;241m*\u001b[39m a \u001b[38;5;241m*\u001b[39m b\n\u001b[1;32m     38\u001b[0m             )\n\u001b[1;32m     39\u001b[0m         )\n\u001b[1;32m     40\u001b[0m         \u001b[38;5;241m&\u001b[39m (data[\u001b[38;5;124m\"\u001b[39m\u001b[38;5;124misgamma\u001b[39m\u001b[38;5;124m\"\u001b[39m][test_index] \u001b[38;5;241m==\u001b[39m \u001b[38;5;241m0\u001b[39m)\n\u001b[1;32m     41\u001b[0m     )\n\u001b[1;32m     42\u001b[0m     this_Cosmic_exclude_baseline \u001b[38;5;241m=\u001b[39m \u001b[38;5;28mlen\u001b[39m(need_baseline_Cosmic[\u001b[38;5;241m0\u001b[39m]) \u001b[38;5;241m/\u001b[39m \u001b[38;5;28mlen\u001b[39m(need_All_Cosmic[\u001b[38;5;241m0\u001b[39m])\n\u001b[1;32m     43\u001b[0m     this_gamma_reserve_baseline \u001b[38;5;241m=\u001b[39m \u001b[38;5;28mlen\u001b[39m(need_baseline_Gamma[\u001b[38;5;241m0\u001b[39m]) \u001b[38;5;241m/\u001b[39m \u001b[38;5;28mlen\u001b[39m(need_All_Gamma[\u001b[38;5;241m0\u001b[39m])\n",
      "\u001b[0;31mKeyboardInterrupt\u001b[0m: "
     ]
    }
   ],
   "source": [
    "prie_bins = np.linspace(1, 2.4, 8)\n",
    "Cosmic_exclude_baseline = np.zeros(7)\n",
    "gamma_reserve_baseline = np.zeros(7)\n",
    "SNR_baseline = np.zeros(7)\n",
    "for i in tqdm(range(len(prie_bins) - 1)):\n",
    "    need_All_Cosmic = np.where(\n",
    "        (data[\"prie\"][test_index] > prie_bins[i])\n",
    "        & (data[\"prie\"][test_index] < prie_bins[i + 1])\n",
    "        & (data[\"isgamma\"][test_index] == 0)\n",
    "    )\n",
    "    need_All_Gamma = np.where(\n",
    "        (data[\"prie\"][test_index] > prie_bins[i])\n",
    "        & (data[\"prie\"][test_index] < prie_bins[i + 1])\n",
    "        & (data[\"isgamma\"][test_index] == 1)\n",
    "    )\n",
    "    for a in np.linspace(0.5, 2, 16):\n",
    "        for b in np.logspace(-4, -2, 21):\n",
    "            need_baseline_Gamma = np.where(\n",
    "                (data[\"prie\"][test_index] > prie_bins[i])\n",
    "                & (data[\"prie\"][test_index] < prie_bins[i + 1])\n",
    "                & (\n",
    "                    (data[\"summd\"][test_index] < 0.4)\n",
    "                    | (\n",
    "                        data[\"summd\"][test_index]\n",
    "                        < (10 ** data[\"sumpf\"][test_index]) ** a * b\n",
    "                    )\n",
    "                )\n",
    "                & (data[\"isgamma\"][test_index] == 1)\n",
    "            )\n",
    "            need_baseline_Cosmic = np.where(\n",
    "                (data[\"prie\"][test_index] > prie_bins[i])\n",
    "                & (data[\"prie\"][test_index] < prie_bins[i + 1])\n",
    "                & (\n",
    "                    (data[\"summd\"][test_index] < 0.4)\n",
    "                    | (\n",
    "                        data[\"summd\"][test_index]\n",
    "                        < (10 ** data[\"sumpf\"][test_index]) ** a * b\n",
    "                    )\n",
    "                )\n",
    "                & (data[\"isgamma\"][test_index] == 0)\n",
    "            )\n",
    "            this_Cosmic_exclude_baseline = len(need_baseline_Cosmic[0]) / len(need_All_Cosmic[0])\n",
    "            this_gamma_reserve_baseline = len(need_baseline_Gamma[0]) / len(need_All_Gamma[0])\n",
    "            this_SNR = this_gamma_reserve_baseline/np.sqrt(this_Cosmic_exclude_baseline)\n",
    "            \n",
    "            if this_SNR>SNR_baseline[i]:\n",
    "                print(i,a,b,this_SNR)\n",
    "                SNR_baseline[i] = this_SNR\n",
    "                Cosmic_exclude_baseline[i] = this_Cosmic_exclude_baseline\n",
    "                gamma_reserve_baseline[i] = this_gamma_reserve_baseline\n",
    "    #     print(len(need_baseline_Cosmic[0]),len(need_All_Cosmic[0]))\n",
    "    #     print(i)\n",
    "#     Cosmic_exclude_baseline[i] = len(need_baseline_Cosmic[0]) / len(need_All_Cosmic[0])\n",
    "#     gamma_reserve_baseline[i] = len(need_baseline_Gamma[0]) / len(need_All_Gamma[0])"
   ]
  },
  {
   "cell_type": "code",
   "execution_count": 64,
   "id": "5ce81ecf",
   "metadata": {},
   "outputs": [
    {
     "data": {
      "text/plain": [
       "array([ 4.49919412,  6.03538174,  8.83837773, 14.21830501, 23.67138193,\n",
       "       36.41471514, 36.33993864])"
      ]
     },
     "execution_count": 64,
     "metadata": {},
     "output_type": "execute_result"
    }
   ],
   "source": [
    "SNR_baseline"
   ]
  },
  {
   "cell_type": "code",
   "execution_count": 81,
   "id": "45bf3c67",
   "metadata": {},
   "outputs": [
    {
     "data": {
      "application/vnd.jupyter.widget-view+json": {
       "model_id": "365c9e43998546ac8076919361754521",
       "version_major": 2,
       "version_minor": 0
      },
      "text/plain": [
       "  0%|          | 0/7 [00:00<?, ?it/s]"
      ]
     },
     "metadata": {},
     "output_type": "display_data"
    },
    {
     "name": "stdout",
     "output_type": "stream",
     "text": [
      "0 0.99 6.892659419901356\n",
      "1 0.99 11.678457257405988\n",
      "2 0.99 17.104868599078614\n",
      "3 0.99 28.120087352173353\n",
      "3 0.9890909090909091 28.190225833309974\n",
      "4 0.99 34.789230311749826\n",
      "4 0.9890909090909091 34.84746551530204\n",
      "5 0.99 48.179683606819424\n",
      "5 0.9890909090909091 48.235681923292255\n",
      "5 0.9881818181818182 48.29537824179632\n",
      "5 0.9872727272727273 48.34503712621564\n",
      "5 0.9863636363636363 48.3925828666171\n",
      "5 0.9854545454545455 48.432204316951655\n",
      "5 0.9845454545454545 48.46442976322376\n",
      "5 0.9836363636363636 48.492428921460174\n",
      "5 0.9827272727272727 48.5204280796966\n",
      "5 0.9818181818181818 48.54578580791071\n",
      "5 0.980909090909091 48.57325668014267\n"
     ]
    },
    {
     "name": "stderr",
     "output_type": "stream",
     "text": [
      "/tmp/ipykernel_3464/3936142116.py:31: RuntimeWarning: divide by zero encountered in double_scalars\n",
      "  this_SNR = this_gamma_reserve_baseline/np.sqrt(this_Cosmic_exclude_baseline)\n"
     ]
    },
    {
     "name": "stdout",
     "output_type": "stream",
     "text": [
      "6 0.9845454545454545 74.00578525775204\n",
      "6 0.9836363636363636 74.04948218323464\n",
      "6 0.9827272727272727 74.09654041067748\n",
      "6 0.9818181818181818 74.13015343027948\n",
      "6 0.980909090909091 74.15928471393457\n",
      "6 0.98 74.19401816752331\n",
      "6 0.9790909090909091 74.22875162111205\n",
      "6 0.9781818181818182 74.25900333875387\n",
      "6 0.9772727272727273 74.28253245247528\n",
      "6 0.9763636363636363 74.30270026423648\n",
      "6 0.9754545454545455 74.32734981194463\n",
      "6 0.9745454545454545 74.34863805769257\n",
      "6 0.9736363636363636 74.37216717141398\n",
      "6 0.9727272727272728 74.39457585114866\n",
      "6 0.9718181818181818 74.41362322892313\n",
      "6 0.9709090909090909 74.43379104068434\n",
      "6 0.97 74.4494771164986\n",
      "6 0.9690909090909091 74.47412666420675\n",
      "6 0.9681818181818181 74.48981274002102\n",
      "6 0.9672727272727273 74.50998055178223\n",
      "6 0.9663636363636363 74.52342575962304\n",
      "6 0.9654545454545455 74.53911183543731\n",
      "6 0.9645454545454546 74.55479791125158\n",
      "6 0.9636363636363636 74.56264094915872\n",
      "6 0.9627272727272728 74.56936355307913\n"
     ]
    }
   ],
   "source": [
    "prie_bins = np.linspace(1, 2.4, 8)\n",
    "Cosmic_exclude = np.zeros(7)\n",
    "gamma_reserve = np.zeros(7)\n",
    "SNR = np.zeros(7)\n",
    "for i in tqdm(range(len(prie_bins) - 1)):\n",
    "    need_All_Cosmic = np.where(\n",
    "        (data[\"prie\"][test_index] > prie_bins[i])\n",
    "        & (data[\"prie\"][test_index] < prie_bins[i + 1])\n",
    "        & (data[\"isgamma\"][test_index] == 0)\n",
    "    )\n",
    "    need_All_Gamma = np.where(\n",
    "        (data[\"prie\"][test_index] > prie_bins[i])\n",
    "        & (data[\"prie\"][test_index] < prie_bins[i + 1])\n",
    "        & (data[\"isgamma\"][test_index] == 1)\n",
    "    )\n",
    "    for P_value in np.linspace(0.99,0.9,100):\n",
    "        need_Cosmic = np.where(\n",
    "        (data[\"prie\"][test_index] > prie_bins[i])\n",
    "        & (data[\"prie\"][test_index] < prie_bins[i + 1])\n",
    "        & (data[\"isgamma_ag\"][test_index] > P_value)\n",
    "        & (data[\"isgamma\"][test_index] == 0)\n",
    "    )\n",
    "        need_Gamma = np.where(\n",
    "        (data[\"prie\"][test_index] > prie_bins[i])\n",
    "        & (data[\"prie\"][test_index] < prie_bins[i + 1])\n",
    "        & (data[\"isgamma_ag\"][test_index] > P_value)\n",
    "        & (data[\"isgamma\"][test_index] == 1)\n",
    "    )\n",
    "        this_Cosmic_exclude_baseline = len(need_Cosmic[0]) / len(need_All_Cosmic[0])\n",
    "        this_gamma_reserve_baseline = len(need_Gamma[0]) / len(need_All_Gamma[0])\n",
    "        this_SNR = this_gamma_reserve_baseline/np.sqrt(this_Cosmic_exclude_baseline)\n",
    "        if not np.isinf(this_SNR):\n",
    "            if this_SNR>SNR[i]:\n",
    "                print(i,P_value,this_SNR)\n",
    "                SNR[i] = this_SNR\n",
    "                Cosmic_exclude[i] = this_Cosmic_exclude_baseline\n",
    "                gamma_reserve[i] = this_gamma_reserve_baseline\n",
    "            else:\n",
    "                break\n",
    "    #     print(len(need_baseline_Cosmic[0]),len(need_All_Cosmic[0]))\n",
    "    #     print(i)\n",
    "#     Cosmic_exclude_baseline[i] = len(need_baseline_Cosmic[0]) / len(need_All_Cosmic[0])\n",
    "#     gamma_reserve_baseline[i] = len(need_baseline_Gamma[0]) / len(need_All_Gamma[0])"
   ]
  },
  {
   "cell_type": "code",
   "execution_count": 82,
   "id": "143d9c3a",
   "metadata": {},
   "outputs": [],
   "source": [
    "prie_center = (prie_bins[:-1]+prie_bins[1:])/2"
   ]
  },
  {
   "cell_type": "code",
   "execution_count": 86,
   "id": "513457df",
   "metadata": {},
   "outputs": [
    {
     "data": {
      "text/plain": [
       "(10, 280)"
      ]
     },
     "execution_count": 86,
     "metadata": {},
     "output_type": "execute_result"
    },
    {
     "data": {
      "image/png": "[encoded data removed]",
      "text/plain": [
       "<Figure size 640x480 with 1 Axes>"
      ]
     },
     "metadata": {},
     "output_type": "display_data"
    }
   ],
   "source": [
    "plt.plot(10**prie_center,SNR_baseline,label=\"Traditional method\")\n",
    "plt.plot(10**prie_center,SNR,label=\"This work\")\n",
    "plt.xlabel(\"Energy(TeV)\")\n",
    "plt.ylabel(\"SNR\")\n",
    "plt.xscale(\"log\")\n",
    "plt.legend()\n",
    "plt.xlim(10,280)"
   ]
  },
  {
   "cell_type": "code",
   "execution_count": 87,
   "id": "12e74a85",
   "metadata": {},
   "outputs": [
    {
     "data": {
      "text/plain": [
       "array([0.01599514, 0.00603774, 0.00301299, 0.00116693, 0.00077953,\n",
       "       0.00041064, 0.00017655])"
      ]
     },
     "execution_count": 87,
     "metadata": {},
     "output_type": "execute_result"
    }
   ],
   "source": [
    "Cosmic_exclude"
   ]
  },
  {
   "cell_type": "code",
   "execution_count": 88,
   "id": "f7bb7943",
   "metadata": {},
   "outputs": [
    {
     "data": {
      "text/plain": [
       "array([0.03786192, 0.02103774, 0.00935283, 0.00367583, 0.00120473,\n",
       "       0.00051329, 0.00052966])"
      ]
     },
     "execution_count": 88,
     "metadata": {},
     "output_type": "execute_result"
    }
   ],
   "source": [
    "Cosmic_exclude_baseline"
   ]
  },
  {
   "cell_type": "code",
   "execution_count": 89,
   "id": "95996393",
   "metadata": {},
   "outputs": [
    {
     "data": {
      "text/plain": [
       "array([0.87172771, 0.90744963, 0.93889893, 0.96298786, 0.97294579,\n",
       "       0.98429538, 0.99082924])"
      ]
     },
     "execution_count": 89,
     "metadata": {},
     "output_type": "execute_result"
    }
   ],
   "source": [
    "gamma_reserve"
   ]
  },
  {
   "cell_type": "code",
   "execution_count": 90,
   "id": "63160090",
   "metadata": {},
   "outputs": [
    {
     "data": {
      "text/plain": [
       "array([0.87545942, 0.87539537, 0.85475997, 0.86203592, 0.82161655,\n",
       "       0.82501178, 0.83634063])"
      ]
     },
     "execution_count": 90,
     "metadata": {},
     "output_type": "execute_result"
    }
   ],
   "source": [
    "gamma_reserve_baseline"
   ]
  },
  {
   "cell_type": "code",
   "execution_count": 96,
   "id": "242a3e64",
   "metadata": {},
   "outputs": [
    {
     "data": {
      "text/plain": [
       "(10, 280)"
      ]
     },
     "execution_count": 96,
     "metadata": {},
     "output_type": "execute_result"
    },
    {
     "data": {
      "image/png": "[encoded data removed]",
      "text/plain": [
       "<Figure size 640x480 with 1 Axes>"
      ]
     },
     "metadata": {},
     "output_type": "display_data"
    }
   ],
   "source": [
    "plt.plot(10**prie_center,Cosmic_exclude_baseline,label=\"Traditional method\")\n",
    "plt.plot(10**prie_center,Cosmic_exclude,label=\"This work\")\n",
    "plt.xlabel(\"Energy(TeV)\")\n",
    "plt.xscale(\"log\")\n",
    "plt.yscale(\"log\")\n",
    "plt.ylabel(\"Cosmic remain\")\n",
    "plt.legend()\n",
    "plt.xlim(10,280)"
   ]
  },
  {
   "cell_type": "code",
   "execution_count": 97,
   "id": "3327bc97",
   "metadata": {},
   "outputs": [
    {
     "data": {
      "text/plain": [
       "(10, 280)"
      ]
     },
     "execution_count": 97,
     "metadata": {},
     "output_type": "execute_result"
    },
    {
     "data": {
      "image/png": "[encoded data removed]",
      "text/plain": [
       "<Figure size 640x480 with 1 Axes>"
      ]
     },
     "metadata": {},
     "output_type": "display_data"
    }
   ],
   "source": [
    "plt.plot(10**prie_center,gamma_reserve_baseline,label=\"Traditional method\")\n",
    "plt.plot(10**prie_center,gamma_reserve,label=\"This work\")\n",
    "plt.xlabel(\"Energy(TeV)\")\n",
    "plt.xscale(\"log\")\n",
    "plt.yscale(\"log\")\n",
    "plt.ylabel(\"Gamma remain\")\n",
    "plt.legend()\n",
    "plt.xlim(10,280)"
   ]
  },
  {
   "cell_type": "code",
   "execution_count": 41,
   "id": "340972c2",
   "metadata": {},
   "outputs": [
    {
     "data": {
      "text/plain": [
       "array([1. , 1.2, 1.4, 1.6, 1.8, 2. , 2.2, 2.4, 2.6])"
      ]
     },
     "execution_count": 41,
     "metadata": {},
     "output_type": "execute_result"
    }
   ],
   "source": [
    "prie_bins"
   ]
  },
  {
   "cell_type": "code",
   "execution_count": 42,
   "id": "8eacd3fd",
   "metadata": {},
   "outputs": [
    {
     "data": {
      "text/plain": [
       "array([0.94756023, 0.96613208, 0.98123156, 0.99089795, 0.99539366,\n",
       "       0.99692023, 0.99735169, 0.99933972])"
      ]
     },
     "execution_count": 42,
     "metadata": {},
     "output_type": "execute_result"
    }
   ],
   "source": [
    "1-Cosmic_exclude_baseline"
   ]
  },
  {
   "cell_type": "code",
   "execution_count": 44,
   "id": "0395be89",
   "metadata": {},
   "outputs": [
    {
     "data": {
      "text/plain": [
       "array([ 4.02378938,  5.04154933,  6.79735874,  9.79168206, 13.72281228,\n",
       "       16.71078153, 17.93917126, 35.7275978 ])"
      ]
     },
     "execution_count": 44,
     "metadata": {},
     "output_type": "execute_result"
    }
   ],
   "source": [
    "gamma_reserve_baseline/np.sqrt(Cosmic_exclude_baseline)"
   ]
  },
  {
   "cell_type": "code",
   "execution_count": 39,
   "id": "7cb12302",
   "metadata": {},
   "outputs": [
    {
     "data": {
      "text/plain": [
       "4.998421793472894"
      ]
     },
     "execution_count": 39,
     "metadata": {},
     "output_type": "execute_result"
    }
   ],
   "source": [
    "np.max(data[\"prie\"])"
   ]
  },
  {
   "cell_type": "code",
   "execution_count": 12,
   "id": "464c071c",
   "metadata": {},
   "outputs": [
    {
     "data": {
      "text/plain": [
       "array([0.92945295, 0.91774798, 0.92061425, 0.93490082, 0.94223613,\n",
       "       0.94055013, 0.93281816, 0.92253575])"
      ]
     },
     "execution_count": 12,
     "metadata": {},
     "output_type": "execute_result"
    }
   ],
   "source": [
    "gamma_reserve_baseline"
   ]
  },
  {
   "cell_type": "code",
   "execution_count": 13,
   "id": "cdb16eff",
   "metadata": {},
   "outputs": [],
   "source": [
    "Cosmic_exclude = np.zeros(8)\n",
    "gamma_reserve = np.zeros(8)\n",
    "for i in range(len(sumpf_bins) - 1):\n",
    "    need_All_Cosmic = np.where(\n",
    "        (data[\"sumpf\"][test_index] > sumpf_bins[i])\n",
    "        & (data[\"sumpf\"][test_index] < sumpf_bins[i + 1])\n",
    "        & (data[\"isgamma\"][test_index] == 0)\n",
    "    )\n",
    "\n",
    "    need_All_Gamma = np.where(\n",
    "        (data[\"sumpf\"][test_index] > sumpf_bins[i])\n",
    "        & (data[\"sumpf\"][test_index] < sumpf_bins[i + 1])\n",
    "        & (data[\"isgamma\"][test_index] == 1)\n",
    "    )\n",
    "    tmp = data[\"isgamma_ag\"][test_index][need_All_Gamma]\n",
    "    tmp.sort()\n",
    "    P_value = tmp[int((1-gamma_reserve_baseline[i])*len(tmp))]\n",
    "    need_Cosmic = np.where(\n",
    "        (data[\"sumpf\"][test_index] > sumpf_bins[i])\n",
    "        & (data[\"sumpf\"][test_index] < sumpf_bins[i + 1])\n",
    "        & (data[\"isgamma_ag\"][test_index] > P_value)\n",
    "        & (data[\"isgamma\"][test_index] == 0)\n",
    "    )\n",
    "    need_Gamma = np.where(\n",
    "        (data[\"sumpf\"][test_index] > sumpf_bins[i])\n",
    "        & (data[\"sumpf\"][test_index] < sumpf_bins[i + 1])\n",
    "        & (data[\"isgamma_ag\"][test_index] > P_value)\n",
    "        & (data[\"isgamma\"][test_index] == 1)\n",
    "    )\n",
    "\n",
    "    Cosmic_exclude[i] = len(need_Cosmic[0]) / len(need_All_Cosmic[0])\n",
    "    gamma_reserve[i] = len(need_Gamma[0]) / len(need_All_Gamma[0])"
   ]
  },
  {
   "cell_type": "code",
   "execution_count": 14,
   "id": "fff4bb70",
   "metadata": {},
   "outputs": [
    {
     "name": "stdout",
     "output_type": "stream",
     "text": [
      "0.9632916450500488\n",
      "0.9747394919395447\n",
      "0.9881224632263184\n",
      "0.994131863117218\n",
      "0.9964087009429932\n",
      "0.998040497303009\n",
      "0.9990476369857788\n",
      "0.9999865889549255\n"
     ]
    }
   ],
   "source": [
    "Cosmic_exclude_without_GIN = np.zeros(8)\n",
    "gamma_reserve_without_GIN = np.zeros(8)\n",
    "for i in range(len(sumpf_bins) - 1):\n",
    "    need_All_Cosmic = np.where(\n",
    "        (data[\"sumpf\"][test_index] > sumpf_bins[i])\n",
    "        & (data[\"sumpf\"][test_index] < sumpf_bins[i + 1])\n",
    "        & (data[\"isgamma\"][test_index] == 0)\n",
    "    )\n",
    "\n",
    "    need_All_Gamma = np.where(\n",
    "        (data[\"sumpf\"][test_index] > sumpf_bins[i])\n",
    "        & (data[\"sumpf\"][test_index] < sumpf_bins[i + 1])\n",
    "        & (data[\"isgamma\"][test_index] == 1)\n",
    "    )\n",
    "    tmp = data[\"isgamma_ag_without_GIN\"][test_index][need_All_Gamma]\n",
    "    tmp.sort()\n",
    "    P_value = tmp[int((1-gamma_reserve_baseline[i])*len(tmp))]\n",
    "    print(P_value)\n",
    "    need_Cosmic = np.where(\n",
    "        (data[\"sumpf\"][test_index] > sumpf_bins[i])\n",
    "        & (data[\"sumpf\"][test_index] < sumpf_bins[i + 1])\n",
    "        & (data[\"isgamma_ag_without_GIN\"][test_index] > P_value)\n",
    "        & (data[\"isgamma\"][test_index] == 0)\n",
    "    )\n",
    "    need_Gamma = np.where(\n",
    "        (data[\"sumpf\"][test_index] > sumpf_bins[i])\n",
    "        & (data[\"sumpf\"][test_index] < sumpf_bins[i + 1])\n",
    "        & (data[\"isgamma_ag_without_GIN\"][test_index] > P_value)\n",
    "        & (data[\"isgamma\"][test_index] == 1)\n",
    "    )\n",
    "\n",
    "    Cosmic_exclude_without_GIN[i] = len(need_Cosmic[0]) / len(need_All_Cosmic[0])\n",
    "    gamma_reserve_without_GIN[i] = len(need_Gamma[0]) / len(need_All_Gamma[0])"
   ]
  },
  {
   "cell_type": "code",
   "execution_count": 15,
   "id": "850adf50",
   "metadata": {},
   "outputs": [
    {
     "data": {
      "text/plain": [
       "array([0.92945295, 0.91774798, 0.92061425, 0.93490082, 0.94223613,\n",
       "       0.94055013, 0.93281816, 0.92253575])"
      ]
     },
     "execution_count": 15,
     "metadata": {},
     "output_type": "execute_result"
    }
   ],
   "source": [
    "gamma_reserve_baseline"
   ]
  },
  {
   "cell_type": "code",
   "execution_count": 16,
   "id": "2c37b886",
   "metadata": {},
   "outputs": [
    {
     "data": {
      "text/plain": [
       "array([0.92936543, 0.91774306, 0.92061083, 0.93490082, 0.94219974,\n",
       "       0.94055013, 0.93243525, 0.92100635])"
      ]
     },
     "execution_count": 16,
     "metadata": {},
     "output_type": "execute_result"
    }
   ],
   "source": [
    "gamma_reserve"
   ]
  },
  {
   "cell_type": "code",
   "execution_count": 17,
   "id": "95fceb62",
   "metadata": {},
   "outputs": [
    {
     "data": {
      "text/plain": [
       "array([0.92936543, 0.91774306, 0.92061083, 0.93490082, 0.94222703,\n",
       "       0.94055013, 0.93194793, 0.92245928])"
      ]
     },
     "execution_count": 17,
     "metadata": {},
     "output_type": "execute_result"
    }
   ],
   "source": [
    "gamma_reserve_without_GIN"
   ]
  },
  {
   "cell_type": "code",
   "execution_count": 18,
   "id": "3618148a",
   "metadata": {},
   "outputs": [
    {
     "data": {
      "text/plain": [
       "array([0.03114754, 0.02305244, 0.01457033, 0.00911476, 0.00549551,\n",
       "       0.00230017, 0.        , 0.        ])"
      ]
     },
     "execution_count": 18,
     "metadata": {},
     "output_type": "execute_result"
    }
   ],
   "source": [
    "Cosmic_exclude_baseline"
   ]
  },
  {
   "cell_type": "code",
   "execution_count": 19,
   "id": "513298b0",
   "metadata": {},
   "outputs": [
    {
     "data": {
      "text/plain": [
       "0.9666673338780205"
      ]
     },
     "execution_count": 19,
     "metadata": {},
     "output_type": "execute_result"
    }
   ],
   "source": [
    "(0.00549551-0.00018318)/0.00549551"
   ]
  },
  {
   "cell_type": "code",
   "execution_count": 20,
   "id": "1dc2d81b",
   "metadata": {},
   "outputs": [
    {
     "data": {
      "text/plain": [
       "array([0.01803279, 0.00784051, 0.0019955 , 0.00062146, 0.00018318,\n",
       "       0.        , 0.        , 0.        ])"
      ]
     },
     "execution_count": 20,
     "metadata": {},
     "output_type": "execute_result"
    }
   ],
   "source": [
    "Cosmic_exclude"
   ]
  },
  {
   "cell_type": "code",
   "execution_count": 21,
   "id": "4b26435e",
   "metadata": {},
   "outputs": [
    {
     "data": {
      "text/plain": [
       "array([0.03114754, 0.01889764, 0.00817206, 0.00414307, 0.0010991 ,\n",
       "       0.00057504, 0.        , 0.        ])"
      ]
     },
     "execution_count": 21,
     "metadata": {},
     "output_type": "execute_result"
    }
   ],
   "source": [
    "Cosmic_exclude_without_GIN"
   ]
  },
  {
   "cell_type": "code",
   "execution_count": 22,
   "id": "f352f55e",
   "metadata": {},
   "outputs": [
    {
     "data": {
      "image/png": "[encoded data removed]",
      "text/plain": [
       "<Figure size 640x480 with 1 Axes>"
      ]
     },
     "metadata": {},
     "output_type": "display_data"
    }
   ],
   "source": [
    "x = (sumpf_bins[:-1] + sumpf_bins[1:]) / 2\n",
    "plt.plot(x, Cosmic_exclude_baseline, label=\"baseline\")\n",
    "plt.plot(x, Cosmic_exclude, label=\"this work\")\n",
    "plt.plot(x, Cosmic_exclude_without_GIN, label=\"this work without GIN\")\n",
    "plt.legend()\n",
    "plt.yscale(\"log\")\n",
    "plt.ylim(1e-6,10)\n",
    "plt.ylabel(\"Cosmic Ray remain\")\n",
    "plt.xlabel(\"sumpf\")\n",
    "plt.show()"
   ]
  },
  {
   "cell_type": "code",
   "execution_count": null,
   "id": "9cc938fb",
   "metadata": {},
   "outputs": [],
   "source": []
  },
  {
   "cell_type": "code",
   "execution_count": null,
   "id": "2be8336b",
   "metadata": {},
   "outputs": [],
   "source": []
  }
 ],
 "metadata": {
  "kernelspec": {
   "display_name": "ag",
   "language": "python",
   "name": "ag"
  },
  "language_info": {
   "codemirror_mode": {
    "name": "ipython",
    "version": 3
   },
   "file_extension": ".py",
   "mimetype": "text/x-python",
   "name": "python",
   "nbconvert_exporter": "python",
   "pygments_lexer": "ipython3",
   "version": "3.9.16"
  }
 },
 "nbformat": 4,
 "nbformat_minor": 5
}
