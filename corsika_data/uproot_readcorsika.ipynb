{
 "cells": [
  {
   "cell_type": "code",
   "execution_count": 1,
   "id": "bf47fc21-3de4-409a-ad09-79c90dd35a77",
   "metadata": {
    "tags": []
   },
   "outputs": [],
   "source": [
    "import uproot\n",
    "import numpy as np\n",
    "import matplotlib.pyplot as plt\n",
    "import torch\n",
    "import torch.nn as nn\n",
    "from torch.nn import functional as F\n",
    "from IPython import display\n",
    "from sklearn.model_selection import train_test_split\n",
    "from torch.utils.data import Dataset, DataLoader\n",
    "from tqdm.notebook import tqdm"
   ]
  },
  {
   "cell_type": "code",
   "execution_count": 2,
   "id": "7ee00fb2",
   "metadata": {},
   "outputs": [],
   "source": [
    "device = (\n",
    "    \"cuda\"\n",
    "    if torch.cuda.is_available()\n",
    "    else \"cpu\"\n",
    ")"
   ]
  },
  {
   "cell_type": "code",
   "execution_count": 3,
   "id": "1e2cfdab-5168-49de-a5bf-254372007c8e",
   "metadata": {
    "tags": []
   },
   "outputs": [
    {
     "data": {
      "text/plain": [
       "['evth',\n",
       " 'evth/TObject',\n",
       " 'evth/TObject/fUniqueID',\n",
       " 'evth/TObject/fBits',\n",
       " 'evth/fLia[312]',\n",
       " 'evte',\n",
       " 'evte/TObject',\n",
       " 'evte/TObject/fUniqueID',\n",
       " 'evte/TObject/fBits',\n",
       " 'evte/fLia[312]',\n",
       " 'secParticles',\n",
       " 'secParticles/secParticles.fUniqueID',\n",
       " 'secParticles/secParticles.fBits',\n",
       " 'secParticles/secParticles.fLia[8]']"
      ]
     },
     "execution_count": 3,
     "metadata": {},
     "output_type": "execute_result"
    }
   ],
   "source": [
    "tree = uproot.open(\"/home2/chenxu/work/corsika/50GeV_1TeV_zen0.gamma.root:tCorsika\")\n",
    "tree.keys()"
   ]
  },
  {
   "cell_type": "code",
   "execution_count": 4,
   "id": "4b08642b-274b-42c1-a2f3-f42c3657e4fd",
   "metadata": {
    "tags": []
   },
   "outputs": [
    {
     "name": "stdout",
     "output_type": "stream",
     "text": [
      "100000\n"
     ]
    },
    {
     "data": {
      "text/html": [
       "<pre>{TObject: {fUniqueID: 0, fBits: 33554432},\n",
       " &#x27;fLia[312]&#x27;: [2.17e+05, 1, 1, 120, 0, ..., 4.48e-44, 0, 2.6e+15, 4.59e-41]}\n",
       "----------------------------------------------------------------------------\n",
       "type: {\n",
       "    TObject: {\n",
       "        fUniqueID: uint32,\n",
       "        fBits: uint32\n",
       "    },\n",
       "    &quot;fLia[312]&quot;: 312 * float32\n",
       "}</pre>"
      ],
      "text/plain": [
       "<Record {TObject: {...}, 'fLia[312]': ..., ...} type='{TObject: {fUniqueID:...'>"
      ]
     },
     "execution_count": 4,
     "metadata": {},
     "output_type": "execute_result"
    }
   ],
   "source": [
    "primary = tree['evth'].array()\n",
    "print(len(primary))\n",
    "primary[0]"
   ]
  },
  {
   "cell_type": "code",
   "execution_count": 5,
   "id": "94b94ecf",
   "metadata": {},
   "outputs": [],
   "source": [
    "pri=primary[\"fLia[312]\"]"
   ]
  },
  {
   "cell_type": "code",
   "execution_count": 6,
   "id": "acc5eef2",
   "metadata": {},
   "outputs": [],
   "source": [
    "pri = np.array(pri)"
   ]
  },
  {
   "cell_type": "code",
   "execution_count": 7,
   "id": "f59382a0",
   "metadata": {},
   "outputs": [],
   "source": [
    "prie = pri[:,3]"
   ]
  },
  {
   "cell_type": "code",
   "execution_count": 8,
   "id": "72f629ff-0fa7-453e-89c0-2b26f3c7c33d",
   "metadata": {
    "tags": []
   },
   "outputs": [],
   "source": [
    "secs = tree['secParticles/secParticles.fLia[8]'].array()"
   ]
  },
  {
   "cell_type": "code",
   "execution_count": 9,
   "id": "307ca52c-48b1-424d-9e66-2758123fda85",
   "metadata": {
    "tags": []
   },
   "outputs": [
    {
     "name": "stdout",
     "output_type": "stream",
     "text": [
      "events: 100000\n",
      "secs @ event[1]: 433\n",
      "sec[1] @ event[1]: 8\n"
     ]
    }
   ],
   "source": [
    "print('events:',len(secs))\n",
    "print('secs @ event[1]:',len(secs[0]))\n",
    "print('sec[1] @ event[1]:',len(secs[1][1]))"
   ]
  },
  {
   "cell_type": "code",
   "execution_count": 13,
   "id": "fe7e2907",
   "metadata": {},
   "outputs": [
    {
     "data": {
      "text/plain": [
       "105"
      ]
     },
     "execution_count": 13,
     "metadata": {},
     "output_type": "execute_result"
    }
   ],
   "source": [
    "len(secs[1])"
   ]
  },
  {
   "cell_type": "code",
   "execution_count": 14,
   "id": "4c0bb25b",
   "metadata": {},
   "outputs": [
    {
     "data": {
      "text/html": [
       "<pre>[[1e+03, 0.00064, 0.00173, 0.00366, 4.2e+04, 1.21e+05, 5.13e+04, 4.56e-41],\n",
       " [1e+03, -0.00031, -0.000181, 0.0351, ..., 5.31e+03, 5.04e+04, 4.56e-41],\n",
       " [1e+03, 0.00165, 0.00156, 0.0243, 2.06e+04, 4.71e+03, 5.04e+04, 4.56e-41],\n",
       " [3e+03, -0.000699, -0.00378, 0.00289, 1.17e+03, 531, 5.04e+04, 4.56e-41],\n",
       " [1e+03, 0.000928, 0.00122, 0.00914, ..., 1.37e+04, 5.04e+04, 4.56e-41],\n",
       " [1e+03, -0.005, 0.00409, 0.0432, -1.72e+04, 1.61e+04, 5.04e+04, 4.56e-41],\n",
       " [1e+03, 0.00107, 0.00168, 0.00869, ..., 1.52e+04, 5.04e+04, 4.56e-41],\n",
       " [1e+03, 0.00149, 0.00611, 0.0273, 1.84e+03, 2.52e+04, 5.04e+04, 4.56e-41],\n",
       " [1e+03, 3.19e-05, -0.000755, 0.00244, ..., -1.94e+04, 5.05e+04, 4.56e-41],\n",
       " [1e+03, -0.000304, 0.00623, 0.0839, ..., 3.19e+04, 5.04e+04, 4.56e-41],\n",
       " ...,\n",
       " [1e+03, -0.0073, -0.00459, 0.173, ..., -6.77e+03, 5.04e+04, 4.56e-41],\n",
       " [1e+03, 0.000928, 0.00271, 0.00606, ..., 7.65e+04, 5.08e+04, 4.56e-41],\n",
       " [1e+03, -0.00128, -0.00197, 0.00669, ..., -8e+04, 5.1e+04, 4.56e-41],\n",
       " [1e+03, -4.16e-05, 0.000417, 0.000994, ..., 3.47e+04, 5.06e+04, 4.56e-41],\n",
       " [1e+03, 0.000491, 0.000872, 0.000349, -987, 7.16e+04, 5.21e+04, 4.56e-41],\n",
       " [1e+03, -0.0048, -0.00507, 0.0216, ..., -1.63e+04, 5.06e+04, 4.56e-41],\n",
       " [1e+03, -0.000597, -0.000219, 0.00619, ..., -2.27e+03, 5.04e+04, 4.56e-41],\n",
       " [1e+03, 0.00249, -0.000408, 0.0161, ..., -7.23e+03, 5.04e+04, 4.56e-41],\n",
       " [1e+03, 0.000649, -0.00074, 0.00103, ..., 3.98e+04, 5.06e+04, 4.56e-41]]\n",
       "----------------------------------------------------------------------------\n",
       "type: 433 * 8 * float32</pre>"
      ],
      "text/plain": [
       "<Array [[1e+03, 0.00064, ..., 4.56e-41], ..., [...]] type='433 * 8 * float32'>"
      ]
     },
     "execution_count": 14,
     "metadata": {},
     "output_type": "execute_result"
    }
   ],
   "source": [
    "secs[0]"
   ]
  },
  {
   "cell_type": "code",
   "execution_count": 10,
   "id": "245f3785",
   "metadata": {},
   "outputs": [],
   "source": [
    "sectype = list()\n",
    "for i in range(100000):\n",
    "    sectype.append(np.floor(np.array(secs[i])[:,0]/1000).astype(int))\n",
    "sectype = np.concatenate(sectype)"
   ]
  },
  {
   "cell_type": "code",
   "execution_count": 11,
   "id": "cc898dd6",
   "metadata": {},
   "outputs": [],
   "source": [
    "sectype = list(set(sectype))"
   ]
  },
  {
   "cell_type": "code",
   "execution_count": 17,
   "id": "30c71e58",
   "metadata": {},
   "outputs": [],
   "source": [
    "secstype = [[1, 2, 3, 7], [5, 6], [8, 9, 13, 14, 15, 25]]"
   ]
  },
  {
   "cell_type": "code",
   "execution_count": 18,
   "id": "c7c620bd",
   "metadata": {},
   "outputs": [
    {
     "name": "stdout",
     "output_type": "stream",
     "text": [
      "[1, 2, 3, 7]\n",
      "6.0\n"
     ]
    },
    {
     "data": {
      "image/png": "[encoded data removed]",
      "text/plain": [
       "<Figure size 640x480 with 1 Axes>"
      ]
     },
     "metadata": {},
     "output_type": "display_data"
    },
    {
     "name": "stdout",
     "output_type": "stream",
     "text": [
      "[5, 6]\n",
      "0.0\n"
     ]
    },
    {
     "data": {
      "image/png": "[encoded data removed]",
      "text/plain": [
       "<Figure size 640x480 with 1 Axes>"
      ]
     },
     "metadata": {},
     "output_type": "display_data"
    },
    {
     "name": "stdout",
     "output_type": "stream",
     "text": [
      "[8, 9, 13, 14, 15, 25]\n",
      "0.0\n"
     ]
    },
    {
     "data": {
      "image/png": "[encoded data removed]",
      "text/plain": [
       "<Figure size 640x480 with 1 Axes>"
      ]
     },
     "metadata": {},
     "output_type": "display_data"
    }
   ],
   "source": [
    "sec = np.array(secs[0])\n",
    "sec=sec[:,:-1]\n",
    "xbins = np.linspace(-500*100,500*100,225)\n",
    "ybins = np.linspace(-500*100,500*100,225)\n",
    "for i in secstype:\n",
    "    print(i)\n",
    "    H,_,_ = np.histogram2d(sec[:,4][np.isin((sec[:,0]/1000).astype(int),i)],sec[:,5][np.isin((sec[:,0]/1000).astype(int),i)],bins=(xbins,ybins))\n",
    "    H=H.T\n",
    "    print(np.max(H))\n",
    "    X,Y = np.meshgrid(xbins,ybins)\n",
    "    plt.pcolormesh(X, Y, H)\n",
    "    plt.show()"
   ]
  },
  {
   "cell_type": "code",
   "execution_count": 16,
   "id": "7b6ab171",
   "metadata": {},
   "outputs": [],
   "source": [
    "gamma_log10energy = np.log10(prie).astype(np.float32)"
   ]
  },
  {
   "cell_type": "code",
   "execution_count": 19,
   "id": "fb581f6b",
   "metadata": {},
   "outputs": [],
   "source": [
    "gamma_Matrix = np.zeros(\n",
    "    [len(gamma_log10energy), len(secstype), 224, 224], dtype=np.float32\n",
    ")"
   ]
  },
  {
   "cell_type": "code",
   "execution_count": 20,
   "id": "c88a2a9a",
   "metadata": {},
   "outputs": [],
   "source": [
    "gamma_Matrix[0,0,0,0]=1"
   ]
  },
  {
   "cell_type": "code",
   "execution_count": 21,
   "id": "0d323b6b",
   "metadata": {},
   "outputs": [
    {
     "data": {
      "text/plain": [
       "(array([0]), array([0]), array([0]), array([0]))"
      ]
     },
     "execution_count": 21,
     "metadata": {},
     "output_type": "execute_result"
    }
   ],
   "source": [
    "np.where(gamma_Matrix!=0)"
   ]
  },
  {
   "cell_type": "code",
   "execution_count": 16,
   "id": "864ebaa7",
   "metadata": {},
   "outputs": [],
   "source": [
    "class MCDataset_log10energy(Dataset):\n",
    "    def __init__(self, prie, secs):\n",
    "        self.prie = prie\n",
    "        self.secs = secs\n",
    "        self.xbins = np.linspace(-500 * 100, 500 * 100, 225)\n",
    "        self.ybins = np.linspace(-500 * 100, 500 * 100, 225)\n",
    "        self.secstype = [[1, 2, 3, 7], [5, 6], [8, 9, 13, 14, 15, 25]]\n",
    "        self.log10energy = np.log10(self.prie).astype(np.float32)\n",
    "        self.Matrix = np.zeros(\n",
    "            [len(self.prie), len(self.secstype), 224, 224], dtype=np.float32\n",
    "        )\n",
    "        for i in tqdm(range(len(self.prie))):\n",
    "            sec = np.array(secs[i]).reshape(-1, 8)\n",
    "            for j, sectype in enumerate(self.secstype):\n",
    "                self.Matrix[i, j], _, _ = np.histogram2d(\n",
    "                    sec[:, 4][np.isin((sec[:, 0] / 1000).astype(int), sectype)],\n",
    "                    sec[:, 5][np.isin((sec[:, 0] / 1000).astype(int), sectype)],\n",
    "                    bins=(self.xbins, self.ybins),\n",
    "                )\n",
    "\n",
    "    def __len__(self):\n",
    "        return len(self.prie)\n",
    "\n",
    "    def __getitem__(self, index):\n",
    "        index = [index]\n",
    "        return (\n",
    "            torch.from_numpy(self.Matrix[index]),\n",
    "            torch.from_numpy(self.log10energy[index]),\n",
    "        )"
   ]
  },
  {
   "cell_type": "code",
   "execution_count": 17,
   "id": "8be31b36",
   "metadata": {},
   "outputs": [],
   "source": [
    "train_index, test_index = train_test_split(\n",
    "    range(len(prie)), random_state=42, test_size=0.3\n",
    ")"
   ]
  },
  {
   "cell_type": "code",
   "execution_count": 18,
   "id": "394f2f27",
   "metadata": {},
   "outputs": [
    {
     "data": {
      "application/vnd.jupyter.widget-view+json": {
       "model_id": "37b01f283a064d668268a8e1d0b9258b",
       "version_major": 2,
       "version_minor": 0
      },
      "text/plain": [
       "  0%|          | 0/70000 [00:00<?, ?it/s]"
      ]
     },
     "metadata": {},
     "output_type": "display_data"
    },
    {
     "data": {
      "application/vnd.jupyter.widget-view+json": {
       "model_id": "4366ff5d06e146ac8e2365eda829a26a",
       "version_major": 2,
       "version_minor": 0
      },
      "text/plain": [
       "  0%|          | 0/30000 [00:00<?, ?it/s]"
      ]
     },
     "metadata": {},
     "output_type": "display_data"
    }
   ],
   "source": [
    "MCdataset_gamma_train = MCDataset_log10energy(prie[train_index], secs[train_index])\n",
    "MCdataset_gamma_test = MCDataset_log10energy(prie[test_index], secs[test_index])"
   ]
  },
  {
   "cell_type": "code",
   "execution_count": 19,
   "id": "9d7a9cbd",
   "metadata": {},
   "outputs": [],
   "source": [
    "np.save(\"./gamma_train_Matrix.npy\",MCdataset_gamma_train.Matrix)\n",
    "np.save(\"./gamma_test_Matrix.npy\",MCdataset_gamma_test.Matrix)"
   ]
  },
  {
   "cell_type": "code",
   "execution_count": 20,
   "id": "d987fd7e",
   "metadata": {},
   "outputs": [],
   "source": [
    "np.save(\"./gamma_train_prie.npy\",MCdataset_gamma_train.log10energy)\n",
    "np.save(\"./gamma_test_prie.npy\",MCdataset_gamma_test.log10energy)"
   ]
  },
  {
   "cell_type": "code",
   "execution_count": 18,
   "id": "8b8d450d",
   "metadata": {},
   "outputs": [],
   "source": [
    "MCdataset_gamma_train_dataloader = DataLoader(MCdataset_gamma_train,batch_size=256,shuffle=True)\n",
    "MCdataset_gamma_test_dataloader = DataLoader(MCdataset_gamma_test,batch_size=256,shuffle=True)"
   ]
  },
  {
   "cell_type": "code",
   "execution_count": 19,
   "id": "d69ac53a",
   "metadata": {},
   "outputs": [
    {
     "name": "stdout",
     "output_type": "stream",
     "text": [
      "torch.Size([256, 1, 5, 224, 224])\n"
     ]
    }
   ],
   "source": [
    "for i in MCdataset_gamma_train_dataloader:\n",
    "    print(i[0].shape)\n",
    "    break"
   ]
  },
  {
   "cell_type": "code",
   "execution_count": 20,
   "id": "5d0271f8",
   "metadata": {},
   "outputs": [],
   "source": [
    "class Residual(nn.Module):\n",
    "    def __init__(self, input_channels, num_channels, use_1x1conv=False, strides=1):\n",
    "        super().__init__()\n",
    "        self.conv1 = nn.Conv2d(\n",
    "            input_channels, num_channels, kernel_size=3, padding=1, stride=strides\n",
    "        )\n",
    "        self.conv2 = nn.Conv2d(num_channels, num_channels, kernel_size=3, padding=1)\n",
    "        if use_1x1conv:\n",
    "            self.conv3 = nn.Conv2d(\n",
    "                input_channels, num_channels, kernel_size=1, stride=strides\n",
    "            )\n",
    "        else:\n",
    "            self.conv3 = None\n",
    "        self.bn1 = nn.BatchNorm2d(num_channels)\n",
    "        self.bn2 = nn.BatchNorm2d(num_channels)\n",
    "\n",
    "    def forward(self, X):\n",
    "        Y = F.relu(self.bn1(self.conv1(X)))\n",
    "        Y = self.bn2(self.conv2(Y))\n",
    "        if self.conv3:\n",
    "            X = self.conv3(X)\n",
    "        Y += X\n",
    "        return F.relu(Y)"
   ]
  },
  {
   "cell_type": "code",
   "execution_count": 21,
   "id": "e194ea6e",
   "metadata": {},
   "outputs": [],
   "source": [
    "b1 = nn.Sequential(\n",
    "    nn.Conv2d(5, 64, kernel_size=7, stride=2, padding=3),\n",
    "    nn.BatchNorm2d(64),\n",
    "    nn.ReLU(),\n",
    "    nn.MaxPool2d(kernel_size=3, stride=2, padding=1),\n",
    ")"
   ]
  },
  {
   "cell_type": "code",
   "execution_count": 22,
   "id": "1ec403a4",
   "metadata": {},
   "outputs": [],
   "source": [
    "def resnet_block(input_channels, num_channels, num_residuals, first_block=False):\n",
    "    blk = []\n",
    "    for i in range(num_residuals):\n",
    "        if i == 0 and not first_block:\n",
    "            blk.append(\n",
    "                Residual(input_channels, num_channels, use_1x1conv=True, strides=2)\n",
    "            )\n",
    "        else:\n",
    "            blk.append(Residual(num_channels, num_channels))\n",
    "    return blk"
   ]
  },
  {
   "cell_type": "code",
   "execution_count": 23,
   "id": "8d4954f4",
   "metadata": {},
   "outputs": [],
   "source": [
    "b2 = nn.Sequential(*resnet_block(64, 64, 2, first_block=True))\n",
    "b3 = nn.Sequential(*resnet_block(64, 128, 2))\n",
    "b4 = nn.Sequential(*resnet_block(128, 256, 2))\n",
    "b5 = nn.Sequential(*resnet_block(256, 512, 2))"
   ]
  },
  {
   "cell_type": "code",
   "execution_count": 24,
   "id": "cc8eff73",
   "metadata": {},
   "outputs": [],
   "source": [
    "net = nn.Sequential(b1, b2, b3, b4, b5,\n",
    "                    nn.AdaptiveAvgPool2d((1,1)),\n",
    "                    nn.Flatten(), nn.Linear(512, 1))"
   ]
  },
  {
   "cell_type": "code",
   "execution_count": 25,
   "id": "ab166585",
   "metadata": {},
   "outputs": [
    {
     "data": {
      "text/plain": [
       "Sequential(\n",
       "  (0): Sequential(\n",
       "    (0): Conv2d(5, 64, kernel_size=(7, 7), stride=(2, 2), padding=(3, 3))\n",
       "    (1): BatchNorm2d(64, eps=1e-05, momentum=0.1, affine=True, track_running_stats=True)\n",
       "    (2): ReLU()\n",
       "    (3): MaxPool2d(kernel_size=3, stride=2, padding=1, dilation=1, ceil_mode=False)\n",
       "  )\n",
       "  (1): Sequential(\n",
       "    (0): Residual(\n",
       "      (conv1): Conv2d(64, 64, kernel_size=(3, 3), stride=(1, 1), padding=(1, 1))\n",
       "      (conv2): Conv2d(64, 64, kernel_size=(3, 3), stride=(1, 1), padding=(1, 1))\n",
       "      (bn1): BatchNorm2d(64, eps=1e-05, momentum=0.1, affine=True, track_running_stats=True)\n",
       "      (bn2): BatchNorm2d(64, eps=1e-05, momentum=0.1, affine=True, track_running_stats=True)\n",
       "    )\n",
       "    (1): Residual(\n",
       "      (conv1): Conv2d(64, 64, kernel_size=(3, 3), stride=(1, 1), padding=(1, 1))\n",
       "      (conv2): Conv2d(64, 64, kernel_size=(3, 3), stride=(1, 1), padding=(1, 1))\n",
       "      (bn1): BatchNorm2d(64, eps=1e-05, momentum=0.1, affine=True, track_running_stats=True)\n",
       "      (bn2): BatchNorm2d(64, eps=1e-05, momentum=0.1, affine=True, track_running_stats=True)\n",
       "    )\n",
       "  )\n",
       "  (2): Sequential(\n",
       "    (0): Residual(\n",
       "      (conv1): Conv2d(64, 128, kernel_size=(3, 3), stride=(2, 2), padding=(1, 1))\n",
       "      (conv2): Conv2d(128, 128, kernel_size=(3, 3), stride=(1, 1), padding=(1, 1))\n",
       "      (conv3): Conv2d(64, 128, kernel_size=(1, 1), stride=(2, 2))\n",
       "      (bn1): BatchNorm2d(128, eps=1e-05, momentum=0.1, affine=True, track_running_stats=True)\n",
       "      (bn2): BatchNorm2d(128, eps=1e-05, momentum=0.1, affine=True, track_running_stats=True)\n",
       "    )\n",
       "    (1): Residual(\n",
       "      (conv1): Conv2d(128, 128, kernel_size=(3, 3), stride=(1, 1), padding=(1, 1))\n",
       "      (conv2): Conv2d(128, 128, kernel_size=(3, 3), stride=(1, 1), padding=(1, 1))\n",
       "      (bn1): BatchNorm2d(128, eps=1e-05, momentum=0.1, affine=True, track_running_stats=True)\n",
       "      (bn2): BatchNorm2d(128, eps=1e-05, momentum=0.1, affine=True, track_running_stats=True)\n",
       "    )\n",
       "  )\n",
       "  (3): Sequential(\n",
       "    (0): Residual(\n",
       "      (conv1): Conv2d(128, 256, kernel_size=(3, 3), stride=(2, 2), padding=(1, 1))\n",
       "      (conv2): Conv2d(256, 256, kernel_size=(3, 3), stride=(1, 1), padding=(1, 1))\n",
       "      (conv3): Conv2d(128, 256, kernel_size=(1, 1), stride=(2, 2))\n",
       "      (bn1): BatchNorm2d(256, eps=1e-05, momentum=0.1, affine=True, track_running_stats=True)\n",
       "      (bn2): BatchNorm2d(256, eps=1e-05, momentum=0.1, affine=True, track_running_stats=True)\n",
       "    )\n",
       "    (1): Residual(\n",
       "      (conv1): Conv2d(256, 256, kernel_size=(3, 3), stride=(1, 1), padding=(1, 1))\n",
       "      (conv2): Conv2d(256, 256, kernel_size=(3, 3), stride=(1, 1), padding=(1, 1))\n",
       "      (bn1): BatchNorm2d(256, eps=1e-05, momentum=0.1, affine=True, track_running_stats=True)\n",
       "      (bn2): BatchNorm2d(256, eps=1e-05, momentum=0.1, affine=True, track_running_stats=True)\n",
       "    )\n",
       "  )\n",
       "  (4): Sequential(\n",
       "    (0): Residual(\n",
       "      (conv1): Conv2d(256, 512, kernel_size=(3, 3), stride=(2, 2), padding=(1, 1))\n",
       "      (conv2): Conv2d(512, 512, kernel_size=(3, 3), stride=(1, 1), padding=(1, 1))\n",
       "      (conv3): Conv2d(256, 512, kernel_size=(1, 1), stride=(2, 2))\n",
       "      (bn1): BatchNorm2d(512, eps=1e-05, momentum=0.1, affine=True, track_running_stats=True)\n",
       "      (bn2): BatchNorm2d(512, eps=1e-05, momentum=0.1, affine=True, track_running_stats=True)\n",
       "    )\n",
       "    (1): Residual(\n",
       "      (conv1): Conv2d(512, 512, kernel_size=(3, 3), stride=(1, 1), padding=(1, 1))\n",
       "      (conv2): Conv2d(512, 512, kernel_size=(3, 3), stride=(1, 1), padding=(1, 1))\n",
       "      (bn1): BatchNorm2d(512, eps=1e-05, momentum=0.1, affine=True, track_running_stats=True)\n",
       "      (bn2): BatchNorm2d(512, eps=1e-05, momentum=0.1, affine=True, track_running_stats=True)\n",
       "    )\n",
       "  )\n",
       "  (5): AdaptiveAvgPool2d(output_size=(1, 1))\n",
       "  (6): Flatten(start_dim=1, end_dim=-1)\n",
       "  (7): Linear(in_features=512, out_features=1, bias=True)\n",
       ")"
      ]
     },
     "execution_count": 25,
     "metadata": {},
     "output_type": "execute_result"
    }
   ],
   "source": [
    "net"
   ]
  },
  {
   "cell_type": "code",
   "execution_count": 26,
   "id": "229758ae",
   "metadata": {},
   "outputs": [
    {
     "name": "stdout",
     "output_type": "stream",
     "text": [
      "Sequential output shape:\t torch.Size([1, 64, 56, 56])\n",
      "Sequential output shape:\t torch.Size([1, 64, 56, 56])\n",
      "Sequential output shape:\t torch.Size([1, 128, 28, 28])\n",
      "Sequential output shape:\t torch.Size([1, 256, 14, 14])\n",
      "Sequential output shape:\t torch.Size([1, 512, 7, 7])\n",
      "AdaptiveAvgPool2d output shape:\t torch.Size([1, 512, 1, 1])\n",
      "Flatten output shape:\t torch.Size([1, 512])\n",
      "Linear output shape:\t torch.Size([1, 1])\n"
     ]
    }
   ],
   "source": [
    "X = torch.rand(size=(1, 5, 224, 224))\n",
    "for layer in net:\n",
    "    X = layer(X)\n",
    "    print(layer.__class__.__name__,'output shape:\\t', X.shape)"
   ]
  },
  {
   "cell_type": "code",
   "execution_count": 27,
   "id": "594f83ff",
   "metadata": {},
   "outputs": [],
   "source": [
    "train_error = list()\n",
    "test_error = list()\n",
    "\n",
    "\n",
    "def train(net, num_epochs, lr, device):\n",
    "    def init_weights(m):\n",
    "        if type(m) == nn.Linear or type(m) == nn.Conv2d:\n",
    "            nn.init.xavier_uniform_(m.weight)\n",
    "\n",
    "    net = net.apply(init_weights).to(device)\n",
    "    optimizer = torch.optim.Adam(net.parameters(), lr=lr)\n",
    "    loss = nn.MSELoss()\n",
    "    pred_list = list()\n",
    "    orgin_list = list()\n",
    "    for epoch in tqdm(range(num_epochs)):\n",
    "        net.train()\n",
    "        for X, y in tqdm(MCdataset_gamma_train_dataloader, leave=False):\n",
    "            optimizer.zero_grad()\n",
    "            X, y = X.to(device), y.to(device)\n",
    "            y_hat = net(X)\n",
    "            pred_list.append(y_hat)\n",
    "            orgin_list.append(y)\n",
    "            l = loss(y_hat, y)\n",
    "            l.backward()\n",
    "            optimizer.step()\n",
    "        del(X)\n",
    "        del(y)\n",
    "        pred_list = torch.cat(pred_list)\n",
    "        orgin_list = torch.cat(orgin_list)\n",
    "        root_mean_squared_error = np.sqrt(loss(pred_list, orgin_list).item())\n",
    "        train_error.append(root_mean_squared_error)\n",
    "        print(\n",
    "            f\"epoch:{epoch} train root mean squared error:{root_mean_squared_error:.4f}\"\n",
    "        )\n",
    "        test_root_mean_squared_error = test(net)\n",
    "        print(\n",
    "            f\"epoch:{epoch} test root mean squared error:{test_root_mean_squared_error:.4f}\"\n",
    "        )\n",
    "        test_error.append(test_root_mean_squared_error)\n",
    "\n",
    "\n",
    "def test(net):\n",
    "    net.eval()\n",
    "    pred_list = list()\n",
    "    orgin_list = list()\n",
    "    for X, y in MCdataset_gamma_test_dataloader:\n",
    "        X, y = X.to(device), y.to(device)\n",
    "        y_hat = net(X)\n",
    "        pred_list.append(y_hat)\n",
    "        orgin_list.append(y)\n",
    "    del(X)\n",
    "    del(y)\n",
    "    pred_list = torch.cat(pred_list)\n",
    "    orgin_list = torch.cat(orgin_list)\n",
    "    root_mean_squared_error = np.sqrt(nn.MSELoss()(pred_list, orgin_list).item())\n",
    "    return root_mean_squared_error"
   ]
  },
  {
   "cell_type": "code",
   "execution_count": 28,
   "id": "fe648945",
   "metadata": {},
   "outputs": [
    {
     "data": {
      "application/vnd.jupyter.widget-view+json": {
       "model_id": "75558720ff694af59f33f089d98e15ac",
       "version_major": 2,
       "version_minor": 0
      },
      "text/plain": [
       "  0%|          | 0/10 [00:00<?, ?it/s]"
      ]
     },
     "metadata": {},
     "output_type": "display_data"
    },
    {
     "data": {
      "application/vnd.jupyter.widget-view+json": {
       "model_id": "5acf43dceb8b4f74a27fc5d43fdd96ce",
       "version_major": 2,
       "version_minor": 0
      },
      "text/plain": [
       "  0%|          | 0/274 [00:00<?, ?it/s]"
      ]
     },
     "metadata": {},
     "output_type": "display_data"
    },
    {
     "ename": "RuntimeError",
     "evalue": "Expected 3D (unbatched) or 4D (batched) input to conv2d, but got input of size: [256, 1, 5, 224, 224]",
     "output_type": "error",
     "traceback": [
      "\u001b[0;31m---------------------------------------------------------------------------\u001b[0m",
      "\u001b[0;31mRuntimeError\u001b[0m                              Traceback (most recent call last)",
      "Cell \u001b[0;32mIn[28], line 1\u001b[0m\n\u001b[0;32m----> 1\u001b[0m train(net, \u001b[39m10\u001b[39;49m, \u001b[39m1e-3\u001b[39;49m, device)\n",
      "Cell \u001b[0;32mIn[27], line 20\u001b[0m, in \u001b[0;36mtrain\u001b[0;34m(net, num_epochs, lr, device)\u001b[0m\n\u001b[1;32m     18\u001b[0m optimizer\u001b[39m.\u001b[39mzero_grad()\n\u001b[1;32m     19\u001b[0m X, y \u001b[39m=\u001b[39m X\u001b[39m.\u001b[39mto(device), y\u001b[39m.\u001b[39mto(device)\n\u001b[0;32m---> 20\u001b[0m y_hat \u001b[39m=\u001b[39m net(X)\n\u001b[1;32m     21\u001b[0m pred_list\u001b[39m.\u001b[39mappend(y_hat)\n\u001b[1;32m     22\u001b[0m orgin_list\u001b[39m.\u001b[39mappend(y)\n",
      "File \u001b[0;32m~/miniconda3/envs/ag/lib/python3.9/site-packages/torch/nn/modules/module.py:1194\u001b[0m, in \u001b[0;36mModule._call_impl\u001b[0;34m(self, *input, **kwargs)\u001b[0m\n\u001b[1;32m   1190\u001b[0m \u001b[39m# If we don't have any hooks, we want to skip the rest of the logic in\u001b[39;00m\n\u001b[1;32m   1191\u001b[0m \u001b[39m# this function, and just call forward.\u001b[39;00m\n\u001b[1;32m   1192\u001b[0m \u001b[39mif\u001b[39;00m \u001b[39mnot\u001b[39;00m (\u001b[39mself\u001b[39m\u001b[39m.\u001b[39m_backward_hooks \u001b[39mor\u001b[39;00m \u001b[39mself\u001b[39m\u001b[39m.\u001b[39m_forward_hooks \u001b[39mor\u001b[39;00m \u001b[39mself\u001b[39m\u001b[39m.\u001b[39m_forward_pre_hooks \u001b[39mor\u001b[39;00m _global_backward_hooks\n\u001b[1;32m   1193\u001b[0m         \u001b[39mor\u001b[39;00m _global_forward_hooks \u001b[39mor\u001b[39;00m _global_forward_pre_hooks):\n\u001b[0;32m-> 1194\u001b[0m     \u001b[39mreturn\u001b[39;00m forward_call(\u001b[39m*\u001b[39;49m\u001b[39minput\u001b[39;49m, \u001b[39m*\u001b[39;49m\u001b[39m*\u001b[39;49mkwargs)\n\u001b[1;32m   1195\u001b[0m \u001b[39m# Do not call functions when jit is used\u001b[39;00m\n\u001b[1;32m   1196\u001b[0m full_backward_hooks, non_full_backward_hooks \u001b[39m=\u001b[39m [], []\n",
      "File \u001b[0;32m~/miniconda3/envs/ag/lib/python3.9/site-packages/torch/nn/modules/container.py:204\u001b[0m, in \u001b[0;36mSequential.forward\u001b[0;34m(self, input)\u001b[0m\n\u001b[1;32m    202\u001b[0m \u001b[39mdef\u001b[39;00m \u001b[39mforward\u001b[39m(\u001b[39mself\u001b[39m, \u001b[39minput\u001b[39m):\n\u001b[1;32m    203\u001b[0m     \u001b[39mfor\u001b[39;00m module \u001b[39min\u001b[39;00m \u001b[39mself\u001b[39m:\n\u001b[0;32m--> 204\u001b[0m         \u001b[39minput\u001b[39m \u001b[39m=\u001b[39m module(\u001b[39minput\u001b[39;49m)\n\u001b[1;32m    205\u001b[0m     \u001b[39mreturn\u001b[39;00m \u001b[39minput\u001b[39m\n",
      "File \u001b[0;32m~/miniconda3/envs/ag/lib/python3.9/site-packages/torch/nn/modules/module.py:1194\u001b[0m, in \u001b[0;36mModule._call_impl\u001b[0;34m(self, *input, **kwargs)\u001b[0m\n\u001b[1;32m   1190\u001b[0m \u001b[39m# If we don't have any hooks, we want to skip the rest of the logic in\u001b[39;00m\n\u001b[1;32m   1191\u001b[0m \u001b[39m# this function, and just call forward.\u001b[39;00m\n\u001b[1;32m   1192\u001b[0m \u001b[39mif\u001b[39;00m \u001b[39mnot\u001b[39;00m (\u001b[39mself\u001b[39m\u001b[39m.\u001b[39m_backward_hooks \u001b[39mor\u001b[39;00m \u001b[39mself\u001b[39m\u001b[39m.\u001b[39m_forward_hooks \u001b[39mor\u001b[39;00m \u001b[39mself\u001b[39m\u001b[39m.\u001b[39m_forward_pre_hooks \u001b[39mor\u001b[39;00m _global_backward_hooks\n\u001b[1;32m   1193\u001b[0m         \u001b[39mor\u001b[39;00m _global_forward_hooks \u001b[39mor\u001b[39;00m _global_forward_pre_hooks):\n\u001b[0;32m-> 1194\u001b[0m     \u001b[39mreturn\u001b[39;00m forward_call(\u001b[39m*\u001b[39;49m\u001b[39minput\u001b[39;49m, \u001b[39m*\u001b[39;49m\u001b[39m*\u001b[39;49mkwargs)\n\u001b[1;32m   1195\u001b[0m \u001b[39m# Do not call functions when jit is used\u001b[39;00m\n\u001b[1;32m   1196\u001b[0m full_backward_hooks, non_full_backward_hooks \u001b[39m=\u001b[39m [], []\n",
      "File \u001b[0;32m~/miniconda3/envs/ag/lib/python3.9/site-packages/torch/nn/modules/container.py:204\u001b[0m, in \u001b[0;36mSequential.forward\u001b[0;34m(self, input)\u001b[0m\n\u001b[1;32m    202\u001b[0m \u001b[39mdef\u001b[39;00m \u001b[39mforward\u001b[39m(\u001b[39mself\u001b[39m, \u001b[39minput\u001b[39m):\n\u001b[1;32m    203\u001b[0m     \u001b[39mfor\u001b[39;00m module \u001b[39min\u001b[39;00m \u001b[39mself\u001b[39m:\n\u001b[0;32m--> 204\u001b[0m         \u001b[39minput\u001b[39m \u001b[39m=\u001b[39m module(\u001b[39minput\u001b[39;49m)\n\u001b[1;32m    205\u001b[0m     \u001b[39mreturn\u001b[39;00m \u001b[39minput\u001b[39m\n",
      "File \u001b[0;32m~/miniconda3/envs/ag/lib/python3.9/site-packages/torch/nn/modules/module.py:1194\u001b[0m, in \u001b[0;36mModule._call_impl\u001b[0;34m(self, *input, **kwargs)\u001b[0m\n\u001b[1;32m   1190\u001b[0m \u001b[39m# If we don't have any hooks, we want to skip the rest of the logic in\u001b[39;00m\n\u001b[1;32m   1191\u001b[0m \u001b[39m# this function, and just call forward.\u001b[39;00m\n\u001b[1;32m   1192\u001b[0m \u001b[39mif\u001b[39;00m \u001b[39mnot\u001b[39;00m (\u001b[39mself\u001b[39m\u001b[39m.\u001b[39m_backward_hooks \u001b[39mor\u001b[39;00m \u001b[39mself\u001b[39m\u001b[39m.\u001b[39m_forward_hooks \u001b[39mor\u001b[39;00m \u001b[39mself\u001b[39m\u001b[39m.\u001b[39m_forward_pre_hooks \u001b[39mor\u001b[39;00m _global_backward_hooks\n\u001b[1;32m   1193\u001b[0m         \u001b[39mor\u001b[39;00m _global_forward_hooks \u001b[39mor\u001b[39;00m _global_forward_pre_hooks):\n\u001b[0;32m-> 1194\u001b[0m     \u001b[39mreturn\u001b[39;00m forward_call(\u001b[39m*\u001b[39;49m\u001b[39minput\u001b[39;49m, \u001b[39m*\u001b[39;49m\u001b[39m*\u001b[39;49mkwargs)\n\u001b[1;32m   1195\u001b[0m \u001b[39m# Do not call functions when jit is used\u001b[39;00m\n\u001b[1;32m   1196\u001b[0m full_backward_hooks, non_full_backward_hooks \u001b[39m=\u001b[39m [], []\n",
      "File \u001b[0;32m~/miniconda3/envs/ag/lib/python3.9/site-packages/torch/nn/modules/conv.py:463\u001b[0m, in \u001b[0;36mConv2d.forward\u001b[0;34m(self, input)\u001b[0m\n\u001b[1;32m    462\u001b[0m \u001b[39mdef\u001b[39;00m \u001b[39mforward\u001b[39m(\u001b[39mself\u001b[39m, \u001b[39minput\u001b[39m: Tensor) \u001b[39m-\u001b[39m\u001b[39m>\u001b[39m Tensor:\n\u001b[0;32m--> 463\u001b[0m     \u001b[39mreturn\u001b[39;00m \u001b[39mself\u001b[39;49m\u001b[39m.\u001b[39;49m_conv_forward(\u001b[39minput\u001b[39;49m, \u001b[39mself\u001b[39;49m\u001b[39m.\u001b[39;49mweight, \u001b[39mself\u001b[39;49m\u001b[39m.\u001b[39;49mbias)\n",
      "File \u001b[0;32m~/miniconda3/envs/ag/lib/python3.9/site-packages/torch/nn/modules/conv.py:459\u001b[0m, in \u001b[0;36mConv2d._conv_forward\u001b[0;34m(self, input, weight, bias)\u001b[0m\n\u001b[1;32m    455\u001b[0m \u001b[39mif\u001b[39;00m \u001b[39mself\u001b[39m\u001b[39m.\u001b[39mpadding_mode \u001b[39m!=\u001b[39m \u001b[39m'\u001b[39m\u001b[39mzeros\u001b[39m\u001b[39m'\u001b[39m:\n\u001b[1;32m    456\u001b[0m     \u001b[39mreturn\u001b[39;00m F\u001b[39m.\u001b[39mconv2d(F\u001b[39m.\u001b[39mpad(\u001b[39minput\u001b[39m, \u001b[39mself\u001b[39m\u001b[39m.\u001b[39m_reversed_padding_repeated_twice, mode\u001b[39m=\u001b[39m\u001b[39mself\u001b[39m\u001b[39m.\u001b[39mpadding_mode),\n\u001b[1;32m    457\u001b[0m                     weight, bias, \u001b[39mself\u001b[39m\u001b[39m.\u001b[39mstride,\n\u001b[1;32m    458\u001b[0m                     _pair(\u001b[39m0\u001b[39m), \u001b[39mself\u001b[39m\u001b[39m.\u001b[39mdilation, \u001b[39mself\u001b[39m\u001b[39m.\u001b[39mgroups)\n\u001b[0;32m--> 459\u001b[0m \u001b[39mreturn\u001b[39;00m F\u001b[39m.\u001b[39;49mconv2d(\u001b[39minput\u001b[39;49m, weight, bias, \u001b[39mself\u001b[39;49m\u001b[39m.\u001b[39;49mstride,\n\u001b[1;32m    460\u001b[0m                 \u001b[39mself\u001b[39;49m\u001b[39m.\u001b[39;49mpadding, \u001b[39mself\u001b[39;49m\u001b[39m.\u001b[39;49mdilation, \u001b[39mself\u001b[39;49m\u001b[39m.\u001b[39;49mgroups)\n",
      "\u001b[0;31mRuntimeError\u001b[0m: Expected 3D (unbatched) or 4D (batched) input to conv2d, but got input of size: [256, 1, 5, 224, 224]"
     ]
    }
   ],
   "source": [
    "train(net, 10, 1e-3, device)"
   ]
  },
  {
   "cell_type": "code",
   "execution_count": null,
   "id": "df379566",
   "metadata": {},
   "outputs": [],
   "source": []
  }
 ],
 "metadata": {
  "kernelspec": {
   "display_name": "ag",
   "language": "python",
   "name": "python3"
  },
  "language_info": {
   "codemirror_mode": {
    "name": "ipython",
    "version": 3
   },
   "file_extension": ".py",
   "mimetype": "text/x-python",
   "name": "python",
   "nbconvert_exporter": "python",
   "pygments_lexer": "ipython3",
   "version": "3.9.16"
  }
 },
 "nbformat": 4,
 "nbformat_minor": 5
}
