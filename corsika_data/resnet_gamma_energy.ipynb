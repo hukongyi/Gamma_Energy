{
 "cells": [
  {
   "cell_type": "code",
   "execution_count": 2,
   "metadata": {},
   "outputs": [],
   "source": [
    "import uproot\n",
    "import numpy as np\n",
    "import matplotlib.pyplot as plt\n",
    "import torch\n",
    "import torch.nn as nn\n",
    "from torch.nn import functional as F\n",
    "from IPython import display\n",
    "from sklearn.model_selection import train_test_split\n",
    "from torch.utils.data import Dataset, DataLoader\n",
    "from tqdm.notebook import tqdm\n",
    "from scipy import sparse"
   ]
  },
  {
   "cell_type": "code",
   "execution_count": 3,
   "metadata": {},
   "outputs": [],
   "source": [
    "device = (\n",
    "    \"cuda\"\n",
    "    if torch.cuda.is_available()\n",
    "    else \"cpu\"\n",
    ")"
   ]
  },
  {
   "cell_type": "code",
   "execution_count": 4,
   "metadata": {},
   "outputs": [],
   "source": [
    "class MCDataset_log10energy_aftertransfor(Dataset):\n",
    "    def __init__(self, prie, Matrix):\n",
    "        self.prie = prie\n",
    "        self.Matrix = Matrix\n",
    "\n",
    "    def __len__(self):\n",
    "        return len(self.prie)\n",
    "\n",
    "    def __getitem__(self, index):\n",
    "        return (\n",
    "            torch.from_numpy(self.Matrix[index]),\n",
    "            torch.from_numpy(self.prie[index]),\n",
    "        )"
   ]
  },
  {
   "cell_type": "code",
   "execution_count": 5,
   "metadata": {},
   "outputs": [
    {
     "ename": "",
     "evalue": "",
     "output_type": "error",
     "traceback": [
      "\u001b[1;31m在当前单元格或上一个单元格中执行代码时 Kernel 崩溃。请查看单元格中的代码，以确定故障的可能原因。有关详细信息，请单击 <a href='https://aka.ms/vscodeJupyterKernelCrash'>此处</a>。有关更多详细信息，请查看 Jupyter <a href='command:jupyter.viewOutput'>log</a>。"
     ]
    }
   ],
   "source": [
    "gamma_train_Matrix = np.load(\"./gamma_train_Matrix.npy\")\n",
    "gamma_test_Matrix = np.load(\"./gamma_test_Matrix.npy\")\n",
    "gamma_train_prie = np.load(\"./gamma_train_prie.npy\")\n",
    "gamma_test_prie = np.load(\"./gamma_test_prie.npy\")"
   ]
  },
  {
   "cell_type": "code",
   "execution_count": null,
   "metadata": {},
   "outputs": [],
   "source": [
    "MCdataset_gamma_train = MCDataset_log10energy_aftertransfor(gamma_train_prie, gamma_train_Matrix)\n",
    "MCdataset_gamma_test = MCDataset_log10energy_aftertransfor(gamma_test_prie, gamma_test_Matrix)"
   ]
  }
 ],
 "metadata": {
  "kernelspec": {
   "display_name": "ag",
   "language": "python",
   "name": "ag"
  },
  "language_info": {
   "codemirror_mode": {
    "name": "ipython",
    "version": 3
   },
   "file_extension": ".py",
   "mimetype": "text/x-python",
   "name": "python",
   "nbconvert_exporter": "python",
   "pygments_lexer": "ipython3",
   "version": "3.9.16"
  },
  "orig_nbformat": 4
 },
 "nbformat": 4,
 "nbformat_minor": 2
}
