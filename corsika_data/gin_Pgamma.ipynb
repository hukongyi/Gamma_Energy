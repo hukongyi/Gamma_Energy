{
 "cells": [
  {
   "cell_type": "code",
   "execution_count": 1,
   "metadata": {},
   "outputs": [],
   "source": [
    "import uproot\n",
    "import numpy as np\n",
    "import matplotlib.pyplot as plt\n",
    "from IPython import display\n",
    "from sklearn.model_selection import train_test_split\n",
    "from sklearn.preprocessing import OneHotEncoder\n",
    "from torch.utils.data import Dataset, DataLoader\n",
    "from tqdm.notebook import tqdm\n",
    "from scipy import sparse\n",
    "import os\n",
    "\n",
    "os.environ[\"DGLBACKEND\"] = \"pytorch\"\n",
    "import dgl\n",
    "from dgl.dataloading import GraphDataLoader\n",
    "from dgl.data import DGLDataset\n",
    "import torch\n",
    "import torch.nn as nn\n",
    "import torch.nn.functional as F"
   ]
  },
  {
   "cell_type": "code",
   "execution_count": 2,
   "metadata": {},
   "outputs": [],
   "source": [
    "device = \"cuda\" if torch.cuda.is_available() else \"cpu\""
   ]
  },
  {
   "cell_type": "code",
   "execution_count": 3,
   "metadata": {},
   "outputs": [],
   "source": [
    "gamma_tree = uproot.open(\n",
    "    \"/home2/chenxu/work/corsika/50GeV_1TeV_zen0.gamma.root:tCorsika\"\n",
    ")\n",
    "P_tree = uproot.open(\n",
    "    \"/home2/chenxu/work/corsika/100GeV_10TeV_zen0.proton.root:tCorsika\"\n",
    ")"
   ]
  },
  {
   "cell_type": "code",
   "execution_count": 4,
   "metadata": {},
   "outputs": [],
   "source": [
    "gamma_prie = np.array(gamma_tree[\"evth/fLia[312]\"].array()[:, 3])\n",
    "P_prie = np.array(P_tree[\"evth/fLia[312]\"].array()[:, 3])"
   ]
  },
  {
   "cell_type": "code",
   "execution_count": 5,
   "metadata": {},
   "outputs": [],
   "source": [
    "gamma_secs = gamma_tree[\"secParticles/secParticles.fLia[8]\"].array()\n",
    "P_secs = P_tree[\"secParticles/secParticles.fLia[8]\"].array()"
   ]
  },
  {
   "cell_type": "code",
   "execution_count": 6,
   "metadata": {},
   "outputs": [],
   "source": [
    "secs = list()\n",
    "nparticle = list()\n",
    "for i in range(len(gamma_secs)):\n",
    "    secs.append(gamma_secs[i])\n",
    "    nparticle.append(len(gamma_secs[i]))\n",
    "for i in range(len(gamma_secs)):\n",
    "    secs.append(P_secs[i])\n",
    "    nparticle.append(len(P_secs[i]))\n",
    "secs = np.array(secs, dtype=object)\n",
    "nparticle = np.array(nparticle)"
   ]
  },
  {
   "cell_type": "code",
   "execution_count": null,
   "metadata": {},
   "outputs": [],
   "source": [
    "sectype = list()\n",
    "for i in range(100000):\n",
    "    sectype.append(np.floor(np.array(gamma_secs[i])[:, 0] / 1000).astype(int))\n",
    "    sectype.append(np.floor(np.array(P_secs[i])[:, 0] / 1000).astype(int))\n",
    "sectype = np.concatenate(sectype)\n",
    "sectype = list(set(sectype))"
   ]
  },
  {
   "cell_type": "code",
   "execution_count": null,
   "metadata": {},
   "outputs": [],
   "source": [
    "sectype"
   ]
  },
  {
   "cell_type": "code",
   "execution_count": 7,
   "metadata": {},
   "outputs": [],
   "source": [
    "secstypes = [[1, 2, 3], [5, 6], [8, 9, 13, 14, 15, 25, 10, 11, 12, 201, 18]]"
   ]
  },
  {
   "cell_type": "code",
   "execution_count": null,
   "metadata": {
    "scrolled": false
   },
   "outputs": [],
   "source": [
    "sec = np.array(P_secs[0])\n",
    "sec = sec[:, :-1]\n",
    "xbins = np.linspace(-500 * 100, 500 * 100, 225)\n",
    "ybins = np.linspace(-500 * 100, 500 * 100, 225)\n",
    "for i in sectype:\n",
    "    print(i)\n",
    "    H, _, _ = np.histogram2d(\n",
    "        sec[:, 4][np.isin((sec[:, 0] / 1000).astype(int), i)],\n",
    "        sec[:, 5][np.isin((sec[:, 0] / 1000).astype(int), i)],\n",
    "        bins=(xbins, ybins),\n",
    "    )\n",
    "    H = H.T\n",
    "    print(np.max(H))\n",
    "    X, Y = np.meshgrid(xbins, ybins)\n",
    "    plt.pcolormesh(X, Y, H)\n",
    "    plt.show()"
   ]
  },
  {
   "cell_type": "code",
   "execution_count": 8,
   "metadata": {},
   "outputs": [],
   "source": [
    "gamma_log10energy = np.log10(gamma_prie).astype(np.float32)\n",
    "P_log10energy = np.log10(P_prie).astype(np.float32)\n",
    "log10energy = np.concatenate([gamma_log10energy, P_log10energy])"
   ]
  },
  {
   "cell_type": "code",
   "execution_count": 9,
   "metadata": {},
   "outputs": [],
   "source": [
    "isgamma = np.zeros_like(log10energy, dtype=int)\n",
    "isgamma[: len(gamma_log10energy)] = 1"
   ]
  },
  {
   "cell_type": "code",
   "execution_count": 10,
   "metadata": {},
   "outputs": [],
   "source": [
    "class MCDataset_dgl(DGLDataset):\n",
    "    def __init__(self, isgamma, secs):\n",
    "        self.secs = secs\n",
    "        self.isgamma = isgamma\n",
    "        self.secstypes = [\n",
    "            [1, 2, 3],\n",
    "            [5, 6],\n",
    "            [8, 9, 13, 14, 15, 25, 10, 11, 12, 201, 18],\n",
    "        ]\n",
    "        self.xmax = 50 * 100\n",
    "        self.ymax = 50 * 100\n",
    "        self.enc = OneHotEncoder()\n",
    "        self.enc.fit(np.arange(3).reshape(-1, 1))\n",
    "        super().__init__(name=\"corsika_data\")\n",
    "\n",
    "    def process(self):\n",
    "        self.graphs = list()\n",
    "        self.isgamma_need = list()\n",
    "        seccount = 0\n",
    "        for secs in tqdm(self.secs, mininterval=1):\n",
    "            secs = np.array(secs)\n",
    "            secs = secs[\n",
    "                np.where(\n",
    "                    (np.abs(secs[:, 4]) < self.xmax) & (np.abs(secs[:, 5]) < self.ymax)\n",
    "                )\n",
    "            ]\n",
    "            secslen = len(secs)\n",
    "            if secslen < 30:\n",
    "                seccount += 1\n",
    "                continue\n",
    "            #             print(secslen)\n",
    "            self.isgamma_need.append(self.isgamma[seccount])\n",
    "            seccount += 1\n",
    "            src = list()\n",
    "            dst = list()\n",
    "            secstype_new = 0\n",
    "            for secstype in self.secstypes:\n",
    "                secs[:, 0][\n",
    "                    np.isin((secs[:, 0] / 1000).astype(int), secstype)\n",
    "                ] = secstype_new\n",
    "                secstype_new += 1\n",
    "\n",
    "            xdata = np.zeros([secslen, 9], dtype=np.float32)\n",
    "            xdata[:, :3] = self.enc.transform(secs[:, 0].reshape(-1, 1)).toarray()\n",
    "            xdata[:, 3:6] = secs[:, 1:4]\n",
    "            xdata[:, 6:8] = secs[:, 4:6] / self.xmax\n",
    "            xdata[:, 8] = (secs[:, 6] - np.mean(secs[:, 6])) * 30 / self.xmax\n",
    "            for i in range(secslen - 1):\n",
    "                for j in range(secslen - 1 - i):\n",
    "                    src.append(i)\n",
    "                    dst.append(j + i + 1)\n",
    "            g = dgl.graph((src, dst), num_nodes=secslen)\n",
    "            g.ndata[\"xdata\"] = torch.from_numpy(xdata)\n",
    "            self.graphs.append(g)\n",
    "\n",
    "    def __len__(self):\n",
    "        return len(self.graphs)\n",
    "\n",
    "    def __getitem__(self, index):\n",
    "        return (\n",
    "            self.graphs[index],\n",
    "            self.isgamma_need[index],\n",
    "        )"
   ]
  },
  {
   "cell_type": "code",
   "execution_count": 13,
   "metadata": {},
   "outputs": [],
   "source": [
    "train_index, test_index = train_test_split(\n",
    "    range(len(isgamma)), random_state=42, test_size=0.7\n",
    ")\n",
    "test_index_0, test_index_1 = train_test_split(\n",
    "    test_index, random_state=42, test_size=0.7\n",
    ")"
   ]
  },
  {
   "cell_type": "code",
   "execution_count": 14,
   "metadata": {},
   "outputs": [
    {
     "data": {
      "application/vnd.jupyter.widget-view+json": {
       "model_id": "4040b3842f5649b08e4677a71fd10254",
       "version_major": 2,
       "version_minor": 0
      },
      "text/plain": [
       "  0%|          | 0/60000 [00:00<?, ?it/s]"
      ]
     },
     "metadata": {},
     "output_type": "display_data"
    },
    {
     "data": {
      "application/vnd.jupyter.widget-view+json": {
       "model_id": "12d6623224634715b20e065f5deab519",
       "version_major": 2,
       "version_minor": 0
      },
      "text/plain": [
       "  0%|          | 0/42000 [00:00<?, ?it/s]"
      ]
     },
     "metadata": {},
     "output_type": "display_data"
    }
   ],
   "source": [
    "MCdataset_train = MCDataset_dgl(isgamma[train_index], secs[train_index])\n",
    "MCdataset_test = MCDataset_dgl(isgamma[test_index_0], secs[test_index_0])"
   ]
  },
  {
   "cell_type": "code",
   "execution_count": 32,
   "metadata": {},
   "outputs": [],
   "source": [
    "train_dataloader = GraphDataLoader(MCdataset_train, batch_size=64, drop_last=False)\n",
    "test_dataloader = GraphDataLoader(MCdataset_test, batch_size=64, drop_last=False)"
   ]
  },
  {
   "cell_type": "code",
   "execution_count": 35,
   "metadata": {},
   "outputs": [],
   "source": [
    "from dgl.nn.pytorch.conv import GINConv\n",
    "from dgl.nn.pytorch.glob import SumPooling,AvgPooling\n",
    "\n",
    "\n",
    "class MLP(nn.Module):\n",
    "    \"\"\"Construct two-layer MLP-type aggreator for GIN model\"\"\"\n",
    "\n",
    "    def __init__(self, input_dim, hidden_dim, output_dim):\n",
    "        super().__init__()\n",
    "        self.linears = nn.ModuleList()\n",
    "        # two-layer MLP\n",
    "        self.linears.append(nn.Linear(input_dim, hidden_dim, bias=False))\n",
    "        self.linears.append(nn.Linear(hidden_dim, output_dim, bias=False))\n",
    "        self.batch_norm = nn.BatchNorm1d((hidden_dim))\n",
    "\n",
    "    def forward(self, x):\n",
    "        h = x\n",
    "        h = F.relu(self.batch_norm(self.linears[0](h)))\n",
    "        return self.linears[1](h)\n",
    "\n",
    "\n",
    "class GIN(nn.Module):\n",
    "    def __init__(self, input_dim, hidden_dim, output_dim):\n",
    "        super().__init__()\n",
    "        self.ginlayers = nn.ModuleList()\n",
    "        self.batch_norms = nn.ModuleList()\n",
    "        num_layers = 5\n",
    "        # five-layer GCN with two-layer MLP aggregator and sum-neighbor-pooling scheme\n",
    "        for layer in range(num_layers - 1):  # excluding the input layer\n",
    "            if layer == 0:\n",
    "                mlp = MLP(input_dim, hidden_dim, hidden_dim)\n",
    "            else:\n",
    "                mlp = MLP(hidden_dim, hidden_dim, hidden_dim)\n",
    "            self.ginlayers.append(\n",
    "                GINConv(mlp, learn_eps=False)\n",
    "            )  # set to True if learning epsilon\n",
    "            self.batch_norms.append(nn.BatchNorm1d(hidden_dim))\n",
    "        # linear functions for graph sum poolings of output of each layer\n",
    "        self.linear_prediction = nn.ModuleList()\n",
    "        for layer in range(num_layers):\n",
    "            if layer == 0:\n",
    "                self.linear_prediction.append(nn.Linear(input_dim, output_dim))\n",
    "            else:\n",
    "                self.linear_prediction.append(nn.Linear(hidden_dim, output_dim))\n",
    "        self.drop = nn.Dropout(0.5)\n",
    "        self.pool = (\n",
    "            AvgPooling()\n",
    "        )  # change to mean readout (AvgPooling) on social network datasets\n",
    "\n",
    "    def forward(self, g, h):\n",
    "        # list of hidden representation at each layer (including the input layer)\n",
    "        hidden_rep = [h]\n",
    "        for i, layer in enumerate(self.ginlayers):\n",
    "            h = layer(g, h)\n",
    "            h = self.batch_norms[i](h)\n",
    "            h = F.relu(h)\n",
    "            hidden_rep.append(h)\n",
    "        score_over_layer = 0\n",
    "        # perform graph sum pooling over all nodes in each layer\n",
    "        for i, h in enumerate(hidden_rep):\n",
    "            pooled_h = self.pool(g, h)\n",
    "            score_over_layer += self.drop(self.linear_prediction[i](pooled_h))\n",
    "        return score_over_layer"
   ]
  },
  {
   "cell_type": "code",
   "execution_count": 36,
   "metadata": {
    "scrolled": true
   },
   "outputs": [
    {
     "name": "stdout",
     "output_type": "stream",
     "text": [
      "0\n",
      "loss:0.4742\n",
      "1\n",
      "loss:0.3976\n",
      "2\n",
      "loss:0.3748\n",
      "3\n",
      "loss:0.3615\n",
      "4\n",
      "loss:0.3504\n",
      "5\n",
      "loss:0.3456\n",
      "6\n",
      "loss:0.3349\n",
      "7\n",
      "loss:0.3306\n",
      "8\n",
      "loss:0.3299\n",
      "9\n",
      "loss:0.3260\n",
      "10\n",
      "loss:0.3170\n",
      "11\n",
      "loss:0.3187\n",
      "12\n",
      "loss:0.3105\n",
      "13\n",
      "loss:0.3122\n",
      "14\n",
      "loss:0.3115\n",
      "15\n",
      "loss:0.3062\n",
      "16\n",
      "loss:0.3062\n",
      "17\n",
      "loss:0.3030\n",
      "18\n",
      "loss:0.2968\n",
      "19\n",
      "loss:0.2950\n"
     ]
    }
   ],
   "source": [
    "model = GIN(9, 64, 2).to(device)\n",
    "optimizer = torch.optim.Adam(model.parameters(), lr=1e-2)\n",
    "for epoch in range(20):\n",
    "    sumloss = list()\n",
    "    print(epoch)\n",
    "    for batched_graph, labels in train_dataloader:\n",
    "        batched_graph, labels = batched_graph.to(device), labels.to(device)\n",
    "        pred = model(batched_graph, batched_graph.ndata[\"xdata\"])\n",
    "        loss = F.cross_entropy(pred, labels)\n",
    "        optimizer.zero_grad()\n",
    "        loss.backward()\n",
    "        sumloss.append(loss.item())\n",
    "        optimizer.step()\n",
    "    print(f\"loss:{np.mean(sumloss):.4f}\")"
   ]
  },
  {
   "cell_type": "code",
   "execution_count": 37,
   "metadata": {},
   "outputs": [],
   "source": [
    "model.eval()\n",
    "count1 = 0\n",
    "count2 = 0\n",
    "m = nn.Softmax(dim=1)\n",
    "y_pred = list()\n",
    "y_orgin = list()\n",
    "with torch.no_grad():\n",
    "    for batched_graph, labels in test_dataloader:\n",
    "        batched_graph, labels = batched_graph.to(device), labels.to(device)\n",
    "        pred = model(batched_graph, batched_graph.ndata[\"xdata\"])\n",
    "        pred = m(pred)\n",
    "        y_pred.append(pred[:, 1].cpu().numpy())\n",
    "        y_orgin.append(labels.cpu().numpy())"
   ]
  },
  {
   "cell_type": "code",
   "execution_count": 38,
   "metadata": {},
   "outputs": [],
   "source": [
    "y_pred = np.concatenate(y_pred)\n",
    "y_orgin = np.concatenate(y_orgin)"
   ]
  },
  {
   "cell_type": "code",
   "execution_count": 40,
   "metadata": {},
   "outputs": [
    {
     "data": {
      "text/plain": [
       "(0.0, 0.3)"
      ]
     },
     "execution_count": 40,
     "metadata": {},
     "output_type": "execute_result"
    },
    {
     "data": {
      "image/png": "[encoded data removed]",
      "text/plain": [
       "<Figure size 640x480 with 1 Axes>"
      ]
     },
     "metadata": {},
     "output_type": "display_data"
    }
   ],
   "source": [
    "from sklearn import metrics\n",
    "\n",
    "fpr, tpr, _ = metrics.roc_curve(y_orgin, y_pred)\n",
    "auc = metrics.roc_auc_score(y_orgin, y_pred)\n",
    "plt.plot(fpr, tpr, label=f\"gin, AUC={auc:.4f}\")\n",
    "plt.xlabel(\"fpr\")\n",
    "plt.ylabel(\"tpr\")\n",
    "plt.legend()\n",
    "plt.xlim(0, 0.3)"
   ]
  },
  {
   "cell_type": "code",
   "execution_count": null,
   "metadata": {},
   "outputs": [],
   "source": []
  }
 ],
 "metadata": {
  "kernelspec": {
   "display_name": "dgl",
   "language": "python",
   "name": "dgl"
  },
  "language_info": {
   "codemirror_mode": {
    "name": "ipython",
    "version": 3
   },
   "file_extension": ".py",
   "mimetype": "text/x-python",
   "name": "python",
   "nbconvert_exporter": "python",
   "pygments_lexer": "ipython3",
   "version": "3.9.16"
  }
 },
 "nbformat": 4,
 "nbformat_minor": 2
}
